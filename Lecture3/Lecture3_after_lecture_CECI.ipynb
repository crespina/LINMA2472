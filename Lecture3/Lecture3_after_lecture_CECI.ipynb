{
 "cells": [
  {
   "cell_type": "markdown",
   "id": "592b4d93",
   "metadata": {},
   "source": [
    "# Lecture 3 : Training a Neural Network\n",
    "\n",
    "In this lecture, let's review how to train a neural network in details.\n",
    "\n",
    "## 🍷 Dataset\n",
    "\n",
    "We are going to consider the Wine dataset that distinguishes 3 different wines depending on 13 different features. In order to see what's going on underneath a tool like pytorch, we are going to now use any tool and implement everything ourself, even the Automatic Differentiation. Let's first activate the environment and make sure we have installed all the dependencies listed in the environment."
   ]
  },
  {
   "cell_type": "code",
   "execution_count": 1,
   "id": "58bbac1a",
   "metadata": {},
   "outputs": [
    {
     "name": "stderr",
     "output_type": "stream",
     "text": [
      "\u001b[32m\u001b[1m  Activating\u001b[22m\u001b[39m project at `/auto/home/users/b/l/blegat/linma2472-private/Lecture3`\n"
     ]
    }
   ],
   "source": [
    "import Pkg\n",
    "Pkg.activate(\".\")"
   ]
  },
  {
   "cell_type": "markdown",
   "id": "0eb89aa7",
   "metadata": {},
   "source": [
    "If not already done, install the packages required by the environment."
   ]
  },
  {
   "cell_type": "code",
   "execution_count": null,
   "id": "447934ea",
   "metadata": {},
   "outputs": [],
   "source": [
    "Pkg.instantiate()"
   ]
  },
  {
   "cell_type": "markdown",
   "id": "e3fa07dc",
   "metadata": {},
   "source": [
    "The Wine dataset has 13 features. We import it directly as matrix and not as dataframe (hence the option `as_df = false`)."
   ]
  },
  {
   "cell_type": "code",
   "execution_count": 2,
   "id": "03f9c099",
   "metadata": {
    "scrolled": true
   },
   "outputs": [
    {
     "data": {
      "text/plain": [
       "dataset Wine:\n",
       "  metadata   =>    Dict{String, Any} with 4 entries\n",
       "  features   =>    13×178 Matrix{Float64}\n",
       "  targets    =>    1×178 Matrix{Int64}\n",
       "  dataframe  =>    nothing"
      ]
     },
     "execution_count": 2,
     "metadata": {},
     "output_type": "execute_result"
    }
   ],
   "source": [
    "import MLDatasets, DataFrames\n",
    "wine = MLDatasets.Wine(; as_df = false)"
   ]
  },
  {
   "cell_type": "markdown",
   "id": "f2c27917",
   "metadata": {},
   "source": [
    "We normalise each feature by shifting by its mean and dividing it by its standard deviation.\n",
    "We also convert to 32-bit floating point numbers.\n",
    "Even if the computer is 64-bit. Using 32-bit precision allows to decrease the required memory for the data and model by 2.\n",
    "GPUs also uses 32-bit floating point numbers so they will be faster with 32-bit."
   ]
  },
  {
   "cell_type": "code",
   "execution_count": 3,
   "id": "2677e3d4",
   "metadata": {},
   "outputs": [
    {
     "data": {
      "text/plain": [
       "13×178 Matrix{Float32}:\n",
       "  1.51434    0.245597   0.196325   …   0.331822   0.208643    1.39116\n",
       " -0.560668  -0.498009   0.0211715      1.73984    0.227053    1.57871\n",
       "  0.2314    -0.825667   1.10621       -0.38826    0.0126963   1.36137\n",
       " -1.1663    -2.48384   -0.267982       0.151234   0.151234    1.49872\n",
       "  1.90852    0.018094   0.0881098      1.41841    1.41841    -0.261969\n",
       "  0.806722   0.567048   0.806722   …  -1.12665   -1.03078    -0.391646\n",
       "  1.03191    0.731565   1.21211       -1.3408    -1.35081    -1.27072\n",
       " -0.657708  -0.818411  -0.497005       0.547563   1.35108     1.59213\n",
       "  1.22144   -0.543189   2.12996       -0.420888  -0.228701   -0.420888\n",
       "  0.251009  -0.292496   0.268263       2.21798    1.82976     1.78663\n",
       "  0.361158   0.404908   0.317409   …  -1.60759   -1.56384    -1.52009\n",
       "  1.84272    1.11032    0.786369      -1.48127   -1.39676    -1.42493\n",
       "  1.01016    0.962526   1.39122        0.279786   0.295664   -0.593486"
      ]
     },
     "execution_count": 3,
     "metadata": {},
     "output_type": "execute_result"
    }
   ],
   "source": [
    "import Statistics\n",
    "function normalise(x)\n",
    "  μ = Statistics.mean(x, dims=2)\n",
    "  σ = Statistics.std(x, dims=2, mean=μ)\n",
    "  return (x .- μ) ./ σ\n",
    "end\n",
    "X = Float32.(normalise(wine.features))"
   ]
  },
  {
   "cell_type": "markdown",
   "id": "7e65dba7",
   "metadata": {},
   "source": [
    "We convert the output to 32-bit. We could use one-hot encoding here but let's keep it simple."
   ]
  },
  {
   "cell_type": "code",
   "execution_count": 4,
   "id": "59ccbfda",
   "metadata": {},
   "outputs": [
    {
     "data": {
      "text/plain": [
       "1×178 Matrix{Float32}:\n",
       " -1.0  -1.0  -1.0  -1.0  -1.0  -1.0  …  1.0  1.0  1.0  1.0  1.0  1.0  1.0"
      ]
     },
     "execution_count": 4,
     "metadata": {},
     "output_type": "execute_result"
    }
   ],
   "source": [
    "y = Float32.(wine.targets) .- 2"
   ]
  },
  {
   "cell_type": "markdown",
   "id": "fa52e083",
   "metadata": {},
   "source": [
    "## ⚗️ Model\n",
    "\n",
    "Let's use 1 hidden layer with 32 `tanh` activation functions."
   ]
  },
  {
   "cell_type": "code",
   "execution_count": 5,
   "id": "2cd79479",
   "metadata": {},
   "outputs": [
    {
     "data": {
      "text/plain": [
       "1×178 Matrix{Float32}:\n",
       " 0.280864  -0.0397945  -0.170319  0.830475  …  0.524406  -0.179275  0.420108"
      ]
     },
     "execution_count": 5,
     "metadata": {},
     "output_type": "execute_result"
    }
   ],
   "source": [
    "function init(dims...)\n",
    "    (rand(Float32, dims...) .- Float32(0.5)) # .* sqrt(24.0f0 / (num_rows + num_cols))\n",
    "end\n",
    "h = 32\n",
    "model = [init(h, size(X, 1)), init(size(y, 1), h)]\n",
    "\n",
    "function estimate(model, X)\n",
    "    W1, W2 = model\n",
    "    return W2 * tanh.(W1 * X)\n",
    "end\n",
    "\n",
    "estimate(model, X)"
   ]
  },
  {
   "cell_type": "markdown",
   "id": "80de8fdb",
   "metadata": {},
   "source": [
    "The loss is computed using Mean Squared Errors (MSE)."
   ]
  },
  {
   "cell_type": "code",
   "execution_count": 6,
   "id": "b5b0c02b",
   "metadata": {},
   "outputs": [
    {
     "data": {
      "text/plain": [
       "1.3412087f0"
      ]
     },
     "execution_count": 6,
     "metadata": {},
     "output_type": "execute_result"
    }
   ],
   "source": [
    "function loss(model, X, y)\n",
    "    sum((estimate(model, X) .- y).^2) / size(X, 2)\n",
    "end\n",
    "loss(model, X, y)"
   ]
  },
  {
   "cell_type": "markdown",
   "id": "f9720ee0",
   "metadata": {},
   "source": [
    "## ⚒️ Automatic Differentiation\n",
    "\n",
    "### Forward Differentiation\n",
    "\n",
    "Forward differentiation can be implemented with operator overloading using the chain rule. This allows differentiating arbitrary code."
   ]
  },
  {
   "cell_type": "code",
   "execution_count": 7,
   "id": "86fb872d",
   "metadata": {},
   "outputs": [],
   "source": [
    "struct Dual{T}\n",
    "    value::T\n",
    "    derivative::T\n",
    "end\n",
    "Dual(x, y) = Dual{typeof(x)}(x, convert(typeof(x), y))\n",
    "\n",
    "# By linearity of the derivative\n",
    "Base.:*(α::T, x::Dual{T}) where {T} = Dual(α * x.value, α * x.derivative)\n",
    "Base.:*(x::Dual{T}, α::T) where {T} = Dual(x.value * α, x.derivative * α)\n",
    "Base.:+(x::Dual{T}, y::Dual{T}) where {T} = Dual(x.value + y.value, x.derivative + y.derivative)\n",
    "Base.:-(x::Dual{T}, y::T) where {T} = Dual(x.value - y, x.derivative)\n",
    "Base.:/(x::Dual, α::Number) = Dual(x.value / α, x.derivative / α)\n",
    "\n",
    "# The product rule\n",
    "Base.:*(x::Dual{T}, y::Dual{T}) where {T} = Dual(x.value * y.value, x.value * y.derivative + x.derivative * y.value)\n",
    "Base.:^(x::Dual, n::Integer) = Base.power_by_squaring(x, n)\n",
    "\n",
    "# Used to initialize accumulator in Matrix-Matrix product\n",
    "Base.zero(::Dual{T}) where {T} = Dual(zero(T), zero(T))\n",
    "\n",
    "# tanh(x)' = (1 - tanh(x)^2) * x'\n",
    "function Base.tanh(x::Dual)\n",
    "    y = tanh(x.value)\n",
    "    return Dual(y, (1 - y^2) * x.derivative)\n",
    "end"
   ]
  },
  {
   "cell_type": "markdown",
   "id": "2ae24e32",
   "metadata": {},
   "source": [
    "We need to compute the derivative with respect to each weight separately. To compute the derivative with respect to `model[i][j, k]`, we use a dual number `Dual(model[i][j, k], 1)` for that weight and `Dual(model[i'][j', k'], 0)` for the other weights."
   ]
  },
  {
   "cell_type": "code",
   "execution_count": 8,
   "id": "25f2fc87",
   "metadata": {
    "scrolled": true
   },
   "outputs": [
    {
     "data": {
      "text/plain": [
       "2-element Vector{Matrix{Float32}}:\n",
       " [-0.09690992 0.06232648 … -0.15004581 -0.12650652; -0.13826364 0.08229709 … -0.23797403 -0.1775223; … ; -0.21144256 0.09117315 … -0.39734453 -0.2581756; 0.22151034 -0.16351715 … 0.3440017 0.3212478]\n",
       " [0.07211989 0.37014908 … -0.8850221 -0.67027366]"
      ]
     },
     "execution_count": 8,
     "metadata": {},
     "output_type": "execute_result"
    }
   ],
   "source": [
    "function ∇model(f, model, X, y, ∇i, ∇j, ∇k)\n",
    "    Δmodel = [\n",
    "        [ifelse((i, j, k) == (∇i, ∇j, ∇k), Dual(model[i][j, k], 1), Dual(model[i][j, k], 0)) for j in axes(model[i], 1), k in axes(model[i], 2)]\n",
    "        for i in eachindex(model)\n",
    "    ]\n",
    "    l = f(Δmodel, X, y)\n",
    "    return l.derivative\n",
    "end\n",
    "\n",
    "function ∇model(f, model, X, y, ∇i)\n",
    "    W = model[∇i]\n",
    "    return [∇model(f, model, X, y, ∇i, ∇j, ∇k) for ∇j in axes(W, 1), ∇k in axes(W, 2)]\n",
    "end\n",
    "\n",
    "function ∇model(f, model, X, y)\n",
    "    return [∇model(f, model, X, y, ∇i) for ∇i in eachindex(model)]\n",
    "end\n",
    "\n",
    "∇model(loss, model, X, y)"
   ]
  },
  {
   "cell_type": "markdown",
   "id": "5fb90c61",
   "metadata": {},
   "source": [
    "Run the following cell to restart with a new random model and reset the Adam optimiser accordingly."
   ]
  },
  {
   "cell_type": "code",
   "execution_count": 9,
   "id": "66df2127",
   "metadata": {},
   "outputs": [
    {
     "data": {
      "text/plain": [
       "2-element Vector{Tuple{Matrix{Float32}, Matrix{Float32}, Tuple{Float32, Float32}}}:\n",
       " ([0.0 0.0 … 0.0 0.0; 0.0 0.0 … 0.0 0.0; … ; 0.0 0.0 … 0.0 0.0; 0.0 0.0 … 0.0 0.0], [0.0 0.0 … 0.0 0.0; 0.0 0.0 … 0.0 0.0; … ; 0.0 0.0 … 0.0 0.0; 0.0 0.0 … 0.0 0.0], (0.9, 0.999))\n",
       " ([0.0 0.0 … 0.0 0.0], [0.0 0.0 … 0.0 0.0], (0.9, 0.999))"
      ]
     },
     "execution_count": 9,
     "metadata": {},
     "output_type": "execute_result"
    }
   ],
   "source": [
    "model = [init(h, size(X, 1)), init(size(y, 1), h)]\n",
    "losses = [loss(model, X, y)]\n",
    "import Optimisers\n",
    "opt = Optimisers.Adam()\n",
    "states = [Optimisers.init(opt, W) for W in model]"
   ]
  },
  {
   "cell_type": "markdown",
   "id": "bb44870c",
   "metadata": {},
   "source": [
    "The following cell runs 100 iterations using the whole dataset for each iteration."
   ]
  },
  {
   "cell_type": "code",
   "execution_count": 10,
   "id": "fbe37ad0",
   "metadata": {},
   "outputs": [
    {
     "name": "stdout",
     "output_type": "stream",
     "text": [
      "  5.055046 seconds (1.71 M allocations: 6.562 GiB, 2.93% gc time, 6.86% compilation time)\n"
     ]
    },
    {
     "data": {
      "text/plain": [
       "101-element Vector{Float32}:\n",
       " 1.3246207\n",
       " 1.2506151\n",
       " 1.1805775\n",
       " 1.114522\n",
       " 1.0524641\n",
       " 0.99439865\n",
       " 0.94029003\n",
       " 0.8900696\n",
       " 0.84363127\n",
       " 0.8008361\n",
       " 0.7615139\n",
       " 0.7254732\n",
       " 0.69250786\n",
       " ⋮\n",
       " 0.1235983\n",
       " 0.12180213\n",
       " 0.12005702\n",
       " 0.11836147\n",
       " 0.116713814\n",
       " 0.11511267\n",
       " 0.113556445\n",
       " 0.11204379\n",
       " 0.11057334\n",
       " 0.1091438\n",
       " 0.10775392\n",
       " 0.10640249"
      ]
     },
     "execution_count": 10,
     "metadata": {},
     "output_type": "execute_result"
    }
   ],
   "source": [
    "@time for epoch in 1:100\n",
    "    grads = ∇model(loss, model, X, y)\n",
    "    # Gradient descent with rate `η`\n",
    "    for i in eachindex(model)\n",
    "        states[i], ΔW = Optimisers.apply!(opt, states[i], model[i], grads[i])\n",
    "        model[i] .-= ΔW\n",
    "    end\n",
    "    push!(losses, loss(model, X, y))\n",
    "end\n",
    "losses"
   ]
  },
  {
   "cell_type": "code",
   "execution_count": 11,
   "id": "2e576cd1",
   "metadata": {},
   "outputs": [
    {
     "data": {
      "image/png": "[encoded data removed]",
      "image/svg+xml": [
       "<?xml version=\"1.0\" encoding=\"utf-8\"?>\n",
       "<svg xmlns=\"http://www.w3.org/2000/svg\" xmlns:xlink=\"http://www.w3.org/1999/xlink\" width=\"600\" height=\"400\" viewBox=\"0 0 2400 1600\">\n",
       "<defs>\n",
       "  <clipPath id=\"clip020\">\n",
       "    <rect x=\"0\" y=\"0\" width=\"2400\" height=\"1600\"/>\n",
       "  </clipPath>\n",
       "</defs>\n",
       "<path clip-path=\"url(#clip020)\" d=\"M0 1600 L2400 1600 L2400 0 L0 0  Z\" fill=\"#ffffff\" fill-rule=\"evenodd\" fill-opacity=\"1\"/>\n",
       "<defs>\n",
       "  <clipPath id=\"clip021\">\n",
       "    <rect x=\"480\" y=\"0\" width=\"1681\" height=\"1600\"/>\n",
       "  </clipPath>\n",
       "</defs>\n",
       "<path clip-path=\"url(#clip020)\" d=\"M193.936 1486.45 L2352.76 1486.45 L2352.76 47.2441 L193.936 47.2441  Z\" fill=\"#ffffff\" fill-rule=\"evenodd\" fill-opacity=\"1\"/>\n",
       "<defs>\n",
       "  <clipPath id=\"clip022\">\n",
       "    <rect x=\"193\" y=\"47\" width=\"2160\" height=\"1440\"/>\n",
       "  </clipPath>\n",
       "</defs>\n",
       "<polyline clip-path=\"url(#clip022)\" style=\"stroke:#000000; stroke-linecap:round; stroke-linejoin:round; stroke-width:2; stroke-opacity:0.1; fill:none\" points=\"234.668,1486.45 234.668,47.2441 \"/>\n",
       "<polyline clip-path=\"url(#clip022)\" style=\"stroke:#000000; stroke-linecap:round; stroke-linejoin:round; stroke-width:2; stroke-opacity:0.1; fill:none\" points=\"743.824,1486.45 743.824,47.2441 \"/>\n",
       "<polyline clip-path=\"url(#clip022)\" style=\"stroke:#000000; stroke-linecap:round; stroke-linejoin:round; stroke-width:2; stroke-opacity:0.1; fill:none\" points=\"1252.98,1486.45 1252.98,47.2441 \"/>\n",
       "<polyline clip-path=\"url(#clip022)\" style=\"stroke:#000000; stroke-linecap:round; stroke-linejoin:round; stroke-width:2; stroke-opacity:0.1; fill:none\" points=\"1762.14,1486.45 1762.14,47.2441 \"/>\n",
       "<polyline clip-path=\"url(#clip022)\" style=\"stroke:#000000; stroke-linecap:round; stroke-linejoin:round; stroke-width:2; stroke-opacity:0.1; fill:none\" points=\"2271.29,1486.45 2271.29,47.2441 \"/>\n",
       "<polyline clip-path=\"url(#clip022)\" style=\"stroke:#000000; stroke-linecap:round; stroke-linejoin:round; stroke-width:2; stroke-opacity:0.1; fill:none\" points=\"193.936,1316.21 2352.76,1316.21 \"/>\n",
       "<polyline clip-path=\"url(#clip022)\" style=\"stroke:#000000; stroke-linecap:round; stroke-linejoin:round; stroke-width:2; stroke-opacity:0.1; fill:none\" points=\"193.936,1046.99 2352.76,1046.99 \"/>\n",
       "<polyline clip-path=\"url(#clip022)\" style=\"stroke:#000000; stroke-linecap:round; stroke-linejoin:round; stroke-width:2; stroke-opacity:0.1; fill:none\" points=\"193.936,777.776 2352.76,777.776 \"/>\n",
       "<polyline clip-path=\"url(#clip022)\" style=\"stroke:#000000; stroke-linecap:round; stroke-linejoin:round; stroke-width:2; stroke-opacity:0.1; fill:none\" points=\"193.936,508.56 2352.76,508.56 \"/>\n",
       "<polyline clip-path=\"url(#clip022)\" style=\"stroke:#000000; stroke-linecap:round; stroke-linejoin:round; stroke-width:2; stroke-opacity:0.1; fill:none\" points=\"193.936,239.344 2352.76,239.344 \"/>\n",
       "<polyline clip-path=\"url(#clip020)\" style=\"stroke:#000000; stroke-linecap:round; stroke-linejoin:round; stroke-width:4; stroke-opacity:1; fill:none\" points=\"193.936,1486.45 2352.76,1486.45 \"/>\n",
       "<polyline clip-path=\"url(#clip020)\" style=\"stroke:#000000; stroke-linecap:round; stroke-linejoin:round; stroke-width:4; stroke-opacity:1; fill:none\" points=\"234.668,1486.45 234.668,1467.55 \"/>\n",
       "<polyline clip-path=\"url(#clip020)\" style=\"stroke:#000000; stroke-linecap:round; stroke-linejoin:round; stroke-width:4; stroke-opacity:1; fill:none\" points=\"743.824,1486.45 743.824,1467.55 \"/>\n",
       "<polyline clip-path=\"url(#clip020)\" style=\"stroke:#000000; stroke-linecap:round; stroke-linejoin:round; stroke-width:4; stroke-opacity:1; fill:none\" points=\"1252.98,1486.45 1252.98,1467.55 \"/>\n",
       "<polyline clip-path=\"url(#clip020)\" style=\"stroke:#000000; stroke-linecap:round; stroke-linejoin:round; stroke-width:4; stroke-opacity:1; fill:none\" points=\"1762.14,1486.45 1762.14,1467.55 \"/>\n",
       "<polyline clip-path=\"url(#clip020)\" style=\"stroke:#000000; stroke-linecap:round; stroke-linejoin:round; stroke-width:4; stroke-opacity:1; fill:none\" points=\"2271.29,1486.45 2271.29,1467.55 \"/>\n",
       "<path clip-path=\"url(#clip020)\" d=\"M234.668 1517.37 Q231.057 1517.37 229.229 1520.93 Q227.423 1524.47 227.423 1531.6 Q227.423 1538.71 229.229 1542.27 Q231.057 1545.82 234.668 1545.82 Q238.303 1545.82 240.108 1542.27 Q241.937 1538.71 241.937 1531.6 Q241.937 1524.47 240.108 1520.93 Q238.303 1517.37 234.668 1517.37 M234.668 1513.66 Q240.479 1513.66 243.534 1518.27 Q246.613 1522.85 246.613 1531.6 Q246.613 1540.33 243.534 1544.94 Q240.479 1549.52 234.668 1549.52 Q228.858 1549.52 225.78 1544.94 Q222.724 1540.33 222.724 1531.6 Q222.724 1522.85 225.78 1518.27 Q228.858 1513.66 234.668 1513.66 Z\" fill=\"#000000\" fill-rule=\"nonzero\" fill-opacity=\"1\" /><path clip-path=\"url(#clip020)\" d=\"M723.095 1544.91 L739.414 1544.91 L739.414 1548.85 L717.47 1548.85 L717.47 1544.91 Q720.132 1542.16 724.715 1537.53 Q729.322 1532.88 730.502 1531.53 Q732.748 1529.01 733.627 1527.27 Q734.53 1525.51 734.53 1523.82 Q734.53 1521.07 732.586 1519.33 Q730.664 1517.6 727.563 1517.6 Q725.364 1517.6 722.91 1518.36 Q720.479 1519.13 717.702 1520.68 L717.702 1515.95 Q720.526 1514.82 722.979 1514.24 Q725.433 1513.66 727.47 1513.66 Q732.84 1513.66 736.035 1516.35 Q739.229 1519.03 739.229 1523.52 Q739.229 1525.65 738.419 1527.57 Q737.632 1529.47 735.526 1532.07 Q734.947 1532.74 731.845 1535.95 Q728.743 1539.15 723.095 1544.91 Z\" fill=\"#000000\" fill-rule=\"nonzero\" fill-opacity=\"1\" /><path clip-path=\"url(#clip020)\" d=\"M749.275 1514.29 L767.632 1514.29 L767.632 1518.22 L753.558 1518.22 L753.558 1526.7 Q754.576 1526.35 755.595 1526.19 Q756.613 1526 757.632 1526 Q763.419 1526 766.799 1529.17 Q770.178 1532.34 770.178 1537.76 Q770.178 1543.34 766.706 1546.44 Q763.234 1549.52 756.914 1549.52 Q754.738 1549.52 752.47 1549.15 Q750.225 1548.78 747.817 1548.04 L747.817 1543.34 Q749.9 1544.47 752.123 1545.03 Q754.345 1545.58 756.822 1545.58 Q760.826 1545.58 763.164 1543.48 Q765.502 1541.37 765.502 1537.76 Q765.502 1534.15 763.164 1532.04 Q760.826 1529.94 756.822 1529.94 Q754.947 1529.94 753.072 1530.35 Q751.22 1530.77 749.275 1531.65 L749.275 1514.29 Z\" fill=\"#000000\" fill-rule=\"nonzero\" fill-opacity=\"1\" /><path clip-path=\"url(#clip020)\" d=\"M1227.68 1514.29 L1246.04 1514.29 L1246.04 1518.22 L1231.96 1518.22 L1231.96 1526.7 Q1232.98 1526.35 1234 1526.19 Q1235.02 1526 1236.04 1526 Q1241.82 1526 1245.2 1529.17 Q1248.58 1532.34 1248.58 1537.76 Q1248.58 1543.34 1245.11 1546.44 Q1241.64 1549.52 1235.32 1549.52 Q1233.14 1549.52 1230.87 1549.15 Q1228.63 1548.78 1226.22 1548.04 L1226.22 1543.34 Q1228.3 1544.47 1230.53 1545.03 Q1232.75 1545.58 1235.23 1545.58 Q1239.23 1545.58 1241.57 1543.48 Q1243.91 1541.37 1243.91 1537.76 Q1243.91 1534.15 1241.57 1532.04 Q1239.23 1529.94 1235.23 1529.94 Q1233.35 1529.94 1231.48 1530.35 Q1229.62 1530.77 1227.68 1531.65 L1227.68 1514.29 Z\" fill=\"#000000\" fill-rule=\"nonzero\" fill-opacity=\"1\" /><path clip-path=\"url(#clip020)\" d=\"M1267.79 1517.37 Q1264.18 1517.37 1262.35 1520.93 Q1260.55 1524.47 1260.55 1531.6 Q1260.55 1538.71 1262.35 1542.27 Q1264.18 1545.82 1267.79 1545.82 Q1271.43 1545.82 1273.23 1542.27 Q1275.06 1538.71 1275.06 1531.6 Q1275.06 1524.47 1273.23 1520.93 Q1271.43 1517.37 1267.79 1517.37 M1267.79 1513.66 Q1273.6 1513.66 1276.66 1518.27 Q1279.74 1522.85 1279.74 1531.6 Q1279.74 1540.33 1276.66 1544.94 Q1273.6 1549.52 1267.79 1549.52 Q1261.98 1549.52 1258.91 1544.94 Q1255.85 1540.33 1255.85 1531.6 Q1255.85 1522.85 1258.91 1518.27 Q1261.98 1513.66 1267.79 1513.66 Z\" fill=\"#000000\" fill-rule=\"nonzero\" fill-opacity=\"1\" /><path clip-path=\"url(#clip020)\" d=\"M1735.99 1514.29 L1758.21 1514.29 L1758.21 1516.28 L1745.67 1548.85 L1740.78 1548.85 L1752.59 1518.22 L1735.99 1518.22 L1735.99 1514.29 Z\" fill=\"#000000\" fill-rule=\"nonzero\" fill-opacity=\"1\" /><path clip-path=\"url(#clip020)\" d=\"M1767.38 1514.29 L1785.73 1514.29 L1785.73 1518.22 L1771.66 1518.22 L1771.66 1526.7 Q1772.68 1526.35 1773.7 1526.19 Q1774.72 1526 1775.73 1526 Q1781.52 1526 1784.9 1529.17 Q1788.28 1532.34 1788.28 1537.76 Q1788.28 1543.34 1784.81 1546.44 Q1781.34 1549.52 1775.02 1549.52 Q1772.84 1549.52 1770.57 1549.15 Q1768.33 1548.78 1765.92 1548.04 L1765.92 1543.34 Q1768 1544.47 1770.23 1545.03 Q1772.45 1545.58 1774.92 1545.58 Q1778.93 1545.58 1781.27 1543.48 Q1783.61 1541.37 1783.61 1537.76 Q1783.61 1534.15 1781.27 1532.04 Q1778.93 1529.94 1774.92 1529.94 Q1773.05 1529.94 1771.17 1530.35 Q1769.32 1530.77 1767.38 1531.65 L1767.38 1514.29 Z\" fill=\"#000000\" fill-rule=\"nonzero\" fill-opacity=\"1\" /><path clip-path=\"url(#clip020)\" d=\"M2230.9 1544.91 L2238.54 1544.91 L2238.54 1518.55 L2230.23 1520.21 L2230.23 1515.95 L2238.49 1514.29 L2243.17 1514.29 L2243.17 1544.91 L2250.81 1544.91 L2250.81 1548.85 L2230.9 1548.85 L2230.9 1544.91 Z\" fill=\"#000000\" fill-rule=\"nonzero\" fill-opacity=\"1\" /><path clip-path=\"url(#clip020)\" d=\"M2270.25 1517.37 Q2266.64 1517.37 2264.81 1520.93 Q2263 1524.47 2263 1531.6 Q2263 1538.71 2264.81 1542.27 Q2266.64 1545.82 2270.25 1545.82 Q2273.88 1545.82 2275.69 1542.27 Q2277.52 1538.71 2277.52 1531.6 Q2277.52 1524.47 2275.69 1520.93 Q2273.88 1517.37 2270.25 1517.37 M2270.25 1513.66 Q2276.06 1513.66 2279.12 1518.27 Q2282.19 1522.85 2282.19 1531.6 Q2282.19 1540.33 2279.12 1544.94 Q2276.06 1549.52 2270.25 1549.52 Q2264.44 1549.52 2261.36 1544.94 Q2258.3 1540.33 2258.3 1531.6 Q2258.3 1522.85 2261.36 1518.27 Q2264.44 1513.66 2270.25 1513.66 Z\" fill=\"#000000\" fill-rule=\"nonzero\" fill-opacity=\"1\" /><path clip-path=\"url(#clip020)\" d=\"M2300.41 1517.37 Q2296.8 1517.37 2294.97 1520.93 Q2293.17 1524.47 2293.17 1531.6 Q2293.17 1538.71 2294.97 1542.27 Q2296.8 1545.82 2300.41 1545.82 Q2304.05 1545.82 2305.85 1542.27 Q2307.68 1538.71 2307.68 1531.6 Q2307.68 1524.47 2305.85 1520.93 Q2304.05 1517.37 2300.41 1517.37 M2300.41 1513.66 Q2306.22 1513.66 2309.28 1518.27 Q2312.36 1522.85 2312.36 1531.6 Q2312.36 1540.33 2309.28 1544.94 Q2306.22 1549.52 2300.41 1549.52 Q2294.6 1549.52 2291.52 1544.94 Q2288.47 1540.33 2288.47 1531.6 Q2288.47 1522.85 2291.52 1518.27 Q2294.6 1513.66 2300.41 1513.66 Z\" fill=\"#000000\" fill-rule=\"nonzero\" fill-opacity=\"1\" /><polyline clip-path=\"url(#clip020)\" style=\"stroke:#000000; stroke-linecap:round; stroke-linejoin:round; stroke-width:4; stroke-opacity:1; fill:none\" points=\"193.936,1486.45 193.936,47.2441 \"/>\n",
       "<polyline clip-path=\"url(#clip020)\" style=\"stroke:#000000; stroke-linecap:round; stroke-linejoin:round; stroke-width:4; stroke-opacity:1; fill:none\" points=\"193.936,1316.21 212.834,1316.21 \"/>\n",
       "<polyline clip-path=\"url(#clip020)\" style=\"stroke:#000000; stroke-linecap:round; stroke-linejoin:round; stroke-width:4; stroke-opacity:1; fill:none\" points=\"193.936,1046.99 212.834,1046.99 \"/>\n",
       "<polyline clip-path=\"url(#clip020)\" style=\"stroke:#000000; stroke-linecap:round; stroke-linejoin:round; stroke-width:4; stroke-opacity:1; fill:none\" points=\"193.936,777.776 212.834,777.776 \"/>\n",
       "<polyline clip-path=\"url(#clip020)\" style=\"stroke:#000000; stroke-linecap:round; stroke-linejoin:round; stroke-width:4; stroke-opacity:1; fill:none\" points=\"193.936,508.56 212.834,508.56 \"/>\n",
       "<polyline clip-path=\"url(#clip020)\" style=\"stroke:#000000; stroke-linecap:round; stroke-linejoin:round; stroke-width:4; stroke-opacity:1; fill:none\" points=\"193.936,239.344 212.834,239.344 \"/>\n",
       "<path clip-path=\"url(#clip020)\" d=\"M50.9921 1316.66 L80.6679 1316.66 L80.6679 1320.6 L50.9921 1320.6 L50.9921 1316.66 Z\" fill=\"#000000\" fill-rule=\"nonzero\" fill-opacity=\"1\" /><path clip-path=\"url(#clip020)\" d=\"M94.7882 1329.55 L111.108 1329.55 L111.108 1333.49 L89.1632 1333.49 L89.1632 1329.55 Q91.8252 1326.8 96.4085 1322.17 Q101.015 1317.52 102.196 1316.17 Q104.441 1313.65 105.321 1311.91 Q106.223 1310.16 106.223 1308.47 Q106.223 1305.71 104.279 1303.97 Q102.358 1302.24 99.2558 1302.24 Q97.0567 1302.24 94.603 1303 Q92.1725 1303.77 89.3947 1305.32 L89.3947 1300.6 Q92.2188 1299.46 94.6724 1298.88 Q97.1261 1298.3 99.1632 1298.3 Q104.534 1298.3 107.728 1300.99 Q110.922 1303.67 110.922 1308.16 Q110.922 1310.29 110.112 1312.22 Q109.325 1314.11 107.219 1316.71 Q106.64 1317.38 103.538 1320.6 Q100.436 1323.79 94.7882 1329.55 Z\" fill=\"#000000\" fill-rule=\"nonzero\" fill-opacity=\"1\" /><path clip-path=\"url(#clip020)\" d=\"M120.922 1327.61 L125.807 1327.61 L125.807 1333.49 L120.922 1333.49 L120.922 1327.61 Z\" fill=\"#000000\" fill-rule=\"nonzero\" fill-opacity=\"1\" /><path clip-path=\"url(#clip020)\" d=\"M145.992 1302.01 Q142.381 1302.01 140.552 1305.57 Q138.746 1309.11 138.746 1316.24 Q138.746 1323.35 140.552 1326.91 Q142.381 1330.46 145.992 1330.46 Q149.626 1330.46 151.431 1326.91 Q153.26 1323.35 153.26 1316.24 Q153.26 1309.11 151.431 1305.57 Q149.626 1302.01 145.992 1302.01 M145.992 1298.3 Q151.802 1298.3 154.857 1302.91 Q157.936 1307.49 157.936 1316.24 Q157.936 1324.97 154.857 1329.58 Q151.802 1334.16 145.992 1334.16 Q140.181 1334.16 137.103 1329.58 Q134.047 1324.97 134.047 1316.24 Q134.047 1307.49 137.103 1302.91 Q140.181 1298.3 145.992 1298.3 Z\" fill=\"#000000\" fill-rule=\"nonzero\" fill-opacity=\"1\" /><path clip-path=\"url(#clip020)\" d=\"M51.9875 1047.44 L81.6633 1047.44 L81.6633 1051.38 L51.9875 1051.38 L51.9875 1047.44 Z\" fill=\"#000000\" fill-rule=\"nonzero\" fill-opacity=\"1\" /><path clip-path=\"url(#clip020)\" d=\"M92.566 1060.34 L100.205 1060.34 L100.205 1033.97 L91.8947 1035.64 L91.8947 1031.38 L100.159 1029.71 L104.834 1029.71 L104.834 1060.34 L112.473 1060.34 L112.473 1064.27 L92.566 1064.27 L92.566 1060.34 Z\" fill=\"#000000\" fill-rule=\"nonzero\" fill-opacity=\"1\" /><path clip-path=\"url(#clip020)\" d=\"M121.918 1058.39 L126.802 1058.39 L126.802 1064.27 L121.918 1064.27 L121.918 1058.39 Z\" fill=\"#000000\" fill-rule=\"nonzero\" fill-opacity=\"1\" /><path clip-path=\"url(#clip020)\" d=\"M137.033 1029.71 L155.39 1029.71 L155.39 1033.65 L141.316 1033.65 L141.316 1042.12 Q142.334 1041.77 143.353 1041.61 Q144.371 1041.43 145.39 1041.43 Q151.177 1041.43 154.556 1044.6 Q157.936 1047.77 157.936 1053.18 Q157.936 1058.76 154.464 1061.86 Q150.992 1064.94 144.672 1064.94 Q142.496 1064.94 140.228 1064.57 Q137.982 1064.2 135.575 1063.46 L135.575 1058.76 Q137.658 1059.9 139.881 1060.45 Q142.103 1061.01 144.58 1061.01 Q148.584 1061.01 150.922 1058.9 Q153.26 1056.8 153.26 1053.18 Q153.26 1049.57 150.922 1047.47 Q148.584 1045.36 144.58 1045.36 Q142.705 1045.36 140.83 1045.78 Q138.978 1046.19 137.033 1047.07 L137.033 1029.71 Z\" fill=\"#000000\" fill-rule=\"nonzero\" fill-opacity=\"1\" /><path clip-path=\"url(#clip020)\" d=\"M50.9921 778.227 L80.6679 778.227 L80.6679 782.163 L50.9921 782.163 L50.9921 778.227 Z\" fill=\"#000000\" fill-rule=\"nonzero\" fill-opacity=\"1\" /><path clip-path=\"url(#clip020)\" d=\"M91.5706 791.121 L99.2095 791.121 L99.2095 764.755 L90.8993 766.422 L90.8993 762.163 L99.1632 760.496 L103.839 760.496 L103.839 791.121 L111.478 791.121 L111.478 795.056 L91.5706 795.056 L91.5706 791.121 Z\" fill=\"#000000\" fill-rule=\"nonzero\" fill-opacity=\"1\" /><path clip-path=\"url(#clip020)\" d=\"M120.922 789.176 L125.807 789.176 L125.807 795.056 L120.922 795.056 L120.922 789.176 Z\" fill=\"#000000\" fill-rule=\"nonzero\" fill-opacity=\"1\" /><path clip-path=\"url(#clip020)\" d=\"M145.992 763.575 Q142.381 763.575 140.552 767.14 Q138.746 770.681 138.746 777.811 Q138.746 784.917 140.552 788.482 Q142.381 792.024 145.992 792.024 Q149.626 792.024 151.431 788.482 Q153.26 784.917 153.26 777.811 Q153.26 770.681 151.431 767.14 Q149.626 763.575 145.992 763.575 M145.992 759.871 Q151.802 759.871 154.857 764.478 Q157.936 769.061 157.936 777.811 Q157.936 786.538 154.857 791.144 Q151.802 795.727 145.992 795.727 Q140.181 795.727 137.103 791.144 Q134.047 786.538 134.047 777.811 Q134.047 769.061 137.103 764.478 Q140.181 759.871 145.992 759.871 Z\" fill=\"#000000\" fill-rule=\"nonzero\" fill-opacity=\"1\" /><path clip-path=\"url(#clip020)\" d=\"M51.9875 509.011 L81.6633 509.011 L81.6633 512.946 L51.9875 512.946 L51.9875 509.011 Z\" fill=\"#000000\" fill-rule=\"nonzero\" fill-opacity=\"1\" /><path clip-path=\"url(#clip020)\" d=\"M101.756 494.359 Q98.1447 494.359 96.316 497.923 Q94.5104 501.465 94.5104 508.595 Q94.5104 515.701 96.316 519.266 Q98.1447 522.808 101.756 522.808 Q105.39 522.808 107.196 519.266 Q109.024 515.701 109.024 508.595 Q109.024 501.465 107.196 497.923 Q105.39 494.359 101.756 494.359 M101.756 490.655 Q107.566 490.655 110.621 495.261 Q113.7 499.845 113.7 508.595 Q113.7 517.321 110.621 521.928 Q107.566 526.511 101.756 526.511 Q95.9456 526.511 92.8669 521.928 Q89.8114 517.321 89.8114 508.595 Q89.8114 499.845 92.8669 495.261 Q95.9456 490.655 101.756 490.655 Z\" fill=\"#000000\" fill-rule=\"nonzero\" fill-opacity=\"1\" /><path clip-path=\"url(#clip020)\" d=\"M121.918 519.96 L126.802 519.96 L126.802 525.84 L121.918 525.84 L121.918 519.96 Z\" fill=\"#000000\" fill-rule=\"nonzero\" fill-opacity=\"1\" /><path clip-path=\"url(#clip020)\" d=\"M137.033 491.28 L155.39 491.28 L155.39 495.215 L141.316 495.215 L141.316 503.687 Q142.334 503.34 143.353 503.178 Q144.371 502.993 145.39 502.993 Q151.177 502.993 154.556 506.164 Q157.936 509.335 157.936 514.752 Q157.936 520.331 154.464 523.433 Q150.992 526.511 144.672 526.511 Q142.496 526.511 140.228 526.141 Q137.982 525.77 135.575 525.03 L135.575 520.331 Q137.658 521.465 139.881 522.02 Q142.103 522.576 144.58 522.576 Q148.584 522.576 150.922 520.47 Q153.26 518.363 153.26 514.752 Q153.26 511.141 150.922 509.034 Q148.584 506.928 144.58 506.928 Q142.705 506.928 140.83 507.345 Q138.978 507.761 137.033 508.641 L137.033 491.28 Z\" fill=\"#000000\" fill-rule=\"nonzero\" fill-opacity=\"1\" /><path clip-path=\"url(#clip020)\" d=\"M100.76 225.142 Q97.1493 225.142 95.3206 228.707 Q93.515 232.249 93.515 239.378 Q93.515 246.485 95.3206 250.05 Q97.1493 253.591 100.76 253.591 Q104.395 253.591 106.2 250.05 Q108.029 246.485 108.029 239.378 Q108.029 232.249 106.2 228.707 Q104.395 225.142 100.76 225.142 M100.76 221.439 Q106.571 221.439 109.626 226.045 Q112.705 230.628 112.705 239.378 Q112.705 248.105 109.626 252.712 Q106.571 257.295 100.76 257.295 Q94.9502 257.295 91.8715 252.712 Q88.816 248.105 88.816 239.378 Q88.816 230.628 91.8715 226.045 Q94.9502 221.439 100.76 221.439 Z\" fill=\"#000000\" fill-rule=\"nonzero\" fill-opacity=\"1\" /><path clip-path=\"url(#clip020)\" d=\"M120.922 250.744 L125.807 250.744 L125.807 256.624 L120.922 256.624 L120.922 250.744 Z\" fill=\"#000000\" fill-rule=\"nonzero\" fill-opacity=\"1\" /><path clip-path=\"url(#clip020)\" d=\"M145.992 225.142 Q142.381 225.142 140.552 228.707 Q138.746 232.249 138.746 239.378 Q138.746 246.485 140.552 250.05 Q142.381 253.591 145.992 253.591 Q149.626 253.591 151.431 250.05 Q153.26 246.485 153.26 239.378 Q153.26 232.249 151.431 228.707 Q149.626 225.142 145.992 225.142 M145.992 221.439 Q151.802 221.439 154.857 226.045 Q157.936 230.628 157.936 239.378 Q157.936 248.105 154.857 252.712 Q151.802 257.295 145.992 257.295 Q140.181 257.295 137.103 252.712 Q134.047 248.105 134.047 239.378 Q134.047 230.628 137.103 226.045 Q140.181 221.439 145.992 221.439 Z\" fill=\"#000000\" fill-rule=\"nonzero\" fill-opacity=\"1\" /><polyline clip-path=\"url(#clip022)\" style=\"stroke:#009af9; stroke-linecap:round; stroke-linejoin:round; stroke-width:4; stroke-opacity:1; fill:none\" points=\"255.035,87.9763 275.401,118.931 295.767,149.962 316.133,180.964 336.5,211.811 356.866,242.368 377.232,272.493 397.598,302.047 417.964,330.899 438.331,358.929 458.697,386.038 479.063,412.143 499.429,437.183 519.796,461.114 540.162,483.913 560.528,505.575 580.894,526.112 601.261,545.556 621.627,563.953 641.993,581.364 662.359,597.863 682.725,613.533 703.092,628.466 723.458,642.755 743.824,656.494 764.19,669.775 784.557,682.687 804.923,695.309 825.289,707.716 845.655,719.97 866.021,732.129 886.388,744.236 906.754,756.329 927.12,768.436 947.486,780.575 967.853,792.76 988.219,804.996 1008.59,817.285 1028.95,829.622 1049.32,841.999 1069.68,854.407 1090.05,866.833 1110.42,879.264 1130.78,891.685 1151.15,904.083 1171.51,916.442 1191.88,928.751 1212.25,940.997 1232.61,953.168 1252.98,965.255 1273.35,977.251 1293.71,989.147 1314.08,1000.94 1334.44,1012.62 1354.81,1024.19 1375.18,1035.65 1395.54,1047 1415.91,1058.23 1436.28,1069.35 1456.64,1080.36 1477.01,1091.26 1497.37,1102.05 1517.74,1112.74 1538.11,1123.33 1558.47,1133.82 1578.84,1144.21 1599.21,1154.51 1619.57,1164.71 1639.94,1174.82 1660.3,1184.85 1680.67,1194.78 1701.04,1204.63 1721.4,1214.39 1741.77,1224.05 1762.14,1233.63 1782.5,1243.11 1802.87,1252.5 1823.23,1261.79 1843.6,1270.99 1863.97,1280.08 1884.33,1289.07 1904.7,1297.95 1925.07,1306.73 1945.43,1315.39 1965.8,1323.95 1986.16,1332.4 2006.53,1340.73 2026.9,1348.95 2047.26,1357.06 2067.63,1365.05 2087.99,1372.94 2108.36,1380.71 2128.73,1388.36 2149.09,1395.91 2169.46,1403.35 2189.83,1410.68 2210.19,1417.9 2230.56,1425.01 2250.92,1432.02 2271.29,1438.92 2291.66,1445.72 \"/>\n",
       "<path clip-path=\"url(#clip020)\" d=\"M1967.9 198.898 L2280.8 198.898 L2280.8 95.2176 L1967.9 95.2176  Z\" fill=\"#ffffff\" fill-rule=\"evenodd\" fill-opacity=\"1\"/>\n",
       "<polyline clip-path=\"url(#clip020)\" style=\"stroke:#000000; stroke-linecap:round; stroke-linejoin:round; stroke-width:4; stroke-opacity:1; fill:none\" points=\"1967.9,198.898 2280.8,198.898 2280.8,95.2176 1967.9,95.2176 1967.9,198.898 \"/>\n",
       "<polyline clip-path=\"url(#clip020)\" style=\"stroke:#009af9; stroke-linecap:round; stroke-linejoin:round; stroke-width:4; stroke-opacity:1; fill:none\" points=\"1991.89,147.058 2135.81,147.058 \"/>\n",
       "<path clip-path=\"url(#clip020)\" d=\"M2159.79 129.778 L2164.47 129.778 L2164.47 160.402 L2181.3 160.402 L2181.3 164.338 L2159.79 164.338 L2159.79 129.778 Z\" fill=\"#000000\" fill-rule=\"nonzero\" fill-opacity=\"1\" /><path clip-path=\"url(#clip020)\" d=\"M2195.23 141.398 Q2191.81 141.398 2189.82 144.083 Q2187.83 146.745 2187.83 151.398 Q2187.83 156.051 2189.79 158.736 Q2191.79 161.398 2195.23 161.398 Q2198.64 161.398 2200.63 158.713 Q2202.62 156.027 2202.62 151.398 Q2202.62 146.791 2200.63 144.106 Q2198.64 141.398 2195.23 141.398 M2195.23 137.787 Q2200.79 137.787 2203.96 141.398 Q2207.13 145.009 2207.13 151.398 Q2207.13 157.764 2203.96 161.398 Q2200.79 165.009 2195.23 165.009 Q2189.66 165.009 2186.48 161.398 Q2183.34 157.764 2183.34 151.398 Q2183.34 145.009 2186.48 141.398 Q2189.66 137.787 2195.23 137.787 Z\" fill=\"#000000\" fill-rule=\"nonzero\" fill-opacity=\"1\" /><path clip-path=\"url(#clip020)\" d=\"M2230.72 139.176 L2230.72 143.203 Q2228.91 142.277 2226.97 141.815 Q2225.03 141.352 2222.94 141.352 Q2219.77 141.352 2218.17 142.324 Q2216.6 143.296 2216.6 145.24 Q2216.6 146.722 2217.73 147.578 Q2218.87 148.412 2222.29 149.176 L2223.75 149.5 Q2228.29 150.472 2230.19 152.254 Q2232.11 154.014 2232.11 157.185 Q2232.11 160.796 2229.24 162.902 Q2226.39 165.009 2221.39 165.009 Q2219.31 165.009 2217.04 164.592 Q2214.79 164.199 2212.29 163.388 L2212.29 158.99 Q2214.66 160.217 2216.95 160.842 Q2219.24 161.444 2221.48 161.444 Q2224.49 161.444 2226.11 160.426 Q2227.73 159.384 2227.73 157.509 Q2227.73 155.773 2226.55 154.847 Q2225.4 153.921 2221.44 153.064 L2219.96 152.717 Q2216 151.884 2214.24 150.171 Q2212.48 148.435 2212.48 145.426 Q2212.48 141.768 2215.07 139.778 Q2217.67 137.787 2222.43 137.787 Q2224.79 137.787 2226.88 138.134 Q2228.96 138.481 2230.72 139.176 Z\" fill=\"#000000\" fill-rule=\"nonzero\" fill-opacity=\"1\" /><path clip-path=\"url(#clip020)\" d=\"M2255.42 139.176 L2255.42 143.203 Q2253.61 142.277 2251.67 141.815 Q2249.73 141.352 2247.64 141.352 Q2244.47 141.352 2242.87 142.324 Q2241.3 143.296 2241.3 145.24 Q2241.3 146.722 2242.43 147.578 Q2243.57 148.412 2246.99 149.176 L2248.45 149.5 Q2252.99 150.472 2254.89 152.254 Q2256.81 154.014 2256.81 157.185 Q2256.81 160.796 2253.94 162.902 Q2251.09 165.009 2246.09 165.009 Q2244.01 165.009 2241.74 164.592 Q2239.49 164.199 2236.99 163.388 L2236.99 158.99 Q2239.35 160.217 2241.65 160.842 Q2243.94 161.444 2246.18 161.444 Q2249.19 161.444 2250.81 160.426 Q2252.43 159.384 2252.43 157.509 Q2252.43 155.773 2251.25 154.847 Q2250.1 153.921 2246.14 153.064 L2244.66 152.717 Q2240.7 151.884 2238.94 150.171 Q2237.18 148.435 2237.18 145.426 Q2237.18 141.768 2239.77 139.778 Q2242.36 137.787 2247.13 137.787 Q2249.49 137.787 2251.58 138.134 Q2253.66 138.481 2255.42 139.176 Z\" fill=\"#000000\" fill-rule=\"nonzero\" fill-opacity=\"1\" /></svg>\n"
      ],
      "text/html": [
       "<?xml version=\"1.0\" encoding=\"utf-8\"?>\n",
       "<svg xmlns=\"http://www.w3.org/2000/svg\" xmlns:xlink=\"http://www.w3.org/1999/xlink\" width=\"600\" height=\"400\" viewBox=\"0 0 2400 1600\">\n",
       "<defs>\n",
       "  <clipPath id=\"clip070\">\n",
       "    <rect x=\"0\" y=\"0\" width=\"2400\" height=\"1600\"/>\n",
       "  </clipPath>\n",
       "</defs>\n",
       "<path clip-path=\"url(#clip070)\" d=\"M0 1600 L2400 1600 L2400 0 L0 0  Z\" fill=\"#ffffff\" fill-rule=\"evenodd\" fill-opacity=\"1\"/>\n",
       "<defs>\n",
       "  <clipPath id=\"clip071\">\n",
       "    <rect x=\"480\" y=\"0\" width=\"1681\" height=\"1600\"/>\n",
       "  </clipPath>\n",
       "</defs>\n",
       "<path clip-path=\"url(#clip070)\" d=\"M193.936 1486.45 L2352.76 1486.45 L2352.76 47.2441 L193.936 47.2441  Z\" fill=\"#ffffff\" fill-rule=\"evenodd\" fill-opacity=\"1\"/>\n",
       "<defs>\n",
       "  <clipPath id=\"clip072\">\n",
       "    <rect x=\"193\" y=\"47\" width=\"2160\" height=\"1440\"/>\n",
       "  </clipPath>\n",
       "</defs>\n",
       "<polyline clip-path=\"url(#clip072)\" style=\"stroke:#000000; stroke-linecap:round; stroke-linejoin:round; stroke-width:2; stroke-opacity:0.1; fill:none\" points=\"234.668,1486.45 234.668,47.2441 \"/>\n",
       "<polyline clip-path=\"url(#clip072)\" style=\"stroke:#000000; stroke-linecap:round; stroke-linejoin:round; stroke-width:2; stroke-opacity:0.1; fill:none\" points=\"743.824,1486.45 743.824,47.2441 \"/>\n",
       "<polyline clip-path=\"url(#clip072)\" style=\"stroke:#000000; stroke-linecap:round; stroke-linejoin:round; stroke-width:2; stroke-opacity:0.1; fill:none\" points=\"1252.98,1486.45 1252.98,47.2441 \"/>\n",
       "<polyline clip-path=\"url(#clip072)\" style=\"stroke:#000000; stroke-linecap:round; stroke-linejoin:round; stroke-width:2; stroke-opacity:0.1; fill:none\" points=\"1762.14,1486.45 1762.14,47.2441 \"/>\n",
       "<polyline clip-path=\"url(#clip072)\" style=\"stroke:#000000; stroke-linecap:round; stroke-linejoin:round; stroke-width:2; stroke-opacity:0.1; fill:none\" points=\"2271.29,1486.45 2271.29,47.2441 \"/>\n",
       "<polyline clip-path=\"url(#clip072)\" style=\"stroke:#000000; stroke-linecap:round; stroke-linejoin:round; stroke-width:2; stroke-opacity:0.1; fill:none\" points=\"193.936,1316.21 2352.76,1316.21 \"/>\n",
       "<polyline clip-path=\"url(#clip072)\" style=\"stroke:#000000; stroke-linecap:round; stroke-linejoin:round; stroke-width:2; stroke-opacity:0.1; fill:none\" points=\"193.936,1046.99 2352.76,1046.99 \"/>\n",
       "<polyline clip-path=\"url(#clip072)\" style=\"stroke:#000000; stroke-linecap:round; stroke-linejoin:round; stroke-width:2; stroke-opacity:0.1; fill:none\" points=\"193.936,777.776 2352.76,777.776 \"/>\n",
       "<polyline clip-path=\"url(#clip072)\" style=\"stroke:#000000; stroke-linecap:round; stroke-linejoin:round; stroke-width:2; stroke-opacity:0.1; fill:none\" points=\"193.936,508.56 2352.76,508.56 \"/>\n",
       "<polyline clip-path=\"url(#clip072)\" style=\"stroke:#000000; stroke-linecap:round; stroke-linejoin:round; stroke-width:2; stroke-opacity:0.1; fill:none\" points=\"193.936,239.344 2352.76,239.344 \"/>\n",
       "<polyline clip-path=\"url(#clip070)\" style=\"stroke:#000000; stroke-linecap:round; stroke-linejoin:round; stroke-width:4; stroke-opacity:1; fill:none\" points=\"193.936,1486.45 2352.76,1486.45 \"/>\n",
       "<polyline clip-path=\"url(#clip070)\" style=\"stroke:#000000; stroke-linecap:round; stroke-linejoin:round; stroke-width:4; stroke-opacity:1; fill:none\" points=\"234.668,1486.45 234.668,1467.55 \"/>\n",
       "<polyline clip-path=\"url(#clip070)\" style=\"stroke:#000000; stroke-linecap:round; stroke-linejoin:round; stroke-width:4; stroke-opacity:1; fill:none\" points=\"743.824,1486.45 743.824,1467.55 \"/>\n",
       "<polyline clip-path=\"url(#clip070)\" style=\"stroke:#000000; stroke-linecap:round; stroke-linejoin:round; stroke-width:4; stroke-opacity:1; fill:none\" points=\"1252.98,1486.45 1252.98,1467.55 \"/>\n",
       "<polyline clip-path=\"url(#clip070)\" style=\"stroke:#000000; stroke-linecap:round; stroke-linejoin:round; stroke-width:4; stroke-opacity:1; fill:none\" points=\"1762.14,1486.45 1762.14,1467.55 \"/>\n",
       "<polyline clip-path=\"url(#clip070)\" style=\"stroke:#000000; stroke-linecap:round; stroke-linejoin:round; stroke-width:4; stroke-opacity:1; fill:none\" points=\"2271.29,1486.45 2271.29,1467.55 \"/>\n",
       "<path clip-path=\"url(#clip070)\" d=\"M234.668 1517.37 Q231.057 1517.37 229.229 1520.93 Q227.423 1524.47 227.423 1531.6 Q227.423 1538.71 229.229 1542.27 Q231.057 1545.82 234.668 1545.82 Q238.303 1545.82 240.108 1542.27 Q241.937 1538.71 241.937 1531.6 Q241.937 1524.47 240.108 1520.93 Q238.303 1517.37 234.668 1517.37 M234.668 1513.66 Q240.479 1513.66 243.534 1518.27 Q246.613 1522.85 246.613 1531.6 Q246.613 1540.33 243.534 1544.94 Q240.479 1549.52 234.668 1549.52 Q228.858 1549.52 225.78 1544.94 Q222.724 1540.33 222.724 1531.6 Q222.724 1522.85 225.78 1518.27 Q228.858 1513.66 234.668 1513.66 Z\" fill=\"#000000\" fill-rule=\"nonzero\" fill-opacity=\"1\" /><path clip-path=\"url(#clip070)\" d=\"M723.095 1544.91 L739.414 1544.91 L739.414 1548.85 L717.47 1548.85 L717.47 1544.91 Q720.132 1542.16 724.715 1537.53 Q729.322 1532.88 730.502 1531.53 Q732.748 1529.01 733.627 1527.27 Q734.53 1525.51 734.53 1523.82 Q734.53 1521.07 732.586 1519.33 Q730.664 1517.6 727.563 1517.6 Q725.364 1517.6 722.91 1518.36 Q720.479 1519.13 717.702 1520.68 L717.702 1515.95 Q720.526 1514.82 722.979 1514.24 Q725.433 1513.66 727.47 1513.66 Q732.84 1513.66 736.035 1516.35 Q739.229 1519.03 739.229 1523.52 Q739.229 1525.65 738.419 1527.57 Q737.632 1529.47 735.526 1532.07 Q734.947 1532.74 731.845 1535.95 Q728.743 1539.15 723.095 1544.91 Z\" fill=\"#000000\" fill-rule=\"nonzero\" fill-opacity=\"1\" /><path clip-path=\"url(#clip070)\" d=\"M749.275 1514.29 L767.632 1514.29 L767.632 1518.22 L753.558 1518.22 L753.558 1526.7 Q754.576 1526.35 755.595 1526.19 Q756.613 1526 757.632 1526 Q763.419 1526 766.799 1529.17 Q770.178 1532.34 770.178 1537.76 Q770.178 1543.34 766.706 1546.44 Q763.234 1549.52 756.914 1549.52 Q754.738 1549.52 752.47 1549.15 Q750.225 1548.78 747.817 1548.04 L747.817 1543.34 Q749.9 1544.47 752.123 1545.03 Q754.345 1545.58 756.822 1545.58 Q760.826 1545.58 763.164 1543.48 Q765.502 1541.37 765.502 1537.76 Q765.502 1534.15 763.164 1532.04 Q760.826 1529.94 756.822 1529.94 Q754.947 1529.94 753.072 1530.35 Q751.22 1530.77 749.275 1531.65 L749.275 1514.29 Z\" fill=\"#000000\" fill-rule=\"nonzero\" fill-opacity=\"1\" /><path clip-path=\"url(#clip070)\" d=\"M1227.68 1514.29 L1246.04 1514.29 L1246.04 1518.22 L1231.96 1518.22 L1231.96 1526.7 Q1232.98 1526.35 1234 1526.19 Q1235.02 1526 1236.04 1526 Q1241.82 1526 1245.2 1529.17 Q1248.58 1532.34 1248.58 1537.76 Q1248.58 1543.34 1245.11 1546.44 Q1241.64 1549.52 1235.32 1549.52 Q1233.14 1549.52 1230.87 1549.15 Q1228.63 1548.78 1226.22 1548.04 L1226.22 1543.34 Q1228.3 1544.47 1230.53 1545.03 Q1232.75 1545.58 1235.23 1545.58 Q1239.23 1545.58 1241.57 1543.48 Q1243.91 1541.37 1243.91 1537.76 Q1243.91 1534.15 1241.57 1532.04 Q1239.23 1529.94 1235.23 1529.94 Q1233.35 1529.94 1231.48 1530.35 Q1229.62 1530.77 1227.68 1531.65 L1227.68 1514.29 Z\" fill=\"#000000\" fill-rule=\"nonzero\" fill-opacity=\"1\" /><path clip-path=\"url(#clip070)\" d=\"M1267.79 1517.37 Q1264.18 1517.37 1262.35 1520.93 Q1260.55 1524.47 1260.55 1531.6 Q1260.55 1538.71 1262.35 1542.27 Q1264.18 1545.82 1267.79 1545.82 Q1271.43 1545.82 1273.23 1542.27 Q1275.06 1538.71 1275.06 1531.6 Q1275.06 1524.47 1273.23 1520.93 Q1271.43 1517.37 1267.79 1517.37 M1267.79 1513.66 Q1273.6 1513.66 1276.66 1518.27 Q1279.74 1522.85 1279.74 1531.6 Q1279.74 1540.33 1276.66 1544.94 Q1273.6 1549.52 1267.79 1549.52 Q1261.98 1549.52 1258.91 1544.94 Q1255.85 1540.33 1255.85 1531.6 Q1255.85 1522.85 1258.91 1518.27 Q1261.98 1513.66 1267.79 1513.66 Z\" fill=\"#000000\" fill-rule=\"nonzero\" fill-opacity=\"1\" /><path clip-path=\"url(#clip070)\" d=\"M1735.99 1514.29 L1758.21 1514.29 L1758.21 1516.28 L1745.67 1548.85 L1740.78 1548.85 L1752.59 1518.22 L1735.99 1518.22 L1735.99 1514.29 Z\" fill=\"#000000\" fill-rule=\"nonzero\" fill-opacity=\"1\" /><path clip-path=\"url(#clip070)\" d=\"M1767.38 1514.29 L1785.73 1514.29 L1785.73 1518.22 L1771.66 1518.22 L1771.66 1526.7 Q1772.68 1526.35 1773.7 1526.19 Q1774.72 1526 1775.73 1526 Q1781.52 1526 1784.9 1529.17 Q1788.28 1532.34 1788.28 1537.76 Q1788.28 1543.34 1784.81 1546.44 Q1781.34 1549.52 1775.02 1549.52 Q1772.84 1549.52 1770.57 1549.15 Q1768.33 1548.78 1765.92 1548.04 L1765.92 1543.34 Q1768 1544.47 1770.23 1545.03 Q1772.45 1545.58 1774.92 1545.58 Q1778.93 1545.58 1781.27 1543.48 Q1783.61 1541.37 1783.61 1537.76 Q1783.61 1534.15 1781.27 1532.04 Q1778.93 1529.94 1774.92 1529.94 Q1773.05 1529.94 1771.17 1530.35 Q1769.32 1530.77 1767.38 1531.65 L1767.38 1514.29 Z\" fill=\"#000000\" fill-rule=\"nonzero\" fill-opacity=\"1\" /><path clip-path=\"url(#clip070)\" d=\"M2230.9 1544.91 L2238.54 1544.91 L2238.54 1518.55 L2230.23 1520.21 L2230.23 1515.95 L2238.49 1514.29 L2243.17 1514.29 L2243.17 1544.91 L2250.81 1544.91 L2250.81 1548.85 L2230.9 1548.85 L2230.9 1544.91 Z\" fill=\"#000000\" fill-rule=\"nonzero\" fill-opacity=\"1\" /><path clip-path=\"url(#clip070)\" d=\"M2270.25 1517.37 Q2266.64 1517.37 2264.81 1520.93 Q2263 1524.47 2263 1531.6 Q2263 1538.71 2264.81 1542.27 Q2266.64 1545.82 2270.25 1545.82 Q2273.88 1545.82 2275.69 1542.27 Q2277.52 1538.71 2277.52 1531.6 Q2277.52 1524.47 2275.69 1520.93 Q2273.88 1517.37 2270.25 1517.37 M2270.25 1513.66 Q2276.06 1513.66 2279.12 1518.27 Q2282.19 1522.85 2282.19 1531.6 Q2282.19 1540.33 2279.12 1544.94 Q2276.06 1549.52 2270.25 1549.52 Q2264.44 1549.52 2261.36 1544.94 Q2258.3 1540.33 2258.3 1531.6 Q2258.3 1522.85 2261.36 1518.27 Q2264.44 1513.66 2270.25 1513.66 Z\" fill=\"#000000\" fill-rule=\"nonzero\" fill-opacity=\"1\" /><path clip-path=\"url(#clip070)\" d=\"M2300.41 1517.37 Q2296.8 1517.37 2294.97 1520.93 Q2293.17 1524.47 2293.17 1531.6 Q2293.17 1538.71 2294.97 1542.27 Q2296.8 1545.82 2300.41 1545.82 Q2304.05 1545.82 2305.85 1542.27 Q2307.68 1538.71 2307.68 1531.6 Q2307.68 1524.47 2305.85 1520.93 Q2304.05 1517.37 2300.41 1517.37 M2300.41 1513.66 Q2306.22 1513.66 2309.28 1518.27 Q2312.36 1522.85 2312.36 1531.6 Q2312.36 1540.33 2309.28 1544.94 Q2306.22 1549.52 2300.41 1549.52 Q2294.6 1549.52 2291.52 1544.94 Q2288.47 1540.33 2288.47 1531.6 Q2288.47 1522.85 2291.52 1518.27 Q2294.6 1513.66 2300.41 1513.66 Z\" fill=\"#000000\" fill-rule=\"nonzero\" fill-opacity=\"1\" /><polyline clip-path=\"url(#clip070)\" style=\"stroke:#000000; stroke-linecap:round; stroke-linejoin:round; stroke-width:4; stroke-opacity:1; fill:none\" points=\"193.936,1486.45 193.936,47.2441 \"/>\n",
       "<polyline clip-path=\"url(#clip070)\" style=\"stroke:#000000; stroke-linecap:round; stroke-linejoin:round; stroke-width:4; stroke-opacity:1; fill:none\" points=\"193.936,1316.21 212.834,1316.21 \"/>\n",
       "<polyline clip-path=\"url(#clip070)\" style=\"stroke:#000000; stroke-linecap:round; stroke-linejoin:round; stroke-width:4; stroke-opacity:1; fill:none\" points=\"193.936,1046.99 212.834,1046.99 \"/>\n",
       "<polyline clip-path=\"url(#clip070)\" style=\"stroke:#000000; stroke-linecap:round; stroke-linejoin:round; stroke-width:4; stroke-opacity:1; fill:none\" points=\"193.936,777.776 212.834,777.776 \"/>\n",
       "<polyline clip-path=\"url(#clip070)\" style=\"stroke:#000000; stroke-linecap:round; stroke-linejoin:round; stroke-width:4; stroke-opacity:1; fill:none\" points=\"193.936,508.56 212.834,508.56 \"/>\n",
       "<polyline clip-path=\"url(#clip070)\" style=\"stroke:#000000; stroke-linecap:round; stroke-linejoin:round; stroke-width:4; stroke-opacity:1; fill:none\" points=\"193.936,239.344 212.834,239.344 \"/>\n",
       "<path clip-path=\"url(#clip070)\" d=\"M50.9921 1316.66 L80.6679 1316.66 L80.6679 1320.6 L50.9921 1320.6 L50.9921 1316.66 Z\" fill=\"#000000\" fill-rule=\"nonzero\" fill-opacity=\"1\" /><path clip-path=\"url(#clip070)\" d=\"M94.7882 1329.55 L111.108 1329.55 L111.108 1333.49 L89.1632 1333.49 L89.1632 1329.55 Q91.8252 1326.8 96.4085 1322.17 Q101.015 1317.52 102.196 1316.17 Q104.441 1313.65 105.321 1311.91 Q106.223 1310.16 106.223 1308.47 Q106.223 1305.71 104.279 1303.97 Q102.358 1302.24 99.2558 1302.24 Q97.0567 1302.24 94.603 1303 Q92.1725 1303.77 89.3947 1305.32 L89.3947 1300.6 Q92.2188 1299.46 94.6724 1298.88 Q97.1261 1298.3 99.1632 1298.3 Q104.534 1298.3 107.728 1300.99 Q110.922 1303.67 110.922 1308.16 Q110.922 1310.29 110.112 1312.22 Q109.325 1314.11 107.219 1316.71 Q106.64 1317.38 103.538 1320.6 Q100.436 1323.79 94.7882 1329.55 Z\" fill=\"#000000\" fill-rule=\"nonzero\" fill-opacity=\"1\" /><path clip-path=\"url(#clip070)\" d=\"M120.922 1327.61 L125.807 1327.61 L125.807 1333.49 L120.922 1333.49 L120.922 1327.61 Z\" fill=\"#000000\" fill-rule=\"nonzero\" fill-opacity=\"1\" /><path clip-path=\"url(#clip070)\" d=\"M145.992 1302.01 Q142.381 1302.01 140.552 1305.57 Q138.746 1309.11 138.746 1316.24 Q138.746 1323.35 140.552 1326.91 Q142.381 1330.46 145.992 1330.46 Q149.626 1330.46 151.431 1326.91 Q153.26 1323.35 153.26 1316.24 Q153.26 1309.11 151.431 1305.57 Q149.626 1302.01 145.992 1302.01 M145.992 1298.3 Q151.802 1298.3 154.857 1302.91 Q157.936 1307.49 157.936 1316.24 Q157.936 1324.97 154.857 1329.58 Q151.802 1334.16 145.992 1334.16 Q140.181 1334.16 137.103 1329.58 Q134.047 1324.97 134.047 1316.24 Q134.047 1307.49 137.103 1302.91 Q140.181 1298.3 145.992 1298.3 Z\" fill=\"#000000\" fill-rule=\"nonzero\" fill-opacity=\"1\" /><path clip-path=\"url(#clip070)\" d=\"M51.9875 1047.44 L81.6633 1047.44 L81.6633 1051.38 L51.9875 1051.38 L51.9875 1047.44 Z\" fill=\"#000000\" fill-rule=\"nonzero\" fill-opacity=\"1\" /><path clip-path=\"url(#clip070)\" d=\"M92.566 1060.34 L100.205 1060.34 L100.205 1033.97 L91.8947 1035.64 L91.8947 1031.38 L100.159 1029.71 L104.834 1029.71 L104.834 1060.34 L112.473 1060.34 L112.473 1064.27 L92.566 1064.27 L92.566 1060.34 Z\" fill=\"#000000\" fill-rule=\"nonzero\" fill-opacity=\"1\" /><path clip-path=\"url(#clip070)\" d=\"M121.918 1058.39 L126.802 1058.39 L126.802 1064.27 L121.918 1064.27 L121.918 1058.39 Z\" fill=\"#000000\" fill-rule=\"nonzero\" fill-opacity=\"1\" /><path clip-path=\"url(#clip070)\" d=\"M137.033 1029.71 L155.39 1029.71 L155.39 1033.65 L141.316 1033.65 L141.316 1042.12 Q142.334 1041.77 143.353 1041.61 Q144.371 1041.43 145.39 1041.43 Q151.177 1041.43 154.556 1044.6 Q157.936 1047.77 157.936 1053.18 Q157.936 1058.76 154.464 1061.86 Q150.992 1064.94 144.672 1064.94 Q142.496 1064.94 140.228 1064.57 Q137.982 1064.2 135.575 1063.46 L135.575 1058.76 Q137.658 1059.9 139.881 1060.45 Q142.103 1061.01 144.58 1061.01 Q148.584 1061.01 150.922 1058.9 Q153.26 1056.8 153.26 1053.18 Q153.26 1049.57 150.922 1047.47 Q148.584 1045.36 144.58 1045.36 Q142.705 1045.36 140.83 1045.78 Q138.978 1046.19 137.033 1047.07 L137.033 1029.71 Z\" fill=\"#000000\" fill-rule=\"nonzero\" fill-opacity=\"1\" /><path clip-path=\"url(#clip070)\" d=\"M50.9921 778.227 L80.6679 778.227 L80.6679 782.163 L50.9921 782.163 L50.9921 778.227 Z\" fill=\"#000000\" fill-rule=\"nonzero\" fill-opacity=\"1\" /><path clip-path=\"url(#clip070)\" d=\"M91.5706 791.121 L99.2095 791.121 L99.2095 764.755 L90.8993 766.422 L90.8993 762.163 L99.1632 760.496 L103.839 760.496 L103.839 791.121 L111.478 791.121 L111.478 795.056 L91.5706 795.056 L91.5706 791.121 Z\" fill=\"#000000\" fill-rule=\"nonzero\" fill-opacity=\"1\" /><path clip-path=\"url(#clip070)\" d=\"M120.922 789.176 L125.807 789.176 L125.807 795.056 L120.922 795.056 L120.922 789.176 Z\" fill=\"#000000\" fill-rule=\"nonzero\" fill-opacity=\"1\" /><path clip-path=\"url(#clip070)\" d=\"M145.992 763.575 Q142.381 763.575 140.552 767.14 Q138.746 770.681 138.746 777.811 Q138.746 784.917 140.552 788.482 Q142.381 792.024 145.992 792.024 Q149.626 792.024 151.431 788.482 Q153.26 784.917 153.26 777.811 Q153.26 770.681 151.431 767.14 Q149.626 763.575 145.992 763.575 M145.992 759.871 Q151.802 759.871 154.857 764.478 Q157.936 769.061 157.936 777.811 Q157.936 786.538 154.857 791.144 Q151.802 795.727 145.992 795.727 Q140.181 795.727 137.103 791.144 Q134.047 786.538 134.047 777.811 Q134.047 769.061 137.103 764.478 Q140.181 759.871 145.992 759.871 Z\" fill=\"#000000\" fill-rule=\"nonzero\" fill-opacity=\"1\" /><path clip-path=\"url(#clip070)\" d=\"M51.9875 509.011 L81.6633 509.011 L81.6633 512.946 L51.9875 512.946 L51.9875 509.011 Z\" fill=\"#000000\" fill-rule=\"nonzero\" fill-opacity=\"1\" /><path clip-path=\"url(#clip070)\" d=\"M101.756 494.359 Q98.1447 494.359 96.316 497.923 Q94.5104 501.465 94.5104 508.595 Q94.5104 515.701 96.316 519.266 Q98.1447 522.808 101.756 522.808 Q105.39 522.808 107.196 519.266 Q109.024 515.701 109.024 508.595 Q109.024 501.465 107.196 497.923 Q105.39 494.359 101.756 494.359 M101.756 490.655 Q107.566 490.655 110.621 495.261 Q113.7 499.845 113.7 508.595 Q113.7 517.321 110.621 521.928 Q107.566 526.511 101.756 526.511 Q95.9456 526.511 92.8669 521.928 Q89.8114 517.321 89.8114 508.595 Q89.8114 499.845 92.8669 495.261 Q95.9456 490.655 101.756 490.655 Z\" fill=\"#000000\" fill-rule=\"nonzero\" fill-opacity=\"1\" /><path clip-path=\"url(#clip070)\" d=\"M121.918 519.96 L126.802 519.96 L126.802 525.84 L121.918 525.84 L121.918 519.96 Z\" fill=\"#000000\" fill-rule=\"nonzero\" fill-opacity=\"1\" /><path clip-path=\"url(#clip070)\" d=\"M137.033 491.28 L155.39 491.28 L155.39 495.215 L141.316 495.215 L141.316 503.687 Q142.334 503.34 143.353 503.178 Q144.371 502.993 145.39 502.993 Q151.177 502.993 154.556 506.164 Q157.936 509.335 157.936 514.752 Q157.936 520.331 154.464 523.433 Q150.992 526.511 144.672 526.511 Q142.496 526.511 140.228 526.141 Q137.982 525.77 135.575 525.03 L135.575 520.331 Q137.658 521.465 139.881 522.02 Q142.103 522.576 144.58 522.576 Q148.584 522.576 150.922 520.47 Q153.26 518.363 153.26 514.752 Q153.26 511.141 150.922 509.034 Q148.584 506.928 144.58 506.928 Q142.705 506.928 140.83 507.345 Q138.978 507.761 137.033 508.641 L137.033 491.28 Z\" fill=\"#000000\" fill-rule=\"nonzero\" fill-opacity=\"1\" /><path clip-path=\"url(#clip070)\" d=\"M100.76 225.142 Q97.1493 225.142 95.3206 228.707 Q93.515 232.249 93.515 239.378 Q93.515 246.485 95.3206 250.05 Q97.1493 253.591 100.76 253.591 Q104.395 253.591 106.2 250.05 Q108.029 246.485 108.029 239.378 Q108.029 232.249 106.2 228.707 Q104.395 225.142 100.76 225.142 M100.76 221.439 Q106.571 221.439 109.626 226.045 Q112.705 230.628 112.705 239.378 Q112.705 248.105 109.626 252.712 Q106.571 257.295 100.76 257.295 Q94.9502 257.295 91.8715 252.712 Q88.816 248.105 88.816 239.378 Q88.816 230.628 91.8715 226.045 Q94.9502 221.439 100.76 221.439 Z\" fill=\"#000000\" fill-rule=\"nonzero\" fill-opacity=\"1\" /><path clip-path=\"url(#clip070)\" d=\"M120.922 250.744 L125.807 250.744 L125.807 256.624 L120.922 256.624 L120.922 250.744 Z\" fill=\"#000000\" fill-rule=\"nonzero\" fill-opacity=\"1\" /><path clip-path=\"url(#clip070)\" d=\"M145.992 225.142 Q142.381 225.142 140.552 228.707 Q138.746 232.249 138.746 239.378 Q138.746 246.485 140.552 250.05 Q142.381 253.591 145.992 253.591 Q149.626 253.591 151.431 250.05 Q153.26 246.485 153.26 239.378 Q153.26 232.249 151.431 228.707 Q149.626 225.142 145.992 225.142 M145.992 221.439 Q151.802 221.439 154.857 226.045 Q157.936 230.628 157.936 239.378 Q157.936 248.105 154.857 252.712 Q151.802 257.295 145.992 257.295 Q140.181 257.295 137.103 252.712 Q134.047 248.105 134.047 239.378 Q134.047 230.628 137.103 226.045 Q140.181 221.439 145.992 221.439 Z\" fill=\"#000000\" fill-rule=\"nonzero\" fill-opacity=\"1\" /><polyline clip-path=\"url(#clip072)\" style=\"stroke:#009af9; stroke-linecap:round; stroke-linejoin:round; stroke-width:4; stroke-opacity:1; fill:none\" points=\"255.035,87.9763 275.401,118.931 295.767,149.962 316.133,180.964 336.5,211.811 356.866,242.368 377.232,272.493 397.598,302.047 417.964,330.899 438.331,358.929 458.697,386.038 479.063,412.143 499.429,437.183 519.796,461.114 540.162,483.913 560.528,505.575 580.894,526.112 601.261,545.556 621.627,563.953 641.993,581.364 662.359,597.863 682.725,613.533 703.092,628.466 723.458,642.755 743.824,656.494 764.19,669.775 784.557,682.687 804.923,695.309 825.289,707.716 845.655,719.97 866.021,732.129 886.388,744.236 906.754,756.329 927.12,768.436 947.486,780.575 967.853,792.76 988.219,804.996 1008.59,817.285 1028.95,829.622 1049.32,841.999 1069.68,854.407 1090.05,866.833 1110.42,879.264 1130.78,891.685 1151.15,904.083 1171.51,916.442 1191.88,928.751 1212.25,940.997 1232.61,953.168 1252.98,965.255 1273.35,977.251 1293.71,989.147 1314.08,1000.94 1334.44,1012.62 1354.81,1024.19 1375.18,1035.65 1395.54,1047 1415.91,1058.23 1436.28,1069.35 1456.64,1080.36 1477.01,1091.26 1497.37,1102.05 1517.74,1112.74 1538.11,1123.33 1558.47,1133.82 1578.84,1144.21 1599.21,1154.51 1619.57,1164.71 1639.94,1174.82 1660.3,1184.85 1680.67,1194.78 1701.04,1204.63 1721.4,1214.39 1741.77,1224.05 1762.14,1233.63 1782.5,1243.11 1802.87,1252.5 1823.23,1261.79 1843.6,1270.99 1863.97,1280.08 1884.33,1289.07 1904.7,1297.95 1925.07,1306.73 1945.43,1315.39 1965.8,1323.95 1986.16,1332.4 2006.53,1340.73 2026.9,1348.95 2047.26,1357.06 2067.63,1365.05 2087.99,1372.94 2108.36,1380.71 2128.73,1388.36 2149.09,1395.91 2169.46,1403.35 2189.83,1410.68 2210.19,1417.9 2230.56,1425.01 2250.92,1432.02 2271.29,1438.92 2291.66,1445.72 \"/>\n",
       "<path clip-path=\"url(#clip070)\" d=\"M1967.9 198.898 L2280.8 198.898 L2280.8 95.2176 L1967.9 95.2176  Z\" fill=\"#ffffff\" fill-rule=\"evenodd\" fill-opacity=\"1\"/>\n",
       "<polyline clip-path=\"url(#clip070)\" style=\"stroke:#000000; stroke-linecap:round; stroke-linejoin:round; stroke-width:4; stroke-opacity:1; fill:none\" points=\"1967.9,198.898 2280.8,198.898 2280.8,95.2176 1967.9,95.2176 1967.9,198.898 \"/>\n",
       "<polyline clip-path=\"url(#clip070)\" style=\"stroke:#009af9; stroke-linecap:round; stroke-linejoin:round; stroke-width:4; stroke-opacity:1; fill:none\" points=\"1991.89,147.058 2135.81,147.058 \"/>\n",
       "<path clip-path=\"url(#clip070)\" d=\"M2159.79 129.778 L2164.47 129.778 L2164.47 160.402 L2181.3 160.402 L2181.3 164.338 L2159.79 164.338 L2159.79 129.778 Z\" fill=\"#000000\" fill-rule=\"nonzero\" fill-opacity=\"1\" /><path clip-path=\"url(#clip070)\" d=\"M2195.23 141.398 Q2191.81 141.398 2189.82 144.083 Q2187.83 146.745 2187.83 151.398 Q2187.83 156.051 2189.79 158.736 Q2191.79 161.398 2195.23 161.398 Q2198.64 161.398 2200.63 158.713 Q2202.62 156.027 2202.62 151.398 Q2202.62 146.791 2200.63 144.106 Q2198.64 141.398 2195.23 141.398 M2195.23 137.787 Q2200.79 137.787 2203.96 141.398 Q2207.13 145.009 2207.13 151.398 Q2207.13 157.764 2203.96 161.398 Q2200.79 165.009 2195.23 165.009 Q2189.66 165.009 2186.48 161.398 Q2183.34 157.764 2183.34 151.398 Q2183.34 145.009 2186.48 141.398 Q2189.66 137.787 2195.23 137.787 Z\" fill=\"#000000\" fill-rule=\"nonzero\" fill-opacity=\"1\" /><path clip-path=\"url(#clip070)\" d=\"M2230.72 139.176 L2230.72 143.203 Q2228.91 142.277 2226.97 141.815 Q2225.03 141.352 2222.94 141.352 Q2219.77 141.352 2218.17 142.324 Q2216.6 143.296 2216.6 145.24 Q2216.6 146.722 2217.73 147.578 Q2218.87 148.412 2222.29 149.176 L2223.75 149.5 Q2228.29 150.472 2230.19 152.254 Q2232.11 154.014 2232.11 157.185 Q2232.11 160.796 2229.24 162.902 Q2226.39 165.009 2221.39 165.009 Q2219.31 165.009 2217.04 164.592 Q2214.79 164.199 2212.29 163.388 L2212.29 158.99 Q2214.66 160.217 2216.95 160.842 Q2219.24 161.444 2221.48 161.444 Q2224.49 161.444 2226.11 160.426 Q2227.73 159.384 2227.73 157.509 Q2227.73 155.773 2226.55 154.847 Q2225.4 153.921 2221.44 153.064 L2219.96 152.717 Q2216 151.884 2214.24 150.171 Q2212.48 148.435 2212.48 145.426 Q2212.48 141.768 2215.07 139.778 Q2217.67 137.787 2222.43 137.787 Q2224.79 137.787 2226.88 138.134 Q2228.96 138.481 2230.72 139.176 Z\" fill=\"#000000\" fill-rule=\"nonzero\" fill-opacity=\"1\" /><path clip-path=\"url(#clip070)\" d=\"M2255.42 139.176 L2255.42 143.203 Q2253.61 142.277 2251.67 141.815 Q2249.73 141.352 2247.64 141.352 Q2244.47 141.352 2242.87 142.324 Q2241.3 143.296 2241.3 145.24 Q2241.3 146.722 2242.43 147.578 Q2243.57 148.412 2246.99 149.176 L2248.45 149.5 Q2252.99 150.472 2254.89 152.254 Q2256.81 154.014 2256.81 157.185 Q2256.81 160.796 2253.94 162.902 Q2251.09 165.009 2246.09 165.009 Q2244.01 165.009 2241.74 164.592 Q2239.49 164.199 2236.99 163.388 L2236.99 158.99 Q2239.35 160.217 2241.65 160.842 Q2243.94 161.444 2246.18 161.444 Q2249.19 161.444 2250.81 160.426 Q2252.43 159.384 2252.43 157.509 Q2252.43 155.773 2251.25 154.847 Q2250.1 153.921 2246.14 153.064 L2244.66 152.717 Q2240.7 151.884 2238.94 150.171 Q2237.18 148.435 2237.18 145.426 Q2237.18 141.768 2239.77 139.778 Q2242.36 137.787 2247.13 137.787 Q2249.49 137.787 2251.58 138.134 Q2253.66 138.481 2255.42 139.176 Z\" fill=\"#000000\" fill-rule=\"nonzero\" fill-opacity=\"1\" /></svg>\n"
      ]
     },
     "execution_count": 11,
     "metadata": {},
     "output_type": "execute_result"
    }
   ],
   "source": [
    "using Plots\n",
    "plot(eachindex(losses), log.(losses), label = \"Loss\")"
   ]
  },
  {
   "cell_type": "code",
   "execution_count": 12,
   "id": "f51b61b4",
   "metadata": {},
   "outputs": [
    {
     "data": {
      "image/png": "[encoded data removed]",
      "image/svg+xml": [
       "<?xml version=\"1.0\" encoding=\"utf-8\"?>\n",
       "<svg xmlns=\"http://www.w3.org/2000/svg\" xmlns:xlink=\"http://www.w3.org/1999/xlink\" width=\"600\" height=\"400\" viewBox=\"0 0 2400 1600\">\n",
       "<defs>\n",
       "  <clipPath id=\"clip110\">\n",
       "    <rect x=\"0\" y=\"0\" width=\"2400\" height=\"1600\"/>\n",
       "  </clipPath>\n",
       "</defs>\n",
       "<path clip-path=\"url(#clip110)\" d=\"M0 1600 L2400 1600 L2400 0 L0 0  Z\" fill=\"#ffffff\" fill-rule=\"evenodd\" fill-opacity=\"1\"/>\n",
       "<defs>\n",
       "  <clipPath id=\"clip111\">\n",
       "    <rect x=\"480\" y=\"0\" width=\"1681\" height=\"1600\"/>\n",
       "  </clipPath>\n",
       "</defs>\n",
       "<path clip-path=\"url(#clip110)\" d=\"M193.936 1486.45 L2352.76 1486.45 L2352.76 47.2441 L193.936 47.2441  Z\" fill=\"#ffffff\" fill-rule=\"evenodd\" fill-opacity=\"1\"/>\n",
       "<defs>\n",
       "  <clipPath id=\"clip112\">\n",
       "    <rect x=\"193\" y=\"47\" width=\"2160\" height=\"1440\"/>\n",
       "  </clipPath>\n",
       "</defs>\n",
       "<polyline clip-path=\"url(#clip112)\" style=\"stroke:#000000; stroke-linecap:round; stroke-linejoin:round; stroke-width:2; stroke-opacity:0.1; fill:none\" points=\"243.528,1486.45 243.528,47.2441 \"/>\n",
       "<polyline clip-path=\"url(#clip112)\" style=\"stroke:#000000; stroke-linecap:round; stroke-linejoin:round; stroke-width:2; stroke-opacity:0.1; fill:none\" points=\"818.845,1486.45 818.845,47.2441 \"/>\n",
       "<polyline clip-path=\"url(#clip112)\" style=\"stroke:#000000; stroke-linecap:round; stroke-linejoin:round; stroke-width:2; stroke-opacity:0.1; fill:none\" points=\"1394.16,1486.45 1394.16,47.2441 \"/>\n",
       "<polyline clip-path=\"url(#clip112)\" style=\"stroke:#000000; stroke-linecap:round; stroke-linejoin:round; stroke-width:2; stroke-opacity:0.1; fill:none\" points=\"1969.48,1486.45 1969.48,47.2441 \"/>\n",
       "<polyline clip-path=\"url(#clip112)\" style=\"stroke:#000000; stroke-linecap:round; stroke-linejoin:round; stroke-width:2; stroke-opacity:0.1; fill:none\" points=\"193.936,1413.44 2352.76,1413.44 \"/>\n",
       "<polyline clip-path=\"url(#clip112)\" style=\"stroke:#000000; stroke-linecap:round; stroke-linejoin:round; stroke-width:2; stroke-opacity:0.1; fill:none\" points=\"193.936,1187.65 2352.76,1187.65 \"/>\n",
       "<polyline clip-path=\"url(#clip112)\" style=\"stroke:#000000; stroke-linecap:round; stroke-linejoin:round; stroke-width:2; stroke-opacity:0.1; fill:none\" points=\"193.936,961.869 2352.76,961.869 \"/>\n",
       "<polyline clip-path=\"url(#clip112)\" style=\"stroke:#000000; stroke-linecap:round; stroke-linejoin:round; stroke-width:2; stroke-opacity:0.1; fill:none\" points=\"193.936,736.084 2352.76,736.084 \"/>\n",
       "<polyline clip-path=\"url(#clip112)\" style=\"stroke:#000000; stroke-linecap:round; stroke-linejoin:round; stroke-width:2; stroke-opacity:0.1; fill:none\" points=\"193.936,510.3 2352.76,510.3 \"/>\n",
       "<polyline clip-path=\"url(#clip112)\" style=\"stroke:#000000; stroke-linecap:round; stroke-linejoin:round; stroke-width:2; stroke-opacity:0.1; fill:none\" points=\"193.936,284.516 2352.76,284.516 \"/>\n",
       "<polyline clip-path=\"url(#clip112)\" style=\"stroke:#000000; stroke-linecap:round; stroke-linejoin:round; stroke-width:2; stroke-opacity:0.1; fill:none\" points=\"193.936,58.7318 2352.76,58.7318 \"/>\n",
       "<polyline clip-path=\"url(#clip110)\" style=\"stroke:#000000; stroke-linecap:round; stroke-linejoin:round; stroke-width:4; stroke-opacity:1; fill:none\" points=\"193.936,1486.45 2352.76,1486.45 \"/>\n",
       "<polyline clip-path=\"url(#clip110)\" style=\"stroke:#000000; stroke-linecap:round; stroke-linejoin:round; stroke-width:4; stroke-opacity:1; fill:none\" points=\"243.528,1486.45 243.528,1467.55 \"/>\n",
       "<polyline clip-path=\"url(#clip110)\" style=\"stroke:#000000; stroke-linecap:round; stroke-linejoin:round; stroke-width:4; stroke-opacity:1; fill:none\" points=\"818.845,1486.45 818.845,1467.55 \"/>\n",
       "<polyline clip-path=\"url(#clip110)\" style=\"stroke:#000000; stroke-linecap:round; stroke-linejoin:round; stroke-width:4; stroke-opacity:1; fill:none\" points=\"1394.16,1486.45 1394.16,1467.55 \"/>\n",
       "<polyline clip-path=\"url(#clip110)\" style=\"stroke:#000000; stroke-linecap:round; stroke-linejoin:round; stroke-width:4; stroke-opacity:1; fill:none\" points=\"1969.48,1486.45 1969.48,1467.55 \"/>\n",
       "<path clip-path=\"url(#clip110)\" d=\"M243.528 1517.37 Q239.917 1517.37 238.089 1520.93 Q236.283 1524.47 236.283 1531.6 Q236.283 1538.71 238.089 1542.27 Q239.917 1545.82 243.528 1545.82 Q247.163 1545.82 248.968 1542.27 Q250.797 1538.71 250.797 1531.6 Q250.797 1524.47 248.968 1520.93 Q247.163 1517.37 243.528 1517.37 M243.528 1513.66 Q249.338 1513.66 252.394 1518.27 Q255.473 1522.85 255.473 1531.6 Q255.473 1540.33 252.394 1544.94 Q249.338 1549.52 243.528 1549.52 Q237.718 1549.52 234.639 1544.94 Q231.584 1540.33 231.584 1531.6 Q231.584 1522.85 234.639 1518.27 Q237.718 1513.66 243.528 1513.66 Z\" fill=\"#000000\" fill-rule=\"nonzero\" fill-opacity=\"1\" /><path clip-path=\"url(#clip110)\" d=\"M793.545 1514.29 L811.901 1514.29 L811.901 1518.22 L797.827 1518.22 L797.827 1526.7 Q798.846 1526.35 799.864 1526.19 Q800.883 1526 801.901 1526 Q807.688 1526 811.068 1529.17 Q814.447 1532.34 814.447 1537.76 Q814.447 1543.34 810.975 1546.44 Q807.503 1549.52 801.183 1549.52 Q799.008 1549.52 796.739 1549.15 Q794.494 1548.78 792.086 1548.04 L792.086 1543.34 Q794.17 1544.47 796.392 1545.03 Q798.614 1545.58 801.091 1545.58 Q805.096 1545.58 807.433 1543.48 Q809.771 1541.37 809.771 1537.76 Q809.771 1534.15 807.433 1532.04 Q805.096 1529.94 801.091 1529.94 Q799.216 1529.94 797.341 1530.35 Q795.489 1530.77 793.545 1531.65 L793.545 1514.29 Z\" fill=\"#000000\" fill-rule=\"nonzero\" fill-opacity=\"1\" /><path clip-path=\"url(#clip110)\" d=\"M833.66 1517.37 Q830.049 1517.37 828.22 1520.93 Q826.415 1524.47 826.415 1531.6 Q826.415 1538.71 828.22 1542.27 Q830.049 1545.82 833.66 1545.82 Q837.294 1545.82 839.1 1542.27 Q840.929 1538.71 840.929 1531.6 Q840.929 1524.47 839.1 1520.93 Q837.294 1517.37 833.66 1517.37 M833.66 1513.66 Q839.47 1513.66 842.526 1518.27 Q845.605 1522.85 845.605 1531.6 Q845.605 1540.33 842.526 1544.94 Q839.47 1549.52 833.66 1549.52 Q827.85 1549.52 824.771 1544.94 Q821.716 1540.33 821.716 1531.6 Q821.716 1522.85 824.771 1518.27 Q827.85 1513.66 833.66 1513.66 Z\" fill=\"#000000\" fill-rule=\"nonzero\" fill-opacity=\"1\" /><path clip-path=\"url(#clip110)\" d=\"M1353.77 1544.91 L1361.41 1544.91 L1361.41 1518.55 L1353.1 1520.21 L1353.1 1515.95 L1361.36 1514.29 L1366.04 1514.29 L1366.04 1544.91 L1373.68 1544.91 L1373.68 1548.85 L1353.77 1548.85 L1353.77 1544.91 Z\" fill=\"#000000\" fill-rule=\"nonzero\" fill-opacity=\"1\" /><path clip-path=\"url(#clip110)\" d=\"M1393.12 1517.37 Q1389.51 1517.37 1387.68 1520.93 Q1385.88 1524.47 1385.88 1531.6 Q1385.88 1538.71 1387.68 1542.27 Q1389.51 1545.82 1393.12 1545.82 Q1396.76 1545.82 1398.56 1542.27 Q1400.39 1538.71 1400.39 1531.6 Q1400.39 1524.47 1398.56 1520.93 Q1396.76 1517.37 1393.12 1517.37 M1393.12 1513.66 Q1398.93 1513.66 1401.99 1518.27 Q1405.07 1522.85 1405.07 1531.6 Q1405.07 1540.33 1401.99 1544.94 Q1398.93 1549.52 1393.12 1549.52 Q1387.31 1549.52 1384.23 1544.94 Q1381.18 1540.33 1381.18 1531.6 Q1381.18 1522.85 1384.23 1518.27 Q1387.31 1513.66 1393.12 1513.66 Z\" fill=\"#000000\" fill-rule=\"nonzero\" fill-opacity=\"1\" /><path clip-path=\"url(#clip110)\" d=\"M1423.28 1517.37 Q1419.67 1517.37 1417.84 1520.93 Q1416.04 1524.47 1416.04 1531.6 Q1416.04 1538.71 1417.84 1542.27 Q1419.67 1545.82 1423.28 1545.82 Q1426.92 1545.82 1428.72 1542.27 Q1430.55 1538.71 1430.55 1531.6 Q1430.55 1524.47 1428.72 1520.93 Q1426.92 1517.37 1423.28 1517.37 M1423.28 1513.66 Q1429.09 1513.66 1432.15 1518.27 Q1435.23 1522.85 1435.23 1531.6 Q1435.23 1540.33 1432.15 1544.94 Q1429.09 1549.52 1423.28 1549.52 Q1417.47 1549.52 1414.39 1544.94 Q1411.34 1540.33 1411.34 1531.6 Q1411.34 1522.85 1414.39 1518.27 Q1417.47 1513.66 1423.28 1513.66 Z\" fill=\"#000000\" fill-rule=\"nonzero\" fill-opacity=\"1\" /><path clip-path=\"url(#clip110)\" d=\"M1929.09 1544.91 L1936.73 1544.91 L1936.73 1518.55 L1928.42 1520.21 L1928.42 1515.95 L1936.68 1514.29 L1941.35 1514.29 L1941.35 1544.91 L1948.99 1544.91 L1948.99 1548.85 L1929.09 1548.85 L1929.09 1544.91 Z\" fill=\"#000000\" fill-rule=\"nonzero\" fill-opacity=\"1\" /><path clip-path=\"url(#clip110)\" d=\"M1958.48 1514.29 L1976.84 1514.29 L1976.84 1518.22 L1962.77 1518.22 L1962.77 1526.7 Q1963.79 1526.35 1964.8 1526.19 Q1965.82 1526 1966.84 1526 Q1972.63 1526 1976.01 1529.17 Q1979.39 1532.34 1979.39 1537.76 Q1979.39 1543.34 1975.91 1546.44 Q1972.44 1549.52 1966.12 1549.52 Q1963.95 1549.52 1961.68 1549.15 Q1959.43 1548.78 1957.03 1548.04 L1957.03 1543.34 Q1959.11 1544.47 1961.33 1545.03 Q1963.55 1545.58 1966.03 1545.58 Q1970.04 1545.58 1972.37 1543.48 Q1974.71 1541.37 1974.71 1537.76 Q1974.71 1534.15 1972.37 1532.04 Q1970.04 1529.94 1966.03 1529.94 Q1964.16 1529.94 1962.28 1530.35 Q1960.43 1530.77 1958.48 1531.65 L1958.48 1514.29 Z\" fill=\"#000000\" fill-rule=\"nonzero\" fill-opacity=\"1\" /><path clip-path=\"url(#clip110)\" d=\"M1998.6 1517.37 Q1994.99 1517.37 1993.16 1520.93 Q1991.35 1524.47 1991.35 1531.6 Q1991.35 1538.71 1993.16 1542.27 Q1994.99 1545.82 1998.6 1545.82 Q2002.23 1545.82 2004.04 1542.27 Q2005.87 1538.71 2005.87 1531.6 Q2005.87 1524.47 2004.04 1520.93 Q2002.23 1517.37 1998.6 1517.37 M1998.6 1513.66 Q2004.41 1513.66 2007.47 1518.27 Q2010.54 1522.85 2010.54 1531.6 Q2010.54 1540.33 2007.47 1544.94 Q2004.41 1549.52 1998.6 1549.52 Q1992.79 1549.52 1989.71 1544.94 Q1986.66 1540.33 1986.66 1531.6 Q1986.66 1522.85 1989.71 1518.27 Q1992.79 1513.66 1998.6 1513.66 Z\" fill=\"#000000\" fill-rule=\"nonzero\" fill-opacity=\"1\" /><polyline clip-path=\"url(#clip110)\" style=\"stroke:#000000; stroke-linecap:round; stroke-linejoin:round; stroke-width:4; stroke-opacity:1; fill:none\" points=\"193.936,1486.45 193.936,47.2441 \"/>\n",
       "<polyline clip-path=\"url(#clip110)\" style=\"stroke:#000000; stroke-linecap:round; stroke-linejoin:round; stroke-width:4; stroke-opacity:1; fill:none\" points=\"193.936,1413.44 212.834,1413.44 \"/>\n",
       "<polyline clip-path=\"url(#clip110)\" style=\"stroke:#000000; stroke-linecap:round; stroke-linejoin:round; stroke-width:4; stroke-opacity:1; fill:none\" points=\"193.936,1187.65 212.834,1187.65 \"/>\n",
       "<polyline clip-path=\"url(#clip110)\" style=\"stroke:#000000; stroke-linecap:round; stroke-linejoin:round; stroke-width:4; stroke-opacity:1; fill:none\" points=\"193.936,961.869 212.834,961.869 \"/>\n",
       "<polyline clip-path=\"url(#clip110)\" style=\"stroke:#000000; stroke-linecap:round; stroke-linejoin:round; stroke-width:4; stroke-opacity:1; fill:none\" points=\"193.936,736.084 212.834,736.084 \"/>\n",
       "<polyline clip-path=\"url(#clip110)\" style=\"stroke:#000000; stroke-linecap:round; stroke-linejoin:round; stroke-width:4; stroke-opacity:1; fill:none\" points=\"193.936,510.3 212.834,510.3 \"/>\n",
       "<polyline clip-path=\"url(#clip110)\" style=\"stroke:#000000; stroke-linecap:round; stroke-linejoin:round; stroke-width:4; stroke-opacity:1; fill:none\" points=\"193.936,284.516 212.834,284.516 \"/>\n",
       "<polyline clip-path=\"url(#clip110)\" style=\"stroke:#000000; stroke-linecap:round; stroke-linejoin:round; stroke-width:4; stroke-opacity:1; fill:none\" points=\"193.936,58.7318 212.834,58.7318 \"/>\n",
       "<path clip-path=\"url(#clip110)\" d=\"M51.9875 1413.89 L81.6633 1413.89 L81.6633 1417.82 L51.9875 1417.82 L51.9875 1413.89 Z\" fill=\"#000000\" fill-rule=\"nonzero\" fill-opacity=\"1\" /><path clip-path=\"url(#clip110)\" d=\"M92.566 1426.78 L100.205 1426.78 L100.205 1400.42 L91.8947 1402.08 L91.8947 1397.82 L100.159 1396.16 L104.834 1396.16 L104.834 1426.78 L112.473 1426.78 L112.473 1430.72 L92.566 1430.72 L92.566 1426.78 Z\" fill=\"#000000\" fill-rule=\"nonzero\" fill-opacity=\"1\" /><path clip-path=\"url(#clip110)\" d=\"M121.918 1424.84 L126.802 1424.84 L126.802 1430.72 L121.918 1430.72 L121.918 1424.84 Z\" fill=\"#000000\" fill-rule=\"nonzero\" fill-opacity=\"1\" /><path clip-path=\"url(#clip110)\" d=\"M137.033 1396.16 L155.39 1396.16 L155.39 1400.09 L141.316 1400.09 L141.316 1408.56 Q142.334 1408.22 143.353 1408.06 Q144.371 1407.87 145.39 1407.87 Q151.177 1407.87 154.556 1411.04 Q157.936 1414.21 157.936 1419.63 Q157.936 1425.21 154.464 1428.31 Q150.992 1431.39 144.672 1431.39 Q142.496 1431.39 140.228 1431.02 Q137.982 1430.65 135.575 1429.91 L135.575 1425.21 Q137.658 1426.34 139.881 1426.9 Q142.103 1427.45 144.58 1427.45 Q148.584 1427.45 150.922 1425.35 Q153.26 1423.24 153.26 1419.63 Q153.26 1416.02 150.922 1413.91 Q148.584 1411.8 144.58 1411.8 Q142.705 1411.8 140.83 1412.22 Q138.978 1412.64 137.033 1413.52 L137.033 1396.16 Z\" fill=\"#000000\" fill-rule=\"nonzero\" fill-opacity=\"1\" /><path clip-path=\"url(#clip110)\" d=\"M50.9921 1188.1 L80.6679 1188.1 L80.6679 1192.04 L50.9921 1192.04 L50.9921 1188.1 Z\" fill=\"#000000\" fill-rule=\"nonzero\" fill-opacity=\"1\" /><path clip-path=\"url(#clip110)\" d=\"M91.5706 1201 L99.2095 1201 L99.2095 1174.63 L90.8993 1176.3 L90.8993 1172.04 L99.1632 1170.37 L103.839 1170.37 L103.839 1201 L111.478 1201 L111.478 1204.93 L91.5706 1204.93 L91.5706 1201 Z\" fill=\"#000000\" fill-rule=\"nonzero\" fill-opacity=\"1\" /><path clip-path=\"url(#clip110)\" d=\"M120.922 1199.05 L125.807 1199.05 L125.807 1204.93 L120.922 1204.93 L120.922 1199.05 Z\" fill=\"#000000\" fill-rule=\"nonzero\" fill-opacity=\"1\" /><path clip-path=\"url(#clip110)\" d=\"M145.992 1173.45 Q142.381 1173.45 140.552 1177.02 Q138.746 1180.56 138.746 1187.69 Q138.746 1194.79 140.552 1198.36 Q142.381 1201.9 145.992 1201.9 Q149.626 1201.9 151.431 1198.36 Q153.26 1194.79 153.26 1187.69 Q153.26 1180.56 151.431 1177.02 Q149.626 1173.45 145.992 1173.45 M145.992 1169.75 Q151.802 1169.75 154.857 1174.35 Q157.936 1178.94 157.936 1187.69 Q157.936 1196.41 154.857 1201.02 Q151.802 1205.6 145.992 1205.6 Q140.181 1205.6 137.103 1201.02 Q134.047 1196.41 134.047 1187.69 Q134.047 1178.94 137.103 1174.35 Q140.181 1169.75 145.992 1169.75 Z\" fill=\"#000000\" fill-rule=\"nonzero\" fill-opacity=\"1\" /><path clip-path=\"url(#clip110)\" d=\"M51.9875 962.32 L81.6633 962.32 L81.6633 966.255 L51.9875 966.255 L51.9875 962.32 Z\" fill=\"#000000\" fill-rule=\"nonzero\" fill-opacity=\"1\" /><path clip-path=\"url(#clip110)\" d=\"M101.756 947.667 Q98.1447 947.667 96.316 951.232 Q94.5104 954.774 94.5104 961.903 Q94.5104 969.01 96.316 972.574 Q98.1447 976.116 101.756 976.116 Q105.39 976.116 107.196 972.574 Q109.024 969.01 109.024 961.903 Q109.024 954.774 107.196 951.232 Q105.39 947.667 101.756 947.667 M101.756 943.964 Q107.566 943.964 110.621 948.57 Q113.7 953.153 113.7 961.903 Q113.7 970.63 110.621 975.237 Q107.566 979.82 101.756 979.82 Q95.9456 979.82 92.8669 975.237 Q89.8114 970.63 89.8114 961.903 Q89.8114 953.153 92.8669 948.57 Q95.9456 943.964 101.756 943.964 Z\" fill=\"#000000\" fill-rule=\"nonzero\" fill-opacity=\"1\" /><path clip-path=\"url(#clip110)\" d=\"M121.918 973.269 L126.802 973.269 L126.802 979.149 L121.918 979.149 L121.918 973.269 Z\" fill=\"#000000\" fill-rule=\"nonzero\" fill-opacity=\"1\" /><path clip-path=\"url(#clip110)\" d=\"M137.033 944.589 L155.39 944.589 L155.39 948.524 L141.316 948.524 L141.316 956.996 Q142.334 956.649 143.353 956.487 Q144.371 956.301 145.39 956.301 Q151.177 956.301 154.556 959.473 Q157.936 962.644 157.936 968.061 Q157.936 973.639 154.464 976.741 Q150.992 979.82 144.672 979.82 Q142.496 979.82 140.228 979.449 Q137.982 979.079 135.575 978.338 L135.575 973.639 Q137.658 974.774 139.881 975.329 Q142.103 975.885 144.58 975.885 Q148.584 975.885 150.922 973.778 Q153.26 971.672 153.26 968.061 Q153.26 964.45 150.922 962.343 Q148.584 960.237 144.58 960.237 Q142.705 960.237 140.83 960.653 Q138.978 961.07 137.033 961.95 L137.033 944.589 Z\" fill=\"#000000\" fill-rule=\"nonzero\" fill-opacity=\"1\" /><path clip-path=\"url(#clip110)\" d=\"M100.76 721.883 Q97.1493 721.883 95.3206 725.448 Q93.515 728.989 93.515 736.119 Q93.515 743.226 95.3206 746.79 Q97.1493 750.332 100.76 750.332 Q104.395 750.332 106.2 746.79 Q108.029 743.226 108.029 736.119 Q108.029 728.989 106.2 725.448 Q104.395 721.883 100.76 721.883 M100.76 718.179 Q106.571 718.179 109.626 722.786 Q112.705 727.369 112.705 736.119 Q112.705 744.846 109.626 749.452 Q106.571 754.036 100.76 754.036 Q94.9502 754.036 91.8715 749.452 Q88.816 744.846 88.816 736.119 Q88.816 727.369 91.8715 722.786 Q94.9502 718.179 100.76 718.179 Z\" fill=\"#000000\" fill-rule=\"nonzero\" fill-opacity=\"1\" /><path clip-path=\"url(#clip110)\" d=\"M120.922 747.485 L125.807 747.485 L125.807 753.364 L120.922 753.364 L120.922 747.485 Z\" fill=\"#000000\" fill-rule=\"nonzero\" fill-opacity=\"1\" /><path clip-path=\"url(#clip110)\" d=\"M145.992 721.883 Q142.381 721.883 140.552 725.448 Q138.746 728.989 138.746 736.119 Q138.746 743.226 140.552 746.79 Q142.381 750.332 145.992 750.332 Q149.626 750.332 151.431 746.79 Q153.26 743.226 153.26 736.119 Q153.26 728.989 151.431 725.448 Q149.626 721.883 145.992 721.883 M145.992 718.179 Q151.802 718.179 154.857 722.786 Q157.936 727.369 157.936 736.119 Q157.936 744.846 154.857 749.452 Q151.802 754.036 145.992 754.036 Q140.181 754.036 137.103 749.452 Q134.047 744.846 134.047 736.119 Q134.047 727.369 137.103 722.786 Q140.181 718.179 145.992 718.179 Z\" fill=\"#000000\" fill-rule=\"nonzero\" fill-opacity=\"1\" /><path clip-path=\"url(#clip110)\" d=\"M101.756 496.099 Q98.1447 496.099 96.316 499.664 Q94.5104 503.205 94.5104 510.335 Q94.5104 517.441 96.316 521.006 Q98.1447 524.548 101.756 524.548 Q105.39 524.548 107.196 521.006 Q109.024 517.441 109.024 510.335 Q109.024 503.205 107.196 499.664 Q105.39 496.099 101.756 496.099 M101.756 492.395 Q107.566 492.395 110.621 497.002 Q113.7 501.585 113.7 510.335 Q113.7 519.062 110.621 523.668 Q107.566 528.251 101.756 528.251 Q95.9456 528.251 92.8669 523.668 Q89.8114 519.062 89.8114 510.335 Q89.8114 501.585 92.8669 497.002 Q95.9456 492.395 101.756 492.395 Z\" fill=\"#000000\" fill-rule=\"nonzero\" fill-opacity=\"1\" /><path clip-path=\"url(#clip110)\" d=\"M121.918 521.701 L126.802 521.701 L126.802 527.58 L121.918 527.58 L121.918 521.701 Z\" fill=\"#000000\" fill-rule=\"nonzero\" fill-opacity=\"1\" /><path clip-path=\"url(#clip110)\" d=\"M137.033 493.02 L155.39 493.02 L155.39 496.955 L141.316 496.955 L141.316 505.427 Q142.334 505.08 143.353 504.918 Q144.371 504.733 145.39 504.733 Q151.177 504.733 154.556 507.904 Q157.936 511.076 157.936 516.492 Q157.936 522.071 154.464 525.173 Q150.992 528.251 144.672 528.251 Q142.496 528.251 140.228 527.881 Q137.982 527.511 135.575 526.77 L135.575 522.071 Q137.658 523.205 139.881 523.761 Q142.103 524.316 144.58 524.316 Q148.584 524.316 150.922 522.21 Q153.26 520.103 153.26 516.492 Q153.26 512.881 150.922 510.775 Q148.584 508.668 144.58 508.668 Q142.705 508.668 140.83 509.085 Q138.978 509.502 137.033 510.381 L137.033 493.02 Z\" fill=\"#000000\" fill-rule=\"nonzero\" fill-opacity=\"1\" /><path clip-path=\"url(#clip110)\" d=\"M91.5706 297.861 L99.2095 297.861 L99.2095 271.495 L90.8993 273.162 L90.8993 268.903 L99.1632 267.236 L103.839 267.236 L103.839 297.861 L111.478 297.861 L111.478 301.796 L91.5706 301.796 L91.5706 297.861 Z\" fill=\"#000000\" fill-rule=\"nonzero\" fill-opacity=\"1\" /><path clip-path=\"url(#clip110)\" d=\"M120.922 295.916 L125.807 295.916 L125.807 301.796 L120.922 301.796 L120.922 295.916 Z\" fill=\"#000000\" fill-rule=\"nonzero\" fill-opacity=\"1\" /><path clip-path=\"url(#clip110)\" d=\"M145.992 270.315 Q142.381 270.315 140.552 273.879 Q138.746 277.421 138.746 284.551 Q138.746 291.657 140.552 295.222 Q142.381 298.764 145.992 298.764 Q149.626 298.764 151.431 295.222 Q153.26 291.657 153.26 284.551 Q153.26 277.421 151.431 273.879 Q149.626 270.315 145.992 270.315 M145.992 266.611 Q151.802 266.611 154.857 271.217 Q157.936 275.801 157.936 284.551 Q157.936 293.277 154.857 297.884 Q151.802 302.467 145.992 302.467 Q140.181 302.467 137.103 297.884 Q134.047 293.277 134.047 284.551 Q134.047 275.801 137.103 271.217 Q140.181 266.611 145.992 266.611 Z\" fill=\"#000000\" fill-rule=\"nonzero\" fill-opacity=\"1\" /><path clip-path=\"url(#clip110)\" d=\"M92.566 72.0766 L100.205 72.0766 L100.205 45.711 L91.8947 47.3776 L91.8947 43.1184 L100.159 41.4518 L104.834 41.4518 L104.834 72.0766 L112.473 72.0766 L112.473 76.0118 L92.566 76.0118 L92.566 72.0766 Z\" fill=\"#000000\" fill-rule=\"nonzero\" fill-opacity=\"1\" /><path clip-path=\"url(#clip110)\" d=\"M121.918 70.1322 L126.802 70.1322 L126.802 76.0118 L121.918 76.0118 L121.918 70.1322 Z\" fill=\"#000000\" fill-rule=\"nonzero\" fill-opacity=\"1\" /><path clip-path=\"url(#clip110)\" d=\"M137.033 41.4518 L155.39 41.4518 L155.39 45.3869 L141.316 45.3869 L141.316 53.8591 Q142.334 53.5119 143.353 53.3498 Q144.371 53.1647 145.39 53.1647 Q151.177 53.1647 154.556 56.3359 Q157.936 59.5072 157.936 64.9238 Q157.936 70.5025 154.464 73.6044 Q150.992 76.683 144.672 76.683 Q142.496 76.683 140.228 76.3127 Q137.982 75.9423 135.575 75.2016 L135.575 70.5025 Q137.658 71.6368 139.881 72.1923 Q142.103 72.7479 144.58 72.7479 Q148.584 72.7479 150.922 70.6414 Q153.26 68.5349 153.26 64.9238 Q153.26 61.3128 150.922 59.2063 Q148.584 57.0998 144.58 57.0998 Q142.705 57.0998 140.83 57.5165 Q138.978 57.9331 137.033 58.8128 L137.033 41.4518 Z\" fill=\"#000000\" fill-rule=\"nonzero\" fill-opacity=\"1\" /><polyline clip-path=\"url(#clip112)\" style=\"stroke:#009af9; stroke-linecap:round; stroke-linejoin:round; stroke-width:4; stroke-opacity:1; fill:none\" points=\"255.035,1187.65 266.541,1187.65 278.047,1187.65 289.554,1187.65 301.06,1187.65 312.566,1187.65 324.073,1187.65 335.579,1187.65 347.085,1187.65 358.592,1187.65 370.098,1187.65 381.604,1187.65 393.111,1187.65 404.617,1187.65 416.123,1187.65 427.63,1187.65 439.136,1187.65 450.642,1187.65 462.149,1187.65 473.655,1187.65 485.162,1187.65 496.668,1187.65 508.174,1187.65 519.681,1187.65 531.187,1187.65 542.693,1187.65 554.2,1187.65 565.706,1187.65 577.212,1187.65 588.719,1187.65 600.225,1187.65 611.731,1187.65 623.238,1187.65 634.744,1187.65 646.25,1187.65 657.757,1187.65 669.263,1187.65 680.769,1187.65 692.276,1187.65 703.782,1187.65 715.288,1187.65 726.795,1187.65 738.301,1187.65 749.807,1187.65 761.314,1187.65 772.82,1187.65 784.326,1187.65 795.833,1187.65 807.339,1187.65 818.845,1187.65 830.352,1187.65 841.858,1187.65 853.364,1187.65 864.871,1187.65 876.377,1187.65 887.883,1187.65 899.39,1187.65 910.896,1187.65 922.403,1187.65 933.909,736.084 945.415,736.084 956.922,736.084 968.428,736.084 979.934,736.084 991.441,736.084 1002.95,736.084 1014.45,736.084 1025.96,736.084 1037.47,736.084 1048.97,736.084 1060.48,736.084 1071.98,736.084 1083.49,736.084 1095,736.084 1106.5,736.084 1118.01,736.084 1129.52,736.084 1141.02,736.084 1152.53,736.084 1164.04,736.084 1175.54,736.084 1187.05,736.084 1198.55,736.084 1210.06,736.084 1221.57,736.084 1233.07,736.084 1244.58,736.084 1256.09,736.084 1267.59,736.084 1279.1,736.084 1290.61,736.084 1302.11,736.084 1313.62,736.084 1325.12,736.084 1336.63,736.084 1348.14,736.084 1359.64,736.084 1371.15,736.084 1382.66,736.084 1394.16,736.084 1405.67,736.084 1417.18,736.084 1428.68,736.084 1440.19,736.084 1451.69,736.084 1463.2,736.084 1474.71,736.084 1486.21,736.084 1497.72,736.084 1509.23,736.084 1520.73,736.084 1532.24,736.084 1543.74,736.084 1555.25,736.084 1566.76,736.084 1578.26,736.084 1589.77,736.084 1601.28,736.084 1612.78,736.084 1624.29,736.084 1635.8,736.084 1647.3,736.084 1658.81,736.084 1670.31,736.084 1681.82,736.084 1693.33,736.084 1704.83,736.084 1716.34,736.084 1727.85,736.084 1739.35,736.084 1750.86,284.516 1762.37,284.516 1773.87,284.516 1785.38,284.516 1796.88,284.516 1808.39,284.516 1819.9,284.516 1831.4,284.516 1842.91,284.516 1854.42,284.516 1865.92,284.516 1877.43,284.516 1888.94,284.516 1900.44,284.516 1911.95,284.516 1923.45,284.516 1934.96,284.516 1946.47,284.516 1957.97,284.516 1969.48,284.516 1980.99,284.516 1992.49,284.516 2004,284.516 2015.51,284.516 2027.01,284.516 2038.52,284.516 2050.02,284.516 2061.53,284.516 2073.04,284.516 2084.54,284.516 2096.05,284.516 2107.56,284.516 2119.06,284.516 2130.57,284.516 2142.07,284.516 2153.58,284.516 2165.09,284.516 2176.59,284.516 2188.1,284.516 2199.61,284.516 2211.11,284.516 2222.62,284.516 2234.13,284.516 2245.63,284.516 2257.14,284.516 2268.64,284.516 2280.15,284.516 2291.66,284.516 \"/>\n",
       "<polyline clip-path=\"url(#clip112)\" style=\"stroke:#e26f46; stroke-linecap:round; stroke-linejoin:round; stroke-width:4; stroke-opacity:1; fill:none\" points=\"255.035,1296.56 266.541,1132.96 278.047,1445.72 289.554,1162.45 301.06,880.306 312.566,1282.14 324.073,1402.37 335.579,1202.96 347.085,1088.54 358.592,1129.64 370.098,1227.48 381.604,1210.1 393.111,1237.77 404.617,1244.2 416.123,1284.54 427.63,1058.95 439.136,923.215 450.642,995.591 462.149,1267.5 473.655,1047.97 485.162,1133.37 496.668,1088.34 508.174,1337.84 519.681,1217.18 531.187,1283.62 542.693,1164.72 554.2,1246.75 565.706,1111.58 577.212,1223.79 588.719,1167.01 600.225,1208.36 611.731,1152.4 623.238,1281.83 634.744,1174.36 646.25,1017.7 657.757,1122.14 669.263,970.735 680.769,1006.3 692.276,1155.45 703.782,1138.36 715.288,1030.68 726.795,948.782 738.301,1164.48 749.807,853.996 761.314,978.185 772.82,1058.35 784.326,1156.59 795.833,1033.48 807.339,1090.66 818.845,1220.56 830.352,1175.04 841.858,1289.51 853.364,1160.16 864.871,1171.02 876.377,1046.12 887.883,954.427 899.39,1061.29 910.896,1166.56 922.403,999.949 933.909,670.052 945.415,551.947 956.922,258.052 968.428,752.474 979.934,808.44 991.441,704.771 1002.95,953.473 1014.45,686.498 1025.96,842.141 1037.47,544.409 1048.97,1007.54 1060.48,635.966 1071.98,916.121 1083.49,450.514 1095,795.87 1106.5,763.108 1118.01,688.737 1129.52,767.333 1141.02,539.103 1152.53,1039.16 1164.04,717.575 1175.54,851.951 1187.05,1037.5 1198.55,752.155 1210.06,592.209 1221.57,815.792 1233.07,889.312 1244.58,639.066 1256.09,872.858 1267.59,653.918 1279.1,717.092 1290.61,710.119 1302.11,623.183 1313.62,669.62 1325.12,810.322 1336.63,739.34 1348.14,963.228 1359.64,503.21 1371.15,802.428 1382.66,775.217 1394.16,951.421 1405.67,970.229 1417.18,776.333 1428.68,532.46 1440.19,568.94 1451.69,819.149 1463.2,785.828 1474.71,903.747 1486.21,596.142 1497.72,687.596 1509.23,1027.29 1520.73,871.704 1532.24,423.096 1543.74,862.734 1555.25,569.648 1566.76,579.583 1578.26,830.411 1589.77,746.585 1601.28,608.335 1612.78,450.794 1624.29,784.81 1635.8,672.666 1647.3,661.164 1658.81,496.624 1670.31,657.81 1681.82,995.271 1693.33,564.382 1704.83,409.105 1716.34,756.101 1727.85,557.895 1739.35,420.703 1750.86,270.621 1762.37,278.329 1773.87,111.626 1785.38,194.749 1796.88,393.906 1808.39,305.627 1819.9,467.758 1831.4,566.229 1842.91,429.633 1854.42,365.093 1865.92,438.647 1877.43,434.379 1888.94,393.276 1900.44,476.713 1911.95,470.622 1923.45,203.822 1934.96,238.163 1946.47,347.31 1957.97,175.411 1969.48,197.877 1980.99,328.987 1992.49,366.57 2004,132.259 2015.51,354.375 2027.01,87.9763 2038.52,461.598 2050.02,339.535 2061.53,463.739 2073.04,261.263 2084.54,179.917 2096.05,226.084 2107.56,469.253 2119.06,459.372 2130.57,254.203 2142.07,281.516 2153.58,425.48 2165.09,506.54 2176.59,404.014 2188.1,441.104 2199.61,437.179 2211.11,194.97 2222.62,89.1237 2234.13,370.913 2245.63,433.995 2257.14,290.16 2268.64,253.536 2280.15,218.276 2291.66,306.966 \"/>\n",
       "<path clip-path=\"url(#clip110)\" d=\"M265.897 250.738 L586.014 250.738 L586.014 95.2176 L265.897 95.2176  Z\" fill=\"#ffffff\" fill-rule=\"evenodd\" fill-opacity=\"1\"/>\n",
       "<polyline clip-path=\"url(#clip110)\" style=\"stroke:#000000; stroke-linecap:round; stroke-linejoin:round; stroke-width:4; stroke-opacity:1; fill:none\" points=\"265.897,250.738 586.014,250.738 586.014,95.2176 265.897,95.2176 265.897,250.738 \"/>\n",
       "<polyline clip-path=\"url(#clip110)\" style=\"stroke:#009af9; stroke-linecap:round; stroke-linejoin:round; stroke-width:4; stroke-opacity:1; fill:none\" points=\"289.884,147.058 433.805,147.058 \"/>\n",
       "<path clip-path=\"url(#clip110)\" d=\"M462.468 133.62 L462.468 160.495 L468.116 160.495 Q475.269 160.495 478.579 157.254 Q481.912 154.014 481.912 147.023 Q481.912 140.078 478.579 136.861 Q475.269 133.62 468.116 133.62 L462.468 133.62 M457.792 129.778 L467.398 129.778 Q477.444 129.778 482.143 133.967 Q486.843 138.134 486.843 147.023 Q486.843 155.958 482.12 160.148 Q477.398 164.338 467.398 164.338 L457.792 164.338 L457.792 129.778 Z\" fill=\"#000000\" fill-rule=\"nonzero\" fill-opacity=\"1\" /><path clip-path=\"url(#clip110)\" d=\"M505.893 151.305 Q500.731 151.305 498.741 152.486 Q496.75 153.666 496.75 156.514 Q496.75 158.782 498.231 160.125 Q499.736 161.444 502.305 161.444 Q505.847 161.444 507.977 158.944 Q510.129 156.421 510.129 152.254 L510.129 151.305 L505.893 151.305 M514.389 149.546 L514.389 164.338 L510.129 164.338 L510.129 160.402 Q508.671 162.763 506.495 163.898 Q504.319 165.009 501.171 165.009 Q497.19 165.009 494.829 162.787 Q492.491 160.541 492.491 156.791 Q492.491 152.416 495.407 150.194 Q498.347 147.972 504.157 147.972 L510.129 147.972 L510.129 147.555 Q510.129 144.615 508.185 143.018 Q506.264 141.398 502.768 141.398 Q500.546 141.398 498.44 141.93 Q496.333 142.463 494.389 143.527 L494.389 139.592 Q496.727 138.69 498.926 138.25 Q501.125 137.787 503.208 137.787 Q508.833 137.787 511.611 140.703 Q514.389 143.62 514.389 149.546 Z\" fill=\"#000000\" fill-rule=\"nonzero\" fill-opacity=\"1\" /><path clip-path=\"url(#clip110)\" d=\"M527.375 131.051 L527.375 138.412 L536.148 138.412 L536.148 141.722 L527.375 141.722 L527.375 155.796 Q527.375 158.967 528.231 159.87 Q529.111 160.773 531.773 160.773 L536.148 160.773 L536.148 164.338 L531.773 164.338 Q526.842 164.338 524.967 162.509 Q523.092 160.657 523.092 155.796 L523.092 141.722 L519.967 141.722 L519.967 138.412 L523.092 138.412 L523.092 131.051 L527.375 131.051 Z\" fill=\"#000000\" fill-rule=\"nonzero\" fill-opacity=\"1\" /><path clip-path=\"url(#clip110)\" d=\"M553.532 151.305 Q548.37 151.305 546.379 152.486 Q544.389 153.666 544.389 156.514 Q544.389 158.782 545.87 160.125 Q547.375 161.444 549.944 161.444 Q553.486 161.444 555.615 158.944 Q557.768 156.421 557.768 152.254 L557.768 151.305 L553.532 151.305 M562.027 149.546 L562.027 164.338 L557.768 164.338 L557.768 160.402 Q556.31 162.763 554.134 163.898 Q551.958 165.009 548.81 165.009 Q544.828 165.009 542.467 162.787 Q540.129 160.541 540.129 156.791 Q540.129 152.416 543.046 150.194 Q545.986 147.972 551.796 147.972 L557.768 147.972 L557.768 147.555 Q557.768 144.615 555.824 143.018 Q553.902 141.398 550.407 141.398 Q548.185 141.398 546.078 141.93 Q543.972 142.463 542.027 143.527 L542.027 139.592 Q544.365 138.69 546.564 138.25 Q548.763 137.787 550.847 137.787 Q556.472 137.787 559.25 140.703 Q562.027 143.62 562.027 149.546 Z\" fill=\"#000000\" fill-rule=\"nonzero\" fill-opacity=\"1\" /><polyline clip-path=\"url(#clip110)\" style=\"stroke:#e26f46; stroke-linecap:round; stroke-linejoin:round; stroke-width:4; stroke-opacity:1; fill:none\" points=\"289.884,198.898 433.805,198.898 \"/>\n",
       "<path clip-path=\"url(#clip110)\" d=\"M457.792 181.618 L477.653 181.618 L477.653 185.553 L462.468 185.553 L462.468 195.738 L476.171 195.738 L476.171 199.673 L462.468 199.673 L462.468 216.178 L457.792 216.178 L457.792 181.618 Z\" fill=\"#000000\" fill-rule=\"nonzero\" fill-opacity=\"1\" /><path clip-path=\"url(#clip110)\" d=\"M481.426 190.252 L485.685 190.252 L485.685 216.178 L481.426 216.178 L481.426 190.252 M481.426 180.159 L485.685 180.159 L485.685 185.553 L481.426 185.553 L481.426 180.159 Z\" fill=\"#000000\" fill-rule=\"nonzero\" fill-opacity=\"1\" /><path clip-path=\"url(#clip110)\" d=\"M498.81 182.891 L498.81 190.252 L507.583 190.252 L507.583 193.562 L498.81 193.562 L498.81 207.636 Q498.81 210.807 499.667 211.71 Q500.546 212.613 503.208 212.613 L507.583 212.613 L507.583 216.178 L503.208 216.178 Q498.278 216.178 496.403 214.349 Q494.528 212.497 494.528 207.636 L494.528 193.562 L491.403 193.562 L491.403 190.252 L494.528 190.252 L494.528 182.891 L498.81 182.891 Z\" fill=\"#000000\" fill-rule=\"nonzero\" fill-opacity=\"1\" /></svg>\n"
      ],
      "text/html": [
       "<?xml version=\"1.0\" encoding=\"utf-8\"?>\n",
       "<svg xmlns=\"http://www.w3.org/2000/svg\" xmlns:xlink=\"http://www.w3.org/1999/xlink\" width=\"600\" height=\"400\" viewBox=\"0 0 2400 1600\">\n",
       "<defs>\n",
       "  <clipPath id=\"clip160\">\n",
       "    <rect x=\"0\" y=\"0\" width=\"2400\" height=\"1600\"/>\n",
       "  </clipPath>\n",
       "</defs>\n",
       "<path clip-path=\"url(#clip160)\" d=\"M0 1600 L2400 1600 L2400 0 L0 0  Z\" fill=\"#ffffff\" fill-rule=\"evenodd\" fill-opacity=\"1\"/>\n",
       "<defs>\n",
       "  <clipPath id=\"clip161\">\n",
       "    <rect x=\"480\" y=\"0\" width=\"1681\" height=\"1600\"/>\n",
       "  </clipPath>\n",
       "</defs>\n",
       "<path clip-path=\"url(#clip160)\" d=\"M193.936 1486.45 L2352.76 1486.45 L2352.76 47.2441 L193.936 47.2441  Z\" fill=\"#ffffff\" fill-rule=\"evenodd\" fill-opacity=\"1\"/>\n",
       "<defs>\n",
       "  <clipPath id=\"clip162\">\n",
       "    <rect x=\"193\" y=\"47\" width=\"2160\" height=\"1440\"/>\n",
       "  </clipPath>\n",
       "</defs>\n",
       "<polyline clip-path=\"url(#clip162)\" style=\"stroke:#000000; stroke-linecap:round; stroke-linejoin:round; stroke-width:2; stroke-opacity:0.1; fill:none\" points=\"243.528,1486.45 243.528,47.2441 \"/>\n",
       "<polyline clip-path=\"url(#clip162)\" style=\"stroke:#000000; stroke-linecap:round; stroke-linejoin:round; stroke-width:2; stroke-opacity:0.1; fill:none\" points=\"818.845,1486.45 818.845,47.2441 \"/>\n",
       "<polyline clip-path=\"url(#clip162)\" style=\"stroke:#000000; stroke-linecap:round; stroke-linejoin:round; stroke-width:2; stroke-opacity:0.1; fill:none\" points=\"1394.16,1486.45 1394.16,47.2441 \"/>\n",
       "<polyline clip-path=\"url(#clip162)\" style=\"stroke:#000000; stroke-linecap:round; stroke-linejoin:round; stroke-width:2; stroke-opacity:0.1; fill:none\" points=\"1969.48,1486.45 1969.48,47.2441 \"/>\n",
       "<polyline clip-path=\"url(#clip162)\" style=\"stroke:#000000; stroke-linecap:round; stroke-linejoin:round; stroke-width:2; stroke-opacity:0.1; fill:none\" points=\"193.936,1413.44 2352.76,1413.44 \"/>\n",
       "<polyline clip-path=\"url(#clip162)\" style=\"stroke:#000000; stroke-linecap:round; stroke-linejoin:round; stroke-width:2; stroke-opacity:0.1; fill:none\" points=\"193.936,1187.65 2352.76,1187.65 \"/>\n",
       "<polyline clip-path=\"url(#clip162)\" style=\"stroke:#000000; stroke-linecap:round; stroke-linejoin:round; stroke-width:2; stroke-opacity:0.1; fill:none\" points=\"193.936,961.869 2352.76,961.869 \"/>\n",
       "<polyline clip-path=\"url(#clip162)\" style=\"stroke:#000000; stroke-linecap:round; stroke-linejoin:round; stroke-width:2; stroke-opacity:0.1; fill:none\" points=\"193.936,736.084 2352.76,736.084 \"/>\n",
       "<polyline clip-path=\"url(#clip162)\" style=\"stroke:#000000; stroke-linecap:round; stroke-linejoin:round; stroke-width:2; stroke-opacity:0.1; fill:none\" points=\"193.936,510.3 2352.76,510.3 \"/>\n",
       "<polyline clip-path=\"url(#clip162)\" style=\"stroke:#000000; stroke-linecap:round; stroke-linejoin:round; stroke-width:2; stroke-opacity:0.1; fill:none\" points=\"193.936,284.516 2352.76,284.516 \"/>\n",
       "<polyline clip-path=\"url(#clip162)\" style=\"stroke:#000000; stroke-linecap:round; stroke-linejoin:round; stroke-width:2; stroke-opacity:0.1; fill:none\" points=\"193.936,58.7318 2352.76,58.7318 \"/>\n",
       "<polyline clip-path=\"url(#clip160)\" style=\"stroke:#000000; stroke-linecap:round; stroke-linejoin:round; stroke-width:4; stroke-opacity:1; fill:none\" points=\"193.936,1486.45 2352.76,1486.45 \"/>\n",
       "<polyline clip-path=\"url(#clip160)\" style=\"stroke:#000000; stroke-linecap:round; stroke-linejoin:round; stroke-width:4; stroke-opacity:1; fill:none\" points=\"243.528,1486.45 243.528,1467.55 \"/>\n",
       "<polyline clip-path=\"url(#clip160)\" style=\"stroke:#000000; stroke-linecap:round; stroke-linejoin:round; stroke-width:4; stroke-opacity:1; fill:none\" points=\"818.845,1486.45 818.845,1467.55 \"/>\n",
       "<polyline clip-path=\"url(#clip160)\" style=\"stroke:#000000; stroke-linecap:round; stroke-linejoin:round; stroke-width:4; stroke-opacity:1; fill:none\" points=\"1394.16,1486.45 1394.16,1467.55 \"/>\n",
       "<polyline clip-path=\"url(#clip160)\" style=\"stroke:#000000; stroke-linecap:round; stroke-linejoin:round; stroke-width:4; stroke-opacity:1; fill:none\" points=\"1969.48,1486.45 1969.48,1467.55 \"/>\n",
       "<path clip-path=\"url(#clip160)\" d=\"M243.528 1517.37 Q239.917 1517.37 238.089 1520.93 Q236.283 1524.47 236.283 1531.6 Q236.283 1538.71 238.089 1542.27 Q239.917 1545.82 243.528 1545.82 Q247.163 1545.82 248.968 1542.27 Q250.797 1538.71 250.797 1531.6 Q250.797 1524.47 248.968 1520.93 Q247.163 1517.37 243.528 1517.37 M243.528 1513.66 Q249.338 1513.66 252.394 1518.27 Q255.473 1522.85 255.473 1531.6 Q255.473 1540.33 252.394 1544.94 Q249.338 1549.52 243.528 1549.52 Q237.718 1549.52 234.639 1544.94 Q231.584 1540.33 231.584 1531.6 Q231.584 1522.85 234.639 1518.27 Q237.718 1513.66 243.528 1513.66 Z\" fill=\"#000000\" fill-rule=\"nonzero\" fill-opacity=\"1\" /><path clip-path=\"url(#clip160)\" d=\"M793.545 1514.29 L811.901 1514.29 L811.901 1518.22 L797.827 1518.22 L797.827 1526.7 Q798.846 1526.35 799.864 1526.19 Q800.883 1526 801.901 1526 Q807.688 1526 811.068 1529.17 Q814.447 1532.34 814.447 1537.76 Q814.447 1543.34 810.975 1546.44 Q807.503 1549.52 801.183 1549.52 Q799.008 1549.52 796.739 1549.15 Q794.494 1548.78 792.086 1548.04 L792.086 1543.34 Q794.17 1544.47 796.392 1545.03 Q798.614 1545.58 801.091 1545.58 Q805.096 1545.58 807.433 1543.48 Q809.771 1541.37 809.771 1537.76 Q809.771 1534.15 807.433 1532.04 Q805.096 1529.94 801.091 1529.94 Q799.216 1529.94 797.341 1530.35 Q795.489 1530.77 793.545 1531.65 L793.545 1514.29 Z\" fill=\"#000000\" fill-rule=\"nonzero\" fill-opacity=\"1\" /><path clip-path=\"url(#clip160)\" d=\"M833.66 1517.37 Q830.049 1517.37 828.22 1520.93 Q826.415 1524.47 826.415 1531.6 Q826.415 1538.71 828.22 1542.27 Q830.049 1545.82 833.66 1545.82 Q837.294 1545.82 839.1 1542.27 Q840.929 1538.71 840.929 1531.6 Q840.929 1524.47 839.1 1520.93 Q837.294 1517.37 833.66 1517.37 M833.66 1513.66 Q839.47 1513.66 842.526 1518.27 Q845.605 1522.85 845.605 1531.6 Q845.605 1540.33 842.526 1544.94 Q839.47 1549.52 833.66 1549.52 Q827.85 1549.52 824.771 1544.94 Q821.716 1540.33 821.716 1531.6 Q821.716 1522.85 824.771 1518.27 Q827.85 1513.66 833.66 1513.66 Z\" fill=\"#000000\" fill-rule=\"nonzero\" fill-opacity=\"1\" /><path clip-path=\"url(#clip160)\" d=\"M1353.77 1544.91 L1361.41 1544.91 L1361.41 1518.55 L1353.1 1520.21 L1353.1 1515.95 L1361.36 1514.29 L1366.04 1514.29 L1366.04 1544.91 L1373.68 1544.91 L1373.68 1548.85 L1353.77 1548.85 L1353.77 1544.91 Z\" fill=\"#000000\" fill-rule=\"nonzero\" fill-opacity=\"1\" /><path clip-path=\"url(#clip160)\" d=\"M1393.12 1517.37 Q1389.51 1517.37 1387.68 1520.93 Q1385.88 1524.47 1385.88 1531.6 Q1385.88 1538.71 1387.68 1542.27 Q1389.51 1545.82 1393.12 1545.82 Q1396.76 1545.82 1398.56 1542.27 Q1400.39 1538.71 1400.39 1531.6 Q1400.39 1524.47 1398.56 1520.93 Q1396.76 1517.37 1393.12 1517.37 M1393.12 1513.66 Q1398.93 1513.66 1401.99 1518.27 Q1405.07 1522.85 1405.07 1531.6 Q1405.07 1540.33 1401.99 1544.94 Q1398.93 1549.52 1393.12 1549.52 Q1387.31 1549.52 1384.23 1544.94 Q1381.18 1540.33 1381.18 1531.6 Q1381.18 1522.85 1384.23 1518.27 Q1387.31 1513.66 1393.12 1513.66 Z\" fill=\"#000000\" fill-rule=\"nonzero\" fill-opacity=\"1\" /><path clip-path=\"url(#clip160)\" d=\"M1423.28 1517.37 Q1419.67 1517.37 1417.84 1520.93 Q1416.04 1524.47 1416.04 1531.6 Q1416.04 1538.71 1417.84 1542.27 Q1419.67 1545.82 1423.28 1545.82 Q1426.92 1545.82 1428.72 1542.27 Q1430.55 1538.71 1430.55 1531.6 Q1430.55 1524.47 1428.72 1520.93 Q1426.92 1517.37 1423.28 1517.37 M1423.28 1513.66 Q1429.09 1513.66 1432.15 1518.27 Q1435.23 1522.85 1435.23 1531.6 Q1435.23 1540.33 1432.15 1544.94 Q1429.09 1549.52 1423.28 1549.52 Q1417.47 1549.52 1414.39 1544.94 Q1411.34 1540.33 1411.34 1531.6 Q1411.34 1522.85 1414.39 1518.27 Q1417.47 1513.66 1423.28 1513.66 Z\" fill=\"#000000\" fill-rule=\"nonzero\" fill-opacity=\"1\" /><path clip-path=\"url(#clip160)\" d=\"M1929.09 1544.91 L1936.73 1544.91 L1936.73 1518.55 L1928.42 1520.21 L1928.42 1515.95 L1936.68 1514.29 L1941.35 1514.29 L1941.35 1544.91 L1948.99 1544.91 L1948.99 1548.85 L1929.09 1548.85 L1929.09 1544.91 Z\" fill=\"#000000\" fill-rule=\"nonzero\" fill-opacity=\"1\" /><path clip-path=\"url(#clip160)\" d=\"M1958.48 1514.29 L1976.84 1514.29 L1976.84 1518.22 L1962.77 1518.22 L1962.77 1526.7 Q1963.79 1526.35 1964.8 1526.19 Q1965.82 1526 1966.84 1526 Q1972.63 1526 1976.01 1529.17 Q1979.39 1532.34 1979.39 1537.76 Q1979.39 1543.34 1975.91 1546.44 Q1972.44 1549.52 1966.12 1549.52 Q1963.95 1549.52 1961.68 1549.15 Q1959.43 1548.78 1957.03 1548.04 L1957.03 1543.34 Q1959.11 1544.47 1961.33 1545.03 Q1963.55 1545.58 1966.03 1545.58 Q1970.04 1545.58 1972.37 1543.48 Q1974.71 1541.37 1974.71 1537.76 Q1974.71 1534.15 1972.37 1532.04 Q1970.04 1529.94 1966.03 1529.94 Q1964.16 1529.94 1962.28 1530.35 Q1960.43 1530.77 1958.48 1531.65 L1958.48 1514.29 Z\" fill=\"#000000\" fill-rule=\"nonzero\" fill-opacity=\"1\" /><path clip-path=\"url(#clip160)\" d=\"M1998.6 1517.37 Q1994.99 1517.37 1993.16 1520.93 Q1991.35 1524.47 1991.35 1531.6 Q1991.35 1538.71 1993.16 1542.27 Q1994.99 1545.82 1998.6 1545.82 Q2002.23 1545.82 2004.04 1542.27 Q2005.87 1538.71 2005.87 1531.6 Q2005.87 1524.47 2004.04 1520.93 Q2002.23 1517.37 1998.6 1517.37 M1998.6 1513.66 Q2004.41 1513.66 2007.47 1518.27 Q2010.54 1522.85 2010.54 1531.6 Q2010.54 1540.33 2007.47 1544.94 Q2004.41 1549.52 1998.6 1549.52 Q1992.79 1549.52 1989.71 1544.94 Q1986.66 1540.33 1986.66 1531.6 Q1986.66 1522.85 1989.71 1518.27 Q1992.79 1513.66 1998.6 1513.66 Z\" fill=\"#000000\" fill-rule=\"nonzero\" fill-opacity=\"1\" /><polyline clip-path=\"url(#clip160)\" style=\"stroke:#000000; stroke-linecap:round; stroke-linejoin:round; stroke-width:4; stroke-opacity:1; fill:none\" points=\"193.936,1486.45 193.936,47.2441 \"/>\n",
       "<polyline clip-path=\"url(#clip160)\" style=\"stroke:#000000; stroke-linecap:round; stroke-linejoin:round; stroke-width:4; stroke-opacity:1; fill:none\" points=\"193.936,1413.44 212.834,1413.44 \"/>\n",
       "<polyline clip-path=\"url(#clip160)\" style=\"stroke:#000000; stroke-linecap:round; stroke-linejoin:round; stroke-width:4; stroke-opacity:1; fill:none\" points=\"193.936,1187.65 212.834,1187.65 \"/>\n",
       "<polyline clip-path=\"url(#clip160)\" style=\"stroke:#000000; stroke-linecap:round; stroke-linejoin:round; stroke-width:4; stroke-opacity:1; fill:none\" points=\"193.936,961.869 212.834,961.869 \"/>\n",
       "<polyline clip-path=\"url(#clip160)\" style=\"stroke:#000000; stroke-linecap:round; stroke-linejoin:round; stroke-width:4; stroke-opacity:1; fill:none\" points=\"193.936,736.084 212.834,736.084 \"/>\n",
       "<polyline clip-path=\"url(#clip160)\" style=\"stroke:#000000; stroke-linecap:round; stroke-linejoin:round; stroke-width:4; stroke-opacity:1; fill:none\" points=\"193.936,510.3 212.834,510.3 \"/>\n",
       "<polyline clip-path=\"url(#clip160)\" style=\"stroke:#000000; stroke-linecap:round; stroke-linejoin:round; stroke-width:4; stroke-opacity:1; fill:none\" points=\"193.936,284.516 212.834,284.516 \"/>\n",
       "<polyline clip-path=\"url(#clip160)\" style=\"stroke:#000000; stroke-linecap:round; stroke-linejoin:round; stroke-width:4; stroke-opacity:1; fill:none\" points=\"193.936,58.7318 212.834,58.7318 \"/>\n",
       "<path clip-path=\"url(#clip160)\" d=\"M51.9875 1413.89 L81.6633 1413.89 L81.6633 1417.82 L51.9875 1417.82 L51.9875 1413.89 Z\" fill=\"#000000\" fill-rule=\"nonzero\" fill-opacity=\"1\" /><path clip-path=\"url(#clip160)\" d=\"M92.566 1426.78 L100.205 1426.78 L100.205 1400.42 L91.8947 1402.08 L91.8947 1397.82 L100.159 1396.16 L104.834 1396.16 L104.834 1426.78 L112.473 1426.78 L112.473 1430.72 L92.566 1430.72 L92.566 1426.78 Z\" fill=\"#000000\" fill-rule=\"nonzero\" fill-opacity=\"1\" /><path clip-path=\"url(#clip160)\" d=\"M121.918 1424.84 L126.802 1424.84 L126.802 1430.72 L121.918 1430.72 L121.918 1424.84 Z\" fill=\"#000000\" fill-rule=\"nonzero\" fill-opacity=\"1\" /><path clip-path=\"url(#clip160)\" d=\"M137.033 1396.16 L155.39 1396.16 L155.39 1400.09 L141.316 1400.09 L141.316 1408.56 Q142.334 1408.22 143.353 1408.06 Q144.371 1407.87 145.39 1407.87 Q151.177 1407.87 154.556 1411.04 Q157.936 1414.21 157.936 1419.63 Q157.936 1425.21 154.464 1428.31 Q150.992 1431.39 144.672 1431.39 Q142.496 1431.39 140.228 1431.02 Q137.982 1430.65 135.575 1429.91 L135.575 1425.21 Q137.658 1426.34 139.881 1426.9 Q142.103 1427.45 144.58 1427.45 Q148.584 1427.45 150.922 1425.35 Q153.26 1423.24 153.26 1419.63 Q153.26 1416.02 150.922 1413.91 Q148.584 1411.8 144.58 1411.8 Q142.705 1411.8 140.83 1412.22 Q138.978 1412.64 137.033 1413.52 L137.033 1396.16 Z\" fill=\"#000000\" fill-rule=\"nonzero\" fill-opacity=\"1\" /><path clip-path=\"url(#clip160)\" d=\"M50.9921 1188.1 L80.6679 1188.1 L80.6679 1192.04 L50.9921 1192.04 L50.9921 1188.1 Z\" fill=\"#000000\" fill-rule=\"nonzero\" fill-opacity=\"1\" /><path clip-path=\"url(#clip160)\" d=\"M91.5706 1201 L99.2095 1201 L99.2095 1174.63 L90.8993 1176.3 L90.8993 1172.04 L99.1632 1170.37 L103.839 1170.37 L103.839 1201 L111.478 1201 L111.478 1204.93 L91.5706 1204.93 L91.5706 1201 Z\" fill=\"#000000\" fill-rule=\"nonzero\" fill-opacity=\"1\" /><path clip-path=\"url(#clip160)\" d=\"M120.922 1199.05 L125.807 1199.05 L125.807 1204.93 L120.922 1204.93 L120.922 1199.05 Z\" fill=\"#000000\" fill-rule=\"nonzero\" fill-opacity=\"1\" /><path clip-path=\"url(#clip160)\" d=\"M145.992 1173.45 Q142.381 1173.45 140.552 1177.02 Q138.746 1180.56 138.746 1187.69 Q138.746 1194.79 140.552 1198.36 Q142.381 1201.9 145.992 1201.9 Q149.626 1201.9 151.431 1198.36 Q153.26 1194.79 153.26 1187.69 Q153.26 1180.56 151.431 1177.02 Q149.626 1173.45 145.992 1173.45 M145.992 1169.75 Q151.802 1169.75 154.857 1174.35 Q157.936 1178.94 157.936 1187.69 Q157.936 1196.41 154.857 1201.02 Q151.802 1205.6 145.992 1205.6 Q140.181 1205.6 137.103 1201.02 Q134.047 1196.41 134.047 1187.69 Q134.047 1178.94 137.103 1174.35 Q140.181 1169.75 145.992 1169.75 Z\" fill=\"#000000\" fill-rule=\"nonzero\" fill-opacity=\"1\" /><path clip-path=\"url(#clip160)\" d=\"M51.9875 962.32 L81.6633 962.32 L81.6633 966.255 L51.9875 966.255 L51.9875 962.32 Z\" fill=\"#000000\" fill-rule=\"nonzero\" fill-opacity=\"1\" /><path clip-path=\"url(#clip160)\" d=\"M101.756 947.667 Q98.1447 947.667 96.316 951.232 Q94.5104 954.774 94.5104 961.903 Q94.5104 969.01 96.316 972.574 Q98.1447 976.116 101.756 976.116 Q105.39 976.116 107.196 972.574 Q109.024 969.01 109.024 961.903 Q109.024 954.774 107.196 951.232 Q105.39 947.667 101.756 947.667 M101.756 943.964 Q107.566 943.964 110.621 948.57 Q113.7 953.153 113.7 961.903 Q113.7 970.63 110.621 975.237 Q107.566 979.82 101.756 979.82 Q95.9456 979.82 92.8669 975.237 Q89.8114 970.63 89.8114 961.903 Q89.8114 953.153 92.8669 948.57 Q95.9456 943.964 101.756 943.964 Z\" fill=\"#000000\" fill-rule=\"nonzero\" fill-opacity=\"1\" /><path clip-path=\"url(#clip160)\" d=\"M121.918 973.269 L126.802 973.269 L126.802 979.149 L121.918 979.149 L121.918 973.269 Z\" fill=\"#000000\" fill-rule=\"nonzero\" fill-opacity=\"1\" /><path clip-path=\"url(#clip160)\" d=\"M137.033 944.589 L155.39 944.589 L155.39 948.524 L141.316 948.524 L141.316 956.996 Q142.334 956.649 143.353 956.487 Q144.371 956.301 145.39 956.301 Q151.177 956.301 154.556 959.473 Q157.936 962.644 157.936 968.061 Q157.936 973.639 154.464 976.741 Q150.992 979.82 144.672 979.82 Q142.496 979.82 140.228 979.449 Q137.982 979.079 135.575 978.338 L135.575 973.639 Q137.658 974.774 139.881 975.329 Q142.103 975.885 144.58 975.885 Q148.584 975.885 150.922 973.778 Q153.26 971.672 153.26 968.061 Q153.26 964.45 150.922 962.343 Q148.584 960.237 144.58 960.237 Q142.705 960.237 140.83 960.653 Q138.978 961.07 137.033 961.95 L137.033 944.589 Z\" fill=\"#000000\" fill-rule=\"nonzero\" fill-opacity=\"1\" /><path clip-path=\"url(#clip160)\" d=\"M100.76 721.883 Q97.1493 721.883 95.3206 725.448 Q93.515 728.989 93.515 736.119 Q93.515 743.226 95.3206 746.79 Q97.1493 750.332 100.76 750.332 Q104.395 750.332 106.2 746.79 Q108.029 743.226 108.029 736.119 Q108.029 728.989 106.2 725.448 Q104.395 721.883 100.76 721.883 M100.76 718.179 Q106.571 718.179 109.626 722.786 Q112.705 727.369 112.705 736.119 Q112.705 744.846 109.626 749.452 Q106.571 754.036 100.76 754.036 Q94.9502 754.036 91.8715 749.452 Q88.816 744.846 88.816 736.119 Q88.816 727.369 91.8715 722.786 Q94.9502 718.179 100.76 718.179 Z\" fill=\"#000000\" fill-rule=\"nonzero\" fill-opacity=\"1\" /><path clip-path=\"url(#clip160)\" d=\"M120.922 747.485 L125.807 747.485 L125.807 753.364 L120.922 753.364 L120.922 747.485 Z\" fill=\"#000000\" fill-rule=\"nonzero\" fill-opacity=\"1\" /><path clip-path=\"url(#clip160)\" d=\"M145.992 721.883 Q142.381 721.883 140.552 725.448 Q138.746 728.989 138.746 736.119 Q138.746 743.226 140.552 746.79 Q142.381 750.332 145.992 750.332 Q149.626 750.332 151.431 746.79 Q153.26 743.226 153.26 736.119 Q153.26 728.989 151.431 725.448 Q149.626 721.883 145.992 721.883 M145.992 718.179 Q151.802 718.179 154.857 722.786 Q157.936 727.369 157.936 736.119 Q157.936 744.846 154.857 749.452 Q151.802 754.036 145.992 754.036 Q140.181 754.036 137.103 749.452 Q134.047 744.846 134.047 736.119 Q134.047 727.369 137.103 722.786 Q140.181 718.179 145.992 718.179 Z\" fill=\"#000000\" fill-rule=\"nonzero\" fill-opacity=\"1\" /><path clip-path=\"url(#clip160)\" d=\"M101.756 496.099 Q98.1447 496.099 96.316 499.664 Q94.5104 503.205 94.5104 510.335 Q94.5104 517.441 96.316 521.006 Q98.1447 524.548 101.756 524.548 Q105.39 524.548 107.196 521.006 Q109.024 517.441 109.024 510.335 Q109.024 503.205 107.196 499.664 Q105.39 496.099 101.756 496.099 M101.756 492.395 Q107.566 492.395 110.621 497.002 Q113.7 501.585 113.7 510.335 Q113.7 519.062 110.621 523.668 Q107.566 528.251 101.756 528.251 Q95.9456 528.251 92.8669 523.668 Q89.8114 519.062 89.8114 510.335 Q89.8114 501.585 92.8669 497.002 Q95.9456 492.395 101.756 492.395 Z\" fill=\"#000000\" fill-rule=\"nonzero\" fill-opacity=\"1\" /><path clip-path=\"url(#clip160)\" d=\"M121.918 521.701 L126.802 521.701 L126.802 527.58 L121.918 527.58 L121.918 521.701 Z\" fill=\"#000000\" fill-rule=\"nonzero\" fill-opacity=\"1\" /><path clip-path=\"url(#clip160)\" d=\"M137.033 493.02 L155.39 493.02 L155.39 496.955 L141.316 496.955 L141.316 505.427 Q142.334 505.08 143.353 504.918 Q144.371 504.733 145.39 504.733 Q151.177 504.733 154.556 507.904 Q157.936 511.076 157.936 516.492 Q157.936 522.071 154.464 525.173 Q150.992 528.251 144.672 528.251 Q142.496 528.251 140.228 527.881 Q137.982 527.511 135.575 526.77 L135.575 522.071 Q137.658 523.205 139.881 523.761 Q142.103 524.316 144.58 524.316 Q148.584 524.316 150.922 522.21 Q153.26 520.103 153.26 516.492 Q153.26 512.881 150.922 510.775 Q148.584 508.668 144.58 508.668 Q142.705 508.668 140.83 509.085 Q138.978 509.502 137.033 510.381 L137.033 493.02 Z\" fill=\"#000000\" fill-rule=\"nonzero\" fill-opacity=\"1\" /><path clip-path=\"url(#clip160)\" d=\"M91.5706 297.861 L99.2095 297.861 L99.2095 271.495 L90.8993 273.162 L90.8993 268.903 L99.1632 267.236 L103.839 267.236 L103.839 297.861 L111.478 297.861 L111.478 301.796 L91.5706 301.796 L91.5706 297.861 Z\" fill=\"#000000\" fill-rule=\"nonzero\" fill-opacity=\"1\" /><path clip-path=\"url(#clip160)\" d=\"M120.922 295.916 L125.807 295.916 L125.807 301.796 L120.922 301.796 L120.922 295.916 Z\" fill=\"#000000\" fill-rule=\"nonzero\" fill-opacity=\"1\" /><path clip-path=\"url(#clip160)\" d=\"M145.992 270.315 Q142.381 270.315 140.552 273.879 Q138.746 277.421 138.746 284.551 Q138.746 291.657 140.552 295.222 Q142.381 298.764 145.992 298.764 Q149.626 298.764 151.431 295.222 Q153.26 291.657 153.26 284.551 Q153.26 277.421 151.431 273.879 Q149.626 270.315 145.992 270.315 M145.992 266.611 Q151.802 266.611 154.857 271.217 Q157.936 275.801 157.936 284.551 Q157.936 293.277 154.857 297.884 Q151.802 302.467 145.992 302.467 Q140.181 302.467 137.103 297.884 Q134.047 293.277 134.047 284.551 Q134.047 275.801 137.103 271.217 Q140.181 266.611 145.992 266.611 Z\" fill=\"#000000\" fill-rule=\"nonzero\" fill-opacity=\"1\" /><path clip-path=\"url(#clip160)\" d=\"M92.566 72.0766 L100.205 72.0766 L100.205 45.711 L91.8947 47.3776 L91.8947 43.1184 L100.159 41.4518 L104.834 41.4518 L104.834 72.0766 L112.473 72.0766 L112.473 76.0118 L92.566 76.0118 L92.566 72.0766 Z\" fill=\"#000000\" fill-rule=\"nonzero\" fill-opacity=\"1\" /><path clip-path=\"url(#clip160)\" d=\"M121.918 70.1322 L126.802 70.1322 L126.802 76.0118 L121.918 76.0118 L121.918 70.1322 Z\" fill=\"#000000\" fill-rule=\"nonzero\" fill-opacity=\"1\" /><path clip-path=\"url(#clip160)\" d=\"M137.033 41.4518 L155.39 41.4518 L155.39 45.3869 L141.316 45.3869 L141.316 53.8591 Q142.334 53.5119 143.353 53.3498 Q144.371 53.1647 145.39 53.1647 Q151.177 53.1647 154.556 56.3359 Q157.936 59.5072 157.936 64.9238 Q157.936 70.5025 154.464 73.6044 Q150.992 76.683 144.672 76.683 Q142.496 76.683 140.228 76.3127 Q137.982 75.9423 135.575 75.2016 L135.575 70.5025 Q137.658 71.6368 139.881 72.1923 Q142.103 72.7479 144.58 72.7479 Q148.584 72.7479 150.922 70.6414 Q153.26 68.5349 153.26 64.9238 Q153.26 61.3128 150.922 59.2063 Q148.584 57.0998 144.58 57.0998 Q142.705 57.0998 140.83 57.5165 Q138.978 57.9331 137.033 58.8128 L137.033 41.4518 Z\" fill=\"#000000\" fill-rule=\"nonzero\" fill-opacity=\"1\" /><polyline clip-path=\"url(#clip162)\" style=\"stroke:#009af9; stroke-linecap:round; stroke-linejoin:round; stroke-width:4; stroke-opacity:1; fill:none\" points=\"255.035,1187.65 266.541,1187.65 278.047,1187.65 289.554,1187.65 301.06,1187.65 312.566,1187.65 324.073,1187.65 335.579,1187.65 347.085,1187.65 358.592,1187.65 370.098,1187.65 381.604,1187.65 393.111,1187.65 404.617,1187.65 416.123,1187.65 427.63,1187.65 439.136,1187.65 450.642,1187.65 462.149,1187.65 473.655,1187.65 485.162,1187.65 496.668,1187.65 508.174,1187.65 519.681,1187.65 531.187,1187.65 542.693,1187.65 554.2,1187.65 565.706,1187.65 577.212,1187.65 588.719,1187.65 600.225,1187.65 611.731,1187.65 623.238,1187.65 634.744,1187.65 646.25,1187.65 657.757,1187.65 669.263,1187.65 680.769,1187.65 692.276,1187.65 703.782,1187.65 715.288,1187.65 726.795,1187.65 738.301,1187.65 749.807,1187.65 761.314,1187.65 772.82,1187.65 784.326,1187.65 795.833,1187.65 807.339,1187.65 818.845,1187.65 830.352,1187.65 841.858,1187.65 853.364,1187.65 864.871,1187.65 876.377,1187.65 887.883,1187.65 899.39,1187.65 910.896,1187.65 922.403,1187.65 933.909,736.084 945.415,736.084 956.922,736.084 968.428,736.084 979.934,736.084 991.441,736.084 1002.95,736.084 1014.45,736.084 1025.96,736.084 1037.47,736.084 1048.97,736.084 1060.48,736.084 1071.98,736.084 1083.49,736.084 1095,736.084 1106.5,736.084 1118.01,736.084 1129.52,736.084 1141.02,736.084 1152.53,736.084 1164.04,736.084 1175.54,736.084 1187.05,736.084 1198.55,736.084 1210.06,736.084 1221.57,736.084 1233.07,736.084 1244.58,736.084 1256.09,736.084 1267.59,736.084 1279.1,736.084 1290.61,736.084 1302.11,736.084 1313.62,736.084 1325.12,736.084 1336.63,736.084 1348.14,736.084 1359.64,736.084 1371.15,736.084 1382.66,736.084 1394.16,736.084 1405.67,736.084 1417.18,736.084 1428.68,736.084 1440.19,736.084 1451.69,736.084 1463.2,736.084 1474.71,736.084 1486.21,736.084 1497.72,736.084 1509.23,736.084 1520.73,736.084 1532.24,736.084 1543.74,736.084 1555.25,736.084 1566.76,736.084 1578.26,736.084 1589.77,736.084 1601.28,736.084 1612.78,736.084 1624.29,736.084 1635.8,736.084 1647.3,736.084 1658.81,736.084 1670.31,736.084 1681.82,736.084 1693.33,736.084 1704.83,736.084 1716.34,736.084 1727.85,736.084 1739.35,736.084 1750.86,284.516 1762.37,284.516 1773.87,284.516 1785.38,284.516 1796.88,284.516 1808.39,284.516 1819.9,284.516 1831.4,284.516 1842.91,284.516 1854.42,284.516 1865.92,284.516 1877.43,284.516 1888.94,284.516 1900.44,284.516 1911.95,284.516 1923.45,284.516 1934.96,284.516 1946.47,284.516 1957.97,284.516 1969.48,284.516 1980.99,284.516 1992.49,284.516 2004,284.516 2015.51,284.516 2027.01,284.516 2038.52,284.516 2050.02,284.516 2061.53,284.516 2073.04,284.516 2084.54,284.516 2096.05,284.516 2107.56,284.516 2119.06,284.516 2130.57,284.516 2142.07,284.516 2153.58,284.516 2165.09,284.516 2176.59,284.516 2188.1,284.516 2199.61,284.516 2211.11,284.516 2222.62,284.516 2234.13,284.516 2245.63,284.516 2257.14,284.516 2268.64,284.516 2280.15,284.516 2291.66,284.516 \"/>\n",
       "<polyline clip-path=\"url(#clip162)\" style=\"stroke:#e26f46; stroke-linecap:round; stroke-linejoin:round; stroke-width:4; stroke-opacity:1; fill:none\" points=\"255.035,1296.56 266.541,1132.96 278.047,1445.72 289.554,1162.45 301.06,880.306 312.566,1282.14 324.073,1402.37 335.579,1202.96 347.085,1088.54 358.592,1129.64 370.098,1227.48 381.604,1210.1 393.111,1237.77 404.617,1244.2 416.123,1284.54 427.63,1058.95 439.136,923.215 450.642,995.591 462.149,1267.5 473.655,1047.97 485.162,1133.37 496.668,1088.34 508.174,1337.84 519.681,1217.18 531.187,1283.62 542.693,1164.72 554.2,1246.75 565.706,1111.58 577.212,1223.79 588.719,1167.01 600.225,1208.36 611.731,1152.4 623.238,1281.83 634.744,1174.36 646.25,1017.7 657.757,1122.14 669.263,970.735 680.769,1006.3 692.276,1155.45 703.782,1138.36 715.288,1030.68 726.795,948.782 738.301,1164.48 749.807,853.996 761.314,978.185 772.82,1058.35 784.326,1156.59 795.833,1033.48 807.339,1090.66 818.845,1220.56 830.352,1175.04 841.858,1289.51 853.364,1160.16 864.871,1171.02 876.377,1046.12 887.883,954.427 899.39,1061.29 910.896,1166.56 922.403,999.949 933.909,670.052 945.415,551.947 956.922,258.052 968.428,752.474 979.934,808.44 991.441,704.771 1002.95,953.473 1014.45,686.498 1025.96,842.141 1037.47,544.409 1048.97,1007.54 1060.48,635.966 1071.98,916.121 1083.49,450.514 1095,795.87 1106.5,763.108 1118.01,688.737 1129.52,767.333 1141.02,539.103 1152.53,1039.16 1164.04,717.575 1175.54,851.951 1187.05,1037.5 1198.55,752.155 1210.06,592.209 1221.57,815.792 1233.07,889.312 1244.58,639.066 1256.09,872.858 1267.59,653.918 1279.1,717.092 1290.61,710.119 1302.11,623.183 1313.62,669.62 1325.12,810.322 1336.63,739.34 1348.14,963.228 1359.64,503.21 1371.15,802.428 1382.66,775.217 1394.16,951.421 1405.67,970.229 1417.18,776.333 1428.68,532.46 1440.19,568.94 1451.69,819.149 1463.2,785.828 1474.71,903.747 1486.21,596.142 1497.72,687.596 1509.23,1027.29 1520.73,871.704 1532.24,423.096 1543.74,862.734 1555.25,569.648 1566.76,579.583 1578.26,830.411 1589.77,746.585 1601.28,608.335 1612.78,450.794 1624.29,784.81 1635.8,672.666 1647.3,661.164 1658.81,496.624 1670.31,657.81 1681.82,995.271 1693.33,564.382 1704.83,409.105 1716.34,756.101 1727.85,557.895 1739.35,420.703 1750.86,270.621 1762.37,278.329 1773.87,111.626 1785.38,194.749 1796.88,393.906 1808.39,305.627 1819.9,467.758 1831.4,566.229 1842.91,429.633 1854.42,365.093 1865.92,438.647 1877.43,434.379 1888.94,393.276 1900.44,476.713 1911.95,470.622 1923.45,203.822 1934.96,238.163 1946.47,347.31 1957.97,175.411 1969.48,197.877 1980.99,328.987 1992.49,366.57 2004,132.259 2015.51,354.375 2027.01,87.9763 2038.52,461.598 2050.02,339.535 2061.53,463.739 2073.04,261.263 2084.54,179.917 2096.05,226.084 2107.56,469.253 2119.06,459.372 2130.57,254.203 2142.07,281.516 2153.58,425.48 2165.09,506.54 2176.59,404.014 2188.1,441.104 2199.61,437.179 2211.11,194.97 2222.62,89.1237 2234.13,370.913 2245.63,433.995 2257.14,290.16 2268.64,253.536 2280.15,218.276 2291.66,306.966 \"/>\n",
       "<path clip-path=\"url(#clip160)\" d=\"M265.897 250.738 L586.014 250.738 L586.014 95.2176 L265.897 95.2176  Z\" fill=\"#ffffff\" fill-rule=\"evenodd\" fill-opacity=\"1\"/>\n",
       "<polyline clip-path=\"url(#clip160)\" style=\"stroke:#000000; stroke-linecap:round; stroke-linejoin:round; stroke-width:4; stroke-opacity:1; fill:none\" points=\"265.897,250.738 586.014,250.738 586.014,95.2176 265.897,95.2176 265.897,250.738 \"/>\n",
       "<polyline clip-path=\"url(#clip160)\" style=\"stroke:#009af9; stroke-linecap:round; stroke-linejoin:round; stroke-width:4; stroke-opacity:1; fill:none\" points=\"289.884,147.058 433.805,147.058 \"/>\n",
       "<path clip-path=\"url(#clip160)\" d=\"M462.468 133.62 L462.468 160.495 L468.116 160.495 Q475.269 160.495 478.579 157.254 Q481.912 154.014 481.912 147.023 Q481.912 140.078 478.579 136.861 Q475.269 133.62 468.116 133.62 L462.468 133.62 M457.792 129.778 L467.398 129.778 Q477.444 129.778 482.143 133.967 Q486.843 138.134 486.843 147.023 Q486.843 155.958 482.12 160.148 Q477.398 164.338 467.398 164.338 L457.792 164.338 L457.792 129.778 Z\" fill=\"#000000\" fill-rule=\"nonzero\" fill-opacity=\"1\" /><path clip-path=\"url(#clip160)\" d=\"M505.893 151.305 Q500.731 151.305 498.741 152.486 Q496.75 153.666 496.75 156.514 Q496.75 158.782 498.231 160.125 Q499.736 161.444 502.305 161.444 Q505.847 161.444 507.977 158.944 Q510.129 156.421 510.129 152.254 L510.129 151.305 L505.893 151.305 M514.389 149.546 L514.389 164.338 L510.129 164.338 L510.129 160.402 Q508.671 162.763 506.495 163.898 Q504.319 165.009 501.171 165.009 Q497.19 165.009 494.829 162.787 Q492.491 160.541 492.491 156.791 Q492.491 152.416 495.407 150.194 Q498.347 147.972 504.157 147.972 L510.129 147.972 L510.129 147.555 Q510.129 144.615 508.185 143.018 Q506.264 141.398 502.768 141.398 Q500.546 141.398 498.44 141.93 Q496.333 142.463 494.389 143.527 L494.389 139.592 Q496.727 138.69 498.926 138.25 Q501.125 137.787 503.208 137.787 Q508.833 137.787 511.611 140.703 Q514.389 143.62 514.389 149.546 Z\" fill=\"#000000\" fill-rule=\"nonzero\" fill-opacity=\"1\" /><path clip-path=\"url(#clip160)\" d=\"M527.375 131.051 L527.375 138.412 L536.148 138.412 L536.148 141.722 L527.375 141.722 L527.375 155.796 Q527.375 158.967 528.231 159.87 Q529.111 160.773 531.773 160.773 L536.148 160.773 L536.148 164.338 L531.773 164.338 Q526.842 164.338 524.967 162.509 Q523.092 160.657 523.092 155.796 L523.092 141.722 L519.967 141.722 L519.967 138.412 L523.092 138.412 L523.092 131.051 L527.375 131.051 Z\" fill=\"#000000\" fill-rule=\"nonzero\" fill-opacity=\"1\" /><path clip-path=\"url(#clip160)\" d=\"M553.532 151.305 Q548.37 151.305 546.379 152.486 Q544.389 153.666 544.389 156.514 Q544.389 158.782 545.87 160.125 Q547.375 161.444 549.944 161.444 Q553.486 161.444 555.615 158.944 Q557.768 156.421 557.768 152.254 L557.768 151.305 L553.532 151.305 M562.027 149.546 L562.027 164.338 L557.768 164.338 L557.768 160.402 Q556.31 162.763 554.134 163.898 Q551.958 165.009 548.81 165.009 Q544.828 165.009 542.467 162.787 Q540.129 160.541 540.129 156.791 Q540.129 152.416 543.046 150.194 Q545.986 147.972 551.796 147.972 L557.768 147.972 L557.768 147.555 Q557.768 144.615 555.824 143.018 Q553.902 141.398 550.407 141.398 Q548.185 141.398 546.078 141.93 Q543.972 142.463 542.027 143.527 L542.027 139.592 Q544.365 138.69 546.564 138.25 Q548.763 137.787 550.847 137.787 Q556.472 137.787 559.25 140.703 Q562.027 143.62 562.027 149.546 Z\" fill=\"#000000\" fill-rule=\"nonzero\" fill-opacity=\"1\" /><polyline clip-path=\"url(#clip160)\" style=\"stroke:#e26f46; stroke-linecap:round; stroke-linejoin:round; stroke-width:4; stroke-opacity:1; fill:none\" points=\"289.884,198.898 433.805,198.898 \"/>\n",
       "<path clip-path=\"url(#clip160)\" d=\"M457.792 181.618 L477.653 181.618 L477.653 185.553 L462.468 185.553 L462.468 195.738 L476.171 195.738 L476.171 199.673 L462.468 199.673 L462.468 216.178 L457.792 216.178 L457.792 181.618 Z\" fill=\"#000000\" fill-rule=\"nonzero\" fill-opacity=\"1\" /><path clip-path=\"url(#clip160)\" d=\"M481.426 190.252 L485.685 190.252 L485.685 216.178 L481.426 216.178 L481.426 190.252 M481.426 180.159 L485.685 180.159 L485.685 185.553 L481.426 185.553 L481.426 180.159 Z\" fill=\"#000000\" fill-rule=\"nonzero\" fill-opacity=\"1\" /><path clip-path=\"url(#clip160)\" d=\"M498.81 182.891 L498.81 190.252 L507.583 190.252 L507.583 193.562 L498.81 193.562 L498.81 207.636 Q498.81 210.807 499.667 211.71 Q500.546 212.613 503.208 212.613 L507.583 212.613 L507.583 216.178 L503.208 216.178 Q498.278 216.178 496.403 214.349 Q494.528 212.497 494.528 207.636 L494.528 193.562 L491.403 193.562 L491.403 190.252 L494.528 190.252 L494.528 182.891 L498.81 182.891 Z\" fill=\"#000000\" fill-rule=\"nonzero\" fill-opacity=\"1\" /></svg>\n"
      ]
     },
     "execution_count": 12,
     "metadata": {},
     "output_type": "execute_result"
    }
   ],
   "source": [
    "plot(axes(y, 2), y[:], label = \"Data\")\n",
    "plot!(axes(y, 2), estimate(model, X)[:], label = \"Fit\")"
   ]
  },
  {
   "cell_type": "code",
   "execution_count": 13,
   "id": "39b64d70",
   "metadata": {},
   "outputs": [
    {
     "data": {
      "text/plain": [
       "1×1 Matrix{Float32}:\n",
       " 0.001621022"
      ]
     },
     "execution_count": 13,
     "metadata": {},
     "output_type": "execute_result"
    }
   ],
   "source": [
    "using OneHotArrays\n",
    "function jacobians(model, X, y)\n",
    "    y_1 = tanh.(model[1] * X)\n",
    "    jac_tanh = 1 .- y_1.^2\n",
    "    jac_mse = 2 * (model[2] * y_1 - y) / size(y, 2)\n",
    "    return jac_tanh, jac_mse\n",
    "end\n",
    "function jacobian_combine(model, X, y, j, k)\n",
    "    ∂W_1 = onehot(j, axes(model[1], 1)) * onehot(k, axes(model[1], 2))'\n",
    "    J_1, J_2 = jacobians(model, X, y)\n",
    "    (model[2] * (J_1 .* (∂W_1 * X))) * J_2'\n",
    "end\n",
    "jacobian_combine(model, X, y, 1, 1)"
   ]
  },
  {
   "cell_type": "code",
   "execution_count": 14,
   "id": "ee074be9",
   "metadata": {},
   "outputs": [
    {
     "data": {
      "text/plain": [
       "0.0016210212f0"
      ]
     },
     "execution_count": 14,
     "metadata": {},
     "output_type": "execute_result"
    }
   ],
   "source": [
    "∇model(loss, model, X, y, 1, 1, 1)"
   ]
  },
  {
   "cell_type": "markdown",
   "id": "0a6a0ff7",
   "metadata": {},
   "source": [
    "### ~~Backward~~ Reverse Differentiation\n",
    "\n",
    "Viewing this as a product of Jacobian matrices, linear algebra will allow us to find a faster way to compute the gradient. This is will introduce *reverse differentiation*.\n",
    "\n",
    "The broadcasted `*` is an Hadamard product, denoted $\\odot$. So what we compute in `jacobian_combine` is:\n",
    "$$\n",
    "W_2 (J_1 \\odot (\\partial W_1 X)) J_2^\\top\n",
    "$$\n",
    "As this is scalar, it is trivially equal to its scalar product with ``1``. We can then move everything to the right-hand side with the adjoint (here, it is the transpose):\n",
    "$$\n",
    "\\begin{align}\n",
    "\\langle W_2 (J_1 \\odot (\\partial W_1 X)) J_2^\\top, 1 \\rangle\n",
    "& =\n",
    "\\langle J_1 \\odot (\\partial W_1 X), W_2^\\top J_2 \\rangle\\\\\n",
    "& =\n",
    "\\langle \\partial W_1 X, J_1 \\odot (W_2^\\top J_2) \\rangle\\\\\n",
    "& =\n",
    "\\langle \\partial W_1 X, J_1 \\odot (W_2^\\top J_2) \\rangle\\\\\n",
    "& =\n",
    "\\langle \\partial W_1, (J_1 \\odot (W_2^\\top J_2))X^\\top \\rangle\\\\\n",
    "\\end{align}\n",
    "$$\n",
    "Now, for the derivative with respect to the entry $W_{i,j}$, we use $\\partial W_1 = e_ie_j^\\top$ and\n",
    "$$\n",
    "\\langle e_ie_j^\\top, (J_1 \\odot (W_2^\\top J_2))X^\\top \\rangle\n",
    "=\n",
    "((J_1 \\odot (W_2^\\top J_2))X^\\top)_{ij}\n",
    "$$\n",
    "So the gradient with respect to $W_1$ is exactly the matrix $(J_1 \\odot (W_2^\\top J_2))X^\\top$ !"
   ]
  },
  {
   "cell_type": "code",
   "execution_count": 15,
   "id": "6c4198f6",
   "metadata": {},
   "outputs": [
    {
     "data": {
      "text/plain": [
       "32×13 Matrix{Float32}:\n",
       "  0.00162102    0.0131442     0.00430757   …  -0.00367041    0.00299674\n",
       "  0.0114464     0.000771156   0.00733975      -0.013223     -0.0113111\n",
       "  0.00208406   -0.00915657   -0.00598015       0.000473479  -0.00668892\n",
       "  0.0137754    -0.0320921    -0.00610031      -0.00594057   -0.00290829\n",
       " -0.000825329   0.00950162    0.00116277      -0.00572254    0.00163258\n",
       "  0.00234418   -0.00949471   -0.00439768   …  -0.00554954   -0.0030731\n",
       " -0.000765528   0.000698241   0.00020926      -0.000300034  -0.000421112\n",
       "  9.09981f-5    0.00138519    0.000833076     -0.000409567   0.00109003\n",
       "  0.000284812  -0.00396056   -4.25471f-5       0.00353166   -0.00398467\n",
       "  1.48576f-5   -8.18974f-5   -5.56563f-5      -4.22498f-5   -3.93781f-5\n",
       "  0.00401749   -0.0123827     0.0151995    …   0.00578953   -0.00467084\n",
       " -0.0118759    -0.0112495    -0.0175614        0.00229879    0.00914634\n",
       " -0.000915887  -0.00555316   -0.0126855        0.00320659   -0.0122433\n",
       "  ⋮                                        ⋱                \n",
       " -0.00361631    0.000234515   0.000270473  …  -7.17081f-5   -0.00132112\n",
       " -0.000929048   0.00483857    0.000712346     -0.00543542    0.00410416\n",
       " -0.00227378    0.00585382    0.000723047     -0.00292417   -0.000388426\n",
       " -0.00478736    0.00984181    0.0010443       -0.00944773   -0.00174522\n",
       " -0.000479258  -0.000357402   0.000895158     -0.00450851   -0.00344738\n",
       " -0.0020595     0.0265343     0.00147462   …   0.00420516    0.00775136\n",
       "  0.0110399    -0.0154022    -0.00288129       0.000540451   0.00170817\n",
       "  0.0180161    -0.0181855     0.00595364       0.0131825     0.0137785\n",
       "  0.00116227   -0.00796697   -0.00169629      -0.00162478   -0.00739356\n",
       " -2.5293f-5     0.00340748    0.00378327      -0.00012048    0.00288522\n",
       "  0.000120932  -0.00625516   -0.00414657   …   0.00121964   -0.000792447\n",
       " -0.00278471    0.0071917    -0.00368202      -0.00405314    0.00321319"
      ]
     },
     "execution_count": 15,
     "metadata": {},
     "output_type": "execute_result"
    }
   ],
   "source": [
    "function jacobian_adjoint(model, X, y)\n",
    "    J_1, J_2 = jacobians(model, X, y)\n",
    "    (J_1 .* (model[2]' * J_2)) * X'\n",
    "end\n",
    "jacobian_adjoint(model, X, y)"
   ]
  },
  {
   "cell_type": "code",
   "execution_count": 16,
   "id": "d3f3349d",
   "metadata": {
    "scrolled": true
   },
   "outputs": [
    {
     "data": {
      "text/plain": [
       "true"
      ]
     },
     "execution_count": 16,
     "metadata": {},
     "output_type": "execute_result"
    }
   ],
   "source": [
    "∇model(loss, model, X, y, 1) ≈ jacobian_adjoint(model, X, y)"
   ]
  },
  {
   "cell_type": "markdown",
   "id": "d5b9392e",
   "metadata": {},
   "source": [
    "We can do the same to compute the derivative with respect to $W_2$.\n",
    "Forward diff computes $\\partial W_2\\tanh(W_1 X) J_2^\\top$ ($\\tanh$ being applied elementwise) so let's see what the adjoint trick gives us for the reverse diff:\n",
    "$$\n",
    "\\begin{align}\n",
    "\\langle \\partial W_2\\tanh(W_1 X) J_2^\\top, 1 \\rangle\n",
    "& =\n",
    "\\langle \\partial W_2, J_2 \\tanh(W_1 X)^\\top \\rangle\n",
    "\\end{align}\n",
    "$$\n",
    "So the reverse diff computation for the gradient with respect to $W_2$ is $J_2 \\tanh(W_1 X)^\\top$."
   ]
  },
  {
   "cell_type": "code",
   "execution_count": 17,
   "id": "2fa85f0f",
   "metadata": {},
   "outputs": [
    {
     "data": {
      "text/plain": [
       "true"
      ]
     },
     "execution_count": 17,
     "metadata": {},
     "output_type": "execute_result"
    }
   ],
   "source": [
    "function ∇loss_reverse(model, X, y)\n",
    "    y_1 = tanh.(model[1] * X)\n",
    "    jac_tanh = 1 .- y_1.^2\n",
    "    jac_mse = 2 * (model[2] * y_1 - y) / size(y, 2)\n",
    "    ∇W1 = (jac_tanh .* (model[2]' * jac_mse)) * X'\n",
    "    ∇W2 = jac_mse * y_1'\n",
    "    return [∇W1, ∇W2]\n",
    "end\n",
    "∇loss_reverse(model, X, y) ≈ ∇model(loss, model, X, y)"
   ]
  },
  {
   "cell_type": "markdown",
   "id": "ae86f656",
   "metadata": {},
   "source": [
    "Using reverse diff instead of forward diff gives us a 200x speedup, not bad!"
   ]
  },
  {
   "cell_type": "code",
   "execution_count": 18,
   "id": "89e3379c-0e82-49d7-a852-93a187b764f4",
   "metadata": {},
   "outputs": [
    {
     "data": {
      "text/plain": [
       "train_reverse_diff! (generic function with 1 method)"
      ]
     },
     "execution_count": 18,
     "metadata": {},
     "output_type": "execute_result"
    }
   ],
   "source": [
    "function train_reverse_diff!(losses, model, X, y, opt, num_iters, states)\n",
    "    @time for epoch in 1:num_iters\n",
    "        grads = ∇loss_reverse(model, X, y)\n",
    "        # Gradient descent with rate `η`\n",
    "        for i in eachindex(model)\n",
    "            states[i], ΔW = Optimisers.apply!(opt, states[i], model[i], grads[i])\n",
    "            Optimisers.subtract!(model[i], ΔW)\n",
    "        end\n",
    "        push!(losses, loss(model, X, y))\n",
    "    end\n",
    "end"
   ]
  },
  {
   "cell_type": "code",
   "execution_count": 19,
   "id": "9a00b545",
   "metadata": {},
   "outputs": [
    {
     "name": "stdout",
     "output_type": "stream",
     "text": [
      "  0.103071 seconds (27.00 k allocations: 159.098 MiB, 19.65% gc time)\n"
     ]
    },
    {
     "data": {
      "text/plain": [
       "1101-element Vector{Float32}:\n",
       " 1.3246207\n",
       " 1.2506151\n",
       " 1.1805775\n",
       " 1.114522\n",
       " 1.0524641\n",
       " 0.99439865\n",
       " 0.94029003\n",
       " 0.8900696\n",
       " 0.84363127\n",
       " 0.8008361\n",
       " 0.7615139\n",
       " 0.7254732\n",
       " 0.69250786\n",
       " ⋮\n",
       " 0.015638053\n",
       " 0.015623869\n",
       " 0.015609701\n",
       " 0.015595535\n",
       " 0.01558139\n",
       " 0.015567253\n",
       " 0.01555313\n",
       " 0.015539017\n",
       " 0.015524919\n",
       " 0.015510825\n",
       " 0.015496758\n",
       " 0.015482689"
      ]
     },
     "execution_count": 19,
     "metadata": {},
     "output_type": "execute_result"
    }
   ],
   "source": [
    "train_reverse_diff!(losses, model, X, y, opt, 1000, states)\n",
    "losses"
   ]
  },
  {
   "cell_type": "markdown",
   "id": "4258271e",
   "metadata": {},
   "source": [
    "### When should forward differentiation be used ?\n",
    "\n",
    "Suppose that we need to differentiate a composition of functions:\n",
    "$(f_n \\circ f_{n-1} \\circ \\cdots \\circ f_2 \\circ f_1)(w)$.\n",
    "For each function, we can compute a jacobian given the value of its input.\n",
    "So, during a forward pass, we can compute all jacobians. We now just need to take the product of these jacobians:\n",
    "$$J_n J_{n-1} \\cdots J_2 J_1$$\n",
    "While the product of matrices is associative, its computational complexity depends on the order of the multiplications!\n",
    "Let $d_i \\times d_{i - 1}$ be the dimension of $J_i$.\n",
    "\n",
    "#### Forward diff: from right to left\n",
    "\n",
    "If the product is computed from right to left:\n",
    "$$\n",
    "\\begin{align}\n",
    "  J_{1,2} & = J_2 J_1 && \\Omega(d_2d_1d_0)\\\\\n",
    "  J_{1,3} & = J_3 J_{1,2} && \\Omega(d_3d_2d_0)\\\\\n",
    "  J_{1,4} & = J_4 J_{1,3} && \\Omega(d_4d_3d_0)\\\\\n",
    "  \\vdots & \\quad \\vdots\\\\\n",
    "  J_{1,n} & = J_n J_{1,(n-1)} && \\Omega(d_nd_{n-1}d_0)\\\\\n",
    "\\end{align}\n",
    "$$\n",
    "we have a complexity of\n",
    "$$\\Omega(\\sum_{i=2}^n d_id_{i-1}d_0).$$\n",
    "\n",
    "#### Reverse diff: from left to right\n",
    "\n",
    "The adjoint trick gives\n",
    "$$\\langle J_n J_{n-1} \\cdots J_2 J_1 \\partial w, \\partial y \\rangle\n",
    "=\n",
    "\\langle \\partial w, J_1^\\top J_2^\\top \\cdots J_{n-1}^\\top J_n^\\top \\partial y \\rangle.$$\n",
    "So reverse differentation corresponds to multiplying the adjoint from right to left or equivalently the original matrices from left to right.\n",
    "This means computing the product in the following order:\n",
    "$$\n",
    "\\begin{align}\n",
    "  J_{(n-1),n} & = J_n J_{n-1} && \\Omega(d_nd_{n-1}d_{n-2})\\\\\n",
    "  J_{(n-2),n} & = J_{(n-1),n} J_{n-2} && \\Omega(d_nd_{n-2}d_{n-3})\\\\\n",
    "  J_{(n-3),n} & = J_{(n-2),n} J_{n-3} && \\Omega(d_nd_{n-3}d_{n-4})\\\\\n",
    "  \\vdots & \\quad \\vdots\\\\\n",
    "  J_{1,n} & = J_{2,n} J_1 && \\Omega(d_nd_1d_0)\\\\\n",
    "\\end{align}\n",
    "$$\n",
    "We have a complexity of\n",
    "$$\\Omega(\\sum_{i=1}^{n-1} d_nd_id_{i-1}).$$\n",
    "\n",
    "#### Mixed : from inward to outward\n",
    "\n",
    "We can also write\n",
    "$$\\langle J_n J_{n-1} \\cdots J_2 J_1 \\partial w, \\partial y \\rangle\n",
    "=\n",
    "\\langle J_k J_{k-1} \\cdots J_2 J_1\\partial w, J_{k+1}^\\top J_{k+2}^\\top \\cdots J_{n-1}^\\top J_n^\\top \\partial y \\rangle.$$\n",
    "This corresponds to multiplying starting from some $d_k$ where $1 < k < n$.\n",
    "We would then first compute the left side:\n",
    "$$\n",
    "\\begin{align}\n",
    "  J_{k+1,k+2} & = J_{k+2} J_{k+1} && \\Omega(d_{k+2}d_{k+1}d_{k})\\\\\n",
    "  J_{k+1,k+3} & = J_{k+3} J_{k+1,k+2} && \\Omega(d_{k+3}d_{k+2}d_{k})\\\\\n",
    "  \\vdots & \\quad \\vdots\\\\\n",
    "  J_{k+1,n} & = J_{n} J_{k+1,n-1} && \\Omega(d_nd_{n-1}d_k)\n",
    "\\end{align}\n",
    "$$\n",
    "then the right side:\n",
    "$$\n",
    "\\begin{align}\n",
    "  J_{k-1,k} & = J_k J_{k-1} && \\Omega(d_kd_{k-1}d_{k-2})\\\\\n",
    "  J_{k-2,k} & = J_{k-1,k} J_{k-2} && \\Omega(d_kd_{k-2}d_{k-3})\\\\\n",
    "  \\vdots & \\quad \\vdots\\\\\n",
    "  J_{1,k} & = J_{2,k} J_1 && \\Omega(d_kd_1d_0)\\\\\n",
    "\\end{align}\n",
    "$$\n",
    "and then combine both sides:\n",
    "$$J_{1,n} = J_{k+1,n} J_{1,k} \\qquad \\Omega(d_nd_kd_0)$$\n",
    "we have a complexity of\n",
    "$$\\Omega(d_nd_kd_0 + \\sum_{i=1}^{k-1} d_kd_id_{i-1} + \\sum_{i=k}^{n} d_id_{i-1}d_k).$$\n",
    "\n",
    "#### Comparison\n",
    "\n",
    "We see that we should find the minimum $d_k$ and start from there. If the minimum is attained at $k = n$, this corresponds mutliplying from left to right, this is reverse differentiation. If the minimum is attained at $k = 0$, we should multiply from right to left, this is forward differentiation. Otherwise, we should start from the middle, this would mean mixing both forward and reverse diff.\n",
    "\n",
    "What about neural networks ? In that case, $d_0$ is equal to the number of entries in $W_1$ added with the number of entries in $W_2$ while $d_n$ is $1$ since the loss is scalar. We should therefore clearly multiply from left to right hence do reverse diff."
   ]
  },
  {
   "cell_type": "markdown",
   "id": "09e7c028-2311-454e-9179-4d561d4e68be",
   "metadata": {},
   "source": [
    "## ⚙️ Computation on the GPU"
   ]
  },
  {
   "cell_type": "code",
   "execution_count": 20,
   "id": "f50b343b-62dd-47cc-8c19-f1077fd39995",
   "metadata": {},
   "outputs": [
    {
     "name": "stdout",
     "output_type": "stream",
     "text": [
      "Wed Oct  2 10:10:29 2024       \n",
      "+-----------------------------------------------------------------------------+\n",
      "| NVIDIA-SMI 525.60.13    Driver Version: 525.60.13    CUDA Version: 12.0     |\n",
      "|-------------------------------+----------------------+----------------------+\n",
      "| GPU  Name        Persistence-M| Bus-Id        Disp.A | Volatile Uncorr. ECC |\n",
      "| Fan  Temp  Perf  Pwr:Usage/Cap|         Memory-Usage | GPU-Util  Compute M. |\n",
      "|                               |                      |               MIG M. |\n",
      "|===============================+======================+======================|\n",
      "|   0  NVIDIA A10          On   | 00000000:17:00.0 Off |                    0 |\n",
      "|  0%   26C    P8     8W / 150W |      0MiB / 23028MiB |      0%      Default |\n",
      "|                               |                      |                  N/A |\n",
      "+-------------------------------+----------------------+----------------------+\n",
      "                                                                               \n",
      "+-----------------------------------------------------------------------------+\n",
      "| Processes:                                                                  |\n",
      "|  GPU   GI   CI        PID   Type   Process name                  GPU Memory |\n",
      "|        ID   ID                                                   Usage      |\n",
      "|=============================================================================|\n",
      "|  No running processes found                                                 |\n",
      "+-----------------------------------------------------------------------------+\n"
     ]
    },
    {
     "data": {
      "text/plain": [
       "Process(`\u001b[4mnvidia-smi\u001b[24m`, ProcessExited(0))"
      ]
     },
     "execution_count": 20,
     "metadata": {},
     "output_type": "execute_result"
    }
   ],
   "source": [
    "run(`nvidia-smi`)"
   ]
  },
  {
   "cell_type": "code",
   "execution_count": 21,
   "id": "c382d2db",
   "metadata": {},
   "outputs": [
    {
     "data": {
      "text/plain": [
       "true"
      ]
     },
     "execution_count": 21,
     "metadata": {},
     "output_type": "execute_result"
    }
   ],
   "source": [
    "import CUDA\n",
    "CUDA.functional(true)"
   ]
  },
  {
   "cell_type": "code",
   "execution_count": 22,
   "id": "35004a96-7fbc-4ee5-9852-9793ebe03662",
   "metadata": {
    "scrolled": true
   },
   "outputs": [
    {
     "name": "stdout",
     "output_type": "stream",
     "text": [
      "CUDA runtime 12.5, artifact installation\n",
      "CUDA driver 12.0\n",
      "NVIDIA driver 525.60.13\n",
      "\n",
      "CUDA libraries: \n",
      "- CUBLAS: 12.5.3\n",
      "- CURAND: 10.3.6\n",
      "- CUFFT: 11.2.3\n",
      "- CUSOLVER: 11.6.3\n",
      "- CUSPARSE: 12.5.1\n",
      "- CUPTI: 2024.2.1 (API 23.0.0)\n",
      "- NVML: 12.0.0+525.60.13\n",
      "\n",
      "Julia packages: \n",
      "- CUDA: 5.4.3\n",
      "- CUDA_Driver_jll: 0.9.2+0\n",
      "- CUDA_Runtime_jll: 0.14.1+0\n",
      "\n",
      "Toolchain:\n",
      "- Julia: 1.10.5\n",
      "- LLVM: 15.0.7\n",
      "\n",
      "1 device:\n",
      "  0: NVIDIA A10 (sm_86, 22.048 GiB / 22.488 GiB available)\n"
     ]
    }
   ],
   "source": [
    "CUDA.versioninfo()"
   ]
  },
  {
   "cell_type": "markdown",
   "id": "71895a3d-209a-420e-bf91-dcdc81d1c403",
   "metadata": {},
   "source": [
    "The `CUDA.cu` function send an array to the GPU"
   ]
  },
  {
   "cell_type": "code",
   "execution_count": 23,
   "id": "657f83c4-90a8-4cf4-a27c-5117af447614",
   "metadata": {},
   "outputs": [
    {
     "data": {
      "text/plain": [
       "1×178 CUDA.CuArray{Float32, 2, CUDA.DeviceMemory}:\n",
       " -1.0  -1.0  -1.0  -1.0  -1.0  -1.0  …  1.0  1.0  1.0  1.0  1.0  1.0  1.0"
      ]
     },
     "execution_count": 23,
     "metadata": {},
     "output_type": "execute_result"
    }
   ],
   "source": [
    "CUDA.cu(y)"
   ]
  },
  {
   "cell_type": "markdown",
   "id": "66785769-3f50-475e-ba98-f49bb03e1c2b",
   "metadata": {},
   "source": [
    "Let's compare:"
   ]
  },
  {
   "cell_type": "code",
   "execution_count": 24,
   "id": "9bfb83c5-3098-49f8-aa12-46e1e11e2061",
   "metadata": {},
   "outputs": [
    {
     "data": {
      "text/plain": [
       "train_reverse_diff! (generic function with 2 methods)"
      ]
     },
     "execution_count": 24,
     "metadata": {},
     "output_type": "execute_result"
    }
   ],
   "source": [
    "function train_reverse_diff!(losses, model, X, y, opt, num_iters)\n",
    "    states = [Optimisers.init(opt, W) for W in model]\n",
    "    train_reverse_diff!(losses, model, X, y, opt, num_iters, states)\n",
    "end"
   ]
  },
  {
   "cell_type": "code",
   "execution_count": 26,
   "id": "0d8cff0e-b2ed-4bf7-8feb-ca0d91ec89f9",
   "metadata": {},
   "outputs": [
    {
     "data": {
      "text/plain": [
       "compare_cpu_gpu (generic function with 1 method)"
      ]
     },
     "execution_count": 26,
     "metadata": {},
     "output_type": "execute_result"
    }
   ],
   "source": [
    "function compare_cpu_gpu(losses, model, X, y, opt, num_iters)\n",
    "    println(\"CPU\")\n",
    "    train_reverse_diff!(losses, model, X, y, opt, num_iters)\n",
    "    println(\"GPU\")\n",
    "    train_reverse_diff!(losses, CUDA.cu.(model), CUDA.cu(X), CUDA.cu(y), opt, num_iters)\n",
    "end"
   ]
  },
  {
   "cell_type": "code",
   "execution_count": 28,
   "id": "a3db9af6-f31f-4670-9b64-754a1d08a0d0",
   "metadata": {},
   "outputs": [
    {
     "name": "stdout",
     "output_type": "stream",
     "text": [
      "CPU\n",
      "  0.000308 seconds (54 allocations: 325.812 KiB)\n",
      "GPU\n",
      "  0.000945 seconds (2.93 k allocations: 67.750 KiB)\n"
     ]
    }
   ],
   "source": [
    "compare_cpu_gpu(losses, model, X, y, opt, 2)"
   ]
  },
  {
   "cell_type": "markdown",
   "id": "001e2a63-cd4a-4ab7-83bf-43815d139b0e",
   "metadata": {},
   "source": [
    "The GPU computation is slower than CPU ?!? Let's try with a bigger model:"
   ]
  },
  {
   "cell_type": "code",
   "execution_count": 29,
   "id": "983797c8-45a5-4274-86cb-d32bdd72f7a4",
   "metadata": {},
   "outputs": [
    {
     "data": {
      "text/plain": [
       "compare_cpu_gpu (generic function with 2 methods)"
      ]
     },
     "execution_count": 29,
     "metadata": {},
     "output_type": "execute_result"
    }
   ],
   "source": [
    "function compare_cpu_gpu(losses, h::Int, X, y, opt, num_iters)\n",
    "    model = [init(h, size(X, 1)), init(size(y, 1), h)]\n",
    "    compare_cpu_gpu(losses, model, X, y, opt, num_iters)\n",
    "end"
   ]
  },
  {
   "cell_type": "code",
   "execution_count": 30,
   "id": "7efd8aa0-75fd-4a51-bd45-cf5625732753",
   "metadata": {},
   "outputs": [
    {
     "name": "stdout",
     "output_type": "stream",
     "text": [
      "CPU\n",
      "  0.010679 seconds (56 allocations: 9.624 MiB)\n",
      "GPU\n",
      "  0.001092 seconds (3.05 k allocations: 74.594 KiB)\n"
     ]
    }
   ],
   "source": [
    "compare_cpu_gpu(losses, 1000, X, y, opt, 2)"
   ]
  },
  {
   "cell_type": "markdown",
   "id": "81dd0afb-0721-4386-9d2c-3df57630ca16",
   "metadata": {},
   "source": [
    "Or with more data:"
   ]
  },
  {
   "cell_type": "code",
   "execution_count": 31,
   "id": "1645f2b4-f6b3-45a9-8e90-8d3aa554dfb8",
   "metadata": {},
   "outputs": [
    {
     "data": {
      "text/plain": [
       "repeat (generic function with 1 method)"
      ]
     },
     "execution_count": 31,
     "metadata": {},
     "output_type": "execute_result"
    }
   ],
   "source": [
    "repeat(x, n) = reduce(hcat, Iterators.repeated(x, n))"
   ]
  },
  {
   "cell_type": "code",
   "execution_count": 33,
   "id": "bf7a7e05",
   "metadata": {},
   "outputs": [
    {
     "name": "stdout",
     "output_type": "stream",
     "text": [
      "CPU\n",
      "  0.014660 seconds (66 allocations: 15.623 MiB)\n",
      "GPU\n",
      "  0.002225 seconds (3.10 k allocations: 73.531 KiB)\n"
     ]
    }
   ],
   "source": [
    "compare_cpu_gpu(losses, 32, repeat(X, 50), repeat(y, 50), opt, 2)"
   ]
  },
  {
   "cell_type": "markdown",
   "id": "f55bf651-63af-48f8-9a7a-87fd878fe380",
   "metadata": {},
   "source": [
    "Or both:"
   ]
  },
  {
   "cell_type": "code",
   "execution_count": 37,
   "id": "7778e916-6eb2-4ed3-9c4b-b7db8afe1f95",
   "metadata": {
    "scrolled": true
   },
   "outputs": [
    {
     "name": "stdout",
     "output_type": "stream",
     "text": [
      "CPU\n",
      "  0.026602 seconds (56 allocations: 30.539 MiB)\n",
      "GPU\n",
      "  0.001845 seconds (3.10 k allocations: 73.531 KiB)\n"
     ]
    }
   ],
   "source": [
    "compare_cpu_gpu(losses, 320, repeat(X, 10), repeat(y, 10), opt, 2)"
   ]
  },
  {
   "cell_type": "markdown",
   "id": "7c3f0944-14e1-4835-8e05-167fc58ab08c",
   "metadata": {},
   "source": [
    "## What about global minima ?\n",
    "\n",
    "### Linear neural network : identity activation function\n",
    "\n",
    "With 1 hidden layer, all second-order critical points (SOCPs) (zero gradient and positive semidefinite hessian) are global minima.\n",
    "With 2 hidden layers or more, some SOCPs are not global minima. For instance, the following is a SOCP:\n",
    "$$W_1 = \\begin{bmatrix}1 & 0\\end{bmatrix}, W_2 = \\begin{bmatrix}0\\end{bmatrix}, W_3 = \\begin{bmatrix}1\\\\0\\end{bmatrix}, X = \\begin{bmatrix}1 & 0\\\\0 & 1\\end{bmatrix}, Y = \\begin{bmatrix}0 & 0\\\\0 & 1\\end{bmatrix}$$\n",
    "However, this is not a local minimum.\n",
    "All local minima are global minima for any number of layers.\n",
    "\n",
    "### ReLU activation function\n",
    "\n",
    "There are local minima that are not global. Such cases can be constructed by considering that all inputs strictly activate or deactivate the same set of activation functions. This is then locally equivalent to a linear neural network. If this is a local minimum, this may not be a global one if the global minimum is attained by mixing activations between inputs. For instance, consider 1 hidden layer and $W_1$ such that all inputs to activation are strictly negative. Then the model output is locally zero so a local minimum."
   ]
  },
  {
   "cell_type": "code",
   "execution_count": null,
   "id": "c95e7a96-5829-4ec6-a690-3a7da715a546",
   "metadata": {},
   "outputs": [],
   "source": []
  }
 ],
 "metadata": {
  "kernelspec": {
   "display_name": "Julia 1.10.5",
   "language": "julia",
   "name": "julia-1.10"
  },
  "language_info": {
   "file_extension": ".jl",
   "mimetype": "application/julia",
   "name": "julia",
   "version": "1.10.5"
  }
 },
 "nbformat": 4,
 "nbformat_minor": 5
}

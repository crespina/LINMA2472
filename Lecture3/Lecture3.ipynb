{
 "cells": [
  {
   "cell_type": "markdown",
   "id": "592b4d93",
   "metadata": {},
   "source": [
    "# Lecture 3 : Training a Neural Network\n",
    "\n",
    "In this lecture, let's review how to train a neural network in details.\n",
    "\n",
    "## 🍷 Dataset\n",
    "\n",
    "We are going to consider the Wine dataset that distinguishes 3 different wines depending on 13 different features. In order to see what's going on underneath a tool like pytorch, we are going to now use any tool and implement everything ourself, even the Automatic Differentiation. Let's first activate the environment and make sure we have installed all the dependencies listed in the environment."
   ]
  },
  {
   "cell_type": "code",
   "execution_count": 1,
   "id": "58bbac1a",
   "metadata": {},
   "outputs": [
    {
     "name": "stderr",
     "output_type": "stream",
     "text": [
      "\u001b[32m\u001b[1m  Activating\u001b[22m\u001b[39m project at `~/git/UCLouvain/linma2472-private/Lecture3`\n"
     ]
    }
   ],
   "source": [
    "import Pkg\n",
    "Pkg.activate(\".\")"
   ]
  },
  {
   "cell_type": "markdown",
   "id": "0eb89aa7",
   "metadata": {},
   "source": [
    "If not already done, install the packages required by the environment."
   ]
  },
  {
   "cell_type": "code",
   "execution_count": null,
   "id": "447934ea",
   "metadata": {},
   "outputs": [],
   "source": [
    "Pkg.instantiate()"
   ]
  },
  {
   "cell_type": "markdown",
   "id": "e3fa07dc",
   "metadata": {},
   "source": [
    "The Wine dataset has 13 features. We import it directly as matrix and not as dataframe (hence the option `as_df = false`)."
   ]
  },
  {
   "cell_type": "code",
   "execution_count": 2,
   "id": "03f9c099",
   "metadata": {
    "scrolled": true
   },
   "outputs": [
    {
     "data": {
      "text/plain": [
       "dataset Wine:\n",
       "  metadata   =>    Dict{String, Any} with 4 entries\n",
       "  features   =>    13×178 Matrix{Float64}\n",
       "  targets    =>    1×178 Matrix{Int64}\n",
       "  dataframe  =>    nothing"
      ]
     },
     "execution_count": 2,
     "metadata": {},
     "output_type": "execute_result"
    }
   ],
   "source": [
    "import MLDatasets, DataFrames\n",
    "wine = MLDatasets.Wine(; as_df = false)"
   ]
  },
  {
   "cell_type": "markdown",
   "id": "f2c27917",
   "metadata": {},
   "source": [
    "We normalise each feature by shifting by its mean and dividing it by its standard deviation.\n",
    "We also convert to 32-bit floating point numbers.\n",
    "Even if the computer is 64-bit. Using 32-bit precision allows to decrease the required memory for the data and model by 2.\n",
    "GPUs also uses 32-bit floating point numbers so they will be faster with 32-bit."
   ]
  },
  {
   "cell_type": "code",
   "execution_count": 3,
   "id": "2677e3d4",
   "metadata": {},
   "outputs": [
    {
     "data": {
      "text/plain": [
       "13×178 Matrix{Float32}:\n",
       "  1.51434    0.245597   0.196325   …   0.331822   0.208643    1.39116\n",
       " -0.560668  -0.498009   0.0211715      1.73984    0.227053    1.57871\n",
       "  0.2314    -0.825667   1.10621       -0.38826    0.0126963   1.36137\n",
       " -1.1663    -2.48384   -0.267982       0.151234   0.151234    1.49872\n",
       "  1.90852    0.018094   0.0881098      1.41841    1.41841    -0.261969\n",
       "  0.806722   0.567048   0.806722   …  -1.12665   -1.03078    -0.391646\n",
       "  1.03191    0.731565   1.21211       -1.3408    -1.35081    -1.27072\n",
       " -0.657708  -0.818411  -0.497005       0.547563   1.35108     1.59213\n",
       "  1.22144   -0.543189   2.12996       -0.420888  -0.228701   -0.420888\n",
       "  0.251009  -0.292496   0.268263       2.21798    1.82976     1.78663\n",
       "  0.361158   0.404908   0.317409   …  -1.60759   -1.56384    -1.52009\n",
       "  1.84272    1.11032    0.786369      -1.48127   -1.39676    -1.42493\n",
       "  1.01016    0.962526   1.39122        0.279786   0.295664   -0.593486"
      ]
     },
     "execution_count": 3,
     "metadata": {},
     "output_type": "execute_result"
    }
   ],
   "source": [
    "import Statistics\n",
    "function normalise(x)\n",
    "  μ = Statistics.mean(x, dims=2)\n",
    "  σ = Statistics.std(x, dims=2, mean=μ)\n",
    "  return (x .- μ) ./ σ\n",
    "end\n",
    "X = Float32.(normalise(wine.features))"
   ]
  },
  {
   "cell_type": "markdown",
   "id": "7e65dba7",
   "metadata": {},
   "source": [
    "We convert the output to 32-bit. We could use one-hot encoding here but let's keep it simple."
   ]
  },
  {
   "cell_type": "code",
   "execution_count": 4,
   "id": "59ccbfda",
   "metadata": {},
   "outputs": [
    {
     "data": {
      "text/plain": [
       "1×178 Matrix{Float32}:\n",
       " -1.0  -1.0  -1.0  -1.0  -1.0  -1.0  …  1.0  1.0  1.0  1.0  1.0  1.0  1.0"
      ]
     },
     "execution_count": 4,
     "metadata": {},
     "output_type": "execute_result"
    }
   ],
   "source": [
    "y = Float32.(wine.targets) .- 2"
   ]
  },
  {
   "cell_type": "markdown",
   "id": "fa52e083",
   "metadata": {},
   "source": [
    "## ⚗️ Model\n",
    "\n",
    "Let's use 1 hidden layer with 32 `tanh` activation functions."
   ]
  },
  {
   "cell_type": "code",
   "execution_count": 5,
   "id": "2cd79479",
   "metadata": {},
   "outputs": [
    {
     "data": {
      "text/plain": [
       "1×178 Matrix{Float32}:\n",
       " -0.00406254  1.40675  0.010882  0.557059  …  0.729964  0.594918  -0.607687"
      ]
     },
     "execution_count": 5,
     "metadata": {},
     "output_type": "execute_result"
    }
   ],
   "source": [
    "function init(dims...)\n",
    "    (rand(Float32, dims...) .- Float32(0.5)) # .* sqrt(24.0f0 / (num_rows + num_cols))\n",
    "end\n",
    "h = 32\n",
    "model = [init(h, size(X, 1)), init(size(y, 1), h)]\n",
    "\n",
    "function estimate(model, X)\n",
    "    W1, W2 = model\n",
    "    return W2 * tanh.(W1 * X)\n",
    "end\n",
    "\n",
    "estimate(model, X)"
   ]
  },
  {
   "cell_type": "markdown",
   "id": "80de8fdb",
   "metadata": {},
   "source": [
    "The loss is computed using Mean Squared Errors (MSE)."
   ]
  },
  {
   "cell_type": "code",
   "execution_count": 6,
   "id": "b5b0c02b",
   "metadata": {},
   "outputs": [
    {
     "data": {
      "text/plain": [
       "1.6410899f0"
      ]
     },
     "execution_count": 6,
     "metadata": {},
     "output_type": "execute_result"
    }
   ],
   "source": [
    "function loss(model, X, y)\n",
    "    sum((estimate(model, X) .- y).^2) / size(X, 2)\n",
    "end\n",
    "loss(model, X, y)"
   ]
  },
  {
   "cell_type": "markdown",
   "id": "f9720ee0",
   "metadata": {},
   "source": [
    "## ⚒️ Automatic Differentiation\n",
    "\n",
    "### Forward Differentiation\n",
    "\n",
    "Forward differentiation can be implemented with operator overloading using the chain rule. This allows differentiating arbitrary code."
   ]
  },
  {
   "cell_type": "code",
   "execution_count": 7,
   "id": "86fb872d",
   "metadata": {},
   "outputs": [],
   "source": [
    "struct Dual{T}\n",
    "    value::T\n",
    "    derivative::T\n",
    "end\n",
    "Dual(x, y) = Dual{typeof(x)}(x, convert(typeof(x), y))\n",
    "\n",
    "# By linearity of the derivative\n",
    "Base.:*(α::T, x::Dual{T}) where {T} = Dual(α * x.value, α * x.derivative)\n",
    "Base.:*(x::Dual{T}, α::T) where {T} = Dual(x.value * α, x.derivative * α)\n",
    "Base.:+(x::Dual{T}, y::Dual{T}) where {T} = Dual(x.value + y.value, x.derivative + y.derivative)\n",
    "Base.:-(x::Dual{T}, y::T) where {T} = Dual(x.value - y, x.derivative)\n",
    "Base.:/(x::Dual, α::Number) = Dual(x.value / α, x.derivative / α)\n",
    "\n",
    "# The product rule\n",
    "Base.:*(x::Dual{T}, y::Dual{T}) where {T} = Dual(x.value * y.value, x.value * y.derivative + x.derivative * y.value)\n",
    "Base.:^(x::Dual, n::Integer) = Base.power_by_squaring(x, n)\n",
    "\n",
    "# Used to initialize accumulator in Matrix-Matrix product\n",
    "Base.zero(::Dual{T}) where {T} = Dual(zero(T), zero(T))\n",
    "\n",
    "# tanh(x)' = (1 - tanh(x)^2) * x'\n",
    "function Base.tanh(x::Dual)\n",
    "    y = tanh(x.value)\n",
    "    return Dual(y, (1 - y^2) * x.derivative)\n",
    "end"
   ]
  },
  {
   "cell_type": "markdown",
   "id": "2ae24e32",
   "metadata": {},
   "source": [
    "We need to compute the derivative with respect to each weight separately. To compute the derivative with respect to `model[i][j, k]`, we use a dual number `Dual(model[i][j, k], 1)` for that weight and `Dual(model[i'][j', k'], 0)` for the other weights."
   ]
  },
  {
   "cell_type": "code",
   "execution_count": 8,
   "id": "25f2fc87",
   "metadata": {
    "scrolled": true
   },
   "outputs": [
    {
     "data": {
      "text/plain": [
       "2-element Vector{Matrix{Float32}}:\n",
       " [-0.1051119 0.09428666 … -0.12797613 -0.18713857; -0.07611398 0.10896457 … -0.097582884 -0.18083568; … ; -0.23783705 0.07540423 … -0.15654108 -0.3620776; -0.31050986 0.20585349 … -0.29831308 -0.5073731]\n",
       " [-0.91347224 -1.4262512 … -0.46793005 0.55736864]"
      ]
     },
     "execution_count": 8,
     "metadata": {},
     "output_type": "execute_result"
    }
   ],
   "source": [
    "function ∇model(f, model, X, y, ∇i, ∇j, ∇k)\n",
    "    Δmodel = [\n",
    "        [ifelse((i, j, k) == (∇i, ∇j, ∇k), Dual(model[i][j, k], 1), Dual(model[i][j, k], 0)) for j in axes(model[i], 1), k in axes(model[i], 2)]\n",
    "        for i in eachindex(model)\n",
    "    ]\n",
    "    l = f(Δmodel, X, y)\n",
    "    return l.derivative\n",
    "end\n",
    "\n",
    "function ∇model(f, model, X, y, ∇i)\n",
    "    W = model[∇i]\n",
    "    return [∇model(f, model, X, y, ∇i, ∇j, ∇k) for ∇j in axes(W, 1), ∇k in axes(W, 2)]\n",
    "end\n",
    "\n",
    "function ∇model(f, model, X, y)\n",
    "    return [∇model(f, model, X, y, ∇i) for ∇i in eachindex(model)]\n",
    "end\n",
    "\n",
    "∇model(loss, model, X, y)"
   ]
  },
  {
   "cell_type": "markdown",
   "id": "5fb90c61",
   "metadata": {},
   "source": [
    "Run the following cell to restart with a new random model and reset the Adam optimiser accordingly."
   ]
  },
  {
   "cell_type": "code",
   "execution_count": 9,
   "id": "66df2127",
   "metadata": {},
   "outputs": [
    {
     "data": {
      "text/plain": [
       "2-element Vector{Tuple{Matrix{Float32}, Matrix{Float32}, Tuple{Float32, Float32}}}:\n",
       " ([0.0 0.0 … 0.0 0.0; 0.0 0.0 … 0.0 0.0; … ; 0.0 0.0 … 0.0 0.0; 0.0 0.0 … 0.0 0.0], [0.0 0.0 … 0.0 0.0; 0.0 0.0 … 0.0 0.0; … ; 0.0 0.0 … 0.0 0.0; 0.0 0.0 … 0.0 0.0], (0.9, 0.999))\n",
       " ([0.0 0.0 … 0.0 0.0], [0.0 0.0 … 0.0 0.0], (0.9, 0.999))"
      ]
     },
     "execution_count": 9,
     "metadata": {},
     "output_type": "execute_result"
    }
   ],
   "source": [
    "model = [init(h, size(X, 1)), init(size(y, 1), h)]\n",
    "losses = [loss(model, X, y)]\n",
    "import Optimisers\n",
    "opt = Optimisers.Adam()\n",
    "states = [Optimisers.init(opt, W) for W in model]"
   ]
  },
  {
   "cell_type": "markdown",
   "id": "bb44870c",
   "metadata": {},
   "source": [
    "The following cell runs 100 iterations using the whole dataset for each iteration."
   ]
  },
  {
   "cell_type": "code",
   "execution_count": 10,
   "id": "fbe37ad0",
   "metadata": {},
   "outputs": [
    {
     "name": "stdout",
     "output_type": "stream",
     "text": [
      "  3.027570 seconds (1.71 M allocations: 6.562 GiB, 3.65% gc time, 7.81% compilation time)\n"
     ]
    },
    {
     "data": {
      "text/plain": [
       "101-element Vector{Float32}:\n",
       " 1.9197679\n",
       " 1.8126762\n",
       " 1.7100246\n",
       " 1.6118748\n",
       " 1.518269\n",
       " 1.4292357\n",
       " 1.3447908\n",
       " 1.2649319\n",
       " 1.1896353\n",
       " 1.1188571\n",
       " 1.0525328\n",
       " 0.99057823\n",
       " 0.93288875\n",
       " ⋮\n",
       " 0.14479968\n",
       " 0.14334036\n",
       " 0.14191763\n",
       " 0.14053017\n",
       " 0.13917674\n",
       " 0.13785622\n",
       " 0.13656749\n",
       " 0.13530962\n",
       " 0.13408166\n",
       " 0.13288279\n",
       " 0.1317121\n",
       " 0.13056883"
      ]
     },
     "execution_count": 10,
     "metadata": {},
     "output_type": "execute_result"
    }
   ],
   "source": [
    "@time for epoch in 1:100\n",
    "    grads = ∇model(loss, model, X, y)\n",
    "    # Gradient descent with rate `η`\n",
    "    for i in eachindex(model)\n",
    "        states[i], ΔW = Optimisers.apply!(opt, states[i], model[i], grads[i])\n",
    "        model[i] .-= ΔW\n",
    "    end\n",
    "    push!(losses, loss(model, X, y))\n",
    "end\n",
    "losses"
   ]
  },
  {
   "cell_type": "code",
   "execution_count": 11,
   "id": "2e576cd1",
   "metadata": {},
   "outputs": [
    {
     "data": {
      "image/png": "[encoded data removed]",
      "image/svg+xml": [
       "<?xml version=\"1.0\" encoding=\"utf-8\"?>\n",
       "<svg xmlns=\"http://www.w3.org/2000/svg\" xmlns:xlink=\"http://www.w3.org/1999/xlink\" width=\"600\" height=\"400\" viewBox=\"0 0 2400 1600\">\n",
       "<defs>\n",
       "  <clipPath id=\"clip160\">\n",
       "    <rect x=\"0\" y=\"0\" width=\"2400\" height=\"1600\"/>\n",
       "  </clipPath>\n",
       "</defs>\n",
       "<path clip-path=\"url(#clip160)\" d=\"M0 1600 L2400 1600 L2400 0 L0 0  Z\" fill=\"#ffffff\" fill-rule=\"evenodd\" fill-opacity=\"1\"/>\n",
       "<defs>\n",
       "  <clipPath id=\"clip161\">\n",
       "    <rect x=\"480\" y=\"0\" width=\"1681\" height=\"1600\"/>\n",
       "  </clipPath>\n",
       "</defs>\n",
       "<path clip-path=\"url(#clip160)\" d=\"M193.936 1486.45 L2352.76 1486.45 L2352.76 47.2441 L193.936 47.2441  Z\" fill=\"#ffffff\" fill-rule=\"evenodd\" fill-opacity=\"1\"/>\n",
       "<defs>\n",
       "  <clipPath id=\"clip162\">\n",
       "    <rect x=\"193\" y=\"47\" width=\"2160\" height=\"1440\"/>\n",
       "  </clipPath>\n",
       "</defs>\n",
       "<polyline clip-path=\"url(#clip162)\" style=\"stroke:#000000; stroke-linecap:round; stroke-linejoin:round; stroke-width:2; stroke-opacity:0.1; fill:none\" points=\"234.668,1486.45 234.668,47.2441 \"/>\n",
       "<polyline clip-path=\"url(#clip162)\" style=\"stroke:#000000; stroke-linecap:round; stroke-linejoin:round; stroke-width:2; stroke-opacity:0.1; fill:none\" points=\"743.824,1486.45 743.824,47.2441 \"/>\n",
       "<polyline clip-path=\"url(#clip162)\" style=\"stroke:#000000; stroke-linecap:round; stroke-linejoin:round; stroke-width:2; stroke-opacity:0.1; fill:none\" points=\"1252.98,1486.45 1252.98,47.2441 \"/>\n",
       "<polyline clip-path=\"url(#clip162)\" style=\"stroke:#000000; stroke-linecap:round; stroke-linejoin:round; stroke-width:2; stroke-opacity:0.1; fill:none\" points=\"1762.14,1486.45 1762.14,47.2441 \"/>\n",
       "<polyline clip-path=\"url(#clip162)\" style=\"stroke:#000000; stroke-linecap:round; stroke-linejoin:round; stroke-width:2; stroke-opacity:0.1; fill:none\" points=\"2271.29,1486.45 2271.29,47.2441 \"/>\n",
       "<polyline clip-path=\"url(#clip162)\" style=\"stroke:#000000; stroke-linecap:round; stroke-linejoin:round; stroke-width:2; stroke-opacity:0.1; fill:none\" points=\"193.936,1427.61 2352.76,1427.61 \"/>\n",
       "<polyline clip-path=\"url(#clip162)\" style=\"stroke:#000000; stroke-linecap:round; stroke-linejoin:round; stroke-width:2; stroke-opacity:0.1; fill:none\" points=\"193.936,1175.06 2352.76,1175.06 \"/>\n",
       "<polyline clip-path=\"url(#clip162)\" style=\"stroke:#000000; stroke-linecap:round; stroke-linejoin:round; stroke-width:2; stroke-opacity:0.1; fill:none\" points=\"193.936,922.505 2352.76,922.505 \"/>\n",
       "<polyline clip-path=\"url(#clip162)\" style=\"stroke:#000000; stroke-linecap:round; stroke-linejoin:round; stroke-width:2; stroke-opacity:0.1; fill:none\" points=\"193.936,669.955 2352.76,669.955 \"/>\n",
       "<polyline clip-path=\"url(#clip162)\" style=\"stroke:#000000; stroke-linecap:round; stroke-linejoin:round; stroke-width:2; stroke-opacity:0.1; fill:none\" points=\"193.936,417.405 2352.76,417.405 \"/>\n",
       "<polyline clip-path=\"url(#clip162)\" style=\"stroke:#000000; stroke-linecap:round; stroke-linejoin:round; stroke-width:2; stroke-opacity:0.1; fill:none\" points=\"193.936,164.855 2352.76,164.855 \"/>\n",
       "<polyline clip-path=\"url(#clip160)\" style=\"stroke:#000000; stroke-linecap:round; stroke-linejoin:round; stroke-width:4; stroke-opacity:1; fill:none\" points=\"193.936,1486.45 2352.76,1486.45 \"/>\n",
       "<polyline clip-path=\"url(#clip160)\" style=\"stroke:#000000; stroke-linecap:round; stroke-linejoin:round; stroke-width:4; stroke-opacity:1; fill:none\" points=\"234.668,1486.45 234.668,1467.55 \"/>\n",
       "<polyline clip-path=\"url(#clip160)\" style=\"stroke:#000000; stroke-linecap:round; stroke-linejoin:round; stroke-width:4; stroke-opacity:1; fill:none\" points=\"743.824,1486.45 743.824,1467.55 \"/>\n",
       "<polyline clip-path=\"url(#clip160)\" style=\"stroke:#000000; stroke-linecap:round; stroke-linejoin:round; stroke-width:4; stroke-opacity:1; fill:none\" points=\"1252.98,1486.45 1252.98,1467.55 \"/>\n",
       "<polyline clip-path=\"url(#clip160)\" style=\"stroke:#000000; stroke-linecap:round; stroke-linejoin:round; stroke-width:4; stroke-opacity:1; fill:none\" points=\"1762.14,1486.45 1762.14,1467.55 \"/>\n",
       "<polyline clip-path=\"url(#clip160)\" style=\"stroke:#000000; stroke-linecap:round; stroke-linejoin:round; stroke-width:4; stroke-opacity:1; fill:none\" points=\"2271.29,1486.45 2271.29,1467.55 \"/>\n",
       "<path clip-path=\"url(#clip160)\" d=\"M234.668 1517.37 Q231.057 1517.37 229.229 1520.93 Q227.423 1524.47 227.423 1531.6 Q227.423 1538.71 229.229 1542.27 Q231.057 1545.82 234.668 1545.82 Q238.303 1545.82 240.108 1542.27 Q241.937 1538.71 241.937 1531.6 Q241.937 1524.47 240.108 1520.93 Q238.303 1517.37 234.668 1517.37 M234.668 1513.66 Q240.479 1513.66 243.534 1518.27 Q246.613 1522.85 246.613 1531.6 Q246.613 1540.33 243.534 1544.94 Q240.479 1549.52 234.668 1549.52 Q228.858 1549.52 225.78 1544.94 Q222.724 1540.33 222.724 1531.6 Q222.724 1522.85 225.78 1518.27 Q228.858 1513.66 234.668 1513.66 Z\" fill=\"#000000\" fill-rule=\"nonzero\" fill-opacity=\"1\" /><path clip-path=\"url(#clip160)\" d=\"M723.095 1544.91 L739.414 1544.91 L739.414 1548.85 L717.47 1548.85 L717.47 1544.91 Q720.132 1542.16 724.715 1537.53 Q729.322 1532.88 730.502 1531.53 Q732.748 1529.01 733.627 1527.27 Q734.53 1525.51 734.53 1523.82 Q734.53 1521.07 732.586 1519.33 Q730.664 1517.6 727.563 1517.6 Q725.364 1517.6 722.91 1518.36 Q720.479 1519.13 717.702 1520.68 L717.702 1515.95 Q720.526 1514.82 722.979 1514.24 Q725.433 1513.66 727.47 1513.66 Q732.84 1513.66 736.035 1516.35 Q739.229 1519.03 739.229 1523.52 Q739.229 1525.65 738.419 1527.57 Q737.632 1529.47 735.526 1532.07 Q734.947 1532.74 731.845 1535.95 Q728.743 1539.15 723.095 1544.91 Z\" fill=\"#000000\" fill-rule=\"nonzero\" fill-opacity=\"1\" /><path clip-path=\"url(#clip160)\" d=\"M749.275 1514.29 L767.632 1514.29 L767.632 1518.22 L753.558 1518.22 L753.558 1526.7 Q754.576 1526.35 755.595 1526.19 Q756.613 1526 757.632 1526 Q763.419 1526 766.799 1529.17 Q770.178 1532.34 770.178 1537.76 Q770.178 1543.34 766.706 1546.44 Q763.234 1549.52 756.914 1549.52 Q754.738 1549.52 752.47 1549.15 Q750.225 1548.78 747.817 1548.04 L747.817 1543.34 Q749.9 1544.47 752.123 1545.03 Q754.345 1545.58 756.822 1545.58 Q760.826 1545.58 763.164 1543.48 Q765.502 1541.37 765.502 1537.76 Q765.502 1534.15 763.164 1532.04 Q760.826 1529.94 756.822 1529.94 Q754.947 1529.94 753.072 1530.35 Q751.22 1530.77 749.275 1531.65 L749.275 1514.29 Z\" fill=\"#000000\" fill-rule=\"nonzero\" fill-opacity=\"1\" /><path clip-path=\"url(#clip160)\" d=\"M1227.68 1514.29 L1246.04 1514.29 L1246.04 1518.22 L1231.96 1518.22 L1231.96 1526.7 Q1232.98 1526.35 1234 1526.19 Q1235.02 1526 1236.04 1526 Q1241.82 1526 1245.2 1529.17 Q1248.58 1532.34 1248.58 1537.76 Q1248.58 1543.34 1245.11 1546.44 Q1241.64 1549.52 1235.32 1549.52 Q1233.14 1549.52 1230.87 1549.15 Q1228.63 1548.78 1226.22 1548.04 L1226.22 1543.34 Q1228.3 1544.47 1230.53 1545.03 Q1232.75 1545.58 1235.23 1545.58 Q1239.23 1545.58 1241.57 1543.48 Q1243.91 1541.37 1243.91 1537.76 Q1243.91 1534.15 1241.57 1532.04 Q1239.23 1529.94 1235.23 1529.94 Q1233.35 1529.94 1231.48 1530.35 Q1229.62 1530.77 1227.68 1531.65 L1227.68 1514.29 Z\" fill=\"#000000\" fill-rule=\"nonzero\" fill-opacity=\"1\" /><path clip-path=\"url(#clip160)\" d=\"M1267.79 1517.37 Q1264.18 1517.37 1262.35 1520.93 Q1260.55 1524.47 1260.55 1531.6 Q1260.55 1538.71 1262.35 1542.27 Q1264.18 1545.82 1267.79 1545.82 Q1271.43 1545.82 1273.23 1542.27 Q1275.06 1538.71 1275.06 1531.6 Q1275.06 1524.47 1273.23 1520.93 Q1271.43 1517.37 1267.79 1517.37 M1267.79 1513.66 Q1273.6 1513.66 1276.66 1518.27 Q1279.74 1522.85 1279.74 1531.6 Q1279.74 1540.33 1276.66 1544.94 Q1273.6 1549.52 1267.79 1549.52 Q1261.98 1549.52 1258.91 1544.94 Q1255.85 1540.33 1255.85 1531.6 Q1255.85 1522.85 1258.91 1518.27 Q1261.98 1513.66 1267.79 1513.66 Z\" fill=\"#000000\" fill-rule=\"nonzero\" fill-opacity=\"1\" /><path clip-path=\"url(#clip160)\" d=\"M1735.99 1514.29 L1758.21 1514.29 L1758.21 1516.28 L1745.67 1548.85 L1740.78 1548.85 L1752.59 1518.22 L1735.99 1518.22 L1735.99 1514.29 Z\" fill=\"#000000\" fill-rule=\"nonzero\" fill-opacity=\"1\" /><path clip-path=\"url(#clip160)\" d=\"M1767.38 1514.29 L1785.73 1514.29 L1785.73 1518.22 L1771.66 1518.22 L1771.66 1526.7 Q1772.68 1526.35 1773.7 1526.19 Q1774.72 1526 1775.73 1526 Q1781.52 1526 1784.9 1529.17 Q1788.28 1532.34 1788.28 1537.76 Q1788.28 1543.34 1784.81 1546.44 Q1781.34 1549.52 1775.02 1549.52 Q1772.84 1549.52 1770.57 1549.15 Q1768.33 1548.78 1765.92 1548.04 L1765.92 1543.34 Q1768 1544.47 1770.23 1545.03 Q1772.45 1545.58 1774.92 1545.58 Q1778.93 1545.58 1781.27 1543.48 Q1783.61 1541.37 1783.61 1537.76 Q1783.61 1534.15 1781.27 1532.04 Q1778.93 1529.94 1774.92 1529.94 Q1773.05 1529.94 1771.17 1530.35 Q1769.32 1530.77 1767.38 1531.65 L1767.38 1514.29 Z\" fill=\"#000000\" fill-rule=\"nonzero\" fill-opacity=\"1\" /><path clip-path=\"url(#clip160)\" d=\"M2230.9 1544.91 L2238.54 1544.91 L2238.54 1518.55 L2230.23 1520.21 L2230.23 1515.95 L2238.49 1514.29 L2243.17 1514.29 L2243.17 1544.91 L2250.81 1544.91 L2250.81 1548.85 L2230.9 1548.85 L2230.9 1544.91 Z\" fill=\"#000000\" fill-rule=\"nonzero\" fill-opacity=\"1\" /><path clip-path=\"url(#clip160)\" d=\"M2270.25 1517.37 Q2266.64 1517.37 2264.81 1520.93 Q2263 1524.47 2263 1531.6 Q2263 1538.71 2264.81 1542.27 Q2266.64 1545.82 2270.25 1545.82 Q2273.88 1545.82 2275.69 1542.27 Q2277.52 1538.71 2277.52 1531.6 Q2277.52 1524.47 2275.69 1520.93 Q2273.88 1517.37 2270.25 1517.37 M2270.25 1513.66 Q2276.06 1513.66 2279.12 1518.27 Q2282.19 1522.85 2282.19 1531.6 Q2282.19 1540.33 2279.12 1544.94 Q2276.06 1549.52 2270.25 1549.52 Q2264.44 1549.52 2261.36 1544.94 Q2258.3 1540.33 2258.3 1531.6 Q2258.3 1522.85 2261.36 1518.27 Q2264.44 1513.66 2270.25 1513.66 Z\" fill=\"#000000\" fill-rule=\"nonzero\" fill-opacity=\"1\" /><path clip-path=\"url(#clip160)\" d=\"M2300.41 1517.37 Q2296.8 1517.37 2294.97 1520.93 Q2293.17 1524.47 2293.17 1531.6 Q2293.17 1538.71 2294.97 1542.27 Q2296.8 1545.82 2300.41 1545.82 Q2304.05 1545.82 2305.85 1542.27 Q2307.68 1538.71 2307.68 1531.6 Q2307.68 1524.47 2305.85 1520.93 Q2304.05 1517.37 2300.41 1517.37 M2300.41 1513.66 Q2306.22 1513.66 2309.28 1518.27 Q2312.36 1522.85 2312.36 1531.6 Q2312.36 1540.33 2309.28 1544.94 Q2306.22 1549.52 2300.41 1549.52 Q2294.6 1549.52 2291.52 1544.94 Q2288.47 1540.33 2288.47 1531.6 Q2288.47 1522.85 2291.52 1518.27 Q2294.6 1513.66 2300.41 1513.66 Z\" fill=\"#000000\" fill-rule=\"nonzero\" fill-opacity=\"1\" /><polyline clip-path=\"url(#clip160)\" style=\"stroke:#000000; stroke-linecap:round; stroke-linejoin:round; stroke-width:4; stroke-opacity:1; fill:none\" points=\"193.936,1486.45 193.936,47.2441 \"/>\n",
       "<polyline clip-path=\"url(#clip160)\" style=\"stroke:#000000; stroke-linecap:round; stroke-linejoin:round; stroke-width:4; stroke-opacity:1; fill:none\" points=\"193.936,1427.61 212.834,1427.61 \"/>\n",
       "<polyline clip-path=\"url(#clip160)\" style=\"stroke:#000000; stroke-linecap:round; stroke-linejoin:round; stroke-width:4; stroke-opacity:1; fill:none\" points=\"193.936,1175.06 212.834,1175.06 \"/>\n",
       "<polyline clip-path=\"url(#clip160)\" style=\"stroke:#000000; stroke-linecap:round; stroke-linejoin:round; stroke-width:4; stroke-opacity:1; fill:none\" points=\"193.936,922.505 212.834,922.505 \"/>\n",
       "<polyline clip-path=\"url(#clip160)\" style=\"stroke:#000000; stroke-linecap:round; stroke-linejoin:round; stroke-width:4; stroke-opacity:1; fill:none\" points=\"193.936,669.955 212.834,669.955 \"/>\n",
       "<polyline clip-path=\"url(#clip160)\" style=\"stroke:#000000; stroke-linecap:round; stroke-linejoin:round; stroke-width:4; stroke-opacity:1; fill:none\" points=\"193.936,417.405 212.834,417.405 \"/>\n",
       "<polyline clip-path=\"url(#clip160)\" style=\"stroke:#000000; stroke-linecap:round; stroke-linejoin:round; stroke-width:4; stroke-opacity:1; fill:none\" points=\"193.936,164.855 212.834,164.855 \"/>\n",
       "<path clip-path=\"url(#clip160)\" d=\"M50.9921 1428.06 L80.6679 1428.06 L80.6679 1431.99 L50.9921 1431.99 L50.9921 1428.06 Z\" fill=\"#000000\" fill-rule=\"nonzero\" fill-opacity=\"1\" /><path clip-path=\"url(#clip160)\" d=\"M94.7882 1440.95 L111.108 1440.95 L111.108 1444.89 L89.1632 1444.89 L89.1632 1440.95 Q91.8252 1438.2 96.4085 1433.57 Q101.015 1428.91 102.196 1427.57 Q104.441 1425.05 105.321 1423.31 Q106.223 1421.55 106.223 1419.86 Q106.223 1417.11 104.279 1415.37 Q102.358 1413.64 99.2558 1413.64 Q97.0567 1413.64 94.603 1414.4 Q92.1725 1415.16 89.3947 1416.71 L89.3947 1411.99 Q92.2188 1410.86 94.6724 1410.28 Q97.1261 1409.7 99.1632 1409.7 Q104.534 1409.7 107.728 1412.39 Q110.922 1415.07 110.922 1419.56 Q110.922 1421.69 110.112 1423.61 Q109.325 1425.51 107.219 1428.1 Q106.64 1428.77 103.538 1431.99 Q100.436 1435.19 94.7882 1440.95 Z\" fill=\"#000000\" fill-rule=\"nonzero\" fill-opacity=\"1\" /><path clip-path=\"url(#clip160)\" d=\"M120.922 1439.01 L125.807 1439.01 L125.807 1444.89 L120.922 1444.89 L120.922 1439.01 Z\" fill=\"#000000\" fill-rule=\"nonzero\" fill-opacity=\"1\" /><path clip-path=\"url(#clip160)\" d=\"M145.992 1413.4 Q142.381 1413.4 140.552 1416.97 Q138.746 1420.51 138.746 1427.64 Q138.746 1434.75 140.552 1438.31 Q142.381 1441.85 145.992 1441.85 Q149.626 1441.85 151.431 1438.31 Q153.26 1434.75 153.26 1427.64 Q153.26 1420.51 151.431 1416.97 Q149.626 1413.4 145.992 1413.4 M145.992 1409.7 Q151.802 1409.7 154.857 1414.31 Q157.936 1418.89 157.936 1427.64 Q157.936 1436.37 154.857 1440.97 Q151.802 1445.56 145.992 1445.56 Q140.181 1445.56 137.103 1440.97 Q134.047 1436.37 134.047 1427.64 Q134.047 1418.89 137.103 1414.31 Q140.181 1409.7 145.992 1409.7 Z\" fill=\"#000000\" fill-rule=\"nonzero\" fill-opacity=\"1\" /><path clip-path=\"url(#clip160)\" d=\"M51.9875 1175.51 L81.6633 1175.51 L81.6633 1179.44 L51.9875 1179.44 L51.9875 1175.51 Z\" fill=\"#000000\" fill-rule=\"nonzero\" fill-opacity=\"1\" /><path clip-path=\"url(#clip160)\" d=\"M92.566 1188.4 L100.205 1188.4 L100.205 1162.03 L91.8947 1163.7 L91.8947 1159.44 L100.159 1157.78 L104.834 1157.78 L104.834 1188.4 L112.473 1188.4 L112.473 1192.34 L92.566 1192.34 L92.566 1188.4 Z\" fill=\"#000000\" fill-rule=\"nonzero\" fill-opacity=\"1\" /><path clip-path=\"url(#clip160)\" d=\"M121.918 1186.46 L126.802 1186.46 L126.802 1192.34 L121.918 1192.34 L121.918 1186.46 Z\" fill=\"#000000\" fill-rule=\"nonzero\" fill-opacity=\"1\" /><path clip-path=\"url(#clip160)\" d=\"M137.033 1157.78 L155.39 1157.78 L155.39 1161.71 L141.316 1161.71 L141.316 1170.18 Q142.334 1169.84 143.353 1169.67 Q144.371 1169.49 145.39 1169.49 Q151.177 1169.49 154.556 1172.66 Q157.936 1175.83 157.936 1181.25 Q157.936 1186.83 154.464 1189.93 Q150.992 1193.01 144.672 1193.01 Q142.496 1193.01 140.228 1192.64 Q137.982 1192.27 135.575 1191.53 L135.575 1186.83 Q137.658 1187.96 139.881 1188.52 Q142.103 1189.07 144.58 1189.07 Q148.584 1189.07 150.922 1186.96 Q153.26 1184.86 153.26 1181.25 Q153.26 1177.64 150.922 1175.53 Q148.584 1173.42 144.58 1173.42 Q142.705 1173.42 140.83 1173.84 Q138.978 1174.26 137.033 1175.14 L137.033 1157.78 Z\" fill=\"#000000\" fill-rule=\"nonzero\" fill-opacity=\"1\" /><path clip-path=\"url(#clip160)\" d=\"M50.9921 922.957 L80.6679 922.957 L80.6679 926.892 L50.9921 926.892 L50.9921 922.957 Z\" fill=\"#000000\" fill-rule=\"nonzero\" fill-opacity=\"1\" /><path clip-path=\"url(#clip160)\" d=\"M91.5706 935.85 L99.2095 935.85 L99.2095 909.484 L90.8993 911.151 L90.8993 906.892 L99.1632 905.225 L103.839 905.225 L103.839 935.85 L111.478 935.85 L111.478 939.785 L91.5706 939.785 L91.5706 935.85 Z\" fill=\"#000000\" fill-rule=\"nonzero\" fill-opacity=\"1\" /><path clip-path=\"url(#clip160)\" d=\"M120.922 933.906 L125.807 933.906 L125.807 939.785 L120.922 939.785 L120.922 933.906 Z\" fill=\"#000000\" fill-rule=\"nonzero\" fill-opacity=\"1\" /><path clip-path=\"url(#clip160)\" d=\"M145.992 908.304 Q142.381 908.304 140.552 911.869 Q138.746 915.41 138.746 922.54 Q138.746 929.646 140.552 933.211 Q142.381 936.753 145.992 936.753 Q149.626 936.753 151.431 933.211 Q153.26 929.646 153.26 922.54 Q153.26 915.41 151.431 911.869 Q149.626 908.304 145.992 908.304 M145.992 904.6 Q151.802 904.6 154.857 909.207 Q157.936 913.79 157.936 922.54 Q157.936 931.267 154.857 935.873 Q151.802 940.456 145.992 940.456 Q140.181 940.456 137.103 935.873 Q134.047 931.267 134.047 922.54 Q134.047 913.79 137.103 909.207 Q140.181 904.6 145.992 904.6 Z\" fill=\"#000000\" fill-rule=\"nonzero\" fill-opacity=\"1\" /><path clip-path=\"url(#clip160)\" d=\"M51.9875 670.406 L81.6633 670.406 L81.6633 674.342 L51.9875 674.342 L51.9875 670.406 Z\" fill=\"#000000\" fill-rule=\"nonzero\" fill-opacity=\"1\" /><path clip-path=\"url(#clip160)\" d=\"M101.756 655.754 Q98.1447 655.754 96.316 659.318 Q94.5104 662.86 94.5104 669.99 Q94.5104 677.096 96.316 680.661 Q98.1447 684.203 101.756 684.203 Q105.39 684.203 107.196 680.661 Q109.024 677.096 109.024 669.99 Q109.024 662.86 107.196 659.318 Q105.39 655.754 101.756 655.754 M101.756 652.05 Q107.566 652.05 110.621 656.656 Q113.7 661.24 113.7 669.99 Q113.7 678.717 110.621 683.323 Q107.566 687.906 101.756 687.906 Q95.9456 687.906 92.8669 683.323 Q89.8114 678.717 89.8114 669.99 Q89.8114 661.24 92.8669 656.656 Q95.9456 652.05 101.756 652.05 Z\" fill=\"#000000\" fill-rule=\"nonzero\" fill-opacity=\"1\" /><path clip-path=\"url(#clip160)\" d=\"M121.918 681.355 L126.802 681.355 L126.802 687.235 L121.918 687.235 L121.918 681.355 Z\" fill=\"#000000\" fill-rule=\"nonzero\" fill-opacity=\"1\" /><path clip-path=\"url(#clip160)\" d=\"M137.033 652.675 L155.39 652.675 L155.39 656.61 L141.316 656.61 L141.316 665.082 Q142.334 664.735 143.353 664.573 Q144.371 664.388 145.39 664.388 Q151.177 664.388 154.556 667.559 Q157.936 670.73 157.936 676.147 Q157.936 681.726 154.464 684.828 Q150.992 687.906 144.672 687.906 Q142.496 687.906 140.228 687.536 Q137.982 687.166 135.575 686.425 L135.575 681.726 Q137.658 682.86 139.881 683.416 Q142.103 683.971 144.58 683.971 Q148.584 683.971 150.922 681.865 Q153.26 679.758 153.26 676.147 Q153.26 672.536 150.922 670.43 Q148.584 668.323 144.58 668.323 Q142.705 668.323 140.83 668.74 Q138.978 669.156 137.033 670.036 L137.033 652.675 Z\" fill=\"#000000\" fill-rule=\"nonzero\" fill-opacity=\"1\" /><path clip-path=\"url(#clip160)\" d=\"M100.76 403.204 Q97.1493 403.204 95.3206 406.768 Q93.515 410.31 93.515 417.44 Q93.515 424.546 95.3206 428.111 Q97.1493 431.652 100.76 431.652 Q104.395 431.652 106.2 428.111 Q108.029 424.546 108.029 417.44 Q108.029 410.31 106.2 406.768 Q104.395 403.204 100.76 403.204 M100.76 399.5 Q106.571 399.5 109.626 404.106 Q112.705 408.69 112.705 417.44 Q112.705 426.166 109.626 430.773 Q106.571 435.356 100.76 435.356 Q94.9502 435.356 91.8715 430.773 Q88.816 426.166 88.816 417.44 Q88.816 408.69 91.8715 404.106 Q94.9502 399.5 100.76 399.5 Z\" fill=\"#000000\" fill-rule=\"nonzero\" fill-opacity=\"1\" /><path clip-path=\"url(#clip160)\" d=\"M120.922 428.805 L125.807 428.805 L125.807 434.685 L120.922 434.685 L120.922 428.805 Z\" fill=\"#000000\" fill-rule=\"nonzero\" fill-opacity=\"1\" /><path clip-path=\"url(#clip160)\" d=\"M145.992 403.204 Q142.381 403.204 140.552 406.768 Q138.746 410.31 138.746 417.44 Q138.746 424.546 140.552 428.111 Q142.381 431.652 145.992 431.652 Q149.626 431.652 151.431 428.111 Q153.26 424.546 153.26 417.44 Q153.26 410.31 151.431 406.768 Q149.626 403.204 145.992 403.204 M145.992 399.5 Q151.802 399.5 154.857 404.106 Q157.936 408.69 157.936 417.44 Q157.936 426.166 154.857 430.773 Q151.802 435.356 145.992 435.356 Q140.181 435.356 137.103 430.773 Q134.047 426.166 134.047 417.44 Q134.047 408.69 137.103 404.106 Q140.181 399.5 145.992 399.5 Z\" fill=\"#000000\" fill-rule=\"nonzero\" fill-opacity=\"1\" /><path clip-path=\"url(#clip160)\" d=\"M101.756 150.653 Q98.1447 150.653 96.316 154.218 Q94.5104 157.76 94.5104 164.889 Q94.5104 171.996 96.316 175.561 Q98.1447 179.102 101.756 179.102 Q105.39 179.102 107.196 175.561 Q109.024 171.996 109.024 164.889 Q109.024 157.76 107.196 154.218 Q105.39 150.653 101.756 150.653 M101.756 146.95 Q107.566 146.95 110.621 151.556 Q113.7 156.139 113.7 164.889 Q113.7 173.616 110.621 178.223 Q107.566 182.806 101.756 182.806 Q95.9456 182.806 92.8669 178.223 Q89.8114 173.616 89.8114 164.889 Q89.8114 156.139 92.8669 151.556 Q95.9456 146.95 101.756 146.95 Z\" fill=\"#000000\" fill-rule=\"nonzero\" fill-opacity=\"1\" /><path clip-path=\"url(#clip160)\" d=\"M121.918 176.255 L126.802 176.255 L126.802 182.135 L121.918 182.135 L121.918 176.255 Z\" fill=\"#000000\" fill-rule=\"nonzero\" fill-opacity=\"1\" /><path clip-path=\"url(#clip160)\" d=\"M137.033 147.575 L155.39 147.575 L155.39 151.51 L141.316 151.51 L141.316 159.982 Q142.334 159.635 143.353 159.473 Q144.371 159.288 145.39 159.288 Q151.177 159.288 154.556 162.459 Q157.936 165.63 157.936 171.047 Q157.936 176.625 154.464 179.727 Q150.992 182.806 144.672 182.806 Q142.496 182.806 140.228 182.436 Q137.982 182.065 135.575 181.325 L135.575 176.625 Q137.658 177.76 139.881 178.315 Q142.103 178.871 144.58 178.871 Q148.584 178.871 150.922 176.764 Q153.26 174.658 153.26 171.047 Q153.26 167.436 150.922 165.329 Q148.584 163.223 144.58 163.223 Q142.705 163.223 140.83 163.639 Q138.978 164.056 137.033 164.936 L137.033 147.575 Z\" fill=\"#000000\" fill-rule=\"nonzero\" fill-opacity=\"1\" /><polyline clip-path=\"url(#clip162)\" style=\"stroke:#009af9; stroke-linecap:round; stroke-linejoin:round; stroke-width:4; stroke-opacity:1; fill:none\" points=\"255.035,87.9763 275.401,116.969 295.767,146.415 316.133,176.271 336.5,206.49 356.866,237.013 377.232,267.775 397.598,298.697 417.964,329.696 438.331,360.678 458.697,391.544 479.063,422.186 499.429,452.494 519.796,482.352 540.162,511.648 560.528,540.272 580.894,568.12 601.261,595.102 621.627,621.138 641.993,646.167 662.359,670.144 682.725,693.046 703.092,714.867 723.458,735.622 743.824,755.343 764.19,774.078 784.557,791.889 804.923,808.846 825.289,825.028 845.655,840.515 866.021,855.392 886.388,869.737 906.754,883.628 927.12,897.136 947.486,910.324 967.853,923.247 988.219,935.953 1008.59,948.479 1028.95,960.855 1049.32,973.102 1069.68,985.235 1090.05,997.262 1110.42,1009.19 1130.78,1021 1151.15,1032.71 1171.51,1044.29 1191.88,1055.74 1212.25,1067.05 1232.61,1078.21 1252.98,1089.2 1273.35,1100.01 1293.71,1110.65 1314.08,1121.09 1334.44,1131.34 1354.81,1141.39 1375.18,1151.25 1395.54,1160.9 1415.91,1170.36 1436.28,1179.63 1456.64,1188.7 1477.01,1197.59 1497.37,1206.31 1517.74,1214.85 1538.11,1223.22 1558.47,1231.43 1578.84,1239.47 1599.21,1247.37 1619.57,1255.11 1639.94,1262.71 1660.3,1270.17 1680.67,1277.48 1701.04,1284.66 1721.4,1291.7 1741.77,1298.6 1762.14,1305.38 1782.5,1312.03 1802.87,1318.56 1823.23,1324.96 1843.6,1331.24 1863.97,1337.41 1884.33,1343.46 1904.7,1349.41 1925.07,1355.25 1945.43,1360.99 1965.8,1366.63 1986.16,1372.17 2006.53,1377.62 2026.9,1382.99 2047.26,1388.27 2067.63,1393.46 2087.99,1398.58 2108.36,1403.62 2128.73,1408.58 2149.09,1413.47 2169.46,1418.28 2189.83,1423.03 2210.19,1427.7 2230.56,1432.31 2250.92,1436.84 2271.29,1441.31 2291.66,1445.72 \"/>\n",
       "<path clip-path=\"url(#clip160)\" d=\"M1967.9 198.898 L2280.8 198.898 L2280.8 95.2176 L1967.9 95.2176  Z\" fill=\"#ffffff\" fill-rule=\"evenodd\" fill-opacity=\"1\"/>\n",
       "<polyline clip-path=\"url(#clip160)\" style=\"stroke:#000000; stroke-linecap:round; stroke-linejoin:round; stroke-width:4; stroke-opacity:1; fill:none\" points=\"1967.9,198.898 2280.8,198.898 2280.8,95.2176 1967.9,95.2176 1967.9,198.898 \"/>\n",
       "<polyline clip-path=\"url(#clip160)\" style=\"stroke:#009af9; stroke-linecap:round; stroke-linejoin:round; stroke-width:4; stroke-opacity:1; fill:none\" points=\"1991.89,147.058 2135.81,147.058 \"/>\n",
       "<path clip-path=\"url(#clip160)\" d=\"M2159.79 129.778 L2164.47 129.778 L2164.47 160.402 L2181.3 160.402 L2181.3 164.338 L2159.79 164.338 L2159.79 129.778 Z\" fill=\"#000000\" fill-rule=\"nonzero\" fill-opacity=\"1\" /><path clip-path=\"url(#clip160)\" d=\"M2195.23 141.398 Q2191.81 141.398 2189.82 144.083 Q2187.83 146.745 2187.83 151.398 Q2187.83 156.051 2189.79 158.736 Q2191.79 161.398 2195.23 161.398 Q2198.64 161.398 2200.63 158.713 Q2202.62 156.027 2202.62 151.398 Q2202.62 146.791 2200.63 144.106 Q2198.64 141.398 2195.23 141.398 M2195.23 137.787 Q2200.79 137.787 2203.96 141.398 Q2207.13 145.009 2207.13 151.398 Q2207.13 157.764 2203.96 161.398 Q2200.79 165.009 2195.23 165.009 Q2189.66 165.009 2186.48 161.398 Q2183.34 157.764 2183.34 151.398 Q2183.34 145.009 2186.48 141.398 Q2189.66 137.787 2195.23 137.787 Z\" fill=\"#000000\" fill-rule=\"nonzero\" fill-opacity=\"1\" /><path clip-path=\"url(#clip160)\" d=\"M2230.72 139.176 L2230.72 143.203 Q2228.91 142.277 2226.97 141.815 Q2225.03 141.352 2222.94 141.352 Q2219.77 141.352 2218.17 142.324 Q2216.6 143.296 2216.6 145.24 Q2216.6 146.722 2217.73 147.578 Q2218.87 148.412 2222.29 149.176 L2223.75 149.5 Q2228.29 150.472 2230.19 152.254 Q2232.11 154.014 2232.11 157.185 Q2232.11 160.796 2229.24 162.902 Q2226.39 165.009 2221.39 165.009 Q2219.31 165.009 2217.04 164.592 Q2214.79 164.199 2212.29 163.388 L2212.29 158.99 Q2214.66 160.217 2216.95 160.842 Q2219.24 161.444 2221.48 161.444 Q2224.49 161.444 2226.11 160.426 Q2227.73 159.384 2227.73 157.509 Q2227.73 155.773 2226.55 154.847 Q2225.4 153.921 2221.44 153.064 L2219.96 152.717 Q2216 151.884 2214.24 150.171 Q2212.48 148.435 2212.48 145.426 Q2212.48 141.768 2215.07 139.778 Q2217.67 137.787 2222.43 137.787 Q2224.79 137.787 2226.88 138.134 Q2228.96 138.481 2230.72 139.176 Z\" fill=\"#000000\" fill-rule=\"nonzero\" fill-opacity=\"1\" /><path clip-path=\"url(#clip160)\" d=\"M2255.42 139.176 L2255.42 143.203 Q2253.61 142.277 2251.67 141.815 Q2249.73 141.352 2247.64 141.352 Q2244.47 141.352 2242.87 142.324 Q2241.3 143.296 2241.3 145.24 Q2241.3 146.722 2242.43 147.578 Q2243.57 148.412 2246.99 149.176 L2248.45 149.5 Q2252.99 150.472 2254.89 152.254 Q2256.81 154.014 2256.81 157.185 Q2256.81 160.796 2253.94 162.902 Q2251.09 165.009 2246.09 165.009 Q2244.01 165.009 2241.74 164.592 Q2239.49 164.199 2236.99 163.388 L2236.99 158.99 Q2239.35 160.217 2241.65 160.842 Q2243.94 161.444 2246.18 161.444 Q2249.19 161.444 2250.81 160.426 Q2252.43 159.384 2252.43 157.509 Q2252.43 155.773 2251.25 154.847 Q2250.1 153.921 2246.14 153.064 L2244.66 152.717 Q2240.7 151.884 2238.94 150.171 Q2237.18 148.435 2237.18 145.426 Q2237.18 141.768 2239.77 139.778 Q2242.36 137.787 2247.13 137.787 Q2249.49 137.787 2251.58 138.134 Q2253.66 138.481 2255.42 139.176 Z\" fill=\"#000000\" fill-rule=\"nonzero\" fill-opacity=\"1\" /></svg>\n"
      ],
      "text/html": [
       "<?xml version=\"1.0\" encoding=\"utf-8\"?>\n",
       "<svg xmlns=\"http://www.w3.org/2000/svg\" xmlns:xlink=\"http://www.w3.org/1999/xlink\" width=\"600\" height=\"400\" viewBox=\"0 0 2400 1600\">\n",
       "<defs>\n",
       "  <clipPath id=\"clip210\">\n",
       "    <rect x=\"0\" y=\"0\" width=\"2400\" height=\"1600\"/>\n",
       "  </clipPath>\n",
       "</defs>\n",
       "<path clip-path=\"url(#clip210)\" d=\"M0 1600 L2400 1600 L2400 0 L0 0  Z\" fill=\"#ffffff\" fill-rule=\"evenodd\" fill-opacity=\"1\"/>\n",
       "<defs>\n",
       "  <clipPath id=\"clip211\">\n",
       "    <rect x=\"480\" y=\"0\" width=\"1681\" height=\"1600\"/>\n",
       "  </clipPath>\n",
       "</defs>\n",
       "<path clip-path=\"url(#clip210)\" d=\"M193.936 1486.45 L2352.76 1486.45 L2352.76 47.2441 L193.936 47.2441  Z\" fill=\"#ffffff\" fill-rule=\"evenodd\" fill-opacity=\"1\"/>\n",
       "<defs>\n",
       "  <clipPath id=\"clip212\">\n",
       "    <rect x=\"193\" y=\"47\" width=\"2160\" height=\"1440\"/>\n",
       "  </clipPath>\n",
       "</defs>\n",
       "<polyline clip-path=\"url(#clip212)\" style=\"stroke:#000000; stroke-linecap:round; stroke-linejoin:round; stroke-width:2; stroke-opacity:0.1; fill:none\" points=\"234.668,1486.45 234.668,47.2441 \"/>\n",
       "<polyline clip-path=\"url(#clip212)\" style=\"stroke:#000000; stroke-linecap:round; stroke-linejoin:round; stroke-width:2; stroke-opacity:0.1; fill:none\" points=\"743.824,1486.45 743.824,47.2441 \"/>\n",
       "<polyline clip-path=\"url(#clip212)\" style=\"stroke:#000000; stroke-linecap:round; stroke-linejoin:round; stroke-width:2; stroke-opacity:0.1; fill:none\" points=\"1252.98,1486.45 1252.98,47.2441 \"/>\n",
       "<polyline clip-path=\"url(#clip212)\" style=\"stroke:#000000; stroke-linecap:round; stroke-linejoin:round; stroke-width:2; stroke-opacity:0.1; fill:none\" points=\"1762.14,1486.45 1762.14,47.2441 \"/>\n",
       "<polyline clip-path=\"url(#clip212)\" style=\"stroke:#000000; stroke-linecap:round; stroke-linejoin:round; stroke-width:2; stroke-opacity:0.1; fill:none\" points=\"2271.29,1486.45 2271.29,47.2441 \"/>\n",
       "<polyline clip-path=\"url(#clip212)\" style=\"stroke:#000000; stroke-linecap:round; stroke-linejoin:round; stroke-width:2; stroke-opacity:0.1; fill:none\" points=\"193.936,1427.61 2352.76,1427.61 \"/>\n",
       "<polyline clip-path=\"url(#clip212)\" style=\"stroke:#000000; stroke-linecap:round; stroke-linejoin:round; stroke-width:2; stroke-opacity:0.1; fill:none\" points=\"193.936,1175.06 2352.76,1175.06 \"/>\n",
       "<polyline clip-path=\"url(#clip212)\" style=\"stroke:#000000; stroke-linecap:round; stroke-linejoin:round; stroke-width:2; stroke-opacity:0.1; fill:none\" points=\"193.936,922.505 2352.76,922.505 \"/>\n",
       "<polyline clip-path=\"url(#clip212)\" style=\"stroke:#000000; stroke-linecap:round; stroke-linejoin:round; stroke-width:2; stroke-opacity:0.1; fill:none\" points=\"193.936,669.955 2352.76,669.955 \"/>\n",
       "<polyline clip-path=\"url(#clip212)\" style=\"stroke:#000000; stroke-linecap:round; stroke-linejoin:round; stroke-width:2; stroke-opacity:0.1; fill:none\" points=\"193.936,417.405 2352.76,417.405 \"/>\n",
       "<polyline clip-path=\"url(#clip212)\" style=\"stroke:#000000; stroke-linecap:round; stroke-linejoin:round; stroke-width:2; stroke-opacity:0.1; fill:none\" points=\"193.936,164.855 2352.76,164.855 \"/>\n",
       "<polyline clip-path=\"url(#clip210)\" style=\"stroke:#000000; stroke-linecap:round; stroke-linejoin:round; stroke-width:4; stroke-opacity:1; fill:none\" points=\"193.936,1486.45 2352.76,1486.45 \"/>\n",
       "<polyline clip-path=\"url(#clip210)\" style=\"stroke:#000000; stroke-linecap:round; stroke-linejoin:round; stroke-width:4; stroke-opacity:1; fill:none\" points=\"234.668,1486.45 234.668,1467.55 \"/>\n",
       "<polyline clip-path=\"url(#clip210)\" style=\"stroke:#000000; stroke-linecap:round; stroke-linejoin:round; stroke-width:4; stroke-opacity:1; fill:none\" points=\"743.824,1486.45 743.824,1467.55 \"/>\n",
       "<polyline clip-path=\"url(#clip210)\" style=\"stroke:#000000; stroke-linecap:round; stroke-linejoin:round; stroke-width:4; stroke-opacity:1; fill:none\" points=\"1252.98,1486.45 1252.98,1467.55 \"/>\n",
       "<polyline clip-path=\"url(#clip210)\" style=\"stroke:#000000; stroke-linecap:round; stroke-linejoin:round; stroke-width:4; stroke-opacity:1; fill:none\" points=\"1762.14,1486.45 1762.14,1467.55 \"/>\n",
       "<polyline clip-path=\"url(#clip210)\" style=\"stroke:#000000; stroke-linecap:round; stroke-linejoin:round; stroke-width:4; stroke-opacity:1; fill:none\" points=\"2271.29,1486.45 2271.29,1467.55 \"/>\n",
       "<path clip-path=\"url(#clip210)\" d=\"M234.668 1517.37 Q231.057 1517.37 229.229 1520.93 Q227.423 1524.47 227.423 1531.6 Q227.423 1538.71 229.229 1542.27 Q231.057 1545.82 234.668 1545.82 Q238.303 1545.82 240.108 1542.27 Q241.937 1538.71 241.937 1531.6 Q241.937 1524.47 240.108 1520.93 Q238.303 1517.37 234.668 1517.37 M234.668 1513.66 Q240.479 1513.66 243.534 1518.27 Q246.613 1522.85 246.613 1531.6 Q246.613 1540.33 243.534 1544.94 Q240.479 1549.52 234.668 1549.52 Q228.858 1549.52 225.78 1544.94 Q222.724 1540.33 222.724 1531.6 Q222.724 1522.85 225.78 1518.27 Q228.858 1513.66 234.668 1513.66 Z\" fill=\"#000000\" fill-rule=\"nonzero\" fill-opacity=\"1\" /><path clip-path=\"url(#clip210)\" d=\"M723.095 1544.91 L739.414 1544.91 L739.414 1548.85 L717.47 1548.85 L717.47 1544.91 Q720.132 1542.16 724.715 1537.53 Q729.322 1532.88 730.502 1531.53 Q732.748 1529.01 733.627 1527.27 Q734.53 1525.51 734.53 1523.82 Q734.53 1521.07 732.586 1519.33 Q730.664 1517.6 727.563 1517.6 Q725.364 1517.6 722.91 1518.36 Q720.479 1519.13 717.702 1520.68 L717.702 1515.95 Q720.526 1514.82 722.979 1514.24 Q725.433 1513.66 727.47 1513.66 Q732.84 1513.66 736.035 1516.35 Q739.229 1519.03 739.229 1523.52 Q739.229 1525.65 738.419 1527.57 Q737.632 1529.47 735.526 1532.07 Q734.947 1532.74 731.845 1535.95 Q728.743 1539.15 723.095 1544.91 Z\" fill=\"#000000\" fill-rule=\"nonzero\" fill-opacity=\"1\" /><path clip-path=\"url(#clip210)\" d=\"M749.275 1514.29 L767.632 1514.29 L767.632 1518.22 L753.558 1518.22 L753.558 1526.7 Q754.576 1526.35 755.595 1526.19 Q756.613 1526 757.632 1526 Q763.419 1526 766.799 1529.17 Q770.178 1532.34 770.178 1537.76 Q770.178 1543.34 766.706 1546.44 Q763.234 1549.52 756.914 1549.52 Q754.738 1549.52 752.47 1549.15 Q750.225 1548.78 747.817 1548.04 L747.817 1543.34 Q749.9 1544.47 752.123 1545.03 Q754.345 1545.58 756.822 1545.58 Q760.826 1545.58 763.164 1543.48 Q765.502 1541.37 765.502 1537.76 Q765.502 1534.15 763.164 1532.04 Q760.826 1529.94 756.822 1529.94 Q754.947 1529.94 753.072 1530.35 Q751.22 1530.77 749.275 1531.65 L749.275 1514.29 Z\" fill=\"#000000\" fill-rule=\"nonzero\" fill-opacity=\"1\" /><path clip-path=\"url(#clip210)\" d=\"M1227.68 1514.29 L1246.04 1514.29 L1246.04 1518.22 L1231.96 1518.22 L1231.96 1526.7 Q1232.98 1526.35 1234 1526.19 Q1235.02 1526 1236.04 1526 Q1241.82 1526 1245.2 1529.17 Q1248.58 1532.34 1248.58 1537.76 Q1248.58 1543.34 1245.11 1546.44 Q1241.64 1549.52 1235.32 1549.52 Q1233.14 1549.52 1230.87 1549.15 Q1228.63 1548.78 1226.22 1548.04 L1226.22 1543.34 Q1228.3 1544.47 1230.53 1545.03 Q1232.75 1545.58 1235.23 1545.58 Q1239.23 1545.58 1241.57 1543.48 Q1243.91 1541.37 1243.91 1537.76 Q1243.91 1534.15 1241.57 1532.04 Q1239.23 1529.94 1235.23 1529.94 Q1233.35 1529.94 1231.48 1530.35 Q1229.62 1530.77 1227.68 1531.65 L1227.68 1514.29 Z\" fill=\"#000000\" fill-rule=\"nonzero\" fill-opacity=\"1\" /><path clip-path=\"url(#clip210)\" d=\"M1267.79 1517.37 Q1264.18 1517.37 1262.35 1520.93 Q1260.55 1524.47 1260.55 1531.6 Q1260.55 1538.71 1262.35 1542.27 Q1264.18 1545.82 1267.79 1545.82 Q1271.43 1545.82 1273.23 1542.27 Q1275.06 1538.71 1275.06 1531.6 Q1275.06 1524.47 1273.23 1520.93 Q1271.43 1517.37 1267.79 1517.37 M1267.79 1513.66 Q1273.6 1513.66 1276.66 1518.27 Q1279.74 1522.85 1279.74 1531.6 Q1279.74 1540.33 1276.66 1544.94 Q1273.6 1549.52 1267.79 1549.52 Q1261.98 1549.52 1258.91 1544.94 Q1255.85 1540.33 1255.85 1531.6 Q1255.85 1522.85 1258.91 1518.27 Q1261.98 1513.66 1267.79 1513.66 Z\" fill=\"#000000\" fill-rule=\"nonzero\" fill-opacity=\"1\" /><path clip-path=\"url(#clip210)\" d=\"M1735.99 1514.29 L1758.21 1514.29 L1758.21 1516.28 L1745.67 1548.85 L1740.78 1548.85 L1752.59 1518.22 L1735.99 1518.22 L1735.99 1514.29 Z\" fill=\"#000000\" fill-rule=\"nonzero\" fill-opacity=\"1\" /><path clip-path=\"url(#clip210)\" d=\"M1767.38 1514.29 L1785.73 1514.29 L1785.73 1518.22 L1771.66 1518.22 L1771.66 1526.7 Q1772.68 1526.35 1773.7 1526.19 Q1774.72 1526 1775.73 1526 Q1781.52 1526 1784.9 1529.17 Q1788.28 1532.34 1788.28 1537.76 Q1788.28 1543.34 1784.81 1546.44 Q1781.34 1549.52 1775.02 1549.52 Q1772.84 1549.52 1770.57 1549.15 Q1768.33 1548.78 1765.92 1548.04 L1765.92 1543.34 Q1768 1544.47 1770.23 1545.03 Q1772.45 1545.58 1774.92 1545.58 Q1778.93 1545.58 1781.27 1543.48 Q1783.61 1541.37 1783.61 1537.76 Q1783.61 1534.15 1781.27 1532.04 Q1778.93 1529.94 1774.92 1529.94 Q1773.05 1529.94 1771.17 1530.35 Q1769.32 1530.77 1767.38 1531.65 L1767.38 1514.29 Z\" fill=\"#000000\" fill-rule=\"nonzero\" fill-opacity=\"1\" /><path clip-path=\"url(#clip210)\" d=\"M2230.9 1544.91 L2238.54 1544.91 L2238.54 1518.55 L2230.23 1520.21 L2230.23 1515.95 L2238.49 1514.29 L2243.17 1514.29 L2243.17 1544.91 L2250.81 1544.91 L2250.81 1548.85 L2230.9 1548.85 L2230.9 1544.91 Z\" fill=\"#000000\" fill-rule=\"nonzero\" fill-opacity=\"1\" /><path clip-path=\"url(#clip210)\" d=\"M2270.25 1517.37 Q2266.64 1517.37 2264.81 1520.93 Q2263 1524.47 2263 1531.6 Q2263 1538.71 2264.81 1542.27 Q2266.64 1545.82 2270.25 1545.82 Q2273.88 1545.82 2275.69 1542.27 Q2277.52 1538.71 2277.52 1531.6 Q2277.52 1524.47 2275.69 1520.93 Q2273.88 1517.37 2270.25 1517.37 M2270.25 1513.66 Q2276.06 1513.66 2279.12 1518.27 Q2282.19 1522.85 2282.19 1531.6 Q2282.19 1540.33 2279.12 1544.94 Q2276.06 1549.52 2270.25 1549.52 Q2264.44 1549.52 2261.36 1544.94 Q2258.3 1540.33 2258.3 1531.6 Q2258.3 1522.85 2261.36 1518.27 Q2264.44 1513.66 2270.25 1513.66 Z\" fill=\"#000000\" fill-rule=\"nonzero\" fill-opacity=\"1\" /><path clip-path=\"url(#clip210)\" d=\"M2300.41 1517.37 Q2296.8 1517.37 2294.97 1520.93 Q2293.17 1524.47 2293.17 1531.6 Q2293.17 1538.71 2294.97 1542.27 Q2296.8 1545.82 2300.41 1545.82 Q2304.05 1545.82 2305.85 1542.27 Q2307.68 1538.71 2307.68 1531.6 Q2307.68 1524.47 2305.85 1520.93 Q2304.05 1517.37 2300.41 1517.37 M2300.41 1513.66 Q2306.22 1513.66 2309.28 1518.27 Q2312.36 1522.85 2312.36 1531.6 Q2312.36 1540.33 2309.28 1544.94 Q2306.22 1549.52 2300.41 1549.52 Q2294.6 1549.52 2291.52 1544.94 Q2288.47 1540.33 2288.47 1531.6 Q2288.47 1522.85 2291.52 1518.27 Q2294.6 1513.66 2300.41 1513.66 Z\" fill=\"#000000\" fill-rule=\"nonzero\" fill-opacity=\"1\" /><polyline clip-path=\"url(#clip210)\" style=\"stroke:#000000; stroke-linecap:round; stroke-linejoin:round; stroke-width:4; stroke-opacity:1; fill:none\" points=\"193.936,1486.45 193.936,47.2441 \"/>\n",
       "<polyline clip-path=\"url(#clip210)\" style=\"stroke:#000000; stroke-linecap:round; stroke-linejoin:round; stroke-width:4; stroke-opacity:1; fill:none\" points=\"193.936,1427.61 212.834,1427.61 \"/>\n",
       "<polyline clip-path=\"url(#clip210)\" style=\"stroke:#000000; stroke-linecap:round; stroke-linejoin:round; stroke-width:4; stroke-opacity:1; fill:none\" points=\"193.936,1175.06 212.834,1175.06 \"/>\n",
       "<polyline clip-path=\"url(#clip210)\" style=\"stroke:#000000; stroke-linecap:round; stroke-linejoin:round; stroke-width:4; stroke-opacity:1; fill:none\" points=\"193.936,922.505 212.834,922.505 \"/>\n",
       "<polyline clip-path=\"url(#clip210)\" style=\"stroke:#000000; stroke-linecap:round; stroke-linejoin:round; stroke-width:4; stroke-opacity:1; fill:none\" points=\"193.936,669.955 212.834,669.955 \"/>\n",
       "<polyline clip-path=\"url(#clip210)\" style=\"stroke:#000000; stroke-linecap:round; stroke-linejoin:round; stroke-width:4; stroke-opacity:1; fill:none\" points=\"193.936,417.405 212.834,417.405 \"/>\n",
       "<polyline clip-path=\"url(#clip210)\" style=\"stroke:#000000; stroke-linecap:round; stroke-linejoin:round; stroke-width:4; stroke-opacity:1; fill:none\" points=\"193.936,164.855 212.834,164.855 \"/>\n",
       "<path clip-path=\"url(#clip210)\" d=\"M50.9921 1428.06 L80.6679 1428.06 L80.6679 1431.99 L50.9921 1431.99 L50.9921 1428.06 Z\" fill=\"#000000\" fill-rule=\"nonzero\" fill-opacity=\"1\" /><path clip-path=\"url(#clip210)\" d=\"M94.7882 1440.95 L111.108 1440.95 L111.108 1444.89 L89.1632 1444.89 L89.1632 1440.95 Q91.8252 1438.2 96.4085 1433.57 Q101.015 1428.91 102.196 1427.57 Q104.441 1425.05 105.321 1423.31 Q106.223 1421.55 106.223 1419.86 Q106.223 1417.11 104.279 1415.37 Q102.358 1413.64 99.2558 1413.64 Q97.0567 1413.64 94.603 1414.4 Q92.1725 1415.16 89.3947 1416.71 L89.3947 1411.99 Q92.2188 1410.86 94.6724 1410.28 Q97.1261 1409.7 99.1632 1409.7 Q104.534 1409.7 107.728 1412.39 Q110.922 1415.07 110.922 1419.56 Q110.922 1421.69 110.112 1423.61 Q109.325 1425.51 107.219 1428.1 Q106.64 1428.77 103.538 1431.99 Q100.436 1435.19 94.7882 1440.95 Z\" fill=\"#000000\" fill-rule=\"nonzero\" fill-opacity=\"1\" /><path clip-path=\"url(#clip210)\" d=\"M120.922 1439.01 L125.807 1439.01 L125.807 1444.89 L120.922 1444.89 L120.922 1439.01 Z\" fill=\"#000000\" fill-rule=\"nonzero\" fill-opacity=\"1\" /><path clip-path=\"url(#clip210)\" d=\"M145.992 1413.4 Q142.381 1413.4 140.552 1416.97 Q138.746 1420.51 138.746 1427.64 Q138.746 1434.75 140.552 1438.31 Q142.381 1441.85 145.992 1441.85 Q149.626 1441.85 151.431 1438.31 Q153.26 1434.75 153.26 1427.64 Q153.26 1420.51 151.431 1416.97 Q149.626 1413.4 145.992 1413.4 M145.992 1409.7 Q151.802 1409.7 154.857 1414.31 Q157.936 1418.89 157.936 1427.64 Q157.936 1436.37 154.857 1440.97 Q151.802 1445.56 145.992 1445.56 Q140.181 1445.56 137.103 1440.97 Q134.047 1436.37 134.047 1427.64 Q134.047 1418.89 137.103 1414.31 Q140.181 1409.7 145.992 1409.7 Z\" fill=\"#000000\" fill-rule=\"nonzero\" fill-opacity=\"1\" /><path clip-path=\"url(#clip210)\" d=\"M51.9875 1175.51 L81.6633 1175.51 L81.6633 1179.44 L51.9875 1179.44 L51.9875 1175.51 Z\" fill=\"#000000\" fill-rule=\"nonzero\" fill-opacity=\"1\" /><path clip-path=\"url(#clip210)\" d=\"M92.566 1188.4 L100.205 1188.4 L100.205 1162.03 L91.8947 1163.7 L91.8947 1159.44 L100.159 1157.78 L104.834 1157.78 L104.834 1188.4 L112.473 1188.4 L112.473 1192.34 L92.566 1192.34 L92.566 1188.4 Z\" fill=\"#000000\" fill-rule=\"nonzero\" fill-opacity=\"1\" /><path clip-path=\"url(#clip210)\" d=\"M121.918 1186.46 L126.802 1186.46 L126.802 1192.34 L121.918 1192.34 L121.918 1186.46 Z\" fill=\"#000000\" fill-rule=\"nonzero\" fill-opacity=\"1\" /><path clip-path=\"url(#clip210)\" d=\"M137.033 1157.78 L155.39 1157.78 L155.39 1161.71 L141.316 1161.71 L141.316 1170.18 Q142.334 1169.84 143.353 1169.67 Q144.371 1169.49 145.39 1169.49 Q151.177 1169.49 154.556 1172.66 Q157.936 1175.83 157.936 1181.25 Q157.936 1186.83 154.464 1189.93 Q150.992 1193.01 144.672 1193.01 Q142.496 1193.01 140.228 1192.64 Q137.982 1192.27 135.575 1191.53 L135.575 1186.83 Q137.658 1187.96 139.881 1188.52 Q142.103 1189.07 144.58 1189.07 Q148.584 1189.07 150.922 1186.96 Q153.26 1184.86 153.26 1181.25 Q153.26 1177.64 150.922 1175.53 Q148.584 1173.42 144.58 1173.42 Q142.705 1173.42 140.83 1173.84 Q138.978 1174.26 137.033 1175.14 L137.033 1157.78 Z\" fill=\"#000000\" fill-rule=\"nonzero\" fill-opacity=\"1\" /><path clip-path=\"url(#clip210)\" d=\"M50.9921 922.957 L80.6679 922.957 L80.6679 926.892 L50.9921 926.892 L50.9921 922.957 Z\" fill=\"#000000\" fill-rule=\"nonzero\" fill-opacity=\"1\" /><path clip-path=\"url(#clip210)\" d=\"M91.5706 935.85 L99.2095 935.85 L99.2095 909.484 L90.8993 911.151 L90.8993 906.892 L99.1632 905.225 L103.839 905.225 L103.839 935.85 L111.478 935.85 L111.478 939.785 L91.5706 939.785 L91.5706 935.85 Z\" fill=\"#000000\" fill-rule=\"nonzero\" fill-opacity=\"1\" /><path clip-path=\"url(#clip210)\" d=\"M120.922 933.906 L125.807 933.906 L125.807 939.785 L120.922 939.785 L120.922 933.906 Z\" fill=\"#000000\" fill-rule=\"nonzero\" fill-opacity=\"1\" /><path clip-path=\"url(#clip210)\" d=\"M145.992 908.304 Q142.381 908.304 140.552 911.869 Q138.746 915.41 138.746 922.54 Q138.746 929.646 140.552 933.211 Q142.381 936.753 145.992 936.753 Q149.626 936.753 151.431 933.211 Q153.26 929.646 153.26 922.54 Q153.26 915.41 151.431 911.869 Q149.626 908.304 145.992 908.304 M145.992 904.6 Q151.802 904.6 154.857 909.207 Q157.936 913.79 157.936 922.54 Q157.936 931.267 154.857 935.873 Q151.802 940.456 145.992 940.456 Q140.181 940.456 137.103 935.873 Q134.047 931.267 134.047 922.54 Q134.047 913.79 137.103 909.207 Q140.181 904.6 145.992 904.6 Z\" fill=\"#000000\" fill-rule=\"nonzero\" fill-opacity=\"1\" /><path clip-path=\"url(#clip210)\" d=\"M51.9875 670.406 L81.6633 670.406 L81.6633 674.342 L51.9875 674.342 L51.9875 670.406 Z\" fill=\"#000000\" fill-rule=\"nonzero\" fill-opacity=\"1\" /><path clip-path=\"url(#clip210)\" d=\"M101.756 655.754 Q98.1447 655.754 96.316 659.318 Q94.5104 662.86 94.5104 669.99 Q94.5104 677.096 96.316 680.661 Q98.1447 684.203 101.756 684.203 Q105.39 684.203 107.196 680.661 Q109.024 677.096 109.024 669.99 Q109.024 662.86 107.196 659.318 Q105.39 655.754 101.756 655.754 M101.756 652.05 Q107.566 652.05 110.621 656.656 Q113.7 661.24 113.7 669.99 Q113.7 678.717 110.621 683.323 Q107.566 687.906 101.756 687.906 Q95.9456 687.906 92.8669 683.323 Q89.8114 678.717 89.8114 669.99 Q89.8114 661.24 92.8669 656.656 Q95.9456 652.05 101.756 652.05 Z\" fill=\"#000000\" fill-rule=\"nonzero\" fill-opacity=\"1\" /><path clip-path=\"url(#clip210)\" d=\"M121.918 681.355 L126.802 681.355 L126.802 687.235 L121.918 687.235 L121.918 681.355 Z\" fill=\"#000000\" fill-rule=\"nonzero\" fill-opacity=\"1\" /><path clip-path=\"url(#clip210)\" d=\"M137.033 652.675 L155.39 652.675 L155.39 656.61 L141.316 656.61 L141.316 665.082 Q142.334 664.735 143.353 664.573 Q144.371 664.388 145.39 664.388 Q151.177 664.388 154.556 667.559 Q157.936 670.73 157.936 676.147 Q157.936 681.726 154.464 684.828 Q150.992 687.906 144.672 687.906 Q142.496 687.906 140.228 687.536 Q137.982 687.166 135.575 686.425 L135.575 681.726 Q137.658 682.86 139.881 683.416 Q142.103 683.971 144.58 683.971 Q148.584 683.971 150.922 681.865 Q153.26 679.758 153.26 676.147 Q153.26 672.536 150.922 670.43 Q148.584 668.323 144.58 668.323 Q142.705 668.323 140.83 668.74 Q138.978 669.156 137.033 670.036 L137.033 652.675 Z\" fill=\"#000000\" fill-rule=\"nonzero\" fill-opacity=\"1\" /><path clip-path=\"url(#clip210)\" d=\"M100.76 403.204 Q97.1493 403.204 95.3206 406.768 Q93.515 410.31 93.515 417.44 Q93.515 424.546 95.3206 428.111 Q97.1493 431.652 100.76 431.652 Q104.395 431.652 106.2 428.111 Q108.029 424.546 108.029 417.44 Q108.029 410.31 106.2 406.768 Q104.395 403.204 100.76 403.204 M100.76 399.5 Q106.571 399.5 109.626 404.106 Q112.705 408.69 112.705 417.44 Q112.705 426.166 109.626 430.773 Q106.571 435.356 100.76 435.356 Q94.9502 435.356 91.8715 430.773 Q88.816 426.166 88.816 417.44 Q88.816 408.69 91.8715 404.106 Q94.9502 399.5 100.76 399.5 Z\" fill=\"#000000\" fill-rule=\"nonzero\" fill-opacity=\"1\" /><path clip-path=\"url(#clip210)\" d=\"M120.922 428.805 L125.807 428.805 L125.807 434.685 L120.922 434.685 L120.922 428.805 Z\" fill=\"#000000\" fill-rule=\"nonzero\" fill-opacity=\"1\" /><path clip-path=\"url(#clip210)\" d=\"M145.992 403.204 Q142.381 403.204 140.552 406.768 Q138.746 410.31 138.746 417.44 Q138.746 424.546 140.552 428.111 Q142.381 431.652 145.992 431.652 Q149.626 431.652 151.431 428.111 Q153.26 424.546 153.26 417.44 Q153.26 410.31 151.431 406.768 Q149.626 403.204 145.992 403.204 M145.992 399.5 Q151.802 399.5 154.857 404.106 Q157.936 408.69 157.936 417.44 Q157.936 426.166 154.857 430.773 Q151.802 435.356 145.992 435.356 Q140.181 435.356 137.103 430.773 Q134.047 426.166 134.047 417.44 Q134.047 408.69 137.103 404.106 Q140.181 399.5 145.992 399.5 Z\" fill=\"#000000\" fill-rule=\"nonzero\" fill-opacity=\"1\" /><path clip-path=\"url(#clip210)\" d=\"M101.756 150.653 Q98.1447 150.653 96.316 154.218 Q94.5104 157.76 94.5104 164.889 Q94.5104 171.996 96.316 175.561 Q98.1447 179.102 101.756 179.102 Q105.39 179.102 107.196 175.561 Q109.024 171.996 109.024 164.889 Q109.024 157.76 107.196 154.218 Q105.39 150.653 101.756 150.653 M101.756 146.95 Q107.566 146.95 110.621 151.556 Q113.7 156.139 113.7 164.889 Q113.7 173.616 110.621 178.223 Q107.566 182.806 101.756 182.806 Q95.9456 182.806 92.8669 178.223 Q89.8114 173.616 89.8114 164.889 Q89.8114 156.139 92.8669 151.556 Q95.9456 146.95 101.756 146.95 Z\" fill=\"#000000\" fill-rule=\"nonzero\" fill-opacity=\"1\" /><path clip-path=\"url(#clip210)\" d=\"M121.918 176.255 L126.802 176.255 L126.802 182.135 L121.918 182.135 L121.918 176.255 Z\" fill=\"#000000\" fill-rule=\"nonzero\" fill-opacity=\"1\" /><path clip-path=\"url(#clip210)\" d=\"M137.033 147.575 L155.39 147.575 L155.39 151.51 L141.316 151.51 L141.316 159.982 Q142.334 159.635 143.353 159.473 Q144.371 159.288 145.39 159.288 Q151.177 159.288 154.556 162.459 Q157.936 165.63 157.936 171.047 Q157.936 176.625 154.464 179.727 Q150.992 182.806 144.672 182.806 Q142.496 182.806 140.228 182.436 Q137.982 182.065 135.575 181.325 L135.575 176.625 Q137.658 177.76 139.881 178.315 Q142.103 178.871 144.58 178.871 Q148.584 178.871 150.922 176.764 Q153.26 174.658 153.26 171.047 Q153.26 167.436 150.922 165.329 Q148.584 163.223 144.58 163.223 Q142.705 163.223 140.83 163.639 Q138.978 164.056 137.033 164.936 L137.033 147.575 Z\" fill=\"#000000\" fill-rule=\"nonzero\" fill-opacity=\"1\" /><polyline clip-path=\"url(#clip212)\" style=\"stroke:#009af9; stroke-linecap:round; stroke-linejoin:round; stroke-width:4; stroke-opacity:1; fill:none\" points=\"255.035,87.9763 275.401,116.969 295.767,146.415 316.133,176.271 336.5,206.49 356.866,237.013 377.232,267.775 397.598,298.697 417.964,329.696 438.331,360.678 458.697,391.544 479.063,422.186 499.429,452.494 519.796,482.352 540.162,511.648 560.528,540.272 580.894,568.12 601.261,595.102 621.627,621.138 641.993,646.167 662.359,670.144 682.725,693.046 703.092,714.867 723.458,735.622 743.824,755.343 764.19,774.078 784.557,791.889 804.923,808.846 825.289,825.028 845.655,840.515 866.021,855.392 886.388,869.737 906.754,883.628 927.12,897.136 947.486,910.324 967.853,923.247 988.219,935.953 1008.59,948.479 1028.95,960.855 1049.32,973.102 1069.68,985.235 1090.05,997.262 1110.42,1009.19 1130.78,1021 1151.15,1032.71 1171.51,1044.29 1191.88,1055.74 1212.25,1067.05 1232.61,1078.21 1252.98,1089.2 1273.35,1100.01 1293.71,1110.65 1314.08,1121.09 1334.44,1131.34 1354.81,1141.39 1375.18,1151.25 1395.54,1160.9 1415.91,1170.36 1436.28,1179.63 1456.64,1188.7 1477.01,1197.59 1497.37,1206.31 1517.74,1214.85 1538.11,1223.22 1558.47,1231.43 1578.84,1239.47 1599.21,1247.37 1619.57,1255.11 1639.94,1262.71 1660.3,1270.17 1680.67,1277.48 1701.04,1284.66 1721.4,1291.7 1741.77,1298.6 1762.14,1305.38 1782.5,1312.03 1802.87,1318.56 1823.23,1324.96 1843.6,1331.24 1863.97,1337.41 1884.33,1343.46 1904.7,1349.41 1925.07,1355.25 1945.43,1360.99 1965.8,1366.63 1986.16,1372.17 2006.53,1377.62 2026.9,1382.99 2047.26,1388.27 2067.63,1393.46 2087.99,1398.58 2108.36,1403.62 2128.73,1408.58 2149.09,1413.47 2169.46,1418.28 2189.83,1423.03 2210.19,1427.7 2230.56,1432.31 2250.92,1436.84 2271.29,1441.31 2291.66,1445.72 \"/>\n",
       "<path clip-path=\"url(#clip210)\" d=\"M1967.9 198.898 L2280.8 198.898 L2280.8 95.2176 L1967.9 95.2176  Z\" fill=\"#ffffff\" fill-rule=\"evenodd\" fill-opacity=\"1\"/>\n",
       "<polyline clip-path=\"url(#clip210)\" style=\"stroke:#000000; stroke-linecap:round; stroke-linejoin:round; stroke-width:4; stroke-opacity:1; fill:none\" points=\"1967.9,198.898 2280.8,198.898 2280.8,95.2176 1967.9,95.2176 1967.9,198.898 \"/>\n",
       "<polyline clip-path=\"url(#clip210)\" style=\"stroke:#009af9; stroke-linecap:round; stroke-linejoin:round; stroke-width:4; stroke-opacity:1; fill:none\" points=\"1991.89,147.058 2135.81,147.058 \"/>\n",
       "<path clip-path=\"url(#clip210)\" d=\"M2159.79 129.778 L2164.47 129.778 L2164.47 160.402 L2181.3 160.402 L2181.3 164.338 L2159.79 164.338 L2159.79 129.778 Z\" fill=\"#000000\" fill-rule=\"nonzero\" fill-opacity=\"1\" /><path clip-path=\"url(#clip210)\" d=\"M2195.23 141.398 Q2191.81 141.398 2189.82 144.083 Q2187.83 146.745 2187.83 151.398 Q2187.83 156.051 2189.79 158.736 Q2191.79 161.398 2195.23 161.398 Q2198.64 161.398 2200.63 158.713 Q2202.62 156.027 2202.62 151.398 Q2202.62 146.791 2200.63 144.106 Q2198.64 141.398 2195.23 141.398 M2195.23 137.787 Q2200.79 137.787 2203.96 141.398 Q2207.13 145.009 2207.13 151.398 Q2207.13 157.764 2203.96 161.398 Q2200.79 165.009 2195.23 165.009 Q2189.66 165.009 2186.48 161.398 Q2183.34 157.764 2183.34 151.398 Q2183.34 145.009 2186.48 141.398 Q2189.66 137.787 2195.23 137.787 Z\" fill=\"#000000\" fill-rule=\"nonzero\" fill-opacity=\"1\" /><path clip-path=\"url(#clip210)\" d=\"M2230.72 139.176 L2230.72 143.203 Q2228.91 142.277 2226.97 141.815 Q2225.03 141.352 2222.94 141.352 Q2219.77 141.352 2218.17 142.324 Q2216.6 143.296 2216.6 145.24 Q2216.6 146.722 2217.73 147.578 Q2218.87 148.412 2222.29 149.176 L2223.75 149.5 Q2228.29 150.472 2230.19 152.254 Q2232.11 154.014 2232.11 157.185 Q2232.11 160.796 2229.24 162.902 Q2226.39 165.009 2221.39 165.009 Q2219.31 165.009 2217.04 164.592 Q2214.79 164.199 2212.29 163.388 L2212.29 158.99 Q2214.66 160.217 2216.95 160.842 Q2219.24 161.444 2221.48 161.444 Q2224.49 161.444 2226.11 160.426 Q2227.73 159.384 2227.73 157.509 Q2227.73 155.773 2226.55 154.847 Q2225.4 153.921 2221.44 153.064 L2219.96 152.717 Q2216 151.884 2214.24 150.171 Q2212.48 148.435 2212.48 145.426 Q2212.48 141.768 2215.07 139.778 Q2217.67 137.787 2222.43 137.787 Q2224.79 137.787 2226.88 138.134 Q2228.96 138.481 2230.72 139.176 Z\" fill=\"#000000\" fill-rule=\"nonzero\" fill-opacity=\"1\" /><path clip-path=\"url(#clip210)\" d=\"M2255.42 139.176 L2255.42 143.203 Q2253.61 142.277 2251.67 141.815 Q2249.73 141.352 2247.64 141.352 Q2244.47 141.352 2242.87 142.324 Q2241.3 143.296 2241.3 145.24 Q2241.3 146.722 2242.43 147.578 Q2243.57 148.412 2246.99 149.176 L2248.45 149.5 Q2252.99 150.472 2254.89 152.254 Q2256.81 154.014 2256.81 157.185 Q2256.81 160.796 2253.94 162.902 Q2251.09 165.009 2246.09 165.009 Q2244.01 165.009 2241.74 164.592 Q2239.49 164.199 2236.99 163.388 L2236.99 158.99 Q2239.35 160.217 2241.65 160.842 Q2243.94 161.444 2246.18 161.444 Q2249.19 161.444 2250.81 160.426 Q2252.43 159.384 2252.43 157.509 Q2252.43 155.773 2251.25 154.847 Q2250.1 153.921 2246.14 153.064 L2244.66 152.717 Q2240.7 151.884 2238.94 150.171 Q2237.18 148.435 2237.18 145.426 Q2237.18 141.768 2239.77 139.778 Q2242.36 137.787 2247.13 137.787 Q2249.49 137.787 2251.58 138.134 Q2253.66 138.481 2255.42 139.176 Z\" fill=\"#000000\" fill-rule=\"nonzero\" fill-opacity=\"1\" /></svg>\n"
      ]
     },
     "execution_count": 11,
     "metadata": {},
     "output_type": "execute_result"
    }
   ],
   "source": [
    "using Plots\n",
    "plot(eachindex(losses), log.(losses), label = \"Loss\")"
   ]
  },
  {
   "cell_type": "code",
   "execution_count": 12,
   "id": "f51b61b4",
   "metadata": {},
   "outputs": [
    {
     "data": {
      "image/png": "[encoded data removed]",
      "image/svg+xml": [
       "<?xml version=\"1.0\" encoding=\"utf-8\"?>\n",
       "<svg xmlns=\"http://www.w3.org/2000/svg\" xmlns:xlink=\"http://www.w3.org/1999/xlink\" width=\"600\" height=\"400\" viewBox=\"0 0 2400 1600\">\n",
       "<defs>\n",
       "  <clipPath id=\"clip250\">\n",
       "    <rect x=\"0\" y=\"0\" width=\"2400\" height=\"1600\"/>\n",
       "  </clipPath>\n",
       "</defs>\n",
       "<path clip-path=\"url(#clip250)\" d=\"M0 1600 L2400 1600 L2400 0 L0 0  Z\" fill=\"#ffffff\" fill-rule=\"evenodd\" fill-opacity=\"1\"/>\n",
       "<defs>\n",
       "  <clipPath id=\"clip251\">\n",
       "    <rect x=\"480\" y=\"0\" width=\"1681\" height=\"1600\"/>\n",
       "  </clipPath>\n",
       "</defs>\n",
       "<path clip-path=\"url(#clip250)\" d=\"M193.936 1486.45 L2352.76 1486.45 L2352.76 47.2441 L193.936 47.2441  Z\" fill=\"#ffffff\" fill-rule=\"evenodd\" fill-opacity=\"1\"/>\n",
       "<defs>\n",
       "  <clipPath id=\"clip252\">\n",
       "    <rect x=\"193\" y=\"47\" width=\"2160\" height=\"1440\"/>\n",
       "  </clipPath>\n",
       "</defs>\n",
       "<polyline clip-path=\"url(#clip252)\" style=\"stroke:#000000; stroke-linecap:round; stroke-linejoin:round; stroke-width:2; stroke-opacity:0.1; fill:none\" points=\"243.528,1486.45 243.528,47.2441 \"/>\n",
       "<polyline clip-path=\"url(#clip252)\" style=\"stroke:#000000; stroke-linecap:round; stroke-linejoin:round; stroke-width:2; stroke-opacity:0.1; fill:none\" points=\"818.845,1486.45 818.845,47.2441 \"/>\n",
       "<polyline clip-path=\"url(#clip252)\" style=\"stroke:#000000; stroke-linecap:round; stroke-linejoin:round; stroke-width:2; stroke-opacity:0.1; fill:none\" points=\"1394.16,1486.45 1394.16,47.2441 \"/>\n",
       "<polyline clip-path=\"url(#clip252)\" style=\"stroke:#000000; stroke-linecap:round; stroke-linejoin:round; stroke-width:2; stroke-opacity:0.1; fill:none\" points=\"1969.48,1486.45 1969.48,47.2441 \"/>\n",
       "<polyline clip-path=\"url(#clip252)\" style=\"stroke:#000000; stroke-linecap:round; stroke-linejoin:round; stroke-width:2; stroke-opacity:0.1; fill:none\" points=\"193.936,1252.46 2352.76,1252.46 \"/>\n",
       "<polyline clip-path=\"url(#clip252)\" style=\"stroke:#000000; stroke-linecap:round; stroke-linejoin:round; stroke-width:2; stroke-opacity:0.1; fill:none\" points=\"193.936,1014.45 2352.76,1014.45 \"/>\n",
       "<polyline clip-path=\"url(#clip252)\" style=\"stroke:#000000; stroke-linecap:round; stroke-linejoin:round; stroke-width:2; stroke-opacity:0.1; fill:none\" points=\"193.936,776.439 2352.76,776.439 \"/>\n",
       "<polyline clip-path=\"url(#clip252)\" style=\"stroke:#000000; stroke-linecap:round; stroke-linejoin:round; stroke-width:2; stroke-opacity:0.1; fill:none\" points=\"193.936,538.428 2352.76,538.428 \"/>\n",
       "<polyline clip-path=\"url(#clip252)\" style=\"stroke:#000000; stroke-linecap:round; stroke-linejoin:round; stroke-width:2; stroke-opacity:0.1; fill:none\" points=\"193.936,300.417 2352.76,300.417 \"/>\n",
       "<polyline clip-path=\"url(#clip252)\" style=\"stroke:#000000; stroke-linecap:round; stroke-linejoin:round; stroke-width:2; stroke-opacity:0.1; fill:none\" points=\"193.936,62.4069 2352.76,62.4069 \"/>\n",
       "<polyline clip-path=\"url(#clip250)\" style=\"stroke:#000000; stroke-linecap:round; stroke-linejoin:round; stroke-width:4; stroke-opacity:1; fill:none\" points=\"193.936,1486.45 2352.76,1486.45 \"/>\n",
       "<polyline clip-path=\"url(#clip250)\" style=\"stroke:#000000; stroke-linecap:round; stroke-linejoin:round; stroke-width:4; stroke-opacity:1; fill:none\" points=\"243.528,1486.45 243.528,1467.55 \"/>\n",
       "<polyline clip-path=\"url(#clip250)\" style=\"stroke:#000000; stroke-linecap:round; stroke-linejoin:round; stroke-width:4; stroke-opacity:1; fill:none\" points=\"818.845,1486.45 818.845,1467.55 \"/>\n",
       "<polyline clip-path=\"url(#clip250)\" style=\"stroke:#000000; stroke-linecap:round; stroke-linejoin:round; stroke-width:4; stroke-opacity:1; fill:none\" points=\"1394.16,1486.45 1394.16,1467.55 \"/>\n",
       "<polyline clip-path=\"url(#clip250)\" style=\"stroke:#000000; stroke-linecap:round; stroke-linejoin:round; stroke-width:4; stroke-opacity:1; fill:none\" points=\"1969.48,1486.45 1969.48,1467.55 \"/>\n",
       "<path clip-path=\"url(#clip250)\" d=\"M243.528 1517.37 Q239.917 1517.37 238.089 1520.93 Q236.283 1524.47 236.283 1531.6 Q236.283 1538.71 238.089 1542.27 Q239.917 1545.82 243.528 1545.82 Q247.163 1545.82 248.968 1542.27 Q250.797 1538.71 250.797 1531.6 Q250.797 1524.47 248.968 1520.93 Q247.163 1517.37 243.528 1517.37 M243.528 1513.66 Q249.338 1513.66 252.394 1518.27 Q255.473 1522.85 255.473 1531.6 Q255.473 1540.33 252.394 1544.94 Q249.338 1549.52 243.528 1549.52 Q237.718 1549.52 234.639 1544.94 Q231.584 1540.33 231.584 1531.6 Q231.584 1522.85 234.639 1518.27 Q237.718 1513.66 243.528 1513.66 Z\" fill=\"#000000\" fill-rule=\"nonzero\" fill-opacity=\"1\" /><path clip-path=\"url(#clip250)\" d=\"M793.545 1514.29 L811.901 1514.29 L811.901 1518.22 L797.827 1518.22 L797.827 1526.7 Q798.846 1526.35 799.864 1526.19 Q800.883 1526 801.901 1526 Q807.688 1526 811.068 1529.17 Q814.447 1532.34 814.447 1537.76 Q814.447 1543.34 810.975 1546.44 Q807.503 1549.52 801.183 1549.52 Q799.008 1549.52 796.739 1549.15 Q794.494 1548.78 792.086 1548.04 L792.086 1543.34 Q794.17 1544.47 796.392 1545.03 Q798.614 1545.58 801.091 1545.58 Q805.096 1545.58 807.433 1543.48 Q809.771 1541.37 809.771 1537.76 Q809.771 1534.15 807.433 1532.04 Q805.096 1529.94 801.091 1529.94 Q799.216 1529.94 797.341 1530.35 Q795.489 1530.77 793.545 1531.65 L793.545 1514.29 Z\" fill=\"#000000\" fill-rule=\"nonzero\" fill-opacity=\"1\" /><path clip-path=\"url(#clip250)\" d=\"M833.66 1517.37 Q830.049 1517.37 828.22 1520.93 Q826.415 1524.47 826.415 1531.6 Q826.415 1538.71 828.22 1542.27 Q830.049 1545.82 833.66 1545.82 Q837.294 1545.82 839.1 1542.27 Q840.929 1538.71 840.929 1531.6 Q840.929 1524.47 839.1 1520.93 Q837.294 1517.37 833.66 1517.37 M833.66 1513.66 Q839.47 1513.66 842.526 1518.27 Q845.605 1522.85 845.605 1531.6 Q845.605 1540.33 842.526 1544.94 Q839.47 1549.52 833.66 1549.52 Q827.85 1549.52 824.771 1544.94 Q821.716 1540.33 821.716 1531.6 Q821.716 1522.85 824.771 1518.27 Q827.85 1513.66 833.66 1513.66 Z\" fill=\"#000000\" fill-rule=\"nonzero\" fill-opacity=\"1\" /><path clip-path=\"url(#clip250)\" d=\"M1353.77 1544.91 L1361.41 1544.91 L1361.41 1518.55 L1353.1 1520.21 L1353.1 1515.95 L1361.36 1514.29 L1366.04 1514.29 L1366.04 1544.91 L1373.68 1544.91 L1373.68 1548.85 L1353.77 1548.85 L1353.77 1544.91 Z\" fill=\"#000000\" fill-rule=\"nonzero\" fill-opacity=\"1\" /><path clip-path=\"url(#clip250)\" d=\"M1393.12 1517.37 Q1389.51 1517.37 1387.68 1520.93 Q1385.88 1524.47 1385.88 1531.6 Q1385.88 1538.71 1387.68 1542.27 Q1389.51 1545.82 1393.12 1545.82 Q1396.76 1545.82 1398.56 1542.27 Q1400.39 1538.71 1400.39 1531.6 Q1400.39 1524.47 1398.56 1520.93 Q1396.76 1517.37 1393.12 1517.37 M1393.12 1513.66 Q1398.93 1513.66 1401.99 1518.27 Q1405.07 1522.85 1405.07 1531.6 Q1405.07 1540.33 1401.99 1544.94 Q1398.93 1549.52 1393.12 1549.52 Q1387.31 1549.52 1384.23 1544.94 Q1381.18 1540.33 1381.18 1531.6 Q1381.18 1522.85 1384.23 1518.27 Q1387.31 1513.66 1393.12 1513.66 Z\" fill=\"#000000\" fill-rule=\"nonzero\" fill-opacity=\"1\" /><path clip-path=\"url(#clip250)\" d=\"M1423.28 1517.37 Q1419.67 1517.37 1417.84 1520.93 Q1416.04 1524.47 1416.04 1531.6 Q1416.04 1538.71 1417.84 1542.27 Q1419.67 1545.82 1423.28 1545.82 Q1426.92 1545.82 1428.72 1542.27 Q1430.55 1538.71 1430.55 1531.6 Q1430.55 1524.47 1428.72 1520.93 Q1426.92 1517.37 1423.28 1517.37 M1423.28 1513.66 Q1429.09 1513.66 1432.15 1518.27 Q1435.23 1522.85 1435.23 1531.6 Q1435.23 1540.33 1432.15 1544.94 Q1429.09 1549.52 1423.28 1549.52 Q1417.47 1549.52 1414.39 1544.94 Q1411.34 1540.33 1411.34 1531.6 Q1411.34 1522.85 1414.39 1518.27 Q1417.47 1513.66 1423.28 1513.66 Z\" fill=\"#000000\" fill-rule=\"nonzero\" fill-opacity=\"1\" /><path clip-path=\"url(#clip250)\" d=\"M1929.09 1544.91 L1936.73 1544.91 L1936.73 1518.55 L1928.42 1520.21 L1928.42 1515.95 L1936.68 1514.29 L1941.35 1514.29 L1941.35 1544.91 L1948.99 1544.91 L1948.99 1548.85 L1929.09 1548.85 L1929.09 1544.91 Z\" fill=\"#000000\" fill-rule=\"nonzero\" fill-opacity=\"1\" /><path clip-path=\"url(#clip250)\" d=\"M1958.48 1514.29 L1976.84 1514.29 L1976.84 1518.22 L1962.77 1518.22 L1962.77 1526.7 Q1963.79 1526.35 1964.8 1526.19 Q1965.82 1526 1966.84 1526 Q1972.63 1526 1976.01 1529.17 Q1979.39 1532.34 1979.39 1537.76 Q1979.39 1543.34 1975.91 1546.44 Q1972.44 1549.52 1966.12 1549.52 Q1963.95 1549.52 1961.68 1549.15 Q1959.43 1548.78 1957.03 1548.04 L1957.03 1543.34 Q1959.11 1544.47 1961.33 1545.03 Q1963.55 1545.58 1966.03 1545.58 Q1970.04 1545.58 1972.37 1543.48 Q1974.71 1541.37 1974.71 1537.76 Q1974.71 1534.15 1972.37 1532.04 Q1970.04 1529.94 1966.03 1529.94 Q1964.16 1529.94 1962.28 1530.35 Q1960.43 1530.77 1958.48 1531.65 L1958.48 1514.29 Z\" fill=\"#000000\" fill-rule=\"nonzero\" fill-opacity=\"1\" /><path clip-path=\"url(#clip250)\" d=\"M1998.6 1517.37 Q1994.99 1517.37 1993.16 1520.93 Q1991.35 1524.47 1991.35 1531.6 Q1991.35 1538.71 1993.16 1542.27 Q1994.99 1545.82 1998.6 1545.82 Q2002.23 1545.82 2004.04 1542.27 Q2005.87 1538.71 2005.87 1531.6 Q2005.87 1524.47 2004.04 1520.93 Q2002.23 1517.37 1998.6 1517.37 M1998.6 1513.66 Q2004.41 1513.66 2007.47 1518.27 Q2010.54 1522.85 2010.54 1531.6 Q2010.54 1540.33 2007.47 1544.94 Q2004.41 1549.52 1998.6 1549.52 Q1992.79 1549.52 1989.71 1544.94 Q1986.66 1540.33 1986.66 1531.6 Q1986.66 1522.85 1989.71 1518.27 Q1992.79 1513.66 1998.6 1513.66 Z\" fill=\"#000000\" fill-rule=\"nonzero\" fill-opacity=\"1\" /><polyline clip-path=\"url(#clip250)\" style=\"stroke:#000000; stroke-linecap:round; stroke-linejoin:round; stroke-width:4; stroke-opacity:1; fill:none\" points=\"193.936,1486.45 193.936,47.2441 \"/>\n",
       "<polyline clip-path=\"url(#clip250)\" style=\"stroke:#000000; stroke-linecap:round; stroke-linejoin:round; stroke-width:4; stroke-opacity:1; fill:none\" points=\"193.936,1252.46 212.834,1252.46 \"/>\n",
       "<polyline clip-path=\"url(#clip250)\" style=\"stroke:#000000; stroke-linecap:round; stroke-linejoin:round; stroke-width:4; stroke-opacity:1; fill:none\" points=\"193.936,1014.45 212.834,1014.45 \"/>\n",
       "<polyline clip-path=\"url(#clip250)\" style=\"stroke:#000000; stroke-linecap:round; stroke-linejoin:round; stroke-width:4; stroke-opacity:1; fill:none\" points=\"193.936,776.439 212.834,776.439 \"/>\n",
       "<polyline clip-path=\"url(#clip250)\" style=\"stroke:#000000; stroke-linecap:round; stroke-linejoin:round; stroke-width:4; stroke-opacity:1; fill:none\" points=\"193.936,538.428 212.834,538.428 \"/>\n",
       "<polyline clip-path=\"url(#clip250)\" style=\"stroke:#000000; stroke-linecap:round; stroke-linejoin:round; stroke-width:4; stroke-opacity:1; fill:none\" points=\"193.936,300.417 212.834,300.417 \"/>\n",
       "<polyline clip-path=\"url(#clip250)\" style=\"stroke:#000000; stroke-linecap:round; stroke-linejoin:round; stroke-width:4; stroke-opacity:1; fill:none\" points=\"193.936,62.4069 212.834,62.4069 \"/>\n",
       "<path clip-path=\"url(#clip250)\" d=\"M50.9921 1252.91 L80.6679 1252.91 L80.6679 1256.85 L50.9921 1256.85 L50.9921 1252.91 Z\" fill=\"#000000\" fill-rule=\"nonzero\" fill-opacity=\"1\" /><path clip-path=\"url(#clip250)\" d=\"M91.5706 1265.8 L99.2095 1265.8 L99.2095 1239.44 L90.8993 1241.11 L90.8993 1236.85 L99.1632 1235.18 L103.839 1235.18 L103.839 1265.8 L111.478 1265.8 L111.478 1269.74 L91.5706 1269.74 L91.5706 1265.8 Z\" fill=\"#000000\" fill-rule=\"nonzero\" fill-opacity=\"1\" /><path clip-path=\"url(#clip250)\" d=\"M120.922 1263.86 L125.807 1263.86 L125.807 1269.74 L120.922 1269.74 L120.922 1263.86 Z\" fill=\"#000000\" fill-rule=\"nonzero\" fill-opacity=\"1\" /><path clip-path=\"url(#clip250)\" d=\"M145.992 1238.26 Q142.381 1238.26 140.552 1241.82 Q138.746 1245.36 138.746 1252.49 Q138.746 1259.6 140.552 1263.17 Q142.381 1266.71 145.992 1266.71 Q149.626 1266.71 151.431 1263.17 Q153.26 1259.6 153.26 1252.49 Q153.26 1245.36 151.431 1241.82 Q149.626 1238.26 145.992 1238.26 M145.992 1234.55 Q151.802 1234.55 154.857 1239.16 Q157.936 1243.74 157.936 1252.49 Q157.936 1261.22 154.857 1265.83 Q151.802 1270.41 145.992 1270.41 Q140.181 1270.41 137.103 1265.83 Q134.047 1261.22 134.047 1252.49 Q134.047 1243.74 137.103 1239.16 Q140.181 1234.55 145.992 1234.55 Z\" fill=\"#000000\" fill-rule=\"nonzero\" fill-opacity=\"1\" /><path clip-path=\"url(#clip250)\" d=\"M51.9875 1014.9 L81.6633 1014.9 L81.6633 1018.84 L51.9875 1018.84 L51.9875 1014.9 Z\" fill=\"#000000\" fill-rule=\"nonzero\" fill-opacity=\"1\" /><path clip-path=\"url(#clip250)\" d=\"M101.756 1000.25 Q98.1447 1000.25 96.316 1003.81 Q94.5104 1007.35 94.5104 1014.48 Q94.5104 1021.59 96.316 1025.16 Q98.1447 1028.7 101.756 1028.7 Q105.39 1028.7 107.196 1025.16 Q109.024 1021.59 109.024 1014.48 Q109.024 1007.35 107.196 1003.81 Q105.39 1000.25 101.756 1000.25 M101.756 996.544 Q107.566 996.544 110.621 1001.15 Q113.7 1005.73 113.7 1014.48 Q113.7 1023.21 110.621 1027.82 Q107.566 1032.4 101.756 1032.4 Q95.9456 1032.4 92.8669 1027.82 Q89.8114 1023.21 89.8114 1014.48 Q89.8114 1005.73 92.8669 1001.15 Q95.9456 996.544 101.756 996.544 Z\" fill=\"#000000\" fill-rule=\"nonzero\" fill-opacity=\"1\" /><path clip-path=\"url(#clip250)\" d=\"M121.918 1025.85 L126.802 1025.85 L126.802 1031.73 L121.918 1031.73 L121.918 1025.85 Z\" fill=\"#000000\" fill-rule=\"nonzero\" fill-opacity=\"1\" /><path clip-path=\"url(#clip250)\" d=\"M137.033 997.169 L155.39 997.169 L155.39 1001.1 L141.316 1001.1 L141.316 1009.58 Q142.334 1009.23 143.353 1009.07 Q144.371 1008.88 145.39 1008.88 Q151.177 1008.88 154.556 1012.05 Q157.936 1015.22 157.936 1020.64 Q157.936 1026.22 154.464 1029.32 Q150.992 1032.4 144.672 1032.4 Q142.496 1032.4 140.228 1032.03 Q137.982 1031.66 135.575 1030.92 L135.575 1026.22 Q137.658 1027.35 139.881 1027.91 Q142.103 1028.47 144.58 1028.47 Q148.584 1028.47 150.922 1026.36 Q153.26 1024.25 153.26 1020.64 Q153.26 1017.03 150.922 1014.92 Q148.584 1012.82 144.58 1012.82 Q142.705 1012.82 140.83 1013.23 Q138.978 1013.65 137.033 1014.53 L137.033 997.169 Z\" fill=\"#000000\" fill-rule=\"nonzero\" fill-opacity=\"1\" /><path clip-path=\"url(#clip250)\" d=\"M100.76 762.237 Q97.1493 762.237 95.3206 765.802 Q93.515 769.344 93.515 776.473 Q93.515 783.58 95.3206 787.145 Q97.1493 790.686 100.76 790.686 Q104.395 790.686 106.2 787.145 Q108.029 783.58 108.029 776.473 Q108.029 769.344 106.2 765.802 Q104.395 762.237 100.76 762.237 M100.76 758.534 Q106.571 758.534 109.626 763.14 Q112.705 767.723 112.705 776.473 Q112.705 785.2 109.626 789.807 Q106.571 794.39 100.76 794.39 Q94.9502 794.39 91.8715 789.807 Q88.816 785.2 88.816 776.473 Q88.816 767.723 91.8715 763.14 Q94.9502 758.534 100.76 758.534 Z\" fill=\"#000000\" fill-rule=\"nonzero\" fill-opacity=\"1\" /><path clip-path=\"url(#clip250)\" d=\"M120.922 787.839 L125.807 787.839 L125.807 793.719 L120.922 793.719 L120.922 787.839 Z\" fill=\"#000000\" fill-rule=\"nonzero\" fill-opacity=\"1\" /><path clip-path=\"url(#clip250)\" d=\"M145.992 762.237 Q142.381 762.237 140.552 765.802 Q138.746 769.344 138.746 776.473 Q138.746 783.58 140.552 787.145 Q142.381 790.686 145.992 790.686 Q149.626 790.686 151.431 787.145 Q153.26 783.58 153.26 776.473 Q153.26 769.344 151.431 765.802 Q149.626 762.237 145.992 762.237 M145.992 758.534 Q151.802 758.534 154.857 763.14 Q157.936 767.723 157.936 776.473 Q157.936 785.2 154.857 789.807 Q151.802 794.39 145.992 794.39 Q140.181 794.39 137.103 789.807 Q134.047 785.2 134.047 776.473 Q134.047 767.723 137.103 763.14 Q140.181 758.534 145.992 758.534 Z\" fill=\"#000000\" fill-rule=\"nonzero\" fill-opacity=\"1\" /><path clip-path=\"url(#clip250)\" d=\"M101.756 524.227 Q98.1447 524.227 96.316 527.792 Q94.5104 531.333 94.5104 538.463 Q94.5104 545.569 96.316 549.134 Q98.1447 552.676 101.756 552.676 Q105.39 552.676 107.196 549.134 Q109.024 545.569 109.024 538.463 Q109.024 531.333 107.196 527.792 Q105.39 524.227 101.756 524.227 M101.756 520.523 Q107.566 520.523 110.621 525.13 Q113.7 529.713 113.7 538.463 Q113.7 547.19 110.621 551.796 Q107.566 556.379 101.756 556.379 Q95.9456 556.379 92.8669 551.796 Q89.8114 547.19 89.8114 538.463 Q89.8114 529.713 92.8669 525.13 Q95.9456 520.523 101.756 520.523 Z\" fill=\"#000000\" fill-rule=\"nonzero\" fill-opacity=\"1\" /><path clip-path=\"url(#clip250)\" d=\"M121.918 549.828 L126.802 549.828 L126.802 555.708 L121.918 555.708 L121.918 549.828 Z\" fill=\"#000000\" fill-rule=\"nonzero\" fill-opacity=\"1\" /><path clip-path=\"url(#clip250)\" d=\"M137.033 521.148 L155.39 521.148 L155.39 525.083 L141.316 525.083 L141.316 533.555 Q142.334 533.208 143.353 533.046 Q144.371 532.861 145.39 532.861 Q151.177 532.861 154.556 536.032 Q157.936 539.204 157.936 544.62 Q157.936 550.199 154.464 553.301 Q150.992 556.379 144.672 556.379 Q142.496 556.379 140.228 556.009 Q137.982 555.639 135.575 554.898 L135.575 550.199 Q137.658 551.333 139.881 551.889 Q142.103 552.444 144.58 552.444 Q148.584 552.444 150.922 550.338 Q153.26 548.231 153.26 544.62 Q153.26 541.009 150.922 538.903 Q148.584 536.796 144.58 536.796 Q142.705 536.796 140.83 537.213 Q138.978 537.629 137.033 538.509 L137.033 521.148 Z\" fill=\"#000000\" fill-rule=\"nonzero\" fill-opacity=\"1\" /><path clip-path=\"url(#clip250)\" d=\"M91.5706 313.762 L99.2095 313.762 L99.2095 287.397 L90.8993 289.063 L90.8993 284.804 L99.1632 283.137 L103.839 283.137 L103.839 313.762 L111.478 313.762 L111.478 317.697 L91.5706 317.697 L91.5706 313.762 Z\" fill=\"#000000\" fill-rule=\"nonzero\" fill-opacity=\"1\" /><path clip-path=\"url(#clip250)\" d=\"M120.922 311.818 L125.807 311.818 L125.807 317.697 L120.922 317.697 L120.922 311.818 Z\" fill=\"#000000\" fill-rule=\"nonzero\" fill-opacity=\"1\" /><path clip-path=\"url(#clip250)\" d=\"M145.992 286.216 Q142.381 286.216 140.552 289.781 Q138.746 293.323 138.746 300.452 Q138.746 307.559 140.552 311.123 Q142.381 314.665 145.992 314.665 Q149.626 314.665 151.431 311.123 Q153.26 307.559 153.26 300.452 Q153.26 293.323 151.431 289.781 Q149.626 286.216 145.992 286.216 M145.992 282.512 Q151.802 282.512 154.857 287.119 Q157.936 291.702 157.936 300.452 Q157.936 309.179 154.857 313.785 Q151.802 318.369 145.992 318.369 Q140.181 318.369 137.103 313.785 Q134.047 309.179 134.047 300.452 Q134.047 291.702 137.103 287.119 Q140.181 282.512 145.992 282.512 Z\" fill=\"#000000\" fill-rule=\"nonzero\" fill-opacity=\"1\" /><path clip-path=\"url(#clip250)\" d=\"M92.566 75.7517 L100.205 75.7517 L100.205 49.3861 L91.8947 51.0528 L91.8947 46.7935 L100.159 45.1269 L104.834 45.1269 L104.834 75.7517 L112.473 75.7517 L112.473 79.6869 L92.566 79.6869 L92.566 75.7517 Z\" fill=\"#000000\" fill-rule=\"nonzero\" fill-opacity=\"1\" /><path clip-path=\"url(#clip250)\" d=\"M121.918 73.8073 L126.802 73.8073 L126.802 79.6869 L121.918 79.6869 L121.918 73.8073 Z\" fill=\"#000000\" fill-rule=\"nonzero\" fill-opacity=\"1\" /><path clip-path=\"url(#clip250)\" d=\"M137.033 45.1269 L155.39 45.1269 L155.39 49.062 L141.316 49.062 L141.316 57.5342 Q142.334 57.187 143.353 57.0249 Q144.371 56.8398 145.39 56.8398 Q151.177 56.8398 154.556 60.011 Q157.936 63.1823 157.936 68.599 Q157.936 74.1776 154.464 77.2795 Q150.992 80.3582 144.672 80.3582 Q142.496 80.3582 140.228 79.9878 Q137.982 79.6174 135.575 78.8767 L135.575 74.1776 Q137.658 75.3119 139.881 75.8674 Q142.103 76.423 144.58 76.423 Q148.584 76.423 150.922 74.3165 Q153.26 72.21 153.26 68.599 Q153.26 64.9879 150.922 62.8814 Q148.584 60.7749 144.58 60.7749 Q142.705 60.7749 140.83 61.1916 Q138.978 61.6083 137.033 62.4879 L137.033 45.1269 Z\" fill=\"#000000\" fill-rule=\"nonzero\" fill-opacity=\"1\" /><polyline clip-path=\"url(#clip252)\" style=\"stroke:#009af9; stroke-linecap:round; stroke-linejoin:round; stroke-width:4; stroke-opacity:1; fill:none\" points=\"255.035,1252.46 266.541,1252.46 278.047,1252.46 289.554,1252.46 301.06,1252.46 312.566,1252.46 324.073,1252.46 335.579,1252.46 347.085,1252.46 358.592,1252.46 370.098,1252.46 381.604,1252.46 393.111,1252.46 404.617,1252.46 416.123,1252.46 427.63,1252.46 439.136,1252.46 450.642,1252.46 462.149,1252.46 473.655,1252.46 485.162,1252.46 496.668,1252.46 508.174,1252.46 519.681,1252.46 531.187,1252.46 542.693,1252.46 554.2,1252.46 565.706,1252.46 577.212,1252.46 588.719,1252.46 600.225,1252.46 611.731,1252.46 623.238,1252.46 634.744,1252.46 646.25,1252.46 657.757,1252.46 669.263,1252.46 680.769,1252.46 692.276,1252.46 703.782,1252.46 715.288,1252.46 726.795,1252.46 738.301,1252.46 749.807,1252.46 761.314,1252.46 772.82,1252.46 784.326,1252.46 795.833,1252.46 807.339,1252.46 818.845,1252.46 830.352,1252.46 841.858,1252.46 853.364,1252.46 864.871,1252.46 876.377,1252.46 887.883,1252.46 899.39,1252.46 910.896,1252.46 922.403,1252.46 933.909,776.439 945.415,776.439 956.922,776.439 968.428,776.439 979.934,776.439 991.441,776.439 1002.95,776.439 1014.45,776.439 1025.96,776.439 1037.47,776.439 1048.97,776.439 1060.48,776.439 1071.98,776.439 1083.49,776.439 1095,776.439 1106.5,776.439 1118.01,776.439 1129.52,776.439 1141.02,776.439 1152.53,776.439 1164.04,776.439 1175.54,776.439 1187.05,776.439 1198.55,776.439 1210.06,776.439 1221.57,776.439 1233.07,776.439 1244.58,776.439 1256.09,776.439 1267.59,776.439 1279.1,776.439 1290.61,776.439 1302.11,776.439 1313.62,776.439 1325.12,776.439 1336.63,776.439 1348.14,776.439 1359.64,776.439 1371.15,776.439 1382.66,776.439 1394.16,776.439 1405.67,776.439 1417.18,776.439 1428.68,776.439 1440.19,776.439 1451.69,776.439 1463.2,776.439 1474.71,776.439 1486.21,776.439 1497.72,776.439 1509.23,776.439 1520.73,776.439 1532.24,776.439 1543.74,776.439 1555.25,776.439 1566.76,776.439 1578.26,776.439 1589.77,776.439 1601.28,776.439 1612.78,776.439 1624.29,776.439 1635.8,776.439 1647.3,776.439 1658.81,776.439 1670.31,776.439 1681.82,776.439 1693.33,776.439 1704.83,776.439 1716.34,776.439 1727.85,776.439 1739.35,776.439 1750.86,300.417 1762.37,300.417 1773.87,300.417 1785.38,300.417 1796.88,300.417 1808.39,300.417 1819.9,300.417 1831.4,300.417 1842.91,300.417 1854.42,300.417 1865.92,300.417 1877.43,300.417 1888.94,300.417 1900.44,300.417 1911.95,300.417 1923.45,300.417 1934.96,300.417 1946.47,300.417 1957.97,300.417 1969.48,300.417 1980.99,300.417 1992.49,300.417 2004,300.417 2015.51,300.417 2027.01,300.417 2038.52,300.417 2050.02,300.417 2061.53,300.417 2073.04,300.417 2084.54,300.417 2096.05,300.417 2107.56,300.417 2119.06,300.417 2130.57,300.417 2142.07,300.417 2153.58,300.417 2165.09,300.417 2176.59,300.417 2188.1,300.417 2199.61,300.417 2211.11,300.417 2222.62,300.417 2234.13,300.417 2245.63,300.417 2257.14,300.417 2268.64,300.417 2280.15,300.417 2291.66,300.417 \"/>\n",
       "<polyline clip-path=\"url(#clip252)\" style=\"stroke:#e26f46; stroke-linecap:round; stroke-linejoin:round; stroke-width:4; stroke-opacity:1; fill:none\" points=\"255.035,1330.37 266.541,1303.59 278.047,1343.08 289.554,1234.25 301.06,1004.31 312.566,1186.53 324.073,1316.56 335.579,1128.2 347.085,1175.87 358.592,1235.31 370.098,1428.08 381.604,1273.2 393.111,1385.59 404.617,1265.48 416.123,1316.39 427.63,1112.65 439.136,1104.56 450.642,998.606 462.149,1240.18 473.655,1138.28 485.162,1265.3 496.668,1230.49 508.174,1265.88 519.681,1230.3 531.187,1107.38 542.693,1121.94 554.2,1174.76 565.706,1122.51 577.212,1101.86 588.719,1288.13 600.225,1294.27 611.731,1351.6 623.238,1263.62 634.744,919.291 646.25,1266.8 657.757,1113.18 669.263,1220.58 680.769,1265.27 692.276,1166.69 703.782,1121.78 715.288,1167.16 726.795,880.976 738.301,1193.99 749.807,885.205 761.314,1083.26 772.82,967.108 784.326,1087.93 795.833,1163.75 807.339,1150.04 818.845,1169.39 830.352,1126.92 841.858,1445.72 853.364,1102.49 864.871,1134.78 876.377,1170.35 887.883,1237.66 899.39,1160.02 910.896,1223.01 922.403,1222.55 933.909,452.984 945.415,522.443 956.922,235.102 968.428,742.459 979.934,738.493 991.441,705.687 1002.95,1122.87 1014.45,677.213 1025.96,796.44 1037.47,576.362 1048.97,687.32 1060.48,670.924 1071.98,849.213 1083.49,536.61 1095,447.647 1106.5,713.696 1118.01,701.317 1129.52,681.616 1141.02,488.829 1152.53,709.711 1164.04,765.663 1175.54,979.252 1187.05,1062.71 1198.55,857.38 1210.06,520.991 1221.57,881.48 1233.07,887.606 1244.58,805.648 1256.09,795.482 1267.59,717.358 1279.1,800.436 1290.61,657.17 1302.11,577.786 1313.62,597.142 1325.12,948.008 1336.63,798.111 1348.14,924.715 1359.64,904.964 1371.15,949.818 1382.66,778.938 1394.16,1220.16 1405.67,1061.72 1417.18,713.418 1428.68,585.639 1440.19,580.27 1451.69,741.149 1463.2,409.644 1474.71,792.411 1486.21,609.39 1497.72,355.23 1509.23,1127.73 1520.73,765.631 1532.24,537.163 1543.74,813.27 1555.25,783.402 1566.76,591.398 1578.26,1151.72 1589.77,730.476 1601.28,559.845 1612.78,507.07 1624.29,889.371 1635.8,900.811 1647.3,1007.51 1658.81,655.443 1670.31,582.286 1681.82,931.365 1693.33,524.218 1704.83,264.393 1716.34,404.649 1727.85,477.636 1739.35,563.372 1750.86,639.873 1762.37,400.654 1773.87,283.697 1785.38,596.815 1796.88,608.098 1808.39,549.166 1819.9,232.168 1831.4,87.9763 1842.91,351.837 1854.42,435.483 1865.92,413.736 1877.43,334.642 1888.94,359.053 1900.44,442.807 1911.95,380.682 1923.45,447.998 1934.96,221.652 1946.47,183.803 1957.97,293.891 1969.48,114.576 1980.99,252.044 1992.49,104.748 2004,304.515 2015.51,469.175 2027.01,401.344 2038.52,497.089 2050.02,455.691 2061.53,219.143 2073.04,169.358 2084.54,163.529 2096.05,235.478 2107.56,442.754 2119.06,406.236 2130.57,321.672 2142.07,216.231 2153.58,360.798 2165.09,347.722 2176.59,365.427 2188.1,305.378 2199.61,505.211 2211.11,248.961 2222.62,333.626 2234.13,317.514 2245.63,466.218 2257.14,316.626 2268.64,369.831 2280.15,411.768 2291.66,197.165 \"/>\n",
       "<path clip-path=\"url(#clip250)\" d=\"M265.897 250.738 L586.014 250.738 L586.014 95.2176 L265.897 95.2176  Z\" fill=\"#ffffff\" fill-rule=\"evenodd\" fill-opacity=\"1\"/>\n",
       "<polyline clip-path=\"url(#clip250)\" style=\"stroke:#000000; stroke-linecap:round; stroke-linejoin:round; stroke-width:4; stroke-opacity:1; fill:none\" points=\"265.897,250.738 586.014,250.738 586.014,95.2176 265.897,95.2176 265.897,250.738 \"/>\n",
       "<polyline clip-path=\"url(#clip250)\" style=\"stroke:#009af9; stroke-linecap:round; stroke-linejoin:round; stroke-width:4; stroke-opacity:1; fill:none\" points=\"289.884,147.058 433.805,147.058 \"/>\n",
       "<path clip-path=\"url(#clip250)\" d=\"M462.468 133.62 L462.468 160.495 L468.116 160.495 Q475.269 160.495 478.579 157.254 Q481.912 154.014 481.912 147.023 Q481.912 140.078 478.579 136.861 Q475.269 133.62 468.116 133.62 L462.468 133.62 M457.792 129.778 L467.398 129.778 Q477.444 129.778 482.143 133.967 Q486.843 138.134 486.843 147.023 Q486.843 155.958 482.12 160.148 Q477.398 164.338 467.398 164.338 L457.792 164.338 L457.792 129.778 Z\" fill=\"#000000\" fill-rule=\"nonzero\" fill-opacity=\"1\" /><path clip-path=\"url(#clip250)\" d=\"M505.893 151.305 Q500.731 151.305 498.741 152.486 Q496.75 153.666 496.75 156.514 Q496.75 158.782 498.231 160.125 Q499.736 161.444 502.305 161.444 Q505.847 161.444 507.977 158.944 Q510.129 156.421 510.129 152.254 L510.129 151.305 L505.893 151.305 M514.389 149.546 L514.389 164.338 L510.129 164.338 L510.129 160.402 Q508.671 162.763 506.495 163.898 Q504.319 165.009 501.171 165.009 Q497.19 165.009 494.829 162.787 Q492.491 160.541 492.491 156.791 Q492.491 152.416 495.407 150.194 Q498.347 147.972 504.157 147.972 L510.129 147.972 L510.129 147.555 Q510.129 144.615 508.185 143.018 Q506.264 141.398 502.768 141.398 Q500.546 141.398 498.44 141.93 Q496.333 142.463 494.389 143.527 L494.389 139.592 Q496.727 138.69 498.926 138.25 Q501.125 137.787 503.208 137.787 Q508.833 137.787 511.611 140.703 Q514.389 143.62 514.389 149.546 Z\" fill=\"#000000\" fill-rule=\"nonzero\" fill-opacity=\"1\" /><path clip-path=\"url(#clip250)\" d=\"M527.375 131.051 L527.375 138.412 L536.148 138.412 L536.148 141.722 L527.375 141.722 L527.375 155.796 Q527.375 158.967 528.231 159.87 Q529.111 160.773 531.773 160.773 L536.148 160.773 L536.148 164.338 L531.773 164.338 Q526.842 164.338 524.967 162.509 Q523.092 160.657 523.092 155.796 L523.092 141.722 L519.967 141.722 L519.967 138.412 L523.092 138.412 L523.092 131.051 L527.375 131.051 Z\" fill=\"#000000\" fill-rule=\"nonzero\" fill-opacity=\"1\" /><path clip-path=\"url(#clip250)\" d=\"M553.532 151.305 Q548.37 151.305 546.379 152.486 Q544.389 153.666 544.389 156.514 Q544.389 158.782 545.87 160.125 Q547.375 161.444 549.944 161.444 Q553.486 161.444 555.615 158.944 Q557.768 156.421 557.768 152.254 L557.768 151.305 L553.532 151.305 M562.027 149.546 L562.027 164.338 L557.768 164.338 L557.768 160.402 Q556.31 162.763 554.134 163.898 Q551.958 165.009 548.81 165.009 Q544.828 165.009 542.467 162.787 Q540.129 160.541 540.129 156.791 Q540.129 152.416 543.046 150.194 Q545.986 147.972 551.796 147.972 L557.768 147.972 L557.768 147.555 Q557.768 144.615 555.824 143.018 Q553.902 141.398 550.407 141.398 Q548.185 141.398 546.078 141.93 Q543.972 142.463 542.027 143.527 L542.027 139.592 Q544.365 138.69 546.564 138.25 Q548.763 137.787 550.847 137.787 Q556.472 137.787 559.25 140.703 Q562.027 143.62 562.027 149.546 Z\" fill=\"#000000\" fill-rule=\"nonzero\" fill-opacity=\"1\" /><polyline clip-path=\"url(#clip250)\" style=\"stroke:#e26f46; stroke-linecap:round; stroke-linejoin:round; stroke-width:4; stroke-opacity:1; fill:none\" points=\"289.884,198.898 433.805,198.898 \"/>\n",
       "<path clip-path=\"url(#clip250)\" d=\"M457.792 181.618 L477.653 181.618 L477.653 185.553 L462.468 185.553 L462.468 195.738 L476.171 195.738 L476.171 199.673 L462.468 199.673 L462.468 216.178 L457.792 216.178 L457.792 181.618 Z\" fill=\"#000000\" fill-rule=\"nonzero\" fill-opacity=\"1\" /><path clip-path=\"url(#clip250)\" d=\"M481.426 190.252 L485.685 190.252 L485.685 216.178 L481.426 216.178 L481.426 190.252 M481.426 180.159 L485.685 180.159 L485.685 185.553 L481.426 185.553 L481.426 180.159 Z\" fill=\"#000000\" fill-rule=\"nonzero\" fill-opacity=\"1\" /><path clip-path=\"url(#clip250)\" d=\"M498.81 182.891 L498.81 190.252 L507.583 190.252 L507.583 193.562 L498.81 193.562 L498.81 207.636 Q498.81 210.807 499.667 211.71 Q500.546 212.613 503.208 212.613 L507.583 212.613 L507.583 216.178 L503.208 216.178 Q498.278 216.178 496.403 214.349 Q494.528 212.497 494.528 207.636 L494.528 193.562 L491.403 193.562 L491.403 190.252 L494.528 190.252 L494.528 182.891 L498.81 182.891 Z\" fill=\"#000000\" fill-rule=\"nonzero\" fill-opacity=\"1\" /></svg>\n"
      ],
      "text/html": [
       "<?xml version=\"1.0\" encoding=\"utf-8\"?>\n",
       "<svg xmlns=\"http://www.w3.org/2000/svg\" xmlns:xlink=\"http://www.w3.org/1999/xlink\" width=\"600\" height=\"400\" viewBox=\"0 0 2400 1600\">\n",
       "<defs>\n",
       "  <clipPath id=\"clip300\">\n",
       "    <rect x=\"0\" y=\"0\" width=\"2400\" height=\"1600\"/>\n",
       "  </clipPath>\n",
       "</defs>\n",
       "<path clip-path=\"url(#clip300)\" d=\"M0 1600 L2400 1600 L2400 0 L0 0  Z\" fill=\"#ffffff\" fill-rule=\"evenodd\" fill-opacity=\"1\"/>\n",
       "<defs>\n",
       "  <clipPath id=\"clip301\">\n",
       "    <rect x=\"480\" y=\"0\" width=\"1681\" height=\"1600\"/>\n",
       "  </clipPath>\n",
       "</defs>\n",
       "<path clip-path=\"url(#clip300)\" d=\"M193.936 1486.45 L2352.76 1486.45 L2352.76 47.2441 L193.936 47.2441  Z\" fill=\"#ffffff\" fill-rule=\"evenodd\" fill-opacity=\"1\"/>\n",
       "<defs>\n",
       "  <clipPath id=\"clip302\">\n",
       "    <rect x=\"193\" y=\"47\" width=\"2160\" height=\"1440\"/>\n",
       "  </clipPath>\n",
       "</defs>\n",
       "<polyline clip-path=\"url(#clip302)\" style=\"stroke:#000000; stroke-linecap:round; stroke-linejoin:round; stroke-width:2; stroke-opacity:0.1; fill:none\" points=\"243.528,1486.45 243.528,47.2441 \"/>\n",
       "<polyline clip-path=\"url(#clip302)\" style=\"stroke:#000000; stroke-linecap:round; stroke-linejoin:round; stroke-width:2; stroke-opacity:0.1; fill:none\" points=\"818.845,1486.45 818.845,47.2441 \"/>\n",
       "<polyline clip-path=\"url(#clip302)\" style=\"stroke:#000000; stroke-linecap:round; stroke-linejoin:round; stroke-width:2; stroke-opacity:0.1; fill:none\" points=\"1394.16,1486.45 1394.16,47.2441 \"/>\n",
       "<polyline clip-path=\"url(#clip302)\" style=\"stroke:#000000; stroke-linecap:round; stroke-linejoin:round; stroke-width:2; stroke-opacity:0.1; fill:none\" points=\"1969.48,1486.45 1969.48,47.2441 \"/>\n",
       "<polyline clip-path=\"url(#clip302)\" style=\"stroke:#000000; stroke-linecap:round; stroke-linejoin:round; stroke-width:2; stroke-opacity:0.1; fill:none\" points=\"193.936,1252.46 2352.76,1252.46 \"/>\n",
       "<polyline clip-path=\"url(#clip302)\" style=\"stroke:#000000; stroke-linecap:round; stroke-linejoin:round; stroke-width:2; stroke-opacity:0.1; fill:none\" points=\"193.936,1014.45 2352.76,1014.45 \"/>\n",
       "<polyline clip-path=\"url(#clip302)\" style=\"stroke:#000000; stroke-linecap:round; stroke-linejoin:round; stroke-width:2; stroke-opacity:0.1; fill:none\" points=\"193.936,776.439 2352.76,776.439 \"/>\n",
       "<polyline clip-path=\"url(#clip302)\" style=\"stroke:#000000; stroke-linecap:round; stroke-linejoin:round; stroke-width:2; stroke-opacity:0.1; fill:none\" points=\"193.936,538.428 2352.76,538.428 \"/>\n",
       "<polyline clip-path=\"url(#clip302)\" style=\"stroke:#000000; stroke-linecap:round; stroke-linejoin:round; stroke-width:2; stroke-opacity:0.1; fill:none\" points=\"193.936,300.417 2352.76,300.417 \"/>\n",
       "<polyline clip-path=\"url(#clip302)\" style=\"stroke:#000000; stroke-linecap:round; stroke-linejoin:round; stroke-width:2; stroke-opacity:0.1; fill:none\" points=\"193.936,62.4069 2352.76,62.4069 \"/>\n",
       "<polyline clip-path=\"url(#clip300)\" style=\"stroke:#000000; stroke-linecap:round; stroke-linejoin:round; stroke-width:4; stroke-opacity:1; fill:none\" points=\"193.936,1486.45 2352.76,1486.45 \"/>\n",
       "<polyline clip-path=\"url(#clip300)\" style=\"stroke:#000000; stroke-linecap:round; stroke-linejoin:round; stroke-width:4; stroke-opacity:1; fill:none\" points=\"243.528,1486.45 243.528,1467.55 \"/>\n",
       "<polyline clip-path=\"url(#clip300)\" style=\"stroke:#000000; stroke-linecap:round; stroke-linejoin:round; stroke-width:4; stroke-opacity:1; fill:none\" points=\"818.845,1486.45 818.845,1467.55 \"/>\n",
       "<polyline clip-path=\"url(#clip300)\" style=\"stroke:#000000; stroke-linecap:round; stroke-linejoin:round; stroke-width:4; stroke-opacity:1; fill:none\" points=\"1394.16,1486.45 1394.16,1467.55 \"/>\n",
       "<polyline clip-path=\"url(#clip300)\" style=\"stroke:#000000; stroke-linecap:round; stroke-linejoin:round; stroke-width:4; stroke-opacity:1; fill:none\" points=\"1969.48,1486.45 1969.48,1467.55 \"/>\n",
       "<path clip-path=\"url(#clip300)\" d=\"M243.528 1517.37 Q239.917 1517.37 238.089 1520.93 Q236.283 1524.47 236.283 1531.6 Q236.283 1538.71 238.089 1542.27 Q239.917 1545.82 243.528 1545.82 Q247.163 1545.82 248.968 1542.27 Q250.797 1538.71 250.797 1531.6 Q250.797 1524.47 248.968 1520.93 Q247.163 1517.37 243.528 1517.37 M243.528 1513.66 Q249.338 1513.66 252.394 1518.27 Q255.473 1522.85 255.473 1531.6 Q255.473 1540.33 252.394 1544.94 Q249.338 1549.52 243.528 1549.52 Q237.718 1549.52 234.639 1544.94 Q231.584 1540.33 231.584 1531.6 Q231.584 1522.85 234.639 1518.27 Q237.718 1513.66 243.528 1513.66 Z\" fill=\"#000000\" fill-rule=\"nonzero\" fill-opacity=\"1\" /><path clip-path=\"url(#clip300)\" d=\"M793.545 1514.29 L811.901 1514.29 L811.901 1518.22 L797.827 1518.22 L797.827 1526.7 Q798.846 1526.35 799.864 1526.19 Q800.883 1526 801.901 1526 Q807.688 1526 811.068 1529.17 Q814.447 1532.34 814.447 1537.76 Q814.447 1543.34 810.975 1546.44 Q807.503 1549.52 801.183 1549.52 Q799.008 1549.52 796.739 1549.15 Q794.494 1548.78 792.086 1548.04 L792.086 1543.34 Q794.17 1544.47 796.392 1545.03 Q798.614 1545.58 801.091 1545.58 Q805.096 1545.58 807.433 1543.48 Q809.771 1541.37 809.771 1537.76 Q809.771 1534.15 807.433 1532.04 Q805.096 1529.94 801.091 1529.94 Q799.216 1529.94 797.341 1530.35 Q795.489 1530.77 793.545 1531.65 L793.545 1514.29 Z\" fill=\"#000000\" fill-rule=\"nonzero\" fill-opacity=\"1\" /><path clip-path=\"url(#clip300)\" d=\"M833.66 1517.37 Q830.049 1517.37 828.22 1520.93 Q826.415 1524.47 826.415 1531.6 Q826.415 1538.71 828.22 1542.27 Q830.049 1545.82 833.66 1545.82 Q837.294 1545.82 839.1 1542.27 Q840.929 1538.71 840.929 1531.6 Q840.929 1524.47 839.1 1520.93 Q837.294 1517.37 833.66 1517.37 M833.66 1513.66 Q839.47 1513.66 842.526 1518.27 Q845.605 1522.85 845.605 1531.6 Q845.605 1540.33 842.526 1544.94 Q839.47 1549.52 833.66 1549.52 Q827.85 1549.52 824.771 1544.94 Q821.716 1540.33 821.716 1531.6 Q821.716 1522.85 824.771 1518.27 Q827.85 1513.66 833.66 1513.66 Z\" fill=\"#000000\" fill-rule=\"nonzero\" fill-opacity=\"1\" /><path clip-path=\"url(#clip300)\" d=\"M1353.77 1544.91 L1361.41 1544.91 L1361.41 1518.55 L1353.1 1520.21 L1353.1 1515.95 L1361.36 1514.29 L1366.04 1514.29 L1366.04 1544.91 L1373.68 1544.91 L1373.68 1548.85 L1353.77 1548.85 L1353.77 1544.91 Z\" fill=\"#000000\" fill-rule=\"nonzero\" fill-opacity=\"1\" /><path clip-path=\"url(#clip300)\" d=\"M1393.12 1517.37 Q1389.51 1517.37 1387.68 1520.93 Q1385.88 1524.47 1385.88 1531.6 Q1385.88 1538.71 1387.68 1542.27 Q1389.51 1545.82 1393.12 1545.82 Q1396.76 1545.82 1398.56 1542.27 Q1400.39 1538.71 1400.39 1531.6 Q1400.39 1524.47 1398.56 1520.93 Q1396.76 1517.37 1393.12 1517.37 M1393.12 1513.66 Q1398.93 1513.66 1401.99 1518.27 Q1405.07 1522.85 1405.07 1531.6 Q1405.07 1540.33 1401.99 1544.94 Q1398.93 1549.52 1393.12 1549.52 Q1387.31 1549.52 1384.23 1544.94 Q1381.18 1540.33 1381.18 1531.6 Q1381.18 1522.85 1384.23 1518.27 Q1387.31 1513.66 1393.12 1513.66 Z\" fill=\"#000000\" fill-rule=\"nonzero\" fill-opacity=\"1\" /><path clip-path=\"url(#clip300)\" d=\"M1423.28 1517.37 Q1419.67 1517.37 1417.84 1520.93 Q1416.04 1524.47 1416.04 1531.6 Q1416.04 1538.71 1417.84 1542.27 Q1419.67 1545.82 1423.28 1545.82 Q1426.92 1545.82 1428.72 1542.27 Q1430.55 1538.71 1430.55 1531.6 Q1430.55 1524.47 1428.72 1520.93 Q1426.92 1517.37 1423.28 1517.37 M1423.28 1513.66 Q1429.09 1513.66 1432.15 1518.27 Q1435.23 1522.85 1435.23 1531.6 Q1435.23 1540.33 1432.15 1544.94 Q1429.09 1549.52 1423.28 1549.52 Q1417.47 1549.52 1414.39 1544.94 Q1411.34 1540.33 1411.34 1531.6 Q1411.34 1522.85 1414.39 1518.27 Q1417.47 1513.66 1423.28 1513.66 Z\" fill=\"#000000\" fill-rule=\"nonzero\" fill-opacity=\"1\" /><path clip-path=\"url(#clip300)\" d=\"M1929.09 1544.91 L1936.73 1544.91 L1936.73 1518.55 L1928.42 1520.21 L1928.42 1515.95 L1936.68 1514.29 L1941.35 1514.29 L1941.35 1544.91 L1948.99 1544.91 L1948.99 1548.85 L1929.09 1548.85 L1929.09 1544.91 Z\" fill=\"#000000\" fill-rule=\"nonzero\" fill-opacity=\"1\" /><path clip-path=\"url(#clip300)\" d=\"M1958.48 1514.29 L1976.84 1514.29 L1976.84 1518.22 L1962.77 1518.22 L1962.77 1526.7 Q1963.79 1526.35 1964.8 1526.19 Q1965.82 1526 1966.84 1526 Q1972.63 1526 1976.01 1529.17 Q1979.39 1532.34 1979.39 1537.76 Q1979.39 1543.34 1975.91 1546.44 Q1972.44 1549.52 1966.12 1549.52 Q1963.95 1549.52 1961.68 1549.15 Q1959.43 1548.78 1957.03 1548.04 L1957.03 1543.34 Q1959.11 1544.47 1961.33 1545.03 Q1963.55 1545.58 1966.03 1545.58 Q1970.04 1545.58 1972.37 1543.48 Q1974.71 1541.37 1974.71 1537.76 Q1974.71 1534.15 1972.37 1532.04 Q1970.04 1529.94 1966.03 1529.94 Q1964.16 1529.94 1962.28 1530.35 Q1960.43 1530.77 1958.48 1531.65 L1958.48 1514.29 Z\" fill=\"#000000\" fill-rule=\"nonzero\" fill-opacity=\"1\" /><path clip-path=\"url(#clip300)\" d=\"M1998.6 1517.37 Q1994.99 1517.37 1993.16 1520.93 Q1991.35 1524.47 1991.35 1531.6 Q1991.35 1538.71 1993.16 1542.27 Q1994.99 1545.82 1998.6 1545.82 Q2002.23 1545.82 2004.04 1542.27 Q2005.87 1538.71 2005.87 1531.6 Q2005.87 1524.47 2004.04 1520.93 Q2002.23 1517.37 1998.6 1517.37 M1998.6 1513.66 Q2004.41 1513.66 2007.47 1518.27 Q2010.54 1522.85 2010.54 1531.6 Q2010.54 1540.33 2007.47 1544.94 Q2004.41 1549.52 1998.6 1549.52 Q1992.79 1549.52 1989.71 1544.94 Q1986.66 1540.33 1986.66 1531.6 Q1986.66 1522.85 1989.71 1518.27 Q1992.79 1513.66 1998.6 1513.66 Z\" fill=\"#000000\" fill-rule=\"nonzero\" fill-opacity=\"1\" /><polyline clip-path=\"url(#clip300)\" style=\"stroke:#000000; stroke-linecap:round; stroke-linejoin:round; stroke-width:4; stroke-opacity:1; fill:none\" points=\"193.936,1486.45 193.936,47.2441 \"/>\n",
       "<polyline clip-path=\"url(#clip300)\" style=\"stroke:#000000; stroke-linecap:round; stroke-linejoin:round; stroke-width:4; stroke-opacity:1; fill:none\" points=\"193.936,1252.46 212.834,1252.46 \"/>\n",
       "<polyline clip-path=\"url(#clip300)\" style=\"stroke:#000000; stroke-linecap:round; stroke-linejoin:round; stroke-width:4; stroke-opacity:1; fill:none\" points=\"193.936,1014.45 212.834,1014.45 \"/>\n",
       "<polyline clip-path=\"url(#clip300)\" style=\"stroke:#000000; stroke-linecap:round; stroke-linejoin:round; stroke-width:4; stroke-opacity:1; fill:none\" points=\"193.936,776.439 212.834,776.439 \"/>\n",
       "<polyline clip-path=\"url(#clip300)\" style=\"stroke:#000000; stroke-linecap:round; stroke-linejoin:round; stroke-width:4; stroke-opacity:1; fill:none\" points=\"193.936,538.428 212.834,538.428 \"/>\n",
       "<polyline clip-path=\"url(#clip300)\" style=\"stroke:#000000; stroke-linecap:round; stroke-linejoin:round; stroke-width:4; stroke-opacity:1; fill:none\" points=\"193.936,300.417 212.834,300.417 \"/>\n",
       "<polyline clip-path=\"url(#clip300)\" style=\"stroke:#000000; stroke-linecap:round; stroke-linejoin:round; stroke-width:4; stroke-opacity:1; fill:none\" points=\"193.936,62.4069 212.834,62.4069 \"/>\n",
       "<path clip-path=\"url(#clip300)\" d=\"M50.9921 1252.91 L80.6679 1252.91 L80.6679 1256.85 L50.9921 1256.85 L50.9921 1252.91 Z\" fill=\"#000000\" fill-rule=\"nonzero\" fill-opacity=\"1\" /><path clip-path=\"url(#clip300)\" d=\"M91.5706 1265.8 L99.2095 1265.8 L99.2095 1239.44 L90.8993 1241.11 L90.8993 1236.85 L99.1632 1235.18 L103.839 1235.18 L103.839 1265.8 L111.478 1265.8 L111.478 1269.74 L91.5706 1269.74 L91.5706 1265.8 Z\" fill=\"#000000\" fill-rule=\"nonzero\" fill-opacity=\"1\" /><path clip-path=\"url(#clip300)\" d=\"M120.922 1263.86 L125.807 1263.86 L125.807 1269.74 L120.922 1269.74 L120.922 1263.86 Z\" fill=\"#000000\" fill-rule=\"nonzero\" fill-opacity=\"1\" /><path clip-path=\"url(#clip300)\" d=\"M145.992 1238.26 Q142.381 1238.26 140.552 1241.82 Q138.746 1245.36 138.746 1252.49 Q138.746 1259.6 140.552 1263.17 Q142.381 1266.71 145.992 1266.71 Q149.626 1266.71 151.431 1263.17 Q153.26 1259.6 153.26 1252.49 Q153.26 1245.36 151.431 1241.82 Q149.626 1238.26 145.992 1238.26 M145.992 1234.55 Q151.802 1234.55 154.857 1239.16 Q157.936 1243.74 157.936 1252.49 Q157.936 1261.22 154.857 1265.83 Q151.802 1270.41 145.992 1270.41 Q140.181 1270.41 137.103 1265.83 Q134.047 1261.22 134.047 1252.49 Q134.047 1243.74 137.103 1239.16 Q140.181 1234.55 145.992 1234.55 Z\" fill=\"#000000\" fill-rule=\"nonzero\" fill-opacity=\"1\" /><path clip-path=\"url(#clip300)\" d=\"M51.9875 1014.9 L81.6633 1014.9 L81.6633 1018.84 L51.9875 1018.84 L51.9875 1014.9 Z\" fill=\"#000000\" fill-rule=\"nonzero\" fill-opacity=\"1\" /><path clip-path=\"url(#clip300)\" d=\"M101.756 1000.25 Q98.1447 1000.25 96.316 1003.81 Q94.5104 1007.35 94.5104 1014.48 Q94.5104 1021.59 96.316 1025.16 Q98.1447 1028.7 101.756 1028.7 Q105.39 1028.7 107.196 1025.16 Q109.024 1021.59 109.024 1014.48 Q109.024 1007.35 107.196 1003.81 Q105.39 1000.25 101.756 1000.25 M101.756 996.544 Q107.566 996.544 110.621 1001.15 Q113.7 1005.73 113.7 1014.48 Q113.7 1023.21 110.621 1027.82 Q107.566 1032.4 101.756 1032.4 Q95.9456 1032.4 92.8669 1027.82 Q89.8114 1023.21 89.8114 1014.48 Q89.8114 1005.73 92.8669 1001.15 Q95.9456 996.544 101.756 996.544 Z\" fill=\"#000000\" fill-rule=\"nonzero\" fill-opacity=\"1\" /><path clip-path=\"url(#clip300)\" d=\"M121.918 1025.85 L126.802 1025.85 L126.802 1031.73 L121.918 1031.73 L121.918 1025.85 Z\" fill=\"#000000\" fill-rule=\"nonzero\" fill-opacity=\"1\" /><path clip-path=\"url(#clip300)\" d=\"M137.033 997.169 L155.39 997.169 L155.39 1001.1 L141.316 1001.1 L141.316 1009.58 Q142.334 1009.23 143.353 1009.07 Q144.371 1008.88 145.39 1008.88 Q151.177 1008.88 154.556 1012.05 Q157.936 1015.22 157.936 1020.64 Q157.936 1026.22 154.464 1029.32 Q150.992 1032.4 144.672 1032.4 Q142.496 1032.4 140.228 1032.03 Q137.982 1031.66 135.575 1030.92 L135.575 1026.22 Q137.658 1027.35 139.881 1027.91 Q142.103 1028.47 144.58 1028.47 Q148.584 1028.47 150.922 1026.36 Q153.26 1024.25 153.26 1020.64 Q153.26 1017.03 150.922 1014.92 Q148.584 1012.82 144.58 1012.82 Q142.705 1012.82 140.83 1013.23 Q138.978 1013.65 137.033 1014.53 L137.033 997.169 Z\" fill=\"#000000\" fill-rule=\"nonzero\" fill-opacity=\"1\" /><path clip-path=\"url(#clip300)\" d=\"M100.76 762.237 Q97.1493 762.237 95.3206 765.802 Q93.515 769.344 93.515 776.473 Q93.515 783.58 95.3206 787.145 Q97.1493 790.686 100.76 790.686 Q104.395 790.686 106.2 787.145 Q108.029 783.58 108.029 776.473 Q108.029 769.344 106.2 765.802 Q104.395 762.237 100.76 762.237 M100.76 758.534 Q106.571 758.534 109.626 763.14 Q112.705 767.723 112.705 776.473 Q112.705 785.2 109.626 789.807 Q106.571 794.39 100.76 794.39 Q94.9502 794.39 91.8715 789.807 Q88.816 785.2 88.816 776.473 Q88.816 767.723 91.8715 763.14 Q94.9502 758.534 100.76 758.534 Z\" fill=\"#000000\" fill-rule=\"nonzero\" fill-opacity=\"1\" /><path clip-path=\"url(#clip300)\" d=\"M120.922 787.839 L125.807 787.839 L125.807 793.719 L120.922 793.719 L120.922 787.839 Z\" fill=\"#000000\" fill-rule=\"nonzero\" fill-opacity=\"1\" /><path clip-path=\"url(#clip300)\" d=\"M145.992 762.237 Q142.381 762.237 140.552 765.802 Q138.746 769.344 138.746 776.473 Q138.746 783.58 140.552 787.145 Q142.381 790.686 145.992 790.686 Q149.626 790.686 151.431 787.145 Q153.26 783.58 153.26 776.473 Q153.26 769.344 151.431 765.802 Q149.626 762.237 145.992 762.237 M145.992 758.534 Q151.802 758.534 154.857 763.14 Q157.936 767.723 157.936 776.473 Q157.936 785.2 154.857 789.807 Q151.802 794.39 145.992 794.39 Q140.181 794.39 137.103 789.807 Q134.047 785.2 134.047 776.473 Q134.047 767.723 137.103 763.14 Q140.181 758.534 145.992 758.534 Z\" fill=\"#000000\" fill-rule=\"nonzero\" fill-opacity=\"1\" /><path clip-path=\"url(#clip300)\" d=\"M101.756 524.227 Q98.1447 524.227 96.316 527.792 Q94.5104 531.333 94.5104 538.463 Q94.5104 545.569 96.316 549.134 Q98.1447 552.676 101.756 552.676 Q105.39 552.676 107.196 549.134 Q109.024 545.569 109.024 538.463 Q109.024 531.333 107.196 527.792 Q105.39 524.227 101.756 524.227 M101.756 520.523 Q107.566 520.523 110.621 525.13 Q113.7 529.713 113.7 538.463 Q113.7 547.19 110.621 551.796 Q107.566 556.379 101.756 556.379 Q95.9456 556.379 92.8669 551.796 Q89.8114 547.19 89.8114 538.463 Q89.8114 529.713 92.8669 525.13 Q95.9456 520.523 101.756 520.523 Z\" fill=\"#000000\" fill-rule=\"nonzero\" fill-opacity=\"1\" /><path clip-path=\"url(#clip300)\" d=\"M121.918 549.828 L126.802 549.828 L126.802 555.708 L121.918 555.708 L121.918 549.828 Z\" fill=\"#000000\" fill-rule=\"nonzero\" fill-opacity=\"1\" /><path clip-path=\"url(#clip300)\" d=\"M137.033 521.148 L155.39 521.148 L155.39 525.083 L141.316 525.083 L141.316 533.555 Q142.334 533.208 143.353 533.046 Q144.371 532.861 145.39 532.861 Q151.177 532.861 154.556 536.032 Q157.936 539.204 157.936 544.62 Q157.936 550.199 154.464 553.301 Q150.992 556.379 144.672 556.379 Q142.496 556.379 140.228 556.009 Q137.982 555.639 135.575 554.898 L135.575 550.199 Q137.658 551.333 139.881 551.889 Q142.103 552.444 144.58 552.444 Q148.584 552.444 150.922 550.338 Q153.26 548.231 153.26 544.62 Q153.26 541.009 150.922 538.903 Q148.584 536.796 144.58 536.796 Q142.705 536.796 140.83 537.213 Q138.978 537.629 137.033 538.509 L137.033 521.148 Z\" fill=\"#000000\" fill-rule=\"nonzero\" fill-opacity=\"1\" /><path clip-path=\"url(#clip300)\" d=\"M91.5706 313.762 L99.2095 313.762 L99.2095 287.397 L90.8993 289.063 L90.8993 284.804 L99.1632 283.137 L103.839 283.137 L103.839 313.762 L111.478 313.762 L111.478 317.697 L91.5706 317.697 L91.5706 313.762 Z\" fill=\"#000000\" fill-rule=\"nonzero\" fill-opacity=\"1\" /><path clip-path=\"url(#clip300)\" d=\"M120.922 311.818 L125.807 311.818 L125.807 317.697 L120.922 317.697 L120.922 311.818 Z\" fill=\"#000000\" fill-rule=\"nonzero\" fill-opacity=\"1\" /><path clip-path=\"url(#clip300)\" d=\"M145.992 286.216 Q142.381 286.216 140.552 289.781 Q138.746 293.323 138.746 300.452 Q138.746 307.559 140.552 311.123 Q142.381 314.665 145.992 314.665 Q149.626 314.665 151.431 311.123 Q153.26 307.559 153.26 300.452 Q153.26 293.323 151.431 289.781 Q149.626 286.216 145.992 286.216 M145.992 282.512 Q151.802 282.512 154.857 287.119 Q157.936 291.702 157.936 300.452 Q157.936 309.179 154.857 313.785 Q151.802 318.369 145.992 318.369 Q140.181 318.369 137.103 313.785 Q134.047 309.179 134.047 300.452 Q134.047 291.702 137.103 287.119 Q140.181 282.512 145.992 282.512 Z\" fill=\"#000000\" fill-rule=\"nonzero\" fill-opacity=\"1\" /><path clip-path=\"url(#clip300)\" d=\"M92.566 75.7517 L100.205 75.7517 L100.205 49.3861 L91.8947 51.0528 L91.8947 46.7935 L100.159 45.1269 L104.834 45.1269 L104.834 75.7517 L112.473 75.7517 L112.473 79.6869 L92.566 79.6869 L92.566 75.7517 Z\" fill=\"#000000\" fill-rule=\"nonzero\" fill-opacity=\"1\" /><path clip-path=\"url(#clip300)\" d=\"M121.918 73.8073 L126.802 73.8073 L126.802 79.6869 L121.918 79.6869 L121.918 73.8073 Z\" fill=\"#000000\" fill-rule=\"nonzero\" fill-opacity=\"1\" /><path clip-path=\"url(#clip300)\" d=\"M137.033 45.1269 L155.39 45.1269 L155.39 49.062 L141.316 49.062 L141.316 57.5342 Q142.334 57.187 143.353 57.0249 Q144.371 56.8398 145.39 56.8398 Q151.177 56.8398 154.556 60.011 Q157.936 63.1823 157.936 68.599 Q157.936 74.1776 154.464 77.2795 Q150.992 80.3582 144.672 80.3582 Q142.496 80.3582 140.228 79.9878 Q137.982 79.6174 135.575 78.8767 L135.575 74.1776 Q137.658 75.3119 139.881 75.8674 Q142.103 76.423 144.58 76.423 Q148.584 76.423 150.922 74.3165 Q153.26 72.21 153.26 68.599 Q153.26 64.9879 150.922 62.8814 Q148.584 60.7749 144.58 60.7749 Q142.705 60.7749 140.83 61.1916 Q138.978 61.6083 137.033 62.4879 L137.033 45.1269 Z\" fill=\"#000000\" fill-rule=\"nonzero\" fill-opacity=\"1\" /><polyline clip-path=\"url(#clip302)\" style=\"stroke:#009af9; stroke-linecap:round; stroke-linejoin:round; stroke-width:4; stroke-opacity:1; fill:none\" points=\"255.035,1252.46 266.541,1252.46 278.047,1252.46 289.554,1252.46 301.06,1252.46 312.566,1252.46 324.073,1252.46 335.579,1252.46 347.085,1252.46 358.592,1252.46 370.098,1252.46 381.604,1252.46 393.111,1252.46 404.617,1252.46 416.123,1252.46 427.63,1252.46 439.136,1252.46 450.642,1252.46 462.149,1252.46 473.655,1252.46 485.162,1252.46 496.668,1252.46 508.174,1252.46 519.681,1252.46 531.187,1252.46 542.693,1252.46 554.2,1252.46 565.706,1252.46 577.212,1252.46 588.719,1252.46 600.225,1252.46 611.731,1252.46 623.238,1252.46 634.744,1252.46 646.25,1252.46 657.757,1252.46 669.263,1252.46 680.769,1252.46 692.276,1252.46 703.782,1252.46 715.288,1252.46 726.795,1252.46 738.301,1252.46 749.807,1252.46 761.314,1252.46 772.82,1252.46 784.326,1252.46 795.833,1252.46 807.339,1252.46 818.845,1252.46 830.352,1252.46 841.858,1252.46 853.364,1252.46 864.871,1252.46 876.377,1252.46 887.883,1252.46 899.39,1252.46 910.896,1252.46 922.403,1252.46 933.909,776.439 945.415,776.439 956.922,776.439 968.428,776.439 979.934,776.439 991.441,776.439 1002.95,776.439 1014.45,776.439 1025.96,776.439 1037.47,776.439 1048.97,776.439 1060.48,776.439 1071.98,776.439 1083.49,776.439 1095,776.439 1106.5,776.439 1118.01,776.439 1129.52,776.439 1141.02,776.439 1152.53,776.439 1164.04,776.439 1175.54,776.439 1187.05,776.439 1198.55,776.439 1210.06,776.439 1221.57,776.439 1233.07,776.439 1244.58,776.439 1256.09,776.439 1267.59,776.439 1279.1,776.439 1290.61,776.439 1302.11,776.439 1313.62,776.439 1325.12,776.439 1336.63,776.439 1348.14,776.439 1359.64,776.439 1371.15,776.439 1382.66,776.439 1394.16,776.439 1405.67,776.439 1417.18,776.439 1428.68,776.439 1440.19,776.439 1451.69,776.439 1463.2,776.439 1474.71,776.439 1486.21,776.439 1497.72,776.439 1509.23,776.439 1520.73,776.439 1532.24,776.439 1543.74,776.439 1555.25,776.439 1566.76,776.439 1578.26,776.439 1589.77,776.439 1601.28,776.439 1612.78,776.439 1624.29,776.439 1635.8,776.439 1647.3,776.439 1658.81,776.439 1670.31,776.439 1681.82,776.439 1693.33,776.439 1704.83,776.439 1716.34,776.439 1727.85,776.439 1739.35,776.439 1750.86,300.417 1762.37,300.417 1773.87,300.417 1785.38,300.417 1796.88,300.417 1808.39,300.417 1819.9,300.417 1831.4,300.417 1842.91,300.417 1854.42,300.417 1865.92,300.417 1877.43,300.417 1888.94,300.417 1900.44,300.417 1911.95,300.417 1923.45,300.417 1934.96,300.417 1946.47,300.417 1957.97,300.417 1969.48,300.417 1980.99,300.417 1992.49,300.417 2004,300.417 2015.51,300.417 2027.01,300.417 2038.52,300.417 2050.02,300.417 2061.53,300.417 2073.04,300.417 2084.54,300.417 2096.05,300.417 2107.56,300.417 2119.06,300.417 2130.57,300.417 2142.07,300.417 2153.58,300.417 2165.09,300.417 2176.59,300.417 2188.1,300.417 2199.61,300.417 2211.11,300.417 2222.62,300.417 2234.13,300.417 2245.63,300.417 2257.14,300.417 2268.64,300.417 2280.15,300.417 2291.66,300.417 \"/>\n",
       "<polyline clip-path=\"url(#clip302)\" style=\"stroke:#e26f46; stroke-linecap:round; stroke-linejoin:round; stroke-width:4; stroke-opacity:1; fill:none\" points=\"255.035,1330.37 266.541,1303.59 278.047,1343.08 289.554,1234.25 301.06,1004.31 312.566,1186.53 324.073,1316.56 335.579,1128.2 347.085,1175.87 358.592,1235.31 370.098,1428.08 381.604,1273.2 393.111,1385.59 404.617,1265.48 416.123,1316.39 427.63,1112.65 439.136,1104.56 450.642,998.606 462.149,1240.18 473.655,1138.28 485.162,1265.3 496.668,1230.49 508.174,1265.88 519.681,1230.3 531.187,1107.38 542.693,1121.94 554.2,1174.76 565.706,1122.51 577.212,1101.86 588.719,1288.13 600.225,1294.27 611.731,1351.6 623.238,1263.62 634.744,919.291 646.25,1266.8 657.757,1113.18 669.263,1220.58 680.769,1265.27 692.276,1166.69 703.782,1121.78 715.288,1167.16 726.795,880.976 738.301,1193.99 749.807,885.205 761.314,1083.26 772.82,967.108 784.326,1087.93 795.833,1163.75 807.339,1150.04 818.845,1169.39 830.352,1126.92 841.858,1445.72 853.364,1102.49 864.871,1134.78 876.377,1170.35 887.883,1237.66 899.39,1160.02 910.896,1223.01 922.403,1222.55 933.909,452.984 945.415,522.443 956.922,235.102 968.428,742.459 979.934,738.493 991.441,705.687 1002.95,1122.87 1014.45,677.213 1025.96,796.44 1037.47,576.362 1048.97,687.32 1060.48,670.924 1071.98,849.213 1083.49,536.61 1095,447.647 1106.5,713.696 1118.01,701.317 1129.52,681.616 1141.02,488.829 1152.53,709.711 1164.04,765.663 1175.54,979.252 1187.05,1062.71 1198.55,857.38 1210.06,520.991 1221.57,881.48 1233.07,887.606 1244.58,805.648 1256.09,795.482 1267.59,717.358 1279.1,800.436 1290.61,657.17 1302.11,577.786 1313.62,597.142 1325.12,948.008 1336.63,798.111 1348.14,924.715 1359.64,904.964 1371.15,949.818 1382.66,778.938 1394.16,1220.16 1405.67,1061.72 1417.18,713.418 1428.68,585.639 1440.19,580.27 1451.69,741.149 1463.2,409.644 1474.71,792.411 1486.21,609.39 1497.72,355.23 1509.23,1127.73 1520.73,765.631 1532.24,537.163 1543.74,813.27 1555.25,783.402 1566.76,591.398 1578.26,1151.72 1589.77,730.476 1601.28,559.845 1612.78,507.07 1624.29,889.371 1635.8,900.811 1647.3,1007.51 1658.81,655.443 1670.31,582.286 1681.82,931.365 1693.33,524.218 1704.83,264.393 1716.34,404.649 1727.85,477.636 1739.35,563.372 1750.86,639.873 1762.37,400.654 1773.87,283.697 1785.38,596.815 1796.88,608.098 1808.39,549.166 1819.9,232.168 1831.4,87.9763 1842.91,351.837 1854.42,435.483 1865.92,413.736 1877.43,334.642 1888.94,359.053 1900.44,442.807 1911.95,380.682 1923.45,447.998 1934.96,221.652 1946.47,183.803 1957.97,293.891 1969.48,114.576 1980.99,252.044 1992.49,104.748 2004,304.515 2015.51,469.175 2027.01,401.344 2038.52,497.089 2050.02,455.691 2061.53,219.143 2073.04,169.358 2084.54,163.529 2096.05,235.478 2107.56,442.754 2119.06,406.236 2130.57,321.672 2142.07,216.231 2153.58,360.798 2165.09,347.722 2176.59,365.427 2188.1,305.378 2199.61,505.211 2211.11,248.961 2222.62,333.626 2234.13,317.514 2245.63,466.218 2257.14,316.626 2268.64,369.831 2280.15,411.768 2291.66,197.165 \"/>\n",
       "<path clip-path=\"url(#clip300)\" d=\"M265.897 250.738 L586.014 250.738 L586.014 95.2176 L265.897 95.2176  Z\" fill=\"#ffffff\" fill-rule=\"evenodd\" fill-opacity=\"1\"/>\n",
       "<polyline clip-path=\"url(#clip300)\" style=\"stroke:#000000; stroke-linecap:round; stroke-linejoin:round; stroke-width:4; stroke-opacity:1; fill:none\" points=\"265.897,250.738 586.014,250.738 586.014,95.2176 265.897,95.2176 265.897,250.738 \"/>\n",
       "<polyline clip-path=\"url(#clip300)\" style=\"stroke:#009af9; stroke-linecap:round; stroke-linejoin:round; stroke-width:4; stroke-opacity:1; fill:none\" points=\"289.884,147.058 433.805,147.058 \"/>\n",
       "<path clip-path=\"url(#clip300)\" d=\"M462.468 133.62 L462.468 160.495 L468.116 160.495 Q475.269 160.495 478.579 157.254 Q481.912 154.014 481.912 147.023 Q481.912 140.078 478.579 136.861 Q475.269 133.62 468.116 133.62 L462.468 133.62 M457.792 129.778 L467.398 129.778 Q477.444 129.778 482.143 133.967 Q486.843 138.134 486.843 147.023 Q486.843 155.958 482.12 160.148 Q477.398 164.338 467.398 164.338 L457.792 164.338 L457.792 129.778 Z\" fill=\"#000000\" fill-rule=\"nonzero\" fill-opacity=\"1\" /><path clip-path=\"url(#clip300)\" d=\"M505.893 151.305 Q500.731 151.305 498.741 152.486 Q496.75 153.666 496.75 156.514 Q496.75 158.782 498.231 160.125 Q499.736 161.444 502.305 161.444 Q505.847 161.444 507.977 158.944 Q510.129 156.421 510.129 152.254 L510.129 151.305 L505.893 151.305 M514.389 149.546 L514.389 164.338 L510.129 164.338 L510.129 160.402 Q508.671 162.763 506.495 163.898 Q504.319 165.009 501.171 165.009 Q497.19 165.009 494.829 162.787 Q492.491 160.541 492.491 156.791 Q492.491 152.416 495.407 150.194 Q498.347 147.972 504.157 147.972 L510.129 147.972 L510.129 147.555 Q510.129 144.615 508.185 143.018 Q506.264 141.398 502.768 141.398 Q500.546 141.398 498.44 141.93 Q496.333 142.463 494.389 143.527 L494.389 139.592 Q496.727 138.69 498.926 138.25 Q501.125 137.787 503.208 137.787 Q508.833 137.787 511.611 140.703 Q514.389 143.62 514.389 149.546 Z\" fill=\"#000000\" fill-rule=\"nonzero\" fill-opacity=\"1\" /><path clip-path=\"url(#clip300)\" d=\"M527.375 131.051 L527.375 138.412 L536.148 138.412 L536.148 141.722 L527.375 141.722 L527.375 155.796 Q527.375 158.967 528.231 159.87 Q529.111 160.773 531.773 160.773 L536.148 160.773 L536.148 164.338 L531.773 164.338 Q526.842 164.338 524.967 162.509 Q523.092 160.657 523.092 155.796 L523.092 141.722 L519.967 141.722 L519.967 138.412 L523.092 138.412 L523.092 131.051 L527.375 131.051 Z\" fill=\"#000000\" fill-rule=\"nonzero\" fill-opacity=\"1\" /><path clip-path=\"url(#clip300)\" d=\"M553.532 151.305 Q548.37 151.305 546.379 152.486 Q544.389 153.666 544.389 156.514 Q544.389 158.782 545.87 160.125 Q547.375 161.444 549.944 161.444 Q553.486 161.444 555.615 158.944 Q557.768 156.421 557.768 152.254 L557.768 151.305 L553.532 151.305 M562.027 149.546 L562.027 164.338 L557.768 164.338 L557.768 160.402 Q556.31 162.763 554.134 163.898 Q551.958 165.009 548.81 165.009 Q544.828 165.009 542.467 162.787 Q540.129 160.541 540.129 156.791 Q540.129 152.416 543.046 150.194 Q545.986 147.972 551.796 147.972 L557.768 147.972 L557.768 147.555 Q557.768 144.615 555.824 143.018 Q553.902 141.398 550.407 141.398 Q548.185 141.398 546.078 141.93 Q543.972 142.463 542.027 143.527 L542.027 139.592 Q544.365 138.69 546.564 138.25 Q548.763 137.787 550.847 137.787 Q556.472 137.787 559.25 140.703 Q562.027 143.62 562.027 149.546 Z\" fill=\"#000000\" fill-rule=\"nonzero\" fill-opacity=\"1\" /><polyline clip-path=\"url(#clip300)\" style=\"stroke:#e26f46; stroke-linecap:round; stroke-linejoin:round; stroke-width:4; stroke-opacity:1; fill:none\" points=\"289.884,198.898 433.805,198.898 \"/>\n",
       "<path clip-path=\"url(#clip300)\" d=\"M457.792 181.618 L477.653 181.618 L477.653 185.553 L462.468 185.553 L462.468 195.738 L476.171 195.738 L476.171 199.673 L462.468 199.673 L462.468 216.178 L457.792 216.178 L457.792 181.618 Z\" fill=\"#000000\" fill-rule=\"nonzero\" fill-opacity=\"1\" /><path clip-path=\"url(#clip300)\" d=\"M481.426 190.252 L485.685 190.252 L485.685 216.178 L481.426 216.178 L481.426 190.252 M481.426 180.159 L485.685 180.159 L485.685 185.553 L481.426 185.553 L481.426 180.159 Z\" fill=\"#000000\" fill-rule=\"nonzero\" fill-opacity=\"1\" /><path clip-path=\"url(#clip300)\" d=\"M498.81 182.891 L498.81 190.252 L507.583 190.252 L507.583 193.562 L498.81 193.562 L498.81 207.636 Q498.81 210.807 499.667 211.71 Q500.546 212.613 503.208 212.613 L507.583 212.613 L507.583 216.178 L503.208 216.178 Q498.278 216.178 496.403 214.349 Q494.528 212.497 494.528 207.636 L494.528 193.562 L491.403 193.562 L491.403 190.252 L494.528 190.252 L494.528 182.891 L498.81 182.891 Z\" fill=\"#000000\" fill-rule=\"nonzero\" fill-opacity=\"1\" /></svg>\n"
      ]
     },
     "execution_count": 12,
     "metadata": {},
     "output_type": "execute_result"
    }
   ],
   "source": [
    "plot(axes(y, 2), y[:], label = \"Data\")\n",
    "plot!(axes(y, 2), estimate(model, X)[:], label = \"Fit\")"
   ]
  },
  {
   "cell_type": "code",
   "execution_count": 13,
   "id": "39b64d70",
   "metadata": {},
   "outputs": [
    {
     "data": {
      "text/plain": [
       "1×1 Matrix{Float32}:\n",
       " -0.016746128"
      ]
     },
     "execution_count": 13,
     "metadata": {},
     "output_type": "execute_result"
    }
   ],
   "source": [
    "using OneHotArrays\n",
    "function jacobians(model, X, y)\n",
    "    y_1 = tanh.(model[1] * X)\n",
    "    jac_tanh = 1 .- y_1.^2\n",
    "    jac_mse = 2 * (model[2] * y_1 - y) / size(y, 2)\n",
    "    return jac_tanh, jac_mse\n",
    "end\n",
    "function jacobian_combine(model, X, y, j, k)\n",
    "    ∂W_1 = onehot(j, axes(model[1], 1)) * onehot(k, axes(model[1], 2))'\n",
    "    J_1, J_2 = jacobians(model, X, y)\n",
    "    (model[2] * (J_1 .* (∂W_1 * X))) * J_2'\n",
    "end\n",
    "jacobian_combine(model, X, y, 1, 1)"
   ]
  },
  {
   "cell_type": "code",
   "execution_count": 14,
   "id": "ee074be9",
   "metadata": {},
   "outputs": [
    {
     "data": {
      "text/plain": [
       "-0.016746132f0"
      ]
     },
     "execution_count": 14,
     "metadata": {},
     "output_type": "execute_result"
    }
   ],
   "source": [
    "∇model(loss, model, X, y, 1, 1, 1)"
   ]
  },
  {
   "cell_type": "markdown",
   "id": "0a6a0ff7",
   "metadata": {},
   "source": [
    "### ~~Backward~~ Reverse Differentiation\n",
    "\n",
    "Viewing this as a product of Jacobian matrices, linear algebra will allow us to find a faster way to compute the gradient. This is will introduce *reverse differentiation*.\n",
    "\n",
    "The broadcasted `*` is an Hadamard product, denoted $\\odot$. So what we compute in `jacobian_combine` is:\n",
    "$$\n",
    "W_2 (J_1 \\odot (\\partial W_1 X)) J_2^\\top\n",
    "$$\n",
    "As this is scalar, it is trivially equal to its scalar product with ``1``. We can then move everything to the right-hand side with the adjoint (here, it is the transpose):\n",
    "$$\n",
    "\\begin{align}\n",
    "\\langle W_2 (J_1 \\odot (\\partial W_1 X)) J_2^\\top, 1 \\rangle\n",
    "& =\n",
    "\\langle J_1 \\odot (\\partial W_1 X), W_2^\\top J_2 \\rangle\\\\\n",
    "& =\n",
    "\\langle \\partial W_1 X, J_1 \\odot (W_2^\\top J_2) \\rangle\\\\\n",
    "& =\n",
    "\\langle \\partial W_1 X, J_1 \\odot (W_2^\\top J_2) \\rangle\\\\\n",
    "& =\n",
    "\\langle \\partial W_1, (J_1 \\odot (W_2^\\top J_2))X^\\top \\rangle\\\\\n",
    "\\end{align}\n",
    "$$\n",
    "Now, for the derivative with respect to the entry $W_{i,j}$, we use $\\partial W_1 = e_ie_j^\\top$ and\n",
    "$$\n",
    "\\langle e_ie_j^\\top, (J_1 \\odot (W_2^\\top J_2))X^\\top \\rangle\n",
    "=\n",
    "((J_1 \\odot (W_2^\\top J_2))X^\\top)_{ij}\n",
    "$$\n",
    "So the gradient with respect to $W_1$ is exactly the matrix $(J_1 \\odot (W_2^\\top J_2))X^\\top$ !"
   ]
  },
  {
   "cell_type": "code",
   "execution_count": 15,
   "id": "6c4198f6",
   "metadata": {},
   "outputs": [
    {
     "data": {
      "text/plain": [
       "32×13 Matrix{Float32}:\n",
       " -0.0167461   -0.00719482    0.0195071    …  -0.00201555   0.014193\n",
       " -0.00704094   0.00656176    0.014611        -0.0121835    0.0092237\n",
       "  0.0109434   -0.00706819   -0.0078698        0.0204852   -0.00515536\n",
       "  0.0118795   -0.0143569    -0.0104847        0.0130499   -0.00542107\n",
       "  0.00816466  -0.00443311   -0.0233895        0.0148583   -0.00782927\n",
       " -0.00452165   0.00639268    0.00736856   …  -0.00949257   0.00411564\n",
       "  0.00929972  -0.00552386   -0.00479368       0.0135718   -0.00272814\n",
       "  0.0151182   -0.00110865   -0.000980799      0.0141343   -0.00220155\n",
       "  0.0145859   -0.00547757   -0.00293678       0.0108184   -0.0017021\n",
       "  0.00674886  -0.0150045    -0.0139963        0.0222901   -0.00856839\n",
       " -0.00818229   0.00339582    0.0160015    …  -0.0113117    0.00560697\n",
       " -0.00728608   0.00463509    0.0206062       -0.0143144    0.0119917\n",
       " -0.0240161    0.00734717   -0.00715775      -0.0167572    0.00311585\n",
       "  ⋮                                       ⋱               \n",
       "  0.0130642   -0.020031     -0.0187209    …   0.0154377   -0.0127262\n",
       " -2.41096f-6  -0.000328207   0.00276662      -0.00248886   0.0024484\n",
       " -0.0129364    0.00183347    0.00543929      -0.0109762    0.00776225\n",
       " -0.0134125    0.00084896    0.00229887      -0.0131484   -0.00333854\n",
       " -0.0158012    0.00610069    0.0210698       -0.0157328    0.0107386\n",
       "  0.00196024  -0.000505066  -0.00205061   …   0.00816458  -0.00283534\n",
       " -0.00580899   0.000454559   0.00107893      -0.00173542   0.00156289\n",
       "  0.00771892  -0.00100069   -0.00199047       0.00968881   0.000889844\n",
       " -0.00805345   0.0226375    -0.00127936      -0.0286599    0.00409639\n",
       "  0.00420688  -0.0114635     0.00451335       0.0193558   -0.0132223\n",
       " -0.00615338   0.0124585     0.0216019    …  -0.0315773    0.0178671\n",
       "  0.00902197  -0.00265701   -0.00507014       0.00557241  -0.000799946"
      ]
     },
     "execution_count": 15,
     "metadata": {},
     "output_type": "execute_result"
    }
   ],
   "source": [
    "function jacobian_adjoint(model, X, y)\n",
    "    J_1, J_2 = jacobians(model, X, y)\n",
    "    (J_1 .* (model[2]' * J_2)) * X'\n",
    "end\n",
    "jacobian_adjoint(model, X, y)"
   ]
  },
  {
   "cell_type": "code",
   "execution_count": 16,
   "id": "d3f3349d",
   "metadata": {
    "scrolled": true
   },
   "outputs": [
    {
     "data": {
      "text/plain": [
       "true"
      ]
     },
     "execution_count": 16,
     "metadata": {},
     "output_type": "execute_result"
    }
   ],
   "source": [
    "∇model(loss, model, X, y, 1) ≈ jacobian_adjoint(model, X, y)"
   ]
  },
  {
   "cell_type": "markdown",
   "id": "d5b9392e",
   "metadata": {},
   "source": [
    "We can do the same to compute the derivative with respect to $W_2$.\n",
    "Forward diff computes $\\partial W_2\\tanh(W_1 X) J_2^\\top$ ($\\tanh$ being applied elementwise) so let's see what the adjoint trick gives us for the reverse diff:\n",
    "$$\n",
    "\\begin{align}\n",
    "\\langle \\partial W_2\\tanh(W_1 X) J_2^\\top, 1 \\rangle\n",
    "& =\n",
    "\\langle \\partial W_2, J_2 \\tanh(W_1 X)^\\top \\rangle\n",
    "\\end{align}\n",
    "$$\n",
    "So the reverse diff computation for the gradient with respect to $W_2$ is $J_2 \\tanh(W_1 X)^\\top$."
   ]
  },
  {
   "cell_type": "code",
   "execution_count": 17,
   "id": "2fa85f0f",
   "metadata": {},
   "outputs": [
    {
     "data": {
      "text/plain": [
       "true"
      ]
     },
     "execution_count": 17,
     "metadata": {},
     "output_type": "execute_result"
    }
   ],
   "source": [
    "function ∇loss_reverse(model, X, y)\n",
    "    y_1 = tanh.(model[1] * X)\n",
    "    jac_tanh = 1 .- y_1.^2\n",
    "    jac_mse = 2 * (model[2] * y_1 - y) / size(y, 2)\n",
    "    ∇W1 = (jac_tanh .* (model[2]' * jac_mse)) * X'\n",
    "    ∇W2 = jac_mse * y_1'\n",
    "    return [∇W1, ∇W2]\n",
    "end\n",
    "∇loss_reverse(model, X, y) ≈ ∇model(loss, model, X, y)"
   ]
  },
  {
   "cell_type": "markdown",
   "id": "ae86f656",
   "metadata": {},
   "source": [
    "Using reverse diff instead of forward diff gives us a 200x speedup, not bad!"
   ]
  },
  {
   "cell_type": "code",
   "execution_count": 29,
   "id": "89e3379c-0e82-49d7-a852-93a187b764f4",
   "metadata": {},
   "outputs": [
    {
     "data": {
      "text/plain": [
       "train_reverse_diff! (generic function with 2 methods)"
      ]
     },
     "execution_count": 29,
     "metadata": {},
     "output_type": "execute_result"
    }
   ],
   "source": [
    "function train_reverse_diff!(losses, model, X, y, opt, num_iters, states)\n",
    "    @time for epoch in 1:num_iters\n",
    "        grads = ∇loss_reverse(model, X, y)\n",
    "        # Gradient descent with rate `η`\n",
    "        for i in eachindex(model)\n",
    "            states[i], ΔW = Optimisers.apply!(opt, states[i], model[i], grads[i])\n",
    "            model[i] .-= ΔW\n",
    "        end\n",
    "        push!(losses, loss(model, X, y))\n",
    "    end\n",
    "end"
   ]
  },
  {
   "cell_type": "code",
   "execution_count": 19,
   "id": "9a00b545",
   "metadata": {},
   "outputs": [
    {
     "name": "stdout",
     "output_type": "stream",
     "text": [
      "  0.089307 seconds (27.00 k allocations: 159.098 MiB, 16.73% gc time)\n"
     ]
    },
    {
     "data": {
      "text/plain": [
       "1101-element Vector{Float32}:\n",
       " 1.9197679\n",
       " 1.8126762\n",
       " 1.7100246\n",
       " 1.6118748\n",
       " 1.518269\n",
       " 1.4292357\n",
       " 1.3447908\n",
       " 1.2649319\n",
       " 1.1896353\n",
       " 1.1188571\n",
       " 1.0525328\n",
       " 0.99057823\n",
       " 0.93288875\n",
       " ⋮\n",
       " 0.01766273\n",
       " 0.017647097\n",
       " 0.017631482\n",
       " 0.017615901\n",
       " 0.017600333\n",
       " 0.017584793\n",
       " 0.017569272\n",
       " 0.017553777\n",
       " 0.017538298\n",
       " 0.017522838\n",
       " 0.017507408\n",
       " 0.017492006"
      ]
     },
     "execution_count": 19,
     "metadata": {},
     "output_type": "execute_result"
    }
   ],
   "source": [
    "train_reverse_diff!(losses, model, X, y, opt, 1000, states)\n",
    "losses"
   ]
  },
  {
   "cell_type": "markdown",
   "id": "4258271e",
   "metadata": {},
   "source": [
    "### When should forward differentiation be used ?\n",
    "\n",
    "Suppose that we need to differentiate a composition of functions:\n",
    "$(f_n \\circ f_{n-1} \\circ \\cdots \\circ f_2 \\circ f_1)(w)$.\n",
    "For each function, we can compute a jacobian given the value of its input.\n",
    "So, during a forward pass, we can compute all jacobians. We now just need to take the product of these jacobians:\n",
    "$$J_n J_{n-1} \\cdots J_2 J_1$$\n",
    "While the product of matrices is associative, its computational complexity depends on the order of the multiplications!\n",
    "Let $d_i \\times d_{i - 1}$ be the dimension of $J_i$.\n",
    "\n",
    "#### Forward diff: from right to left\n",
    "\n",
    "If the product is computed from right to left:\n",
    "$$\n",
    "\\begin{align}\n",
    "  J_{1,2} & = J_2 J_1 && \\Omega(d_2d_1d_0)\\\\\n",
    "  J_{1,3} & = J_3 J_{1,2} && \\Omega(d_3d_2d_0)\\\\\n",
    "  J_{1,4} & = J_4 J_{1,3} && \\Omega(d_4d_3d_0)\\\\\n",
    "  \\vdots & \\quad \\vdots\\\\\n",
    "  J_{1,n} & = J_n J_{1,(n-1)} && \\Omega(d_nd_{n-1}d_0)\\\\\n",
    "\\end{align}\n",
    "$$\n",
    "we have a complexity of\n",
    "$$\\Omega(\\sum_{i=2}^n d_id_{i-1}d_0).$$\n",
    "\n",
    "#### Reverse diff: from left to right\n",
    "\n",
    "The adjoint trick gives\n",
    "$$\\langle J_n J_{n-1} \\cdots J_2 J_1 \\partial w, \\partial y \\rangle\n",
    "=\n",
    "\\langle \\partial w, J_1^\\top J_2^\\top \\cdots J_{n-1}^\\top J_n^\\top \\partial y \\rangle.$$\n",
    "So reverse differentation corresponds to multiplying the adjoint from right to left or equivalently the original matrices from left to right.\n",
    "This means computing the product in the following order:\n",
    "$$\n",
    "\\begin{align}\n",
    "  J_{(n-1),n} & = J_n J_{n-1} && \\Omega(d_nd_{n-1}d_{n-2})\\\\\n",
    "  J_{(n-2),n} & = J_{(n-1),n} J_{n-2} && \\Omega(d_nd_{n-2}d_{n-3})\\\\\n",
    "  J_{(n-3),n} & = J_{(n-2),n} J_{n-3} && \\Omega(d_nd_{n-3}d_{n-4})\\\\\n",
    "  \\vdots & \\quad \\vdots\\\\\n",
    "  J_{1,n} & = J_{2,n} J_1 && \\Omega(d_nd_1d_0)\\\\\n",
    "\\end{align}\n",
    "$$\n",
    "We have a complexity of\n",
    "$$\\Omega(\\sum_{i=1}^{n-1} d_nd_id_{i-1}).$$\n",
    "\n",
    "#### Mixed : from inward to outward\n",
    "\n",
    "We can also write\n",
    "$$\\langle J_n J_{n-1} \\cdots J_2 J_1 \\partial w, \\partial y \\rangle\n",
    "=\n",
    "\\langle J_k J_{k-1} \\cdots J_2 J_1\\partial w, J_{k+1}^\\top J_{k+2}^\\top \\cdots J_{n-1}^\\top J_n^\\top \\partial y \\rangle.$$\n",
    "This corresponds to multiplying starting from some $d_k$ where $1 < k < n$.\n",
    "We would then first compute the left side:\n",
    "$$\n",
    "\\begin{align}\n",
    "  J_{k+1,k+2} & = J_{k+2} J_{k+1} && \\Omega(d_{k+2}d_{k+1}d_{k})\\\\\n",
    "  J_{k+1,k+3} & = J_{k+3} J_{k+1,k+2} && \\Omega(d_{k+3}d_{k+2}d_{k})\\\\\n",
    "  \\vdots & \\quad \\vdots\\\\\n",
    "  J_{k+1,n} & = J_{n} J_{k+1,n-1} && \\Omega(d_nd_{n-1}d_k)\n",
    "\\end{align}\n",
    "$$\n",
    "then the right side:\n",
    "$$\n",
    "\\begin{align}\n",
    "  J_{k-1,k} & = J_k J_{k-1} && \\Omega(d_kd_{k-1}d_{k-2})\\\\\n",
    "  J_{k-2,k} & = J_{k-1,k} J_{k-2} && \\Omega(d_kd_{k-2}d_{k-3})\\\\\n",
    "  \\vdots & \\quad \\vdots\\\\\n",
    "  J_{1,k} & = J_{2,k} J_1 && \\Omega(d_kd_1d_0)\\\\\n",
    "\\end{align}\n",
    "$$\n",
    "and then combine both sides:\n",
    "$$J_{1,n} = J_{k+1,n} J_{1,k} \\qquad \\Omega(d_nd_kd_0)$$\n",
    "we have a complexity of\n",
    "$$\\Omega(d_nd_kd_0 + \\sum_{i=1}^{k-1} d_kd_id_{i-1} + \\sum_{i=k}^{n} d_id_{i-1}d_k).$$\n",
    "\n",
    "#### Comparison\n",
    "\n",
    "We see that we should find the minimum $d_k$ and start from there. If the minimum is attained at $k = n$, this corresponds mutliplying from left to right, this is reverse differentiation. If the minimum is attained at $k = 0$, we should multiply from right to left, this is forward differentiation. Otherwise, we should start from the middle, this would mean mixing both forward and reverse diff.\n",
    "\n",
    "What about neural networks ? In that case, $d_0$ is equal to the number of entries in $W_1$ added with the number of entries in $W_2$ while $d_n$ is $1$ since the loss is scalar. We should therefore clearly multiply from left to right hence do reverse diff."
   ]
  },
  {
   "cell_type": "markdown",
   "id": "09e7c028-2311-454e-9179-4d561d4e68be",
   "metadata": {},
   "source": [
    "## ⚙️ Computation on the GPU\n",
    "\n",
    "We are going to define a `gpu` function that sends an array to the GPU. This depends on which GPU you have\n",
    "\n",
    "### For intel, run this"
   ]
  },
  {
   "cell_type": "code",
   "execution_count": 20,
   "id": "8e7df9ec",
   "metadata": {},
   "outputs": [
    {
     "name": "stdout",
     "output_type": "stream",
     "text": [
      "Binary dependencies:\n",
      "- NEO: 24.22.29735+0\n",
      "- libigc: 1.0.16695+0\n",
      "- gmmlib: 22.3.19+0\n",
      "- SPIRV_LLVM_Translator_unified: 0.4.0+0\n",
      "- SPIRV_Tools: 2024.2.0+0\n",
      "\n",
      "Toolchain:\n",
      "- Julia: 1.10.5\n",
      "- LLVM: 15.0.7\n",
      "\n",
      "1 driver:\n",
      "- 00000000-0000-0000-17fa-88a2010371d2 (v1.3.29138, API v1.3.0)\n",
      "\n",
      "1 device:\n",
      "- Intel(R) Iris(R) Xe Graphics\n"
     ]
    }
   ],
   "source": [
    "import oneAPI\n",
    "oneAPI.versioninfo()"
   ]
  },
  {
   "cell_type": "code",
   "execution_count": 21,
   "id": "201a1078",
   "metadata": {},
   "outputs": [
    {
     "data": {
      "text/plain": [
       "oneAPI.oneArray"
      ]
     },
     "execution_count": 21,
     "metadata": {},
     "output_type": "execute_result"
    }
   ],
   "source": [
    "gpu = oneAPI.oneArray"
   ]
  },
  {
   "cell_type": "markdown",
   "id": "12c608dd",
   "metadata": {},
   "source": [
    "### For nvidia, run this"
   ]
  },
  {
   "cell_type": "code",
   "execution_count": 22,
   "id": "f50b343b-62dd-47cc-8c19-f1077fd39995",
   "metadata": {},
   "outputs": [
    {
     "ename": "LoadError",
     "evalue": "IOError: could not spawn `nvidia-smi`: no such file or directory (ENOENT)",
     "output_type": "error",
     "traceback": [
      "IOError: could not spawn `nvidia-smi`: no such file or directory (ENOENT)",
      "",
      "Stacktrace:",
      " [1] _spawn_primitive(file::String, cmd::Cmd, stdio::Vector{Union{RawFD, IO}})",
      "   @ Base ./process.jl:128",
      " [2] #784",
      "   @ ./process.jl:139 [inlined]",
      " [3] setup_stdios(f::Base.var\"#784#785\"{Cmd}, stdios::Vector{Union{RawFD, IO}})",
      "   @ Base ./process.jl:223",
      " [4] _spawn",
      "   @ ./process.jl:138 [inlined]",
      " [5] run(::Cmd; wait::Bool)",
      "   @ Base ./process.jl:479",
      " [6] run(::Cmd)",
      "   @ Base ./process.jl:477",
      " [7] top-level scope",
      "   @ In[22]:1"
     ]
    }
   ],
   "source": [
    "run(`nvidia-smi`)"
   ]
  },
  {
   "cell_type": "code",
   "execution_count": 23,
   "id": "c382d2db",
   "metadata": {},
   "outputs": [
    {
     "ename": "LoadError",
     "evalue": "CUDA driver not found",
     "output_type": "error",
     "traceback": [
      "CUDA driver not found",
      "",
      "Stacktrace:",
      " [1] error(s::String)",
      "   @ Base ./error.jl:35",
      " [2] functional(show_reason::Bool)",
      "   @ CUDA ~/.julia/packages/CUDA/Tl08O/src/initialization.jl:24",
      " [3] top-level scope",
      "   @ In[23]:2"
     ]
    }
   ],
   "source": [
    "import CUDA\n",
    "CUDA.functional(true)"
   ]
  },
  {
   "cell_type": "code",
   "execution_count": 24,
   "id": "35004a96-7fbc-4ee5-9852-9793ebe03662",
   "metadata": {
    "scrolled": true
   },
   "outputs": [
    {
     "ename": "LoadError",
     "evalue": "CUDA driver not found",
     "output_type": "error",
     "traceback": [
      "CUDA driver not found",
      "",
      "Stacktrace:",
      " [1] error(s::String)",
      "   @ Base ./error.jl:35",
      " [2] functional",
      "   @ ~/.julia/packages/CUDA/Tl08O/src/initialization.jl:24 [inlined]",
      " [3] versioninfo(io::IJulia.IJuliaStdio{Base.PipeEndpoint})",
      "   @ CUDA ~/.julia/packages/CUDA/Tl08O/src/utilities.jl:42",
      " [4] top-level scope",
      "   @ In[24]:1"
     ]
    }
   ],
   "source": [
    "CUDA.versioninfo()"
   ]
  },
  {
   "cell_type": "code",
   "execution_count": 25,
   "id": "c9a3a7ba",
   "metadata": {},
   "outputs": [
    {
     "data": {
      "text/plain": [
       "cu (generic function with 1 method)"
      ]
     },
     "execution_count": 25,
     "metadata": {},
     "output_type": "execute_result"
    }
   ],
   "source": [
    "gpu = CUDA.cu"
   ]
  },
  {
   "cell_type": "markdown",
   "id": "33be7466",
   "metadata": {},
   "source": [
    "### Back to GPU-agnostic"
   ]
  },
  {
   "cell_type": "code",
   "execution_count": 22,
   "id": "bf7a7e05",
   "metadata": {},
   "outputs": [
    {
     "data": {
      "text/plain": [
       "train_reverse_diff! (generic function with 2 methods)"
      ]
     },
     "execution_count": 22,
     "metadata": {},
     "output_type": "execute_result"
    }
   ],
   "source": [
    "function train_reverse_diff!(losses, model, X, y, opt, num_iters)\n",
    "    states = [Optimisers.init(opt, W) for W in model]\n",
    "    train_reverse_diff!(losses, model, X, y, opt, num_iters, states)\n",
    "end"
   ]
  },
  {
   "cell_type": "code",
   "execution_count": 23,
   "id": "05b9f2df",
   "metadata": {},
   "outputs": [
    {
     "data": {
      "text/plain": [
       "1×178 oneAPI.oneArray{Float32, 2, oneAPI.oneL0.DeviceBuffer}:\n",
       " -1.0  -1.0  -1.0  -1.0  -1.0  -1.0  …  1.0  1.0  1.0  1.0  1.0  1.0  1.0"
      ]
     },
     "execution_count": 23,
     "metadata": {},
     "output_type": "execute_result"
    }
   ],
   "source": [
    "gpu(y)"
   ]
  },
  {
   "cell_type": "code",
   "execution_count": null,
   "id": "7778e916-6eb2-4ed3-9c4b-b7db8afe1f95",
   "metadata": {
    "scrolled": true
   },
   "outputs": [],
   "source": [
    "train_reverse_diff!(losses, gpu.(model), gpu(X), gpu(y), opt, 1)"
   ]
  },
  {
   "cell_type": "markdown",
   "id": "7c3f0944-14e1-4835-8e05-167fc58ab08c",
   "metadata": {},
   "source": [
    "## What about global minima ?\n",
    "\n",
    "### ReLU activation function\n",
    "\n",
    "There are local minima that are not global. Consider 1 hidden layer and $W_1$ such that all inputs to activation are strictly negative. Then the model output is locally zero so a local minimum.\n",
    "\n",
    "### Identity activation function\n",
    "\n",
    "With 1 hidden layer, all second-order critical points (SOCPs) (zero gradient and positive semidefinite hessian) are global minima.\n",
    "With 2 hidden layers or more, some SOCPs are not global minima. For instance, the following is a SOCP:\n",
    "$$W_1 = \\begin{bmatrix}1 & 0\\end{bmatrix}, W_2 = \\begin{bmatrix}0\\end{bmatrix}, W_3 = \\begin{bmatrix}1\\\\0\\end{bmatrix}, X = \\begin{bmatrix}1 & 0\\\\0 & 1\\end{bmatrix}, Y = \\begin{bmatrix}0 & 0\\\\0 & 1\\end{bmatrix}$$\n",
    "However, this is not a local minimum.\n",
    "All local minima are global minima for any number of layers."
   ]
  },
  {
   "cell_type": "code",
   "execution_count": null,
   "id": "c95e7a96-5829-4ec6-a690-3a7da715a546",
   "metadata": {},
   "outputs": [],
   "source": []
  }
 ],
 "metadata": {
  "kernelspec": {
   "display_name": "Julia 1.10.5",
   "language": "julia",
   "name": "julia-1.10"
  },
  "language_info": {
   "file_extension": ".jl",
   "mimetype": "application/julia",
   "name": "julia",
   "version": "1.10.5"
  }
 },
 "nbformat": 4,
 "nbformat_minor": 5
}

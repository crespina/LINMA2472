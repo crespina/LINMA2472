{
 "cells": [
  {
   "cell_type": "markdown",
   "id": "592b4d93",
   "metadata": {},
   "source": [
    "# Lecture 3 : Training a Neural Network\n",
    "\n",
    "In this lecture, let's review how to train a neural network in details.\n",
    "\n",
    "## 🍷 Dataset\n",
    "\n",
    "We are going to consider the Wine dataset that distinguishes 3 different wines depending on 13 different features. In order to see what's going on underneath a tool like pytorch, we are going to now use any tool and implement everything ourself, even the Automatic Differentiation. Let's first activate the environment and make sure we have installed all the dependencies listed in the environment."
   ]
  },
  {
   "cell_type": "code",
   "execution_count": 2,
   "id": "58bbac1a",
   "metadata": {},
   "outputs": [
    {
     "name": "stderr",
     "output_type": "stream",
     "text": [
      "\u001b[32m\u001b[1m  Activating\u001b[22m\u001b[39m project at `~/git/UCLouvain/linma2472-private/Lecture3`\n"
     ]
    }
   ],
   "source": [
    "import Pkg\n",
    "Pkg.activate(\".\")"
   ]
  },
  {
   "cell_type": "code",
   "execution_count": 3,
   "id": "75aa2566",
   "metadata": {},
   "outputs": [
    {
     "name": "stdout",
     "output_type": "stream",
     "text": [
      "\u001b[32m\u001b[1mStatus\u001b[22m\u001b[39m `~/git/UCLouvain/linma2472-private/Lecture3/Project.toml`\n",
      "\u001b[32m⌃\u001b[39m \u001b[90m[052768ef] \u001b[39mCUDA v5.4.3\n",
      "  \u001b[90m[a93c6f00] \u001b[39mDataFrames v1.7.0\n",
      "  \u001b[90m[7073ff75] \u001b[39mIJulia v1.25.0\n",
      "  \u001b[90m[eb30cadb] \u001b[39mMLDatasets v0.7.18\n",
      "  \u001b[90m[0b1bfda6] \u001b[39mOneHotArrays v0.2.5\n",
      "  \u001b[90m[3bd65402] \u001b[39mOptimisers v0.3.3\n",
      "  \u001b[90m[91a5bcdd] \u001b[39mPlots v1.40.8\n",
      "  \u001b[90m[8f75cd03] \u001b[39moneAPI v1.6.0\n",
      "\u001b[36m\u001b[1mInfo\u001b[22m\u001b[39m Packages marked with \u001b[32m⌃\u001b[39m have new versions available and may be upgradable.\n"
     ]
    }
   ],
   "source": [
    "Pkg.status()"
   ]
  },
  {
   "cell_type": "markdown",
   "id": "0eb89aa7",
   "metadata": {},
   "source": [
    "If not already done, install the packages required by the environment."
   ]
  },
  {
   "cell_type": "code",
   "execution_count": null,
   "id": "447934ea",
   "metadata": {},
   "outputs": [],
   "source": [
    "Pkg.instantiate()"
   ]
  },
  {
   "cell_type": "markdown",
   "id": "e3fa07dc",
   "metadata": {},
   "source": [
    "The Wine dataset has 13 features. We import it directly as matrix and not as dataframe (hence the option `as_df = false`)."
   ]
  },
  {
   "cell_type": "code",
   "execution_count": 7,
   "id": "03f9c099",
   "metadata": {
    "scrolled": true
   },
   "outputs": [
    {
     "data": {
      "text/plain": [
       "dataset Wine:\n",
       "  metadata   =>    Dict{String, Any} with 4 entries\n",
       "  features   =>    13×178 Matrix{Float64}\n",
       "  targets    =>    1×178 Matrix{Int64}\n",
       "  dataframe  =>    nothing"
      ]
     },
     "execution_count": 7,
     "metadata": {},
     "output_type": "execute_result"
    }
   ],
   "source": [
    "import MLDatasets, DataFrames\n",
    "wine = MLDatasets.Wine(; as_df = false)"
   ]
  },
  {
   "cell_type": "code",
   "execution_count": 10,
   "id": "8c27483b",
   "metadata": {},
   "outputs": [
    {
     "data": {
      "text/plain": [
       "1×178 Matrix{Int64}:\n",
       " 1  1  1  1  1  1  1  1  1  1  1  1  1  …  3  3  3  3  3  3  3  3  3  3  3  3"
      ]
     },
     "execution_count": 10,
     "metadata": {},
     "output_type": "execute_result"
    }
   ],
   "source": [
    "wine.targets"
   ]
  },
  {
   "cell_type": "markdown",
   "id": "f2c27917",
   "metadata": {},
   "source": [
    "We normalise each feature by shifting by its mean and dividing it by its standard deviation.\n",
    "We also convert to 32-bit floating point numbers.\n",
    "Even if the computer is 64-bit. Using 32-bit precision allows to decrease the required memory for the data and model by 2.\n",
    "GPUs also uses 32-bit floating point numbers so they will be faster with 32-bit."
   ]
  },
  {
   "cell_type": "code",
   "execution_count": 8,
   "id": "2677e3d4",
   "metadata": {},
   "outputs": [
    {
     "data": {
      "text/plain": [
       "13×178 Matrix{Float32}:\n",
       "  1.51434    0.245597   0.196325   …   0.331822   0.208643    1.39116\n",
       " -0.560668  -0.498009   0.0211715      1.73984    0.227053    1.57871\n",
       "  0.2314    -0.825667   1.10621       -0.38826    0.0126963   1.36137\n",
       " -1.1663    -2.48384   -0.267982       0.151234   0.151234    1.49872\n",
       "  1.90852    0.018094   0.0881098      1.41841    1.41841    -0.261969\n",
       "  0.806722   0.567048   0.806722   …  -1.12665   -1.03078    -0.391646\n",
       "  1.03191    0.731565   1.21211       -1.3408    -1.35081    -1.27072\n",
       " -0.657708  -0.818411  -0.497005       0.547563   1.35108     1.59213\n",
       "  1.22144   -0.543189   2.12996       -0.420888  -0.228701   -0.420888\n",
       "  0.251009  -0.292496   0.268263       2.21798    1.82976     1.78663\n",
       "  0.361158   0.404908   0.317409   …  -1.60759   -1.56384    -1.52009\n",
       "  1.84272    1.11032    0.786369      -1.48127   -1.39676    -1.42493\n",
       "  1.01016    0.962526   1.39122        0.279786   0.295664   -0.593486"
      ]
     },
     "execution_count": 8,
     "metadata": {},
     "output_type": "execute_result"
    }
   ],
   "source": [
    "import Statistics\n",
    "function normalise(x)\n",
    "  μ = Statistics.mean(x, dims=2)\n",
    "  σ = Statistics.std(x, dims=2, mean=μ)\n",
    "  return (x .- μ) ./ σ\n",
    "end\n",
    "X = Float32.(normalise(wine.features))"
   ]
  },
  {
   "cell_type": "markdown",
   "id": "7e65dba7",
   "metadata": {},
   "source": [
    "We convert the output to 32-bit. We could use one-hot encoding here but let's keep it simple."
   ]
  },
  {
   "cell_type": "code",
   "execution_count": 11,
   "id": "59ccbfda",
   "metadata": {},
   "outputs": [
    {
     "data": {
      "text/plain": [
       "1×178 Matrix{Float32}:\n",
       " -1.0  -1.0  -1.0  -1.0  -1.0  -1.0  …  1.0  1.0  1.0  1.0  1.0  1.0  1.0"
      ]
     },
     "execution_count": 11,
     "metadata": {},
     "output_type": "execute_result"
    }
   ],
   "source": [
    "y = Float32.(wine.targets) .- 2"
   ]
  },
  {
   "cell_type": "markdown",
   "id": "fa52e083",
   "metadata": {},
   "source": [
    "## ⚗️ Model\n",
    "\n",
    "Let's use 1 hidden layer with 32 `tanh` activation functions."
   ]
  },
  {
   "cell_type": "code",
   "execution_count": 17,
   "id": "56de088b",
   "metadata": {},
   "outputs": [
    {
     "data": {
      "text/plain": [
       "2×3 Matrix{Float32}:\n",
       " 0.0504283  0.491383  -0.160867\n",
       " 0.111907   0.130884  -0.28183"
      ]
     },
     "execution_count": 17,
     "metadata": {},
     "output_type": "execute_result"
    }
   ],
   "source": [
    "rand(Float32, 2, 3) .- 0.5f0"
   ]
  },
  {
   "cell_type": "code",
   "execution_count": 20,
   "id": "2cd79479",
   "metadata": {},
   "outputs": [
    {
     "data": {
      "text/plain": [
       "1×178 Matrix{Float32}:\n",
       " -1.76963  -1.55674  -0.950923  -2.99193  …  0.0423795  -0.282405  0.239051"
      ]
     },
     "execution_count": 20,
     "metadata": {},
     "output_type": "execute_result"
    }
   ],
   "source": [
    "function init(dims...)\n",
    "    (rand(Float32, dims...) .- Float32(0.5))\n",
    "end\n",
    "h = 32\n",
    "model = [init(h, size(X, 1)), init(size(y, 1), h)]\n",
    "\n",
    "function estimate(model, X)\n",
    "    W1, W2 = model\n",
    "    return W2 * tanh.(W1 * X)\n",
    "end\n",
    "\n",
    "estimate(model, X)"
   ]
  },
  {
   "cell_type": "markdown",
   "id": "80de8fdb",
   "metadata": {},
   "source": [
    "The loss is computed using Mean Squared Errors (MSE)."
   ]
  },
  {
   "cell_type": "code",
   "execution_count": 24,
   "id": "b5b0c02b",
   "metadata": {},
   "outputs": [
    {
     "data": {
      "text/plain": [
       "1.0590118f0"
      ]
     },
     "execution_count": 24,
     "metadata": {},
     "output_type": "execute_result"
    }
   ],
   "source": [
    "function loss(model, X, y)\n",
    "    sum((estimate(model, X) .- y).^2) / size(X, 2)\n",
    "end\n",
    "loss(model, X, y)"
   ]
  },
  {
   "cell_type": "markdown",
   "id": "f9720ee0",
   "metadata": {},
   "source": [
    "## ⚒️ Automatic Differentiation\n",
    "\n",
    "### Forward Differentiation\n",
    "\n",
    "Forward differentiation can be implemented with operator overloading using the chain rule. This allows differentiating arbitrary code."
   ]
  },
  {
   "cell_type": "code",
   "execution_count": 25,
   "id": "86fb872d",
   "metadata": {},
   "outputs": [],
   "source": [
    "struct Dual{T}\n",
    "    value::T\n",
    "    derivative::T\n",
    "end\n",
    "Dual(x, y) = Dual{typeof(x)}(x, convert(typeof(x), y))\n",
    "\n",
    "# By linearity of the derivative\n",
    "Base.:*(α::T, x::Dual{T}) where {T} = Dual(α * x.value, α * x.derivative)\n",
    "Base.:*(x::Dual{T}, α::T) where {T} = Dual(x.value * α, x.derivative * α)\n",
    "Base.:+(x::Dual{T}, y::Dual{T}) where {T} = Dual(x.value + y.value, x.derivative + y.derivative)\n",
    "Base.:-(x::Dual{T}, y::T) where {T} = Dual(x.value - y, x.derivative)\n",
    "Base.:/(x::Dual, α::Number) = Dual(x.value / α, x.derivative / α)\n",
    "\n",
    "# The product rule\n",
    "Base.:*(x::Dual{T}, y::Dual{T}) where {T} = Dual(x.value * y.value, x.value * y.derivative + x.derivative * y.value)\n",
    "Base.:^(x::Dual, n::Integer) = Base.power_by_squaring(x, n)\n",
    "\n",
    "# Used to initialize accumulator in Matrix-Matrix product\n",
    "Base.zero(::Dual{T}) where {T} = Dual(zero(T), zero(T))\n",
    "\n",
    "# tanh(x)' = (1 - tanh(x)^2) * x'\n",
    "function Base.tanh(x::Dual)\n",
    "    y = tanh(x.value)\n",
    "    return Dual(y, (1 - y^2) * x.derivative)\n",
    "end"
   ]
  },
  {
   "cell_type": "code",
   "execution_count": 45,
   "id": "ce9d28dd",
   "metadata": {},
   "outputs": [
    {
     "data": {
      "text/plain": [
       "relu (generic function with 1 method)"
      ]
     },
     "execution_count": 45,
     "metadata": {},
     "output_type": "execute_result"
    }
   ],
   "source": [
    "relu(x) = ifelse(x > 0, x, zero(x))"
   ]
  },
  {
   "cell_type": "code",
   "execution_count": 46,
   "id": "beaeeaa0",
   "metadata": {},
   "outputs": [],
   "source": [
    "Base.isless(a::T, b::Dual{T}) where {T} = isless(a, b.value)"
   ]
  },
  {
   "cell_type": "code",
   "execution_count": 47,
   "id": "545305cd",
   "metadata": {},
   "outputs": [
    {
     "data": {
      "text/plain": [
       "Dual{Int64}(0, 0)"
      ]
     },
     "execution_count": 47,
     "metadata": {},
     "output_type": "execute_result"
    }
   ],
   "source": [
    "relu(Dual(-1, 1))"
   ]
  },
  {
   "cell_type": "markdown",
   "id": "2ae24e32",
   "metadata": {},
   "source": [
    "We need to compute the derivative with respect to each weight separately. To compute the derivative with respect to `model[i][j, k]`, we use a dual number `Dual(model[i][j, k], 1)` for that weight and `Dual(model[i'][j', k'], 0)` for the other weights."
   ]
  },
  {
   "cell_type": "code",
   "execution_count": 36,
   "id": "059f7adb",
   "metadata": {},
   "outputs": [
    {
     "data": {
      "text/plain": [
       "32×13 Matrix{Dual{Float32}}:\n",
       " Dual{Float32}(0.0730855, 1.0)    …  Dual{Float32}(-0.454411, 0.0)\n",
       " Dual{Float32}(-0.17499, 0.0)        Dual{Float32}(-0.496755, 0.0)\n",
       " Dual{Float32}(0.229041, 0.0)        Dual{Float32}(0.260093, 0.0)\n",
       " Dual{Float32}(-0.155281, 0.0)       Dual{Float32}(0.0278488, 0.0)\n",
       " Dual{Float32}(-0.00744784, 0.0)     Dual{Float32}(-0.0146098, 0.0)\n",
       " Dual{Float32}(-0.255326, 0.0)    …  Dual{Float32}(-0.157764, 0.0)\n",
       " Dual{Float32}(0.0236596, 0.0)       Dual{Float32}(-0.394798, 0.0)\n",
       " Dual{Float32}(0.37861, 0.0)         Dual{Float32}(-0.425357, 0.0)\n",
       " Dual{Float32}(-0.424304, 0.0)       Dual{Float32}(0.38621, 0.0)\n",
       " Dual{Float32}(-0.0749641, 0.0)      Dual{Float32}(-0.410087, 0.0)\n",
       " Dual{Float32}(-0.195319, 0.0)    …  Dual{Float32}(0.349397, 0.0)\n",
       " Dual{Float32}(0.254475, 0.0)        Dual{Float32}(-0.176206, 0.0)\n",
       " Dual{Float32}(-0.254595, 0.0)       Dual{Float32}(0.125258, 0.0)\n",
       " ⋮                                ⋱  \n",
       " Dual{Float32}(0.21543, 0.0)      …  Dual{Float32}(0.0992844, 0.0)\n",
       " Dual{Float32}(-0.210544, 0.0)       Dual{Float32}(-0.303347, 0.0)\n",
       " Dual{Float32}(0.26305, 0.0)         Dual{Float32}(0.220854, 0.0)\n",
       " Dual{Float32}(0.110055, 0.0)        Dual{Float32}(-0.229496, 0.0)\n",
       " Dual{Float32}(-0.129715, 0.0)       Dual{Float32}(0.138839, 0.0)\n",
       " Dual{Float32}(-0.338374, 0.0)    …  Dual{Float32}(0.261188, 0.0)\n",
       " Dual{Float32}(-0.12496, 0.0)        Dual{Float32}(-0.437114, 0.0)\n",
       " Dual{Float32}(-0.179869, 0.0)       Dual{Float32}(-0.18025, 0.0)\n",
       " Dual{Float32}(0.322797, 0.0)        Dual{Float32}(-0.325801, 0.0)\n",
       " Dual{Float32}(0.445367, 0.0)        Dual{Float32}(0.431733, 0.0)\n",
       " Dual{Float32}(0.217488, 0.0)     …  Dual{Float32}(0.0328019, 0.0)\n",
       " Dual{Float32}(-0.234167, 0.0)       Dual{Float32}(-0.215368, 0.0)"
      ]
     },
     "execution_count": 36,
     "metadata": {},
     "output_type": "execute_result"
    }
   ],
   "source": [
    "using OneHotArrays\n",
    "Dual.(model[1], onehot(1, 1:h) * onehot(1, 1:size(X, 1))')"
   ]
  },
  {
   "cell_type": "code",
   "execution_count": 37,
   "id": "25f2fc87",
   "metadata": {
    "scrolled": true
   },
   "outputs": [
    {
     "data": {
      "text/plain": [
       "2-element Vector{Matrix{Float32}}:\n",
       " [-0.24214575 -0.048053533 … 0.111801855 -0.1703519; -0.34130865 -0.044905312 … 0.15834327 -0.20499474; … ; 0.057964873 0.01008528 … -0.04711403 0.034383453; 0.19567089 0.029841324 … -0.11248134 0.10674068]\n",
       " [0.21777582 0.17491944 … -0.34436455 0.13611253]"
      ]
     },
     "execution_count": 37,
     "metadata": {},
     "output_type": "execute_result"
    }
   ],
   "source": [
    "function ∇model(f, model, X, y, ∇i, ∇j, ∇k)\n",
    "    Δmodel = [\n",
    "        [ifelse((i, j, k) == (∇i, ∇j, ∇k), Dual(model[i][j, k], 1), Dual(model[i][j, k], 0)) for j in axes(model[i], 1), k in axes(model[i], 2)]\n",
    "        for i in eachindex(model)\n",
    "    ]\n",
    "    l = f(Δmodel, X, y)\n",
    "    return l.derivative\n",
    "end\n",
    "\n",
    "function ∇model(f, model, X, y, ∇i)\n",
    "    W = model[∇i]\n",
    "    return [∇model(f, model, X, y, ∇i, ∇j, ∇k) for ∇j in axes(W, 1), ∇k in axes(W, 2)]\n",
    "end\n",
    "\n",
    "function ∇model(f, model, X, y)\n",
    "    return [∇model(f, model, X, y, ∇i) for ∇i in eachindex(model)]\n",
    "end\n",
    "\n",
    "∇model(loss, model, X, y)"
   ]
  },
  {
   "cell_type": "code",
   "execution_count": 39,
   "id": "1ba70eab",
   "metadata": {},
   "outputs": [
    {
     "data": {
      "text/plain": [
       "-0.24214575f0"
      ]
     },
     "execution_count": 39,
     "metadata": {},
     "output_type": "execute_result"
    }
   ],
   "source": [
    "∇model(loss, model, X, y, 1, 1, 1)"
   ]
  },
  {
   "cell_type": "markdown",
   "id": "5fb90c61",
   "metadata": {},
   "source": [
    "Run the following cell to restart with a new random model and reset the Adam optimiser accordingly."
   ]
  },
  {
   "cell_type": "code",
   "execution_count": 48,
   "id": "66df2127",
   "metadata": {},
   "outputs": [
    {
     "data": {
      "text/plain": [
       "2-element Vector{Tuple{Matrix{Float32}, Matrix{Float32}, Tuple{Float32, Float32}}}:\n",
       " ([0.0 0.0 … 0.0 0.0; 0.0 0.0 … 0.0 0.0; … ; 0.0 0.0 … 0.0 0.0; 0.0 0.0 … 0.0 0.0], [0.0 0.0 … 0.0 0.0; 0.0 0.0 … 0.0 0.0; … ; 0.0 0.0 … 0.0 0.0; 0.0 0.0 … 0.0 0.0], (0.9, 0.999))\n",
       " ([0.0 0.0 … 0.0 0.0], [0.0 0.0 … 0.0 0.0], (0.9, 0.999))"
      ]
     },
     "execution_count": 48,
     "metadata": {},
     "output_type": "execute_result"
    }
   ],
   "source": [
    "model = [init(h, size(X, 1)), init(size(y, 1), h)]\n",
    "losses = [loss(model, X, y)]\n",
    "import Optimisers\n",
    "opt = Optimisers.Adam()\n",
    "states = [Optimisers.init(opt, W) for W in model]"
   ]
  },
  {
   "cell_type": "markdown",
   "id": "bb44870c",
   "metadata": {},
   "source": [
    "The following cell runs 100 iterations using the whole dataset for each iteration."
   ]
  },
  {
   "cell_type": "code",
   "execution_count": 55,
   "id": "fbe37ad0",
   "metadata": {},
   "outputs": [
    {
     "name": "stdout",
     "output_type": "stream",
     "text": [
      "  3.101748 seconds (945.50 k allocations: 6.511 GiB, 1.94% gc time)\n"
     ]
    },
    {
     "data": {
      "text/plain": [
       "301-element Vector{Float32}:\n",
       " 2.9507313\n",
       " 2.8170848\n",
       " 2.6878977\n",
       " 2.563254\n",
       " 2.4432156\n",
       " 2.3278282\n",
       " 2.2171197\n",
       " 2.1111028\n",
       " 2.0097744\n",
       " 1.913116\n",
       " 1.8210927\n",
       " 1.733654\n",
       " 1.6507323\n",
       " ⋮\n",
       " 0.065700784\n",
       " 0.06553486\n",
       " 0.06536991\n",
       " 0.06520583\n",
       " 0.0650426\n",
       " 0.06488028\n",
       " 0.06471883\n",
       " 0.064558215\n",
       " 0.06439846\n",
       " 0.06423954\n",
       " 0.06408146\n",
       " 0.0639242"
      ]
     },
     "execution_count": 55,
     "metadata": {},
     "output_type": "execute_result"
    }
   ],
   "source": [
    "@time for epoch in 1:100\n",
    "    grads = ∇model(loss, model, X, y)\n",
    "    # Gradient descent with rate `η`\n",
    "    for i in eachindex(model)\n",
    "        states[i], ΔW = Optimisers.apply!(opt, states[i], model[i], grads[i])\n",
    "        model[i] .= model[i] .- ΔW\n",
    "    end\n",
    "    push!(losses, loss(model, X, y))\n",
    "end\n",
    "losses"
   ]
  },
  {
   "cell_type": "code",
   "execution_count": 78,
   "id": "2e576cd1",
   "metadata": {},
   "outputs": [
    {
     "data": {
      "image/png": "[encoded data removed]",
      "image/svg+xml": [
       "<?xml version=\"1.0\" encoding=\"utf-8\"?>\n",
       "<svg xmlns=\"http://www.w3.org/2000/svg\" xmlns:xlink=\"http://www.w3.org/1999/xlink\" width=\"600\" height=\"400\" viewBox=\"0 0 2400 1600\">\n",
       "<defs>\n",
       "  <clipPath id=\"clip170\">\n",
       "    <rect x=\"0\" y=\"0\" width=\"2400\" height=\"1600\"/>\n",
       "  </clipPath>\n",
       "</defs>\n",
       "<path clip-path=\"url(#clip170)\" d=\"M0 1600 L2400 1600 L2400 0 L0 0  Z\" fill=\"#ffffff\" fill-rule=\"evenodd\" fill-opacity=\"1\"/>\n",
       "<defs>\n",
       "  <clipPath id=\"clip171\">\n",
       "    <rect x=\"480\" y=\"0\" width=\"1681\" height=\"1600\"/>\n",
       "  </clipPath>\n",
       "</defs>\n",
       "<path clip-path=\"url(#clip170)\" d=\"M149.191 1486.45 L2352.76 1486.45 L2352.76 47.2441 L149.191 47.2441  Z\" fill=\"#ffffff\" fill-rule=\"evenodd\" fill-opacity=\"1\"/>\n",
       "<defs>\n",
       "  <clipPath id=\"clip172\">\n",
       "    <rect x=\"149\" y=\"47\" width=\"2205\" height=\"1440\"/>\n",
       "  </clipPath>\n",
       "</defs>\n",
       "<polyline clip-path=\"url(#clip172)\" style=\"stroke:#000000; stroke-linecap:round; stroke-linejoin:round; stroke-width:2; stroke-opacity:0.1; fill:none\" points=\"210.786,1486.45 210.786,47.2441 \"/>\n",
       "<polyline clip-path=\"url(#clip172)\" style=\"stroke:#000000; stroke-linecap:round; stroke-linejoin:round; stroke-width:2; stroke-opacity:0.1; fill:none\" points=\"595.755,1486.45 595.755,47.2441 \"/>\n",
       "<polyline clip-path=\"url(#clip172)\" style=\"stroke:#000000; stroke-linecap:round; stroke-linejoin:round; stroke-width:2; stroke-opacity:0.1; fill:none\" points=\"980.725,1486.45 980.725,47.2441 \"/>\n",
       "<polyline clip-path=\"url(#clip172)\" style=\"stroke:#000000; stroke-linecap:round; stroke-linejoin:round; stroke-width:2; stroke-opacity:0.1; fill:none\" points=\"1365.69,1486.45 1365.69,47.2441 \"/>\n",
       "<polyline clip-path=\"url(#clip172)\" style=\"stroke:#000000; stroke-linecap:round; stroke-linejoin:round; stroke-width:2; stroke-opacity:0.1; fill:none\" points=\"1750.66,1486.45 1750.66,47.2441 \"/>\n",
       "<polyline clip-path=\"url(#clip172)\" style=\"stroke:#000000; stroke-linecap:round; stroke-linejoin:round; stroke-width:2; stroke-opacity:0.1; fill:none\" points=\"2135.63,1486.45 2135.63,47.2441 \"/>\n",
       "<polyline clip-path=\"url(#clip172)\" style=\"stroke:#000000; stroke-linecap:round; stroke-linejoin:round; stroke-width:2; stroke-opacity:0.1; fill:none\" points=\"149.191,1429.41 2352.76,1429.41 \"/>\n",
       "<polyline clip-path=\"url(#clip172)\" style=\"stroke:#000000; stroke-linecap:round; stroke-linejoin:round; stroke-width:2; stroke-opacity:0.1; fill:none\" points=\"149.191,1208.86 2352.76,1208.86 \"/>\n",
       "<polyline clip-path=\"url(#clip172)\" style=\"stroke:#000000; stroke-linecap:round; stroke-linejoin:round; stroke-width:2; stroke-opacity:0.1; fill:none\" points=\"149.191,988.299 2352.76,988.299 \"/>\n",
       "<polyline clip-path=\"url(#clip172)\" style=\"stroke:#000000; stroke-linecap:round; stroke-linejoin:round; stroke-width:2; stroke-opacity:0.1; fill:none\" points=\"149.191,767.743 2352.76,767.743 \"/>\n",
       "<polyline clip-path=\"url(#clip172)\" style=\"stroke:#000000; stroke-linecap:round; stroke-linejoin:round; stroke-width:2; stroke-opacity:0.1; fill:none\" points=\"149.191,547.186 2352.76,547.186 \"/>\n",
       "<polyline clip-path=\"url(#clip172)\" style=\"stroke:#000000; stroke-linecap:round; stroke-linejoin:round; stroke-width:2; stroke-opacity:0.1; fill:none\" points=\"149.191,326.63 2352.76,326.63 \"/>\n",
       "<polyline clip-path=\"url(#clip172)\" style=\"stroke:#000000; stroke-linecap:round; stroke-linejoin:round; stroke-width:2; stroke-opacity:0.1; fill:none\" points=\"149.191,106.074 2352.76,106.074 \"/>\n",
       "<polyline clip-path=\"url(#clip170)\" style=\"stroke:#000000; stroke-linecap:round; stroke-linejoin:round; stroke-width:4; stroke-opacity:1; fill:none\" points=\"149.191,1486.45 2352.76,1486.45 \"/>\n",
       "<polyline clip-path=\"url(#clip170)\" style=\"stroke:#000000; stroke-linecap:round; stroke-linejoin:round; stroke-width:4; stroke-opacity:1; fill:none\" points=\"210.786,1486.45 210.786,1467.55 \"/>\n",
       "<polyline clip-path=\"url(#clip170)\" style=\"stroke:#000000; stroke-linecap:round; stroke-linejoin:round; stroke-width:4; stroke-opacity:1; fill:none\" points=\"595.755,1486.45 595.755,1467.55 \"/>\n",
       "<polyline clip-path=\"url(#clip170)\" style=\"stroke:#000000; stroke-linecap:round; stroke-linejoin:round; stroke-width:4; stroke-opacity:1; fill:none\" points=\"980.725,1486.45 980.725,1467.55 \"/>\n",
       "<polyline clip-path=\"url(#clip170)\" style=\"stroke:#000000; stroke-linecap:round; stroke-linejoin:round; stroke-width:4; stroke-opacity:1; fill:none\" points=\"1365.69,1486.45 1365.69,1467.55 \"/>\n",
       "<polyline clip-path=\"url(#clip170)\" style=\"stroke:#000000; stroke-linecap:round; stroke-linejoin:round; stroke-width:4; stroke-opacity:1; fill:none\" points=\"1750.66,1486.45 1750.66,1467.55 \"/>\n",
       "<polyline clip-path=\"url(#clip170)\" style=\"stroke:#000000; stroke-linecap:round; stroke-linejoin:round; stroke-width:4; stroke-opacity:1; fill:none\" points=\"2135.63,1486.45 2135.63,1467.55 \"/>\n",
       "<path clip-path=\"url(#clip170)\" d=\"M210.786 1517.37 Q207.175 1517.37 205.346 1520.93 Q203.541 1524.47 203.541 1531.6 Q203.541 1538.71 205.346 1542.27 Q207.175 1545.82 210.786 1545.82 Q214.42 1545.82 216.226 1542.27 Q218.054 1538.71 218.054 1531.6 Q218.054 1524.47 216.226 1520.93 Q214.42 1517.37 210.786 1517.37 M210.786 1513.66 Q216.596 1513.66 219.652 1518.27 Q222.73 1522.85 222.73 1531.6 Q222.73 1540.33 219.652 1544.94 Q216.596 1549.52 210.786 1549.52 Q204.976 1549.52 201.897 1544.94 Q198.842 1540.33 198.842 1531.6 Q198.842 1522.85 201.897 1518.27 Q204.976 1513.66 210.786 1513.66 Z\" fill=\"#000000\" fill-rule=\"nonzero\" fill-opacity=\"1\" /><path clip-path=\"url(#clip170)\" d=\"M555.374 1514.29 L573.73 1514.29 L573.73 1518.22 L559.656 1518.22 L559.656 1526.7 Q560.675 1526.35 561.693 1526.19 Q562.712 1526 563.73 1526 Q569.517 1526 572.897 1529.17 Q576.276 1532.34 576.276 1537.76 Q576.276 1543.34 572.804 1546.44 Q569.332 1549.52 563.013 1549.52 Q560.837 1549.52 558.568 1549.15 Q556.323 1548.78 553.915 1548.04 L553.915 1543.34 Q555.999 1544.47 558.221 1545.03 Q560.443 1545.58 562.92 1545.58 Q566.925 1545.58 569.262 1543.48 Q571.6 1541.37 571.6 1537.76 Q571.6 1534.15 569.262 1532.04 Q566.925 1529.94 562.92 1529.94 Q561.045 1529.94 559.17 1530.35 Q557.318 1530.77 555.374 1531.65 L555.374 1514.29 Z\" fill=\"#000000\" fill-rule=\"nonzero\" fill-opacity=\"1\" /><path clip-path=\"url(#clip170)\" d=\"M595.489 1517.37 Q591.878 1517.37 590.049 1520.93 Q588.244 1524.47 588.244 1531.6 Q588.244 1538.71 590.049 1542.27 Q591.878 1545.82 595.489 1545.82 Q599.123 1545.82 600.929 1542.27 Q602.758 1538.71 602.758 1531.6 Q602.758 1524.47 600.929 1520.93 Q599.123 1517.37 595.489 1517.37 M595.489 1513.66 Q601.299 1513.66 604.355 1518.27 Q607.434 1522.85 607.434 1531.6 Q607.434 1540.33 604.355 1544.94 Q601.299 1549.52 595.489 1549.52 Q589.679 1549.52 586.6 1544.94 Q583.545 1540.33 583.545 1531.6 Q583.545 1522.85 586.6 1518.27 Q589.679 1513.66 595.489 1513.66 Z\" fill=\"#000000\" fill-rule=\"nonzero\" fill-opacity=\"1\" /><path clip-path=\"url(#clip170)\" d=\"M625.651 1517.37 Q622.04 1517.37 620.211 1520.93 Q618.406 1524.47 618.406 1531.6 Q618.406 1538.71 620.211 1542.27 Q622.04 1545.82 625.651 1545.82 Q629.285 1545.82 631.091 1542.27 Q632.92 1538.71 632.92 1531.6 Q632.92 1524.47 631.091 1520.93 Q629.285 1517.37 625.651 1517.37 M625.651 1513.66 Q631.461 1513.66 634.517 1518.27 Q637.595 1522.85 637.595 1531.6 Q637.595 1540.33 634.517 1544.94 Q631.461 1549.52 625.651 1549.52 Q619.841 1549.52 616.762 1544.94 Q613.707 1540.33 613.707 1531.6 Q613.707 1522.85 616.762 1518.27 Q619.841 1513.66 625.651 1513.66 Z\" fill=\"#000000\" fill-rule=\"nonzero\" fill-opacity=\"1\" /><path clip-path=\"url(#clip170)\" d=\"M925.251 1544.91 L932.889 1544.91 L932.889 1518.55 L924.579 1520.21 L924.579 1515.95 L932.843 1514.29 L937.519 1514.29 L937.519 1544.91 L945.158 1544.91 L945.158 1548.85 L925.251 1548.85 L925.251 1544.91 Z\" fill=\"#000000\" fill-rule=\"nonzero\" fill-opacity=\"1\" /><path clip-path=\"url(#clip170)\" d=\"M964.602 1517.37 Q960.991 1517.37 959.162 1520.93 Q957.357 1524.47 957.357 1531.6 Q957.357 1538.71 959.162 1542.27 Q960.991 1545.82 964.602 1545.82 Q968.236 1545.82 970.042 1542.27 Q971.871 1538.71 971.871 1531.6 Q971.871 1524.47 970.042 1520.93 Q968.236 1517.37 964.602 1517.37 M964.602 1513.66 Q970.412 1513.66 973.468 1518.27 Q976.547 1522.85 976.547 1531.6 Q976.547 1540.33 973.468 1544.94 Q970.412 1549.52 964.602 1549.52 Q958.792 1549.52 955.713 1544.94 Q952.658 1540.33 952.658 1531.6 Q952.658 1522.85 955.713 1518.27 Q958.792 1513.66 964.602 1513.66 Z\" fill=\"#000000\" fill-rule=\"nonzero\" fill-opacity=\"1\" /><path clip-path=\"url(#clip170)\" d=\"M994.764 1517.37 Q991.153 1517.37 989.324 1520.93 Q987.519 1524.47 987.519 1531.6 Q987.519 1538.71 989.324 1542.27 Q991.153 1545.82 994.764 1545.82 Q998.398 1545.82 1000.2 1542.27 Q1002.03 1538.71 1002.03 1531.6 Q1002.03 1524.47 1000.2 1520.93 Q998.398 1517.37 994.764 1517.37 M994.764 1513.66 Q1000.57 1513.66 1003.63 1518.27 Q1006.71 1522.85 1006.71 1531.6 Q1006.71 1540.33 1003.63 1544.94 Q1000.57 1549.52 994.764 1549.52 Q988.954 1549.52 985.875 1544.94 Q982.82 1540.33 982.82 1531.6 Q982.82 1522.85 985.875 1518.27 Q988.954 1513.66 994.764 1513.66 Z\" fill=\"#000000\" fill-rule=\"nonzero\" fill-opacity=\"1\" /><path clip-path=\"url(#clip170)\" d=\"M1024.93 1517.37 Q1021.31 1517.37 1019.49 1520.93 Q1017.68 1524.47 1017.68 1531.6 Q1017.68 1538.71 1019.49 1542.27 Q1021.31 1545.82 1024.93 1545.82 Q1028.56 1545.82 1030.37 1542.27 Q1032.19 1538.71 1032.19 1531.6 Q1032.19 1524.47 1030.37 1520.93 Q1028.56 1517.37 1024.93 1517.37 M1024.93 1513.66 Q1030.74 1513.66 1033.79 1518.27 Q1036.87 1522.85 1036.87 1531.6 Q1036.87 1540.33 1033.79 1544.94 Q1030.74 1549.52 1024.93 1549.52 Q1019.12 1549.52 1016.04 1544.94 Q1012.98 1540.33 1012.98 1531.6 Q1012.98 1522.85 1016.04 1518.27 Q1019.12 1513.66 1024.93 1513.66 Z\" fill=\"#000000\" fill-rule=\"nonzero\" fill-opacity=\"1\" /><path clip-path=\"url(#clip170)\" d=\"M1310.22 1544.91 L1317.86 1544.91 L1317.86 1518.55 L1309.55 1520.21 L1309.55 1515.95 L1317.81 1514.29 L1322.49 1514.29 L1322.49 1544.91 L1330.13 1544.91 L1330.13 1548.85 L1310.22 1548.85 L1310.22 1544.91 Z\" fill=\"#000000\" fill-rule=\"nonzero\" fill-opacity=\"1\" /><path clip-path=\"url(#clip170)\" d=\"M1339.62 1514.29 L1357.97 1514.29 L1357.97 1518.22 L1343.9 1518.22 L1343.9 1526.7 Q1344.92 1526.35 1345.94 1526.19 Q1346.96 1526 1347.97 1526 Q1353.76 1526 1357.14 1529.17 Q1360.52 1532.34 1360.52 1537.76 Q1360.52 1543.34 1357.05 1546.44 Q1353.58 1549.52 1347.26 1549.52 Q1345.08 1549.52 1342.81 1549.15 Q1340.57 1548.78 1338.16 1548.04 L1338.16 1543.34 Q1340.24 1544.47 1342.47 1545.03 Q1344.69 1545.58 1347.16 1545.58 Q1351.17 1545.58 1353.51 1543.48 Q1355.84 1541.37 1355.84 1537.76 Q1355.84 1534.15 1353.51 1532.04 Q1351.17 1529.94 1347.16 1529.94 Q1345.29 1529.94 1343.41 1530.35 Q1341.56 1530.77 1339.62 1531.65 L1339.62 1514.29 Z\" fill=\"#000000\" fill-rule=\"nonzero\" fill-opacity=\"1\" /><path clip-path=\"url(#clip170)\" d=\"M1379.73 1517.37 Q1376.12 1517.37 1374.29 1520.93 Q1372.49 1524.47 1372.49 1531.6 Q1372.49 1538.71 1374.29 1542.27 Q1376.12 1545.82 1379.73 1545.82 Q1383.37 1545.82 1385.17 1542.27 Q1387 1538.71 1387 1531.6 Q1387 1524.47 1385.17 1520.93 Q1383.37 1517.37 1379.73 1517.37 M1379.73 1513.66 Q1385.54 1513.66 1388.6 1518.27 Q1391.68 1522.85 1391.68 1531.6 Q1391.68 1540.33 1388.6 1544.94 Q1385.54 1549.52 1379.73 1549.52 Q1373.92 1549.52 1370.84 1544.94 Q1367.79 1540.33 1367.79 1531.6 Q1367.79 1522.85 1370.84 1518.27 Q1373.92 1513.66 1379.73 1513.66 Z\" fill=\"#000000\" fill-rule=\"nonzero\" fill-opacity=\"1\" /><path clip-path=\"url(#clip170)\" d=\"M1409.9 1517.37 Q1406.28 1517.37 1404.46 1520.93 Q1402.65 1524.47 1402.65 1531.6 Q1402.65 1538.71 1404.46 1542.27 Q1406.28 1545.82 1409.9 1545.82 Q1413.53 1545.82 1415.34 1542.27 Q1417.16 1538.71 1417.16 1531.6 Q1417.16 1524.47 1415.34 1520.93 Q1413.53 1517.37 1409.9 1517.37 M1409.9 1513.66 Q1415.71 1513.66 1418.76 1518.27 Q1421.84 1522.85 1421.84 1531.6 Q1421.84 1540.33 1418.76 1544.94 Q1415.71 1549.52 1409.9 1549.52 Q1404.09 1549.52 1401.01 1544.94 Q1397.95 1540.33 1397.95 1531.6 Q1397.95 1522.85 1401.01 1518.27 Q1404.09 1513.66 1409.9 1513.66 Z\" fill=\"#000000\" fill-rule=\"nonzero\" fill-opacity=\"1\" /><path clip-path=\"url(#clip170)\" d=\"M1699.28 1544.91 L1715.59 1544.91 L1715.59 1548.85 L1693.65 1548.85 L1693.65 1544.91 Q1696.31 1542.16 1700.9 1537.53 Q1705.5 1532.88 1706.68 1531.53 Q1708.93 1529.01 1709.81 1527.27 Q1710.71 1525.51 1710.71 1523.82 Q1710.71 1521.07 1708.77 1519.33 Q1706.84 1517.6 1703.74 1517.6 Q1701.54 1517.6 1699.09 1518.36 Q1696.66 1519.13 1693.88 1520.68 L1693.88 1515.95 Q1696.71 1514.82 1699.16 1514.24 Q1701.61 1513.66 1703.65 1513.66 Q1709.02 1513.66 1712.21 1516.35 Q1715.41 1519.03 1715.41 1523.52 Q1715.41 1525.65 1714.6 1527.57 Q1713.81 1529.47 1711.71 1532.07 Q1711.13 1532.74 1708.03 1535.95 Q1704.92 1539.15 1699.28 1544.91 Z\" fill=\"#000000\" fill-rule=\"nonzero\" fill-opacity=\"1\" /><path clip-path=\"url(#clip170)\" d=\"M1735.41 1517.37 Q1731.8 1517.37 1729.97 1520.93 Q1728.16 1524.47 1728.16 1531.6 Q1728.16 1538.71 1729.97 1542.27 Q1731.8 1545.82 1735.41 1545.82 Q1739.04 1545.82 1740.85 1542.27 Q1742.68 1538.71 1742.68 1531.6 Q1742.68 1524.47 1740.85 1520.93 Q1739.04 1517.37 1735.41 1517.37 M1735.41 1513.66 Q1741.22 1513.66 1744.27 1518.27 Q1747.35 1522.85 1747.35 1531.6 Q1747.35 1540.33 1744.27 1544.94 Q1741.22 1549.52 1735.41 1549.52 Q1729.6 1549.52 1726.52 1544.94 Q1723.46 1540.33 1723.46 1531.6 Q1723.46 1522.85 1726.52 1518.27 Q1729.6 1513.66 1735.41 1513.66 Z\" fill=\"#000000\" fill-rule=\"nonzero\" fill-opacity=\"1\" /><path clip-path=\"url(#clip170)\" d=\"M1765.57 1517.37 Q1761.96 1517.37 1760.13 1520.93 Q1758.33 1524.47 1758.33 1531.6 Q1758.33 1538.71 1760.13 1542.27 Q1761.96 1545.82 1765.57 1545.82 Q1769.21 1545.82 1771.01 1542.27 Q1772.84 1538.71 1772.84 1531.6 Q1772.84 1524.47 1771.01 1520.93 Q1769.21 1517.37 1765.57 1517.37 M1765.57 1513.66 Q1771.38 1513.66 1774.44 1518.27 Q1777.52 1522.85 1777.52 1531.6 Q1777.52 1540.33 1774.44 1544.94 Q1771.38 1549.52 1765.57 1549.52 Q1759.76 1549.52 1756.68 1544.94 Q1753.63 1540.33 1753.63 1531.6 Q1753.63 1522.85 1756.68 1518.27 Q1759.76 1513.66 1765.57 1513.66 Z\" fill=\"#000000\" fill-rule=\"nonzero\" fill-opacity=\"1\" /><path clip-path=\"url(#clip170)\" d=\"M1795.73 1517.37 Q1792.12 1517.37 1790.29 1520.93 Q1788.49 1524.47 1788.49 1531.6 Q1788.49 1538.71 1790.29 1542.27 Q1792.12 1545.82 1795.73 1545.82 Q1799.37 1545.82 1801.17 1542.27 Q1803 1538.71 1803 1531.6 Q1803 1524.47 1801.17 1520.93 Q1799.37 1517.37 1795.73 1517.37 M1795.73 1513.66 Q1801.54 1513.66 1804.6 1518.27 Q1807.68 1522.85 1807.68 1531.6 Q1807.68 1540.33 1804.6 1544.94 Q1801.54 1549.52 1795.73 1549.52 Q1789.92 1549.52 1786.84 1544.94 Q1783.79 1540.33 1783.79 1531.6 Q1783.79 1522.85 1786.84 1518.27 Q1789.92 1513.66 1795.73 1513.66 Z\" fill=\"#000000\" fill-rule=\"nonzero\" fill-opacity=\"1\" /><path clip-path=\"url(#clip170)\" d=\"M2084.24 1544.91 L2100.56 1544.91 L2100.56 1548.85 L2078.62 1548.85 L2078.62 1544.91 Q2081.28 1542.16 2085.86 1537.53 Q2090.47 1532.88 2091.65 1531.53 Q2093.9 1529.01 2094.78 1527.27 Q2095.68 1525.51 2095.68 1523.82 Q2095.68 1521.07 2093.74 1519.33 Q2091.81 1517.6 2088.71 1517.6 Q2086.51 1517.6 2084.06 1518.36 Q2081.63 1519.13 2078.85 1520.68 L2078.85 1515.95 Q2081.68 1514.82 2084.13 1514.24 Q2086.58 1513.66 2088.62 1513.66 Q2093.99 1513.66 2097.18 1516.35 Q2100.38 1519.03 2100.38 1523.52 Q2100.38 1525.65 2099.57 1527.57 Q2098.78 1529.47 2096.68 1532.07 Q2096.1 1532.74 2092.99 1535.95 Q2089.89 1539.15 2084.24 1544.91 Z\" fill=\"#000000\" fill-rule=\"nonzero\" fill-opacity=\"1\" /><path clip-path=\"url(#clip170)\" d=\"M2110.42 1514.29 L2128.78 1514.29 L2128.78 1518.22 L2114.71 1518.22 L2114.71 1526.7 Q2115.73 1526.35 2116.74 1526.19 Q2117.76 1526 2118.78 1526 Q2124.57 1526 2127.95 1529.17 Q2131.33 1532.34 2131.33 1537.76 Q2131.33 1543.34 2127.86 1546.44 Q2124.38 1549.52 2118.06 1549.52 Q2115.89 1549.52 2113.62 1549.15 Q2111.37 1548.78 2108.97 1548.04 L2108.97 1543.34 Q2111.05 1544.47 2113.27 1545.03 Q2115.49 1545.58 2117.97 1545.58 Q2121.98 1545.58 2124.31 1543.48 Q2126.65 1541.37 2126.65 1537.76 Q2126.65 1534.15 2124.31 1532.04 Q2121.98 1529.94 2117.97 1529.94 Q2116.1 1529.94 2114.22 1530.35 Q2112.37 1530.77 2110.42 1531.65 L2110.42 1514.29 Z\" fill=\"#000000\" fill-rule=\"nonzero\" fill-opacity=\"1\" /><path clip-path=\"url(#clip170)\" d=\"M2150.54 1517.37 Q2146.93 1517.37 2145.1 1520.93 Q2143.3 1524.47 2143.3 1531.6 Q2143.3 1538.71 2145.1 1542.27 Q2146.93 1545.82 2150.54 1545.82 Q2154.17 1545.82 2155.98 1542.27 Q2157.81 1538.71 2157.81 1531.6 Q2157.81 1524.47 2155.98 1520.93 Q2154.17 1517.37 2150.54 1517.37 M2150.54 1513.66 Q2156.35 1513.66 2159.41 1518.27 Q2162.48 1522.85 2162.48 1531.6 Q2162.48 1540.33 2159.41 1544.94 Q2156.35 1549.52 2150.54 1549.52 Q2144.73 1549.52 2141.65 1544.94 Q2138.6 1540.33 2138.6 1531.6 Q2138.6 1522.85 2141.65 1518.27 Q2144.73 1513.66 2150.54 1513.66 Z\" fill=\"#000000\" fill-rule=\"nonzero\" fill-opacity=\"1\" /><path clip-path=\"url(#clip170)\" d=\"M2180.7 1517.37 Q2177.09 1517.37 2175.26 1520.93 Q2173.46 1524.47 2173.46 1531.6 Q2173.46 1538.71 2175.26 1542.27 Q2177.09 1545.82 2180.7 1545.82 Q2184.34 1545.82 2186.14 1542.27 Q2187.97 1538.71 2187.97 1531.6 Q2187.97 1524.47 2186.14 1520.93 Q2184.34 1517.37 2180.7 1517.37 M2180.7 1513.66 Q2186.51 1513.66 2189.57 1518.27 Q2192.65 1522.85 2192.65 1531.6 Q2192.65 1540.33 2189.57 1544.94 Q2186.51 1549.52 2180.7 1549.52 Q2174.89 1549.52 2171.81 1544.94 Q2168.76 1540.33 2168.76 1531.6 Q2168.76 1522.85 2171.81 1518.27 Q2174.89 1513.66 2180.7 1513.66 Z\" fill=\"#000000\" fill-rule=\"nonzero\" fill-opacity=\"1\" /><polyline clip-path=\"url(#clip170)\" style=\"stroke:#000000; stroke-linecap:round; stroke-linejoin:round; stroke-width:4; stroke-opacity:1; fill:none\" points=\"149.191,1486.45 149.191,47.2441 \"/>\n",
       "<polyline clip-path=\"url(#clip170)\" style=\"stroke:#000000; stroke-linecap:round; stroke-linejoin:round; stroke-width:4; stroke-opacity:1; fill:none\" points=\"149.191,1429.41 168.089,1429.41 \"/>\n",
       "<polyline clip-path=\"url(#clip170)\" style=\"stroke:#000000; stroke-linecap:round; stroke-linejoin:round; stroke-width:4; stroke-opacity:1; fill:none\" points=\"149.191,1208.86 168.089,1208.86 \"/>\n",
       "<polyline clip-path=\"url(#clip170)\" style=\"stroke:#000000; stroke-linecap:round; stroke-linejoin:round; stroke-width:4; stroke-opacity:1; fill:none\" points=\"149.191,988.299 168.089,988.299 \"/>\n",
       "<polyline clip-path=\"url(#clip170)\" style=\"stroke:#000000; stroke-linecap:round; stroke-linejoin:round; stroke-width:4; stroke-opacity:1; fill:none\" points=\"149.191,767.743 168.089,767.743 \"/>\n",
       "<polyline clip-path=\"url(#clip170)\" style=\"stroke:#000000; stroke-linecap:round; stroke-linejoin:round; stroke-width:4; stroke-opacity:1; fill:none\" points=\"149.191,547.186 168.089,547.186 \"/>\n",
       "<polyline clip-path=\"url(#clip170)\" style=\"stroke:#000000; stroke-linecap:round; stroke-linejoin:round; stroke-width:4; stroke-opacity:1; fill:none\" points=\"149.191,326.63 168.089,326.63 \"/>\n",
       "<polyline clip-path=\"url(#clip170)\" style=\"stroke:#000000; stroke-linecap:round; stroke-linejoin:round; stroke-width:4; stroke-opacity:1; fill:none\" points=\"149.191,106.074 168.089,106.074 \"/>\n",
       "<path clip-path=\"url(#clip170)\" d=\"M52.4736 1429.86 L82.1494 1429.86 L82.1494 1433.8 L52.4736 1433.8 L52.4736 1429.86 Z\" fill=\"#000000\" fill-rule=\"nonzero\" fill-opacity=\"1\" /><path clip-path=\"url(#clip170)\" d=\"M92.2882 1412.13 L110.645 1412.13 L110.645 1416.07 L96.5706 1416.07 L96.5706 1424.54 Q97.5891 1424.19 98.6076 1424.03 Q99.6261 1423.84 100.645 1423.84 Q106.432 1423.84 109.811 1427.02 Q113.191 1430.19 113.191 1435.6 Q113.191 1441.18 109.719 1444.28 Q106.246 1447.36 99.927 1447.36 Q97.7511 1447.36 95.4826 1446.99 Q93.2373 1446.62 90.8299 1445.88 L90.8299 1441.18 Q92.9132 1442.32 95.1354 1442.87 Q97.3576 1443.43 99.8345 1443.43 Q103.839 1443.43 106.177 1441.32 Q108.515 1439.21 108.515 1435.6 Q108.515 1431.99 106.177 1429.89 Q103.839 1427.78 99.8345 1427.78 Q97.9595 1427.78 96.0845 1428.2 Q94.2326 1428.61 92.2882 1429.49 L92.2882 1412.13 Z\" fill=\"#000000\" fill-rule=\"nonzero\" fill-opacity=\"1\" /><path clip-path=\"url(#clip170)\" d=\"M50.9921 1209.31 L80.6679 1209.31 L80.6679 1213.24 L50.9921 1213.24 L50.9921 1209.31 Z\" fill=\"#000000\" fill-rule=\"nonzero\" fill-opacity=\"1\" /><path clip-path=\"url(#clip170)\" d=\"M103.608 1195.65 L91.8021 1214.1 L103.608 1214.1 L103.608 1195.65 M102.381 1191.58 L108.26 1191.58 L108.26 1214.1 L113.191 1214.1 L113.191 1217.99 L108.26 1217.99 L108.26 1226.14 L103.608 1226.14 L103.608 1217.99 L88.0058 1217.99 L88.0058 1213.47 L102.381 1191.58 Z\" fill=\"#000000\" fill-rule=\"nonzero\" fill-opacity=\"1\" /><path clip-path=\"url(#clip170)\" d=\"M52.1264 988.75 L81.8021 988.75 L81.8021 992.686 L52.1264 992.686 L52.1264 988.75 Z\" fill=\"#000000\" fill-rule=\"nonzero\" fill-opacity=\"1\" /><path clip-path=\"url(#clip170)\" d=\"M106.061 986.945 Q109.418 987.662 111.293 989.931 Q113.191 992.2 113.191 995.533 Q113.191 1000.65 109.672 1003.45 Q106.154 1006.25 99.6724 1006.25 Q97.4965 1006.25 95.1817 1005.81 Q92.89 1005.39 90.4364 1004.54 L90.4364 1000.02 Q92.3808 1001.16 94.6956 1001.74 Q97.0104 1002.32 99.5335 1002.32 Q103.932 1002.32 106.223 1000.58 Q108.538 998.843 108.538 995.533 Q108.538 992.477 106.385 990.764 Q104.256 989.028 100.436 989.028 L96.4085 989.028 L96.4085 985.186 L100.621 985.186 Q104.071 985.186 105.899 983.82 Q107.728 982.431 107.728 979.838 Q107.728 977.176 105.83 975.764 Q103.955 974.329 100.436 974.329 Q98.515 974.329 96.316 974.746 Q94.1169 975.163 91.478 976.042 L91.478 971.876 Q94.14 971.135 96.4548 970.764 Q98.7928 970.394 100.853 970.394 Q106.177 970.394 109.279 972.825 Q112.381 975.232 112.381 979.352 Q112.381 982.223 110.737 984.213 Q109.094 986.181 106.061 986.945 Z\" fill=\"#000000\" fill-rule=\"nonzero\" fill-opacity=\"1\" /><path clip-path=\"url(#clip170)\" d=\"M53.0754 768.194 L82.7512 768.194 L82.7512 772.129 L53.0754 772.129 L53.0754 768.194 Z\" fill=\"#000000\" fill-rule=\"nonzero\" fill-opacity=\"1\" /><path clip-path=\"url(#clip170)\" d=\"M96.8715 781.088 L113.191 781.088 L113.191 785.023 L91.2465 785.023 L91.2465 781.088 Q93.9086 778.333 98.4919 773.703 Q103.098 769.051 104.279 767.708 Q106.524 765.185 107.404 763.449 Q108.307 761.689 108.307 760 Q108.307 757.245 106.362 755.509 Q104.441 753.773 101.339 753.773 Q99.14 753.773 96.6863 754.537 Q94.2558 755.301 91.478 756.852 L91.478 752.129 Q94.3021 750.995 96.7558 750.416 Q99.2095 749.838 101.246 749.838 Q106.617 749.838 109.811 752.523 Q113.006 755.208 113.006 759.699 Q113.006 761.828 112.196 763.75 Q111.408 765.648 109.302 768.24 Q108.723 768.912 105.621 772.129 Q102.52 775.324 96.8715 781.088 Z\" fill=\"#000000\" fill-rule=\"nonzero\" fill-opacity=\"1\" /><path clip-path=\"url(#clip170)\" d=\"M52.7051 547.638 L82.3808 547.638 L82.3808 551.573 L52.7051 551.573 L52.7051 547.638 Z\" fill=\"#000000\" fill-rule=\"nonzero\" fill-opacity=\"1\" /><path clip-path=\"url(#clip170)\" d=\"M93.2836 560.531 L100.922 560.531 L100.922 534.166 L92.6123 535.832 L92.6123 531.573 L100.876 529.906 L105.552 529.906 L105.552 560.531 L113.191 560.531 L113.191 564.466 L93.2836 564.466 L93.2836 560.531 Z\" fill=\"#000000\" fill-rule=\"nonzero\" fill-opacity=\"1\" /><path clip-path=\"url(#clip170)\" d=\"M101.246 312.429 Q97.6354 312.429 95.8067 315.993 Q94.0012 319.535 94.0012 326.665 Q94.0012 333.771 95.8067 337.336 Q97.6354 340.878 101.246 340.878 Q104.881 340.878 106.686 337.336 Q108.515 333.771 108.515 326.665 Q108.515 319.535 106.686 315.993 Q104.881 312.429 101.246 312.429 M101.246 308.725 Q107.057 308.725 110.112 313.331 Q113.191 317.915 113.191 326.665 Q113.191 335.391 110.112 339.998 Q107.057 344.581 101.246 344.581 Q95.4363 344.581 92.3576 339.998 Q89.3021 335.391 89.3021 326.665 Q89.3021 317.915 92.3576 313.331 Q95.4363 308.725 101.246 308.725 Z\" fill=\"#000000\" fill-rule=\"nonzero\" fill-opacity=\"1\" /><path clip-path=\"url(#clip170)\" d=\"M93.2836 119.418 L100.922 119.418 L100.922 93.0528 L92.6123 94.7195 L92.6123 90.4603 L100.876 88.7936 L105.552 88.7936 L105.552 119.418 L113.191 119.418 L113.191 123.354 L93.2836 123.354 L93.2836 119.418 Z\" fill=\"#000000\" fill-rule=\"nonzero\" fill-opacity=\"1\" /><polyline clip-path=\"url(#clip172)\" style=\"stroke:#009af9; stroke-linecap:round; stroke-linejoin:round; stroke-width:4; stroke-opacity:1; fill:none\" points=\"211.556,87.9763 212.326,98.1992 213.096,108.553 213.866,119.025 214.636,129.604 215.406,140.274 216.176,151.021 216.945,161.828 217.715,172.677 218.485,183.548 219.255,194.42 220.025,205.273 220.795,216.083 221.565,226.827 222.335,237.483 223.105,248.027 223.875,258.438 224.645,268.692 225.415,278.771 226.185,288.655 226.955,298.327 227.725,307.772 228.495,316.977 229.265,325.932 230.034,334.628 230.804,343.06 231.574,351.226 232.344,359.125 233.114,366.76 233.884,374.135 234.654,381.257 235.424,388.135 236.194,394.781 236.964,401.205 237.734,407.423 238.504,413.447 239.274,419.294 240.044,424.977 240.814,430.512 241.584,435.914 242.353,441.197 243.123,446.374 243.893,451.459 244.663,456.462 245.433,461.396 246.203,466.27 246.973,471.091 247.743,475.869 248.513,480.608 249.283,485.315 250.053,489.994 250.823,494.647 251.593,499.278 252.363,503.888 253.133,508.478 253.903,513.049 254.672,517.599 255.442,522.13 256.212,526.638 256.982,531.124 257.752,535.586 258.522,540.022 259.292,544.431 260.062,548.81 260.832,553.159 261.602,557.476 262.372,561.76 263.142,566.009 263.912,570.223 264.682,574.4 265.452,578.54 266.222,582.642 266.992,586.706 267.761,590.733 268.531,594.721 269.301,598.672 270.071,602.585 270.841,606.461 271.611,610.3 272.381,614.103 273.151,617.871 273.921,621.603 274.691,625.301 275.461,628.966 276.231,632.598 277.001,636.196 277.771,639.763 278.541,643.299 279.311,646.803 280.08,650.276 280.85,653.719 281.62,657.131 282.39,660.514 283.16,663.866 283.93,667.189 284.7,670.481 285.47,673.744 286.24,676.978 287.01,680.181 287.78,683.354 288.55,686.498 289.32,689.611 290.09,692.694 290.86,695.747 291.63,698.769 292.399,701.761 293.169,704.722 293.939,707.653 294.709,710.553 295.479,713.422 296.249,716.26 297.019,719.068 297.789,721.845 298.559,724.591 299.329,727.306 300.099,729.99 300.869,732.644 301.639,735.267 302.409,737.859 303.179,740.421 303.949,742.953 304.719,745.454 305.488,747.925 306.258,750.366 307.028,752.778 307.798,755.159 308.568,757.511 309.338,759.833 310.108,762.126 310.878,764.389 311.648,766.624 312.418,768.83 313.188,771.007 313.958,773.156 314.728,775.276 315.498,777.368 316.268,779.432 317.038,781.469 317.807,783.478 318.577,785.46 319.347,787.415 320.117,789.343 320.887,791.245 321.657,793.12 322.427,794.97 323.197,796.794 323.967,798.592 324.737,800.366 325.507,802.114 326.277,803.838 327.047,805.538 327.817,807.214 328.587,808.866 329.357,810.496 330.127,812.102 330.896,813.685 331.666,815.247 332.436,816.786 333.206,818.304 333.976,819.8 334.746,821.276 335.516,822.73 336.286,824.165 337.056,825.579 337.826,826.974 338.596,828.35 339.366,829.707 340.136,831.045 340.906,832.365 341.676,833.667 342.446,834.951 343.215,836.218 343.985,837.469 344.755,838.702 345.525,839.919 346.295,841.121 347.065,842.306 347.835,843.477 348.605,844.632 349.375,845.773 350.145,846.899 350.915,848.011 351.685,849.11 352.455,850.195 353.225,851.266 353.995,852.325 354.765,853.372 355.534,854.405 356.304,855.427 357.074,856.438 357.844,857.436 358.614,858.424 359.384,859.4 360.154,860.366 360.924,861.321 361.694,862.266 362.464,863.201 363.234,864.127 364.004,865.043 364.774,865.949 365.544,866.847 366.314,867.736 367.084,868.616 367.854,869.488 368.623,870.351 369.393,871.207 370.163,872.055 370.933,872.895 371.703,873.728 372.473,874.553 373.243,875.372 374.013,876.184 374.783,876.988 375.553,877.787 376.323,878.579 377.093,879.365 377.863,880.145 378.633,880.919 379.403,881.687 380.173,882.449 380.942,883.206 381.712,883.958 382.482,884.704 383.252,885.446 384.022,886.182 384.792,886.914 385.562,887.64 386.332,888.363 387.102,889.08 387.872,889.794 388.642,890.503 389.412,891.207 390.182,891.908 390.952,892.605 391.722,893.297 392.492,893.986 393.261,894.672 394.031,895.353 394.801,896.031 395.571,896.705 396.341,897.376 397.111,898.044 397.881,898.709 398.651,899.37 399.421,900.028 400.191,900.683 400.961,901.335 401.731,901.984 402.501,902.63 403.271,903.273 404.041,903.913 404.811,904.551 405.581,905.186 406.35,905.818 407.12,906.448 407.89,907.075 408.66,907.7 409.43,908.322 410.2,908.942 410.97,909.559 411.74,910.175 412.51,910.787 413.28,911.398 414.05,912.006 414.82,912.612 415.59,913.216 416.36,913.818 417.13,914.417 417.9,915.015 418.669,915.611 419.439,916.204 420.209,916.796 420.979,917.385 421.749,917.973 422.519,918.558 423.289,919.142 424.059,919.724 424.829,920.304 425.599,920.882 426.369,921.459 427.139,922.033 427.909,922.606 428.679,923.177 429.449,923.746 430.219,924.314 430.988,924.88 431.758,925.444 432.528,926.007 433.298,926.567 434.068,927.127 434.838,927.684 435.608,928.24 436.378,928.794 437.148,929.347 437.918,929.898 438.688,930.448 439.458,930.996 440.228,931.542 440.998,932.087 441.768,932.631 442.538,933.173 443.308,933.713 444.077,934.252 444.847,934.789 445.617,935.325 446.387,935.86 447.157,936.393 447.927,936.924 448.697,937.454 449.467,937.983 450.237,938.511 451.007,939.036 451.777,939.561 452.547,940.084 453.317,940.606 454.087,941.126 454.857,941.645 455.627,942.162 456.396,942.679 457.166,943.193 457.936,943.707 458.706,944.219 459.476,944.73 460.246,945.239 461.016,945.748 461.786,946.254 462.556,946.76 463.326,947.264 464.096,947.767 464.866,948.269 465.636,948.769 466.406,949.268 467.176,949.766 467.946,950.263 468.715,950.758 469.485,951.252 470.255,951.745 471.025,952.236 471.795,952.727 472.565,953.216 473.335,953.704 474.105,954.19 474.875,954.675 475.645,955.16 476.415,955.643 477.185,956.124 477.955,956.605 478.725,957.084 479.495,957.562 480.265,958.039 481.035,958.515 481.804,958.99 482.574,959.463 483.344,959.936 484.114,960.407 484.884,960.877 485.654,961.346 486.424,961.813 487.194,962.28 487.964,962.745 488.734,963.209 489.504,963.673 490.274,964.135 491.044,964.595 491.814,965.055 492.584,965.514 493.354,965.971 494.123,966.428 494.893,966.883 495.663,967.337 496.433,967.79 497.203,968.243 497.973,968.694 498.743,969.143 499.513,969.592 500.283,970.04 501.053,970.487 501.823,970.932 502.593,971.377 503.363,971.82 504.133,972.263 504.903,972.704 505.673,973.144 506.443,973.584 507.212,974.022 507.982,974.459 508.752,974.896 509.522,975.331 510.292,975.765 511.062,976.198 511.832,976.63 512.602,977.061 513.372,977.491 514.142,977.921 514.912,978.349 515.682,978.776 516.452,979.202 517.222,979.627 517.992,980.051 518.762,980.474 519.531,980.897 520.301,981.318 521.071,981.738 521.841,982.157 522.611,982.576 523.381,982.993 524.151,983.41 524.921,983.825 525.691,984.24 526.461,984.653 527.231,985.066 528.001,985.477 528.771,985.888 529.541,986.298 530.311,986.707 531.081,987.115 531.85,987.522 532.62,987.928 533.39,988.333 534.16,988.737 534.93,989.141 535.7,989.543 536.47,989.945 537.24,990.346 538.01,990.745 538.78,991.144 539.55,991.542 540.32,991.939 541.09,992.336 541.86,992.731 542.63,993.126 543.4,993.519 544.17,993.912 544.939,994.304 545.709,994.695 546.479,995.085 547.249,995.474 548.019,995.863 548.789,996.25 549.559,996.637 550.329,997.023 551.099,997.408 551.869,997.792 552.639,998.175 553.409,998.558 554.179,998.939 554.949,999.32 555.719,999.7 556.489,1000.08 557.258,1000.46 558.028,1000.84 558.798,1001.21 559.568,1001.59 560.338,1001.96 561.108,1002.34 561.878,1002.71 562.648,1003.08 563.418,1003.46 564.188,1003.83 564.958,1004.2 565.728,1004.57 566.498,1004.94 567.268,1005.3 568.038,1005.67 568.808,1006.04 569.577,1006.4 570.347,1006.77 571.117,1007.13 571.887,1007.49 572.657,1007.86 573.427,1008.22 574.197,1008.58 574.967,1008.94 575.737,1009.3 576.507,1009.66 577.277,1010.02 578.047,1010.37 578.817,1010.73 579.587,1011.09 580.357,1011.44 581.127,1011.8 581.897,1012.15 582.666,1012.5 583.436,1012.85 584.206,1013.21 584.976,1013.56 585.746,1013.91 586.516,1014.25 587.286,1014.6 588.056,1014.95 588.826,1015.3 589.596,1015.64 590.366,1015.99 591.136,1016.33 591.906,1016.68 592.676,1017.02 593.446,1017.37 594.216,1017.71 594.985,1018.05 595.755,1018.39 596.525,1018.73 597.295,1019.07 598.065,1019.41 598.835,1019.75 599.605,1020.08 600.375,1020.42 601.145,1020.76 601.915,1021.09 602.685,1021.43 603.455,1021.76 604.225,1022.09 604.995,1022.42 605.765,1022.76 606.535,1023.09 607.304,1023.42 608.074,1023.75 608.844,1024.08 609.614,1024.41 610.384,1024.73 611.154,1025.06 611.924,1025.39 612.694,1025.71 613.464,1026.04 614.234,1026.36 615.004,1026.69 615.774,1027.01 616.544,1027.34 617.314,1027.66 618.084,1027.98 618.854,1028.3 619.624,1028.62 620.393,1028.94 621.163,1029.26 621.933,1029.58 622.703,1029.9 623.473,1030.21 624.243,1030.53 625.013,1030.85 625.783,1031.16 626.553,1031.48 627.323,1031.79 628.093,1032.1 628.863,1032.42 629.633,1032.73 630.403,1033.04 631.173,1033.35 631.943,1033.66 632.712,1033.97 633.482,1034.28 634.252,1034.59 635.022,1034.9 635.792,1035.21 636.562,1035.52 637.332,1035.82 638.102,1036.13 638.872,1036.43 639.642,1036.74 640.412,1037.04 641.182,1037.35 641.952,1037.65 642.722,1037.95 643.492,1038.26 644.262,1038.56 645.031,1038.86 645.801,1039.16 646.571,1039.46 647.341,1039.76 648.111,1040.06 648.881,1040.35 649.651,1040.65 650.421,1040.95 651.191,1041.25 651.961,1041.54 652.731,1041.84 653.501,1042.13 654.271,1042.43 655.041,1042.72 655.811,1043.01 656.581,1043.31 657.351,1043.6 658.12,1043.89 658.89,1044.18 659.66,1044.47 660.43,1044.76 661.2,1045.05 661.97,1045.34 662.74,1045.63 663.51,1045.92 664.28,1046.21 665.05,1046.5 665.82,1046.78 666.59,1047.07 667.36,1047.35 668.13,1047.64 668.9,1047.92 669.67,1048.21 670.439,1048.49 671.209,1048.77 671.979,1049.06 672.749,1049.34 673.519,1049.62 674.289,1049.9 675.059,1050.18 675.829,1050.46 676.599,1050.74 677.369,1051.02 678.139,1051.3 678.909,1051.58 679.679,1051.86 680.449,1052.14 681.219,1052.41 681.989,1052.69 682.759,1052.97 683.528,1053.24 684.298,1053.52 685.068,1053.79 685.838,1054.07 686.608,1054.34 687.378,1054.61 688.148,1054.89 688.918,1055.16 689.688,1055.43 690.458,1055.7 691.228,1055.97 691.998,1056.24 692.768,1056.51 693.538,1056.78 694.308,1057.05 695.078,1057.32 695.847,1057.59 696.617,1057.86 697.387,1058.13 698.157,1058.39 698.927,1058.66 699.697,1058.93 700.467,1059.19 701.237,1059.46 702.007,1059.72 702.777,1059.99 703.547,1060.25 704.317,1060.51 705.087,1060.78 705.857,1061.04 706.627,1061.3 707.397,1061.57 708.166,1061.83 708.936,1062.09 709.706,1062.35 710.476,1062.61 711.246,1062.87 712.016,1063.13 712.786,1063.39 713.556,1063.65 714.326,1063.91 715.096,1064.16 715.866,1064.42 716.636,1064.68 717.406,1064.94 718.176,1065.19 718.946,1065.45 719.716,1065.71 720.486,1065.96 721.255,1066.22 722.025,1066.47 722.795,1066.72 723.565,1066.98 724.335,1067.23 725.105,1067.48 725.875,1067.74 726.645,1067.99 727.415,1068.24 728.185,1068.49 728.955,1068.74 729.725,1069 730.495,1069.25 731.265,1069.5 732.035,1069.75 732.805,1070 733.574,1070.24 734.344,1070.49 735.114,1070.74 735.884,1070.99 736.654,1071.24 737.424,1071.48 738.194,1071.73 738.964,1071.98 739.734,1072.22 740.504,1072.47 741.274,1072.72 742.044,1072.96 742.814,1073.21 743.584,1073.45 744.354,1073.69 745.124,1073.94 745.893,1074.18 746.663,1074.43 747.433,1074.67 748.203,1074.91 748.973,1075.15 749.743,1075.4 750.513,1075.64 751.283,1075.88 752.053,1076.12 752.823,1076.36 753.593,1076.6 754.363,1076.84 755.133,1077.08 755.903,1077.32 756.673,1077.56 757.443,1077.8 758.213,1078.03 758.982,1078.27 759.752,1078.51 760.522,1078.75 761.292,1078.98 762.062,1079.22 762.832,1079.46 763.602,1079.69 764.372,1079.93 765.142,1080.17 765.912,1080.4 766.682,1080.64 767.452,1080.87 768.222,1081.1 768.992,1081.34 769.762,1081.57 770.532,1081.81 771.301,1082.04 772.071,1082.27 772.841,1082.5 773.611,1082.74 774.381,1082.97 775.151,1083.2 775.921,1083.43 776.691,1083.66 777.461,1083.89 778.231,1084.12 779.001,1084.36 779.771,1084.59 780.541,1084.81 781.311,1085.04 782.081,1085.27 782.851,1085.5 783.62,1085.73 784.39,1085.96 785.16,1086.19 785.93,1086.42 786.7,1086.64 787.47,1086.87 788.24,1087.1 789.01,1087.32 789.78,1087.55 790.55,1087.78 791.32,1088 792.09,1088.23 792.86,1088.45 793.63,1088.68 794.4,1088.9 795.17,1089.13 795.94,1089.35 796.709,1089.58 797.479,1089.8 798.249,1090.02 799.019,1090.25 799.789,1090.47 800.559,1090.69 801.329,1090.92 802.099,1091.14 802.869,1091.36 803.639,1091.58 804.409,1091.8 805.179,1092.03 805.949,1092.25 806.719,1092.47 807.489,1092.69 808.259,1092.91 809.028,1093.13 809.798,1093.35 810.568,1093.57 811.338,1093.79 812.108,1094.01 812.878,1094.23 813.648,1094.45 814.418,1094.66 815.188,1094.88 815.958,1095.1 816.728,1095.32 817.498,1095.54 818.268,1095.75 819.038,1095.97 819.808,1096.19 820.578,1096.4 821.347,1096.62 822.117,1096.84 822.887,1097.05 823.657,1097.27 824.427,1097.48 825.197,1097.7 825.967,1097.91 826.737,1098.13 827.507,1098.34 828.277,1098.56 829.047,1098.77 829.817,1098.99 830.587,1099.2 831.357,1099.41 832.127,1099.63 832.897,1099.84 833.667,1100.05 834.436,1100.27 835.206,1100.48 835.976,1100.69 836.746,1100.9 837.516,1101.12 838.286,1101.33 839.056,1101.54 839.826,1101.75 840.596,1101.96 841.366,1102.17 842.136,1102.38 842.906,1102.59 843.676,1102.8 844.446,1103.01 845.216,1103.22 845.986,1103.43 846.755,1103.64 847.525,1103.85 848.295,1104.06 849.065,1104.27 849.835,1104.48 850.605,1104.69 851.375,1104.9 852.145,1105.1 852.915,1105.31 853.685,1105.52 854.455,1105.73 855.225,1105.93 855.995,1106.14 856.765,1106.35 857.535,1106.56 858.305,1106.76 859.075,1106.97 859.844,1107.17 860.614,1107.38 861.384,1107.59 862.154,1107.79 862.924,1108 863.694,1108.2 864.464,1108.41 865.234,1108.61 866.004,1108.82 866.774,1109.02 867.544,1109.23 868.314,1109.43 869.084,1109.63 869.854,1109.84 870.624,1110.04 871.394,1110.25 872.163,1110.45 872.933,1110.65 873.703,1110.86 874.473,1111.06 875.243,1111.26 876.013,1111.46 876.783,1111.67 877.553,1111.87 878.323,1112.07 879.093,1112.27 879.863,1112.47 880.633,1112.67 881.403,1112.88 882.173,1113.08 882.943,1113.28 883.713,1113.48 884.482,1113.68 885.252,1113.88 886.022,1114.08 886.792,1114.28 887.562,1114.48 888.332,1114.68 889.102,1114.88 889.872,1115.08 890.642,1115.28 891.412,1115.48 892.182,1115.68 892.952,1115.87 893.722,1116.07 894.492,1116.27 895.262,1116.47 896.032,1116.67 896.802,1116.87 897.571,1117.06 898.341,1117.26 899.111,1117.46 899.881,1117.66 900.651,1117.85 901.421,1118.05 902.191,1118.25 902.961,1118.44 903.731,1118.64 904.501,1118.84 905.271,1119.03 906.041,1119.23 906.811,1119.43 907.581,1119.62 908.351,1119.82 909.121,1120.01 909.89,1120.21 910.66,1120.4 911.43,1120.6 912.2,1120.79 912.97,1120.99 913.74,1121.18 914.51,1121.38 915.28,1121.57 916.05,1121.77 916.82,1121.96 917.59,1122.15 918.36,1122.35 919.13,1122.54 919.9,1122.74 920.67,1122.93 921.44,1123.12 922.209,1123.32 922.979,1123.51 923.749,1123.7 924.519,1123.89 925.289,1124.09 926.059,1124.28 926.829,1124.47 927.599,1124.66 928.369,1124.85 929.139,1125.05 929.909,1125.24 930.679,1125.43 931.449,1125.62 932.219,1125.81 932.989,1126 933.759,1126.19 934.529,1126.38 935.298,1126.58 936.068,1126.77 936.838,1126.96 937.608,1127.15 938.378,1127.34 939.148,1127.53 939.918,1127.72 940.688,1127.91 941.458,1128.1 942.228,1128.29 942.998,1128.48 943.768,1128.66 944.538,1128.85 945.308,1129.04 946.078,1129.23 946.848,1129.42 947.617,1129.61 948.387,1129.8 949.157,1129.99 949.927,1130.17 950.697,1130.36 951.467,1130.55 952.237,1130.74 953.007,1130.92 953.777,1131.11 954.547,1131.3 955.317,1131.49 956.087,1131.67 956.857,1131.86 957.627,1132.05 958.397,1132.23 959.167,1132.42 959.936,1132.61 960.706,1132.79 961.476,1132.98 962.246,1133.17 963.016,1133.35 963.786,1133.54 964.556,1133.72 965.326,1133.91 966.096,1134.1 966.866,1134.28 967.636,1134.47 968.406,1134.65 969.176,1134.84 969.946,1135.02 970.716,1135.21 971.486,1135.39 972.256,1135.58 973.025,1135.76 973.795,1135.94 974.565,1136.13 975.335,1136.31 976.105,1136.5 976.875,1136.68 977.645,1136.86 978.415,1137.05 979.185,1137.23 979.955,1137.42 980.725,1137.6 981.495,1137.78 982.265,1137.96 983.035,1138.15 983.805,1138.33 984.575,1138.51 985.344,1138.7 986.114,1138.88 986.884,1139.06 987.654,1139.24 988.424,1139.42 989.194,1139.61 989.964,1139.79 990.734,1139.97 991.504,1140.15 992.274,1140.33 993.044,1140.52 993.814,1140.7 994.584,1140.88 995.354,1141.06 996.124,1141.24 996.894,1141.42 997.663,1141.6 998.433,1141.78 999.203,1141.96 999.973,1142.14 1000.74,1142.32 1001.51,1142.5 1002.28,1142.68 1003.05,1142.86 1003.82,1143.04 1004.59,1143.22 1005.36,1143.4 1006.13,1143.58 1006.9,1143.76 1007.67,1143.94 1008.44,1144.12 1009.21,1144.3 1009.98,1144.48 1010.75,1144.66 1011.52,1144.84 1012.29,1145.02 1013.06,1145.2 1013.83,1145.37 1014.6,1145.55 1015.37,1145.73 1016.14,1145.91 1016.91,1146.09 1017.68,1146.27 1018.45,1146.44 1019.22,1146.62 1019.99,1146.8 1020.76,1146.98 1021.53,1147.15 1022.3,1147.33 1023.07,1147.51 1023.84,1147.69 1024.61,1147.86 1025.38,1148.04 1026.15,1148.22 1026.92,1148.39 1027.69,1148.57 1028.46,1148.75 1029.23,1148.92 1030,1149.1 1030.77,1149.28 1031.54,1149.45 1032.31,1149.63 1033.08,1149.8 1033.85,1149.98 1034.62,1150.16 1035.39,1150.33 1036.16,1150.51 1036.93,1150.68 1037.7,1150.86 1038.47,1151.03 1039.24,1151.21 1040.01,1151.39 1040.78,1151.56 1041.55,1151.74 1042.32,1151.91 1043.09,1152.08 1043.86,1152.26 1044.63,1152.43 1045.4,1152.61 1046.17,1152.78 1046.94,1152.96 1047.71,1153.13 1048.48,1153.31 1049.25,1153.48 1050.02,1153.65 1050.79,1153.83 1051.56,1154 1052.33,1154.17 1053.1,1154.35 1053.87,1154.52 1054.64,1154.7 1055.41,1154.87 1056.18,1155.04 1056.95,1155.22 1057.72,1155.39 1058.49,1155.56 1059.26,1155.73 1060.03,1155.91 1060.8,1156.08 1061.57,1156.25 1062.34,1156.42 1063.11,1156.6 1063.88,1156.77 1064.65,1156.94 1065.42,1157.11 1066.19,1157.29 1066.96,1157.46 1067.73,1157.63 1068.5,1157.8 1069.27,1157.97 1070.04,1158.14 1070.81,1158.32 1071.58,1158.49 1072.35,1158.66 1073.12,1158.83 1073.89,1159 1074.66,1159.17 1075.43,1159.34 1076.2,1159.51 1076.97,1159.69 1077.74,1159.86 1078.51,1160.03 1079.28,1160.2 1080.05,1160.37 1080.82,1160.54 1081.59,1160.71 1082.36,1160.88 1083.13,1161.05 1083.9,1161.22 1084.67,1161.39 1085.44,1161.56 1086.21,1161.73 1086.98,1161.9 1087.75,1162.07 1088.52,1162.24 1089.29,1162.41 1090.06,1162.58 1090.83,1162.75 1091.6,1162.92 1092.37,1163.09 1093.14,1163.25 1093.91,1163.42 1094.68,1163.59 1095.45,1163.76 1096.22,1163.93 1096.99,1164.1 1097.76,1164.27 1098.53,1164.44 1099.3,1164.6 1100.07,1164.77 1100.84,1164.94 1101.61,1165.11 1102.38,1165.28 1103.15,1165.45 1103.92,1165.61 1104.69,1165.78 1105.45,1165.95 1106.22,1166.12 1106.99,1166.29 1107.76,1166.45 1108.53,1166.62 1109.3,1166.79 1110.07,1166.96 1110.84,1167.12 1111.61,1167.29 1112.38,1167.46 1113.15,1167.63 1113.92,1167.79 1114.69,1167.96 1115.46,1168.13 1116.23,1168.29 1117,1168.46 1117.77,1168.63 1118.54,1168.79 1119.31,1168.96 1120.08,1169.13 1120.85,1169.29 1121.62,1169.46 1122.39,1169.63 1123.16,1169.79 1123.93,1169.96 1124.7,1170.12 1125.47,1170.29 1126.24,1170.46 1127.01,1170.62 1127.78,1170.79 1128.55,1170.95 1129.32,1171.12 1130.09,1171.28 1130.86,1171.45 1131.63,1171.62 1132.4,1171.78 1133.17,1171.95 1133.94,1172.11 1134.71,1172.28 1135.48,1172.44 1136.25,1172.61 1137.02,1172.77 1137.79,1172.94 1138.56,1173.1 1139.33,1173.27 1140.1,1173.43 1140.87,1173.6 1141.64,1173.76 1142.41,1173.92 1143.18,1174.09 1143.95,1174.25 1144.72,1174.42 1145.49,1174.58 1146.26,1174.75 1147.03,1174.91 1147.8,1175.07 1148.57,1175.24 1149.34,1175.4 1150.11,1175.57 1150.88,1175.73 1151.65,1175.89 1152.42,1176.06 1153.19,1176.22 1153.96,1176.38 1154.73,1176.55 1155.5,1176.71 1156.27,1176.88 1157.04,1177.04 1157.81,1177.2 1158.58,1177.37 1159.35,1177.53 1160.12,1177.69 1160.89,1177.85 1161.66,1178.02 1162.43,1178.18 1163.2,1178.34 1163.97,1178.51 1164.74,1178.67 1165.51,1178.83 1166.28,1178.99 1167.05,1179.16 1167.82,1179.32 1168.59,1179.48 1169.36,1179.64 1170.13,1179.81 1170.9,1179.97 1171.67,1180.13 1172.44,1180.29 1173.21,1180.46 1173.98,1180.62 1174.75,1180.78 1175.52,1180.94 1176.29,1181.1 1177.06,1181.26 1177.83,1181.43 1178.6,1181.59 1179.37,1181.75 1180.14,1181.91 1180.91,1182.07 1181.68,1182.23 1182.45,1182.4 1183.22,1182.56 1183.99,1182.72 1184.76,1182.88 1185.53,1183.04 1186.3,1183.2 1187.07,1183.36 1187.84,1183.53 1188.61,1183.69 1189.38,1183.85 1190.15,1184.01 1190.92,1184.17 1191.69,1184.33 1192.46,1184.49 1193.23,1184.65 1194,1184.81 1194.77,1184.97 1195.54,1185.13 1196.31,1185.29 1197.08,1185.45 1197.85,1185.61 1198.62,1185.78 1199.39,1185.94 1200.16,1186.1 1200.93,1186.26 1201.7,1186.42 1202.47,1186.58 1203.24,1186.74 1204.01,1186.9 1204.78,1187.06 1205.55,1187.22 1206.32,1187.38 1207.09,1187.54 1207.86,1187.7 1208.63,1187.86 1209.4,1188.02 1210.17,1188.18 1210.94,1188.34 1211.71,1188.49 1212.48,1188.65 1213.25,1188.81 1214.02,1188.97 1214.79,1189.13 1215.56,1189.29 1216.33,1189.45 1217.1,1189.61 1217.87,1189.77 1218.64,1189.93 1219.41,1190.09 1220.18,1190.25 1220.95,1190.41 1221.72,1190.57 1222.49,1190.72 1223.26,1190.88 1224.03,1191.04 1224.8,1191.2 1225.57,1191.36 1226.34,1191.52 1227.11,1191.68 1227.88,1191.84 1228.65,1192 1229.42,1192.15 1230.19,1192.31 1230.95,1192.47 1231.72,1192.63 1232.49,1192.79 1233.26,1192.95 1234.03,1193.11 1234.8,1193.26 1235.57,1193.42 1236.34,1193.58 1237.11,1193.74 1237.88,1193.9 1238.65,1194.05 1239.42,1194.21 1240.19,1194.37 1240.96,1194.53 1241.73,1194.69 1242.5,1194.85 1243.27,1195 1244.04,1195.16 1244.81,1195.32 1245.58,1195.48 1246.35,1195.63 1247.12,1195.79 1247.89,1195.95 1248.66,1196.11 1249.43,1196.27 1250.2,1196.42 1250.97,1196.58 1251.74,1196.74 1252.51,1196.9 1253.28,1197.05 1254.05,1197.21 1254.82,1197.37 1255.59,1197.53 1256.36,1197.68 1257.13,1197.84 1257.9,1198 1258.67,1198.16 1259.44,1198.31 1260.21,1198.47 1260.98,1198.63 1261.75,1198.78 1262.52,1198.94 1263.29,1199.1 1264.06,1199.26 1264.83,1199.41 1265.6,1199.57 1266.37,1199.73 1267.14,1199.88 1267.91,1200.04 1268.68,1200.2 1269.45,1200.35 1270.22,1200.51 1270.99,1200.67 1271.76,1200.82 1272.53,1200.98 1273.3,1201.14 1274.07,1201.3 1274.84,1201.45 1275.61,1201.61 1276.38,1201.77 1277.15,1201.92 1277.92,1202.08 1278.69,1202.23 1279.46,1202.39 1280.23,1202.55 1281,1202.7 1281.77,1202.86 1282.54,1203.02 1283.31,1203.17 1284.08,1203.33 1284.85,1203.49 1285.62,1203.64 1286.39,1203.8 1287.16,1203.96 1287.93,1204.11 1288.7,1204.27 1289.47,1204.42 1290.24,1204.58 1291.01,1204.74 1291.78,1204.89 1292.55,1205.05 1293.32,1205.21 1294.09,1205.36 1294.86,1205.52 1295.63,1205.67 1296.4,1205.83 1297.17,1205.99 1297.94,1206.14 1298.71,1206.3 1299.48,1206.45 1300.25,1206.61 1301.02,1206.77 1301.79,1206.92 1302.56,1207.08 1303.33,1207.23 1304.1,1207.39 1304.87,1207.54 1305.64,1207.7 1306.41,1207.86 1307.18,1208.01 1307.95,1208.17 1308.72,1208.32 1309.49,1208.48 1310.26,1208.63 1311.03,1208.79 1311.8,1208.95 1312.57,1209.1 1313.34,1209.26 1314.11,1209.41 1314.88,1209.57 1315.65,1209.72 1316.42,1209.88 1317.19,1210.04 1317.96,1210.19 1318.73,1210.35 1319.5,1210.5 1320.27,1210.66 1321.04,1210.81 1321.81,1210.97 1322.58,1211.12 1323.35,1211.28 1324.12,1211.43 1324.89,1211.59 1325.66,1211.75 1326.43,1211.9 1327.2,1212.06 1327.97,1212.21 1328.74,1212.37 1329.51,1212.52 1330.28,1212.68 1331.05,1212.83 1331.82,1212.99 1332.59,1213.14 1333.36,1213.3 1334.13,1213.45 1334.9,1213.61 1335.67,1213.76 1336.44,1213.92 1337.21,1214.08 1337.98,1214.23 1338.75,1214.39 1339.52,1214.54 1340.29,1214.7 1341.06,1214.85 1341.83,1215.01 1342.6,1215.16 1343.37,1215.32 1344.14,1215.47 1344.91,1215.63 1345.68,1215.78 1346.45,1215.94 1347.22,1216.09 1347.99,1216.25 1348.76,1216.4 1349.53,1216.56 1350.3,1216.71 1351.07,1216.87 1351.84,1217.02 1352.61,1217.18 1353.38,1217.33 1354.15,1217.49 1354.92,1217.64 1355.69,1217.8 1356.46,1217.95 1357.22,1218.11 1357.99,1218.26 1358.76,1218.42 1359.53,1218.57 1360.3,1218.73 1361.07,1218.88 1361.84,1219.04 1362.61,1219.19 1363.38,1219.35 1364.15,1219.5 1364.92,1219.66 1365.69,1219.81 1366.46,1219.97 1367.23,1220.12 1368,1220.28 1368.77,1220.43 1369.54,1220.59 1370.31,1220.75 1371.08,1220.9 1371.85,1221.06 1372.62,1221.21 1373.39,1221.37 1374.16,1221.52 1374.93,1221.68 1375.7,1221.83 1376.47,1221.99 1377.24,1222.14 1378.01,1222.3 1378.78,1222.45 1379.55,1222.61 1380.32,1222.76 1381.09,1222.92 1381.86,1223.07 1382.63,1223.23 1383.4,1223.38 1384.17,1223.54 1384.94,1223.69 1385.71,1223.85 1386.48,1224 1387.25,1224.16 1388.02,1224.31 1388.79,1224.47 1389.56,1224.62 1390.33,1224.78 1391.1,1224.93 1391.87,1225.09 1392.64,1225.24 1393.41,1225.4 1394.18,1225.55 1394.95,1225.71 1395.72,1225.86 1396.49,1226.02 1397.26,1226.17 1398.03,1226.33 1398.8,1226.48 1399.57,1226.64 1400.34,1226.79 1401.11,1226.95 1401.88,1227.1 1402.65,1227.26 1403.42,1227.41 1404.19,1227.57 1404.96,1227.72 1405.73,1227.88 1406.5,1228.04 1407.27,1228.19 1408.04,1228.35 1408.81,1228.5 1409.58,1228.66 1410.35,1228.81 1411.12,1228.97 1411.89,1229.12 1412.66,1229.28 1413.43,1229.43 1414.2,1229.59 1414.97,1229.74 1415.74,1229.9 1416.51,1230.05 1417.28,1230.21 1418.05,1230.37 1418.82,1230.52 1419.59,1230.68 1420.36,1230.83 1421.13,1230.99 1421.9,1231.14 1422.67,1231.3 1423.44,1231.45 1424.21,1231.61 1424.98,1231.77 1425.75,1231.92 1426.52,1232.08 1427.29,1232.23 1428.06,1232.39 1428.83,1232.54 1429.6,1232.7 1430.37,1232.85 1431.14,1233.01 1431.91,1233.17 1432.68,1233.32 1433.45,1233.48 1434.22,1233.63 1434.99,1233.79 1435.76,1233.95 1436.53,1234.1 1437.3,1234.26 1438.07,1234.41 1438.84,1234.57 1439.61,1234.72 1440.38,1234.88 1441.15,1235.04 1441.92,1235.19 1442.69,1235.35 1443.46,1235.5 1444.23,1235.66 1445,1235.82 1445.77,1235.97 1446.54,1236.13 1447.31,1236.28 1448.08,1236.44 1448.85,1236.6 1449.62,1236.75 1450.39,1236.91 1451.16,1237.07 1451.93,1237.22 1452.7,1237.38 1453.47,1237.53 1454.24,1237.69 1455.01,1237.85 1455.78,1238 1456.55,1238.16 1457.32,1238.32 1458.09,1238.47 1458.86,1238.63 1459.63,1238.79 1460.4,1238.94 1461.17,1239.1 1461.94,1239.25 1462.71,1239.41 1463.48,1239.57 1464.25,1239.72 1465.02,1239.88 1465.79,1240.04 1466.56,1240.19 1467.33,1240.35 1468.1,1240.51 1468.87,1240.67 1469.64,1240.82 1470.41,1240.98 1471.18,1241.14 1471.95,1241.29 1472.72,1241.45 1473.49,1241.61 1474.26,1241.76 1475.03,1241.92 1475.8,1242.08 1476.57,1242.23 1477.34,1242.39 1478.11,1242.55 1478.88,1242.71 1479.65,1242.86 1480.42,1243.02 1481.19,1243.18 1481.96,1243.34 1482.72,1243.49 1483.49,1243.65 1484.26,1243.81 1485.03,1243.97 1485.8,1244.12 1486.57,1244.28 1487.34,1244.44 1488.11,1244.6 1488.88,1244.75 1489.65,1244.91 1490.42,1245.07 1491.19,1245.23 1491.96,1245.38 1492.73,1245.54 1493.5,1245.7 1494.27,1245.86 1495.04,1246.02 1495.81,1246.17 1496.58,1246.33 1497.35,1246.49 1498.12,1246.65 1498.89,1246.81 1499.66,1246.96 1500.43,1247.12 1501.2,1247.28 1501.97,1247.44 1502.74,1247.6 1503.51,1247.75 1504.28,1247.91 1505.05,1248.07 1505.82,1248.23 1506.59,1248.39 1507.36,1248.55 1508.13,1248.71 1508.9,1248.86 1509.67,1249.02 1510.44,1249.18 1511.21,1249.34 1511.98,1249.5 1512.75,1249.66 1513.52,1249.82 1514.29,1249.98 1515.06,1250.13 1515.83,1250.29 1516.6,1250.45 1517.37,1250.61 1518.14,1250.77 1518.91,1250.93 1519.68,1251.09 1520.45,1251.25 1521.22,1251.41 1521.99,1251.57 1522.76,1251.73 1523.53,1251.89 1524.3,1252.05 1525.07,1252.21 1525.84,1252.36 1526.61,1252.52 1527.38,1252.68 1528.15,1252.84 1528.92,1253 1529.69,1253.16 1530.46,1253.32 1531.23,1253.48 1532,1253.64 1532.77,1253.8 1533.54,1253.96 1534.31,1254.12 1535.08,1254.28 1535.85,1254.44 1536.62,1254.6 1537.39,1254.76 1538.16,1254.92 1538.93,1255.09 1539.7,1255.25 1540.47,1255.41 1541.24,1255.57 1542.01,1255.73 1542.78,1255.89 1543.55,1256.05 1544.32,1256.21 1545.09,1256.37 1545.86,1256.53 1546.63,1256.69 1547.4,1256.85 1548.17,1257.01 1548.94,1257.18 1549.71,1257.34 1550.48,1257.5 1551.25,1257.66 1552.02,1257.82 1552.79,1257.98 1553.56,1258.14 1554.33,1258.3 1555.1,1258.47 1555.87,1258.63 1556.64,1258.79 1557.41,1258.95 1558.18,1259.11 1558.95,1259.28 1559.72,1259.44 1560.49,1259.6 1561.26,1259.76 1562.03,1259.92 1562.8,1260.09 1563.57,1260.25 1564.34,1260.41 1565.11,1260.57 1565.88,1260.73 1566.65,1260.9 1567.42,1261.06 1568.19,1261.22 1568.96,1261.38 1569.73,1261.55 1570.5,1261.71 1571.27,1261.87 1572.04,1262.04 1572.81,1262.2 1573.58,1262.36 1574.35,1262.52 1575.12,1262.69 1575.89,1262.85 1576.66,1263.01 1577.43,1263.18 1578.2,1263.34 1578.97,1263.5 1579.74,1263.67 1580.51,1263.83 1581.28,1263.99 1582.05,1264.16 1582.82,1264.32 1583.59,1264.49 1584.36,1264.65 1585.13,1264.81 1585.9,1264.98 1586.67,1265.14 1587.44,1265.31 1588.21,1265.47 1588.98,1265.63 1589.75,1265.8 1590.52,1265.96 1591.29,1266.13 1592.06,1266.29 1592.83,1266.46 1593.6,1266.62 1594.37,1266.79 1595.14,1266.95 1595.91,1267.12 1596.68,1267.28 1597.45,1267.45 1598.22,1267.61 1598.99,1267.78 1599.76,1267.94 1600.53,1268.11 1601.3,1268.27 1602.07,1268.44 1602.84,1268.6 1603.61,1268.77 1604.38,1268.94 1605.15,1269.1 1605.92,1269.27 1606.69,1269.43 1607.46,1269.6 1608.23,1269.76 1608.99,1269.93 1609.76,1270.1 1610.53,1270.26 1611.3,1270.43 1612.07,1270.6 1612.84,1270.76 1613.61,1270.93 1614.38,1271.1 1615.15,1271.26 1615.92,1271.43 1616.69,1271.6 1617.46,1271.76 1618.23,1271.93 1619,1272.1 1619.77,1272.27 1620.54,1272.43 1621.31,1272.6 1622.08,1272.77 1622.85,1272.93 1623.62,1273.1 1624.39,1273.27 1625.16,1273.44 1625.93,1273.61 1626.7,1273.77 1627.47,1273.94 1628.24,1274.11 1629.01,1274.28 1629.78,1274.45 1630.55,1274.61 1631.32,1274.78 1632.09,1274.95 1632.86,1275.12 1633.63,1275.29 1634.4,1275.46 1635.17,1275.63 1635.94,1275.79 1636.71,1275.96 1637.48,1276.13 1638.25,1276.3 1639.02,1276.47 1639.79,1276.64 1640.56,1276.81 1641.33,1276.98 1642.1,1277.15 1642.87,1277.32 1643.64,1277.49 1644.41,1277.66 1645.18,1277.83 1645.95,1278 1646.72,1278.17 1647.49,1278.34 1648.26,1278.51 1649.03,1278.68 1649.8,1278.85 1650.57,1279.02 1651.34,1279.19 1652.11,1279.36 1652.88,1279.53 1653.65,1279.7 1654.42,1279.87 1655.19,1280.04 1655.96,1280.22 1656.73,1280.39 1657.5,1280.56 1658.27,1280.73 1659.04,1280.9 1659.81,1281.07 1660.58,1281.24 1661.35,1281.42 1662.12,1281.59 1662.89,1281.76 1663.66,1281.93 1664.43,1282.1 1665.2,1282.28 1665.97,1282.45 1666.74,1282.62 1667.51,1282.79 1668.28,1282.96 1669.05,1283.14 1669.82,1283.31 1670.59,1283.48 1671.36,1283.66 1672.13,1283.83 1672.9,1284 1673.67,1284.17 1674.44,1284.35 1675.21,1284.52 1675.98,1284.69 1676.75,1284.87 1677.52,1285.04 1678.29,1285.22 1679.06,1285.39 1679.83,1285.56 1680.6,1285.74 1681.37,1285.91 1682.14,1286.09 1682.91,1286.26 1683.68,1286.43 1684.45,1286.61 1685.22,1286.78 1685.99,1286.96 1686.76,1287.13 1687.53,1287.31 1688.3,1287.48 1689.07,1287.66 1689.84,1287.83 1690.61,1288.01 1691.38,1288.18 1692.15,1288.36 1692.92,1288.53 1693.69,1288.71 1694.46,1288.88 1695.23,1289.06 1696,1289.24 1696.77,1289.41 1697.54,1289.59 1698.31,1289.76 1699.08,1289.94 1699.85,1290.12 1700.62,1290.29 1701.39,1290.47 1702.16,1290.65 1702.93,1290.82 1703.7,1291 1704.47,1291.18 1705.24,1291.35 1706.01,1291.53 1706.78,1291.71 1707.55,1291.89 1708.32,1292.06 1709.09,1292.24 1709.86,1292.42 1710.63,1292.6 1711.4,1292.77 1712.17,1292.95 1712.94,1293.13 1713.71,1293.31 1714.48,1293.48 1715.25,1293.66 1716.02,1293.84 1716.79,1294.02 1717.56,1294.2 1718.33,1294.38 1719.1,1294.56 1719.87,1294.73 1720.64,1294.91 1721.41,1295.09 1722.18,1295.27 1722.95,1295.45 1723.72,1295.63 1724.49,1295.81 1725.26,1295.99 1726.03,1296.17 1726.8,1296.35 1727.57,1296.53 1728.34,1296.71 1729.11,1296.89 1729.88,1297.07 1730.65,1297.25 1731.42,1297.43 1732.19,1297.61 1732.96,1297.79 1733.73,1297.97 1734.49,1298.15 1735.26,1298.33 1736.03,1298.51 1736.8,1298.69 1737.57,1298.87 1738.34,1299.05 1739.11,1299.24 1739.88,1299.42 1740.65,1299.6 1741.42,1299.78 1742.19,1299.96 1742.96,1300.14 1743.73,1300.32 1744.5,1300.51 1745.27,1300.69 1746.04,1300.87 1746.81,1301.05 1747.58,1301.24 1748.35,1301.42 1749.12,1301.6 1749.89,1301.78 1750.66,1301.97 1751.43,1302.15 1752.2,1302.33 1752.97,1302.51 1753.74,1302.7 1754.51,1302.88 1755.28,1303.06 1756.05,1303.25 1756.82,1303.43 1757.59,1303.61 1758.36,1303.8 1759.13,1303.98 1759.9,1304.16 1760.67,1304.35 1761.44,1304.53 1762.21,1304.72 1762.98,1304.9 1763.75,1305.09 1764.52,1305.27 1765.29,1305.45 1766.06,1305.64 1766.83,1305.82 1767.6,1306.01 1768.37,1306.19 1769.14,1306.38 1769.91,1306.56 1770.68,1306.75 1771.45,1306.93 1772.22,1307.12 1772.99,1307.3 1773.76,1307.49 1774.53,1307.68 1775.3,1307.86 1776.07,1308.05 1776.84,1308.23 1777.61,1308.42 1778.38,1308.6 1779.15,1308.79 1779.92,1308.98 1780.69,1309.16 1781.46,1309.35 1782.23,1309.54 1783,1309.72 1783.77,1309.91 1784.54,1310.1 1785.31,1310.28 1786.08,1310.47 1786.85,1310.66 1787.62,1310.84 1788.39,1311.03 1789.16,1311.22 1789.93,1311.41 1790.7,1311.59 1791.47,1311.78 1792.24,1311.97 1793.01,1312.16 1793.78,1312.35 1794.55,1312.53 1795.32,1312.72 1796.09,1312.91 1796.86,1313.1 1797.63,1313.29 1798.4,1313.47 1799.17,1313.66 1799.94,1313.85 1800.71,1314.04 1801.48,1314.23 1802.25,1314.42 1803.02,1314.61 1803.79,1314.8 1804.56,1314.98 1805.33,1315.17 1806.1,1315.36 1806.87,1315.55 1807.64,1315.74 1808.41,1315.93 1809.18,1316.12 1809.95,1316.31 1810.72,1316.5 1811.49,1316.69 1812.26,1316.88 1813.03,1317.07 1813.8,1317.26 1814.57,1317.45 1815.34,1317.64 1816.11,1317.83 1816.88,1318.02 1817.65,1318.21 1818.42,1318.4 1819.19,1318.59 1819.96,1318.79 1820.73,1318.98 1821.5,1319.17 1822.27,1319.36 1823.04,1319.55 1823.81,1319.74 1824.58,1319.93 1825.35,1320.12 1826.12,1320.31 1826.89,1320.51 1827.66,1320.7 1828.43,1320.89 1829.2,1321.08 1829.97,1321.27 1830.74,1321.46 1831.51,1321.66 1832.28,1321.85 1833.05,1322.04 1833.82,1322.23 1834.59,1322.43 1835.36,1322.62 1836.13,1322.81 1836.9,1323 1837.67,1323.2 1838.44,1323.39 1839.21,1323.58 1839.98,1323.77 1840.75,1323.97 1841.52,1324.16 1842.29,1324.35 1843.06,1324.55 1843.83,1324.74 1844.6,1324.93 1845.37,1325.13 1846.14,1325.32 1846.91,1325.51 1847.68,1325.71 1848.45,1325.9 1849.22,1326.09 1849.99,1326.29 1850.76,1326.48 1851.53,1326.68 1852.3,1326.87 1853.07,1327.06 1853.84,1327.26 1854.61,1327.45 1855.38,1327.65 1856.15,1327.84 1856.92,1328.04 1857.69,1328.23 1858.46,1328.42 1859.23,1328.62 1860,1328.81 1860.76,1329.01 1861.53,1329.2 1862.3,1329.4 1863.07,1329.59 1863.84,1329.79 1864.61,1329.98 1865.38,1330.18 1866.15,1330.37 1866.92,1330.57 1867.69,1330.76 1868.46,1330.96 1869.23,1331.16 1870,1331.35 1870.77,1331.55 1871.54,1331.74 1872.31,1331.94 1873.08,1332.13 1873.85,1332.33 1874.62,1332.53 1875.39,1332.72 1876.16,1332.92 1876.93,1333.11 1877.7,1333.31 1878.47,1333.51 1879.24,1333.7 1880.01,1333.9 1880.78,1334.1 1881.55,1334.29 1882.32,1334.49 1883.09,1334.69 1883.86,1334.88 1884.63,1335.08 1885.4,1335.28 1886.17,1335.47 1886.94,1335.67 1887.71,1335.87 1888.48,1336.06 1889.25,1336.26 1890.02,1336.46 1890.79,1336.66 1891.56,1336.85 1892.33,1337.05 1893.1,1337.25 1893.87,1337.44 1894.64,1337.64 1895.41,1337.84 1896.18,1338.04 1896.95,1338.24 1897.72,1338.43 1898.49,1338.63 1899.26,1338.83 1900.03,1339.03 1900.8,1339.22 1901.57,1339.42 1902.34,1339.62 1903.11,1339.82 1903.88,1340.02 1904.65,1340.21 1905.42,1340.41 1906.19,1340.61 1906.96,1340.81 1907.73,1341.01 1908.5,1341.21 1909.27,1341.41 1910.04,1341.6 1910.81,1341.8 1911.58,1342 1912.35,1342.2 1913.12,1342.4 1913.89,1342.6 1914.66,1342.8 1915.43,1343 1916.2,1343.19 1916.97,1343.39 1917.74,1343.59 1918.51,1343.79 1919.28,1343.99 1920.05,1344.19 1920.82,1344.39 1921.59,1344.59 1922.36,1344.79 1923.13,1344.99 1923.9,1345.19 1924.67,1345.39 1925.44,1345.59 1926.21,1345.79 1926.98,1345.99 1927.75,1346.18 1928.52,1346.38 1929.29,1346.58 1930.06,1346.78 1930.83,1346.98 1931.6,1347.18 1932.37,1347.38 1933.14,1347.58 1933.91,1347.78 1934.68,1347.98 1935.45,1348.18 1936.22,1348.38 1936.99,1348.58 1937.76,1348.79 1938.53,1348.99 1939.3,1349.19 1940.07,1349.39 1940.84,1349.59 1941.61,1349.79 1942.38,1349.99 1943.15,1350.19 1943.92,1350.39 1944.69,1350.59 1945.46,1350.79 1946.23,1350.99 1947,1351.19 1947.77,1351.39 1948.54,1351.59 1949.31,1351.8 1950.08,1352 1950.85,1352.2 1951.62,1352.4 1952.39,1352.6 1953.16,1352.8 1953.93,1353 1954.7,1353.2 1955.47,1353.4 1956.24,1353.61 1957.01,1353.81 1957.78,1354.01 1958.55,1354.21 1959.32,1354.41 1960.09,1354.61 1960.86,1354.81 1961.63,1355.02 1962.4,1355.22 1963.17,1355.42 1963.94,1355.62 1964.71,1355.82 1965.48,1356.03 1966.25,1356.23 1967.02,1356.43 1967.79,1356.63 1968.56,1356.83 1969.33,1357.03 1970.1,1357.24 1970.87,1357.44 1971.64,1357.64 1972.41,1357.84 1973.18,1358.05 1973.95,1358.25 1974.72,1358.45 1975.49,1358.65 1976.26,1358.86 1977.03,1359.06 1977.8,1359.26 1978.57,1359.46 1979.34,1359.67 1980.11,1359.87 1980.88,1360.07 1981.65,1360.27 1982.42,1360.48 1983.19,1360.68 1983.96,1360.88 1984.73,1361.08 1985.5,1361.29 1986.27,1361.49 1987.03,1361.69 1987.8,1361.9 1988.57,1362.1 1989.34,1362.3 1990.11,1362.51 1990.88,1362.71 1991.65,1362.91 1992.42,1363.12 1993.19,1363.32 1993.96,1363.52 1994.73,1363.73 1995.5,1363.93 1996.27,1364.13 1997.04,1364.34 1997.81,1364.54 1998.58,1364.74 1999.35,1364.95 2000.12,1365.15 2000.89,1365.35 2001.66,1365.56 2002.43,1365.76 2003.2,1365.97 2003.97,1366.17 2004.74,1366.37 2005.51,1366.58 2006.28,1366.78 2007.05,1366.99 2007.82,1367.19 2008.59,1367.39 2009.36,1367.6 2010.13,1367.8 2010.9,1368.01 2011.67,1368.21 2012.44,1368.42 2013.21,1368.62 2013.98,1368.82 2014.75,1369.03 2015.52,1369.23 2016.29,1369.44 2017.06,1369.64 2017.83,1369.85 2018.6,1370.05 2019.37,1370.26 2020.14,1370.46 2020.91,1370.67 2021.68,1370.87 2022.45,1371.08 2023.22,1371.28 2023.99,1371.49 2024.76,1371.69 2025.53,1371.9 2026.3,1372.1 2027.07,1372.31 2027.84,1372.51 2028.61,1372.72 2029.38,1372.92 2030.15,1373.13 2030.92,1373.33 2031.69,1373.54 2032.46,1373.74 2033.23,1373.95 2034,1374.15 2034.77,1374.36 2035.54,1374.57 2036.31,1374.77 2037.08,1374.98 2037.85,1375.18 2038.62,1375.39 2039.39,1375.59 2040.16,1375.8 2040.93,1376.01 2041.7,1376.21 2042.47,1376.42 2043.24,1376.62 2044.01,1376.83 2044.78,1377.04 2045.55,1377.24 2046.32,1377.45 2047.09,1377.66 2047.86,1377.86 2048.63,1378.07 2049.4,1378.28 2050.17,1378.48 2050.94,1378.69 2051.71,1378.89 2052.48,1379.1 2053.25,1379.31 2054.02,1379.51 2054.79,1379.72 2055.56,1379.93 2056.33,1380.14 2057.1,1380.34 2057.87,1380.55 2058.64,1380.76 2059.41,1380.96 2060.18,1381.17 2060.95,1381.38 2061.72,1381.59 2062.49,1381.79 2063.26,1382 2064.03,1382.21 2064.8,1382.41 2065.57,1382.62 2066.34,1382.83 2067.11,1383.04 2067.88,1383.24 2068.65,1383.45 2069.42,1383.66 2070.19,1383.87 2070.96,1384.08 2071.73,1384.28 2072.5,1384.49 2073.27,1384.7 2074.04,1384.91 2074.81,1385.12 2075.58,1385.32 2076.35,1385.53 2077.12,1385.74 2077.89,1385.95 2078.66,1386.16 2079.43,1386.36 2080.2,1386.57 2080.97,1386.78 2081.74,1386.99 2082.51,1387.2 2083.28,1387.41 2084.05,1387.62 2084.82,1387.82 2085.59,1388.03 2086.36,1388.24 2087.13,1388.45 2087.9,1388.66 2088.67,1388.87 2089.44,1389.08 2090.21,1389.29 2090.98,1389.5 2091.75,1389.71 2092.52,1389.92 2093.29,1390.12 2094.06,1390.33 2094.83,1390.54 2095.6,1390.75 2096.37,1390.96 2097.14,1391.17 2097.91,1391.38 2098.68,1391.59 2099.45,1391.8 2100.22,1392.01 2100.99,1392.22 2101.76,1392.43 2102.53,1392.64 2103.3,1392.85 2104.07,1393.06 2104.84,1393.27 2105.61,1393.48 2106.38,1393.69 2107.15,1393.9 2107.92,1394.11 2108.69,1394.32 2109.46,1394.53 2110.23,1394.74 2111,1394.95 2111.77,1395.16 2112.53,1395.38 2113.3,1395.59 2114.07,1395.8 2114.84,1396.01 2115.61,1396.22 2116.38,1396.43 2117.15,1396.64 2117.92,1396.85 2118.69,1397.06 2119.46,1397.27 2120.23,1397.49 2121,1397.7 2121.77,1397.91 2122.54,1398.12 2123.31,1398.33 2124.08,1398.54 2124.85,1398.75 2125.62,1398.97 2126.39,1399.18 2127.16,1399.39 2127.93,1399.6 2128.7,1399.81 2129.47,1400.02 2130.24,1400.24 2131.01,1400.45 2131.78,1400.66 2132.55,1400.87 2133.32,1401.09 2134.09,1401.3 2134.86,1401.51 2135.63,1401.72 2136.4,1401.94 2137.17,1402.15 2137.94,1402.36 2138.71,1402.57 2139.48,1402.79 2140.25,1403 2141.02,1403.21 2141.79,1403.42 2142.56,1403.64 2143.33,1403.85 2144.1,1404.06 2144.87,1404.28 2145.64,1404.49 2146.41,1404.7 2147.18,1404.92 2147.95,1405.13 2148.72,1405.34 2149.49,1405.56 2150.26,1405.77 2151.03,1405.98 2151.8,1406.2 2152.57,1406.41 2153.34,1406.63 2154.11,1406.84 2154.88,1407.05 2155.65,1407.27 2156.42,1407.48 2157.19,1407.7 2157.96,1407.91 2158.73,1408.12 2159.5,1408.34 2160.27,1408.55 2161.04,1408.77 2161.81,1408.98 2162.58,1409.2 2163.35,1409.41 2164.12,1409.63 2164.89,1409.84 2165.66,1410.06 2166.43,1410.27 2167.2,1410.49 2167.97,1410.7 2168.74,1410.92 2169.51,1411.13 2170.28,1411.35 2171.05,1411.56 2171.82,1411.78 2172.59,1411.99 2173.36,1412.21 2174.13,1412.42 2174.9,1412.64 2175.67,1412.86 2176.44,1413.07 2177.21,1413.29 2177.98,1413.5 2178.75,1413.72 2179.52,1413.93 2180.29,1414.15 2181.06,1414.37 2181.83,1414.58 2182.6,1414.8 2183.37,1415.02 2184.14,1415.23 2184.91,1415.45 2185.68,1415.66 2186.45,1415.88 2187.22,1416.1 2187.99,1416.31 2188.76,1416.53 2189.53,1416.75 2190.3,1416.97 2191.07,1417.18 2191.84,1417.4 2192.61,1417.62 2193.38,1417.83 2194.15,1418.05 2194.92,1418.27 2195.69,1418.49 2196.46,1418.7 2197.23,1418.92 2198,1419.14 2198.77,1419.36 2199.54,1419.57 2200.31,1419.79 2201.08,1420.01 2201.85,1420.23 2202.62,1420.44 2203.39,1420.66 2204.16,1420.88 2204.93,1421.1 2205.7,1421.32 2206.47,1421.54 2207.24,1421.75 2208.01,1421.97 2208.78,1422.19 2209.55,1422.41 2210.32,1422.63 2211.09,1422.85 2211.86,1423.07 2212.63,1423.28 2213.4,1423.5 2214.17,1423.72 2214.94,1423.94 2215.71,1424.16 2216.48,1424.38 2217.25,1424.6 2218.02,1424.82 2218.79,1425.04 2219.56,1425.26 2220.33,1425.48 2221.1,1425.7 2221.87,1425.92 2222.64,1426.13 2223.41,1426.35 2224.18,1426.57 2224.95,1426.79 2225.72,1427.01 2226.49,1427.23 2227.26,1427.45 2228.03,1427.67 2228.8,1427.89 2229.57,1428.11 2230.34,1428.33 2231.11,1428.56 2231.88,1428.78 2232.65,1429 2233.42,1429.22 2234.19,1429.44 2234.96,1429.66 2235.73,1429.88 2236.5,1430.1 2237.27,1430.32 2238.04,1430.54 2238.8,1430.76 2239.57,1430.98 2240.34,1431.2 2241.11,1431.43 2241.88,1431.65 2242.65,1431.87 2243.42,1432.09 2244.19,1432.31 2244.96,1432.53 2245.73,1432.75 2246.5,1432.98 2247.27,1433.2 2248.04,1433.42 2248.81,1433.64 2249.58,1433.86 2250.35,1434.09 2251.12,1434.31 2251.89,1434.53 2252.66,1434.75 2253.43,1434.97 2254.2,1435.2 2254.97,1435.42 2255.74,1435.64 2256.51,1435.86 2257.28,1436.09 2258.05,1436.31 2258.82,1436.53 2259.59,1436.75 2260.36,1436.98 2261.13,1437.2 2261.9,1437.42 2262.67,1437.65 2263.44,1437.87 2264.21,1438.09 2264.98,1438.32 2265.75,1438.54 2266.52,1438.76 2267.29,1438.99 2268.06,1439.21 2268.83,1439.43 2269.6,1439.66 2270.37,1439.88 2271.14,1440.1 2271.91,1440.33 2272.68,1440.55 2273.45,1440.77 2274.22,1441 2274.99,1441.22 2275.76,1441.45 2276.53,1441.67 2277.3,1441.9 2278.07,1442.12 2278.84,1442.34 2279.61,1442.57 2280.38,1442.79 2281.15,1443.02 2281.92,1443.24 2282.69,1443.47 2283.46,1443.69 2284.23,1443.92 2285,1444.14 2285.77,1444.37 2286.54,1444.59 2287.31,1444.82 2288.08,1445.04 2288.85,1445.27 2289.62,1445.49 2290.39,1445.72 \"/>\n",
       "<path clip-path=\"url(#clip170)\" d=\"M1961.93 198.898 L2279.3 198.898 L2279.3 95.2176 L1961.93 95.2176  Z\" fill=\"#ffffff\" fill-rule=\"evenodd\" fill-opacity=\"1\"/>\n",
       "<polyline clip-path=\"url(#clip170)\" style=\"stroke:#000000; stroke-linecap:round; stroke-linejoin:round; stroke-width:4; stroke-opacity:1; fill:none\" points=\"1961.93,198.898 2279.3,198.898 2279.3,95.2176 1961.93,95.2176 1961.93,198.898 \"/>\n",
       "<polyline clip-path=\"url(#clip170)\" style=\"stroke:#009af9; stroke-linecap:round; stroke-linejoin:round; stroke-width:4; stroke-opacity:1; fill:none\" points=\"1986.42,147.058 2133.32,147.058 \"/>\n",
       "<path clip-path=\"url(#clip170)\" d=\"M2157.81 129.778 L2162.48 129.778 L2162.48 160.402 L2179.31 160.402 L2179.31 164.338 L2157.81 164.338 L2157.81 129.778 Z\" fill=\"#000000\" fill-rule=\"nonzero\" fill-opacity=\"1\" /><path clip-path=\"url(#clip170)\" d=\"M2193.25 141.398 Q2189.82 141.398 2187.83 144.083 Q2185.84 146.745 2185.84 151.398 Q2185.84 156.051 2187.81 158.736 Q2189.8 161.398 2193.25 161.398 Q2196.65 161.398 2198.64 158.713 Q2200.63 156.027 2200.63 151.398 Q2200.63 146.791 2198.64 144.106 Q2196.65 141.398 2193.25 141.398 M2193.25 137.787 Q2198.8 137.787 2201.97 141.398 Q2205.14 145.009 2205.14 151.398 Q2205.14 157.764 2201.97 161.398 Q2198.8 165.009 2193.25 165.009 Q2187.67 165.009 2184.5 161.398 Q2181.35 157.764 2181.35 151.398 Q2181.35 145.009 2184.5 141.398 Q2187.67 137.787 2193.25 137.787 Z\" fill=\"#000000\" fill-rule=\"nonzero\" fill-opacity=\"1\" /><path clip-path=\"url(#clip170)\" d=\"M2228.73 139.176 L2228.73 143.203 Q2226.93 142.277 2224.98 141.815 Q2223.04 141.352 2220.95 141.352 Q2217.78 141.352 2216.19 142.324 Q2214.61 143.296 2214.61 145.24 Q2214.61 146.722 2215.75 147.578 Q2216.88 148.412 2220.31 149.176 L2221.76 149.5 Q2226.3 150.472 2228.2 152.254 Q2230.12 154.014 2230.12 157.185 Q2230.12 160.796 2227.25 162.902 Q2224.4 165.009 2219.4 165.009 Q2217.32 165.009 2215.05 164.592 Q2212.81 164.199 2210.31 163.388 L2210.31 158.99 Q2212.67 160.217 2214.96 160.842 Q2217.25 161.444 2219.5 161.444 Q2222.51 161.444 2224.13 160.426 Q2225.75 159.384 2225.75 157.509 Q2225.75 155.773 2224.57 154.847 Q2223.41 153.921 2219.45 153.064 L2217.97 152.717 Q2214.01 151.884 2212.25 150.171 Q2210.49 148.435 2210.49 145.426 Q2210.49 141.768 2213.08 139.778 Q2215.68 137.787 2220.44 137.787 Q2222.81 137.787 2224.89 138.134 Q2226.97 138.481 2228.73 139.176 Z\" fill=\"#000000\" fill-rule=\"nonzero\" fill-opacity=\"1\" /><path clip-path=\"url(#clip170)\" d=\"M2253.43 139.176 L2253.43 143.203 Q2251.63 142.277 2249.68 141.815 Q2247.74 141.352 2245.65 141.352 Q2242.48 141.352 2240.88 142.324 Q2239.31 143.296 2239.31 145.24 Q2239.31 146.722 2240.44 147.578 Q2241.58 148.412 2245 149.176 L2246.46 149.5 Q2251 150.472 2252.9 152.254 Q2254.82 154.014 2254.82 157.185 Q2254.82 160.796 2251.95 162.902 Q2249.1 165.009 2244.1 165.009 Q2242.02 165.009 2239.75 164.592 Q2237.5 164.199 2235 163.388 L2235 158.99 Q2237.37 160.217 2239.66 160.842 Q2241.95 161.444 2244.19 161.444 Q2247.2 161.444 2248.82 160.426 Q2250.44 159.384 2250.44 157.509 Q2250.44 155.773 2249.26 154.847 Q2248.11 153.921 2244.15 153.064 L2242.67 152.717 Q2238.71 151.884 2236.95 150.171 Q2235.19 148.435 2235.19 145.426 Q2235.19 141.768 2237.78 139.778 Q2240.38 137.787 2245.14 137.787 Q2247.5 137.787 2249.59 138.134 Q2251.67 138.481 2253.43 139.176 Z\" fill=\"#000000\" fill-rule=\"nonzero\" fill-opacity=\"1\" /></svg>\n"
      ],
      "text/html": [
       "<?xml version=\"1.0\" encoding=\"utf-8\"?>\n",
       "<svg xmlns=\"http://www.w3.org/2000/svg\" xmlns:xlink=\"http://www.w3.org/1999/xlink\" width=\"600\" height=\"400\" viewBox=\"0 0 2400 1600\">\n",
       "<defs>\n",
       "  <clipPath id=\"clip220\">\n",
       "    <rect x=\"0\" y=\"0\" width=\"2400\" height=\"1600\"/>\n",
       "  </clipPath>\n",
       "</defs>\n",
       "<path clip-path=\"url(#clip220)\" d=\"M0 1600 L2400 1600 L2400 0 L0 0  Z\" fill=\"#ffffff\" fill-rule=\"evenodd\" fill-opacity=\"1\"/>\n",
       "<defs>\n",
       "  <clipPath id=\"clip221\">\n",
       "    <rect x=\"480\" y=\"0\" width=\"1681\" height=\"1600\"/>\n",
       "  </clipPath>\n",
       "</defs>\n",
       "<path clip-path=\"url(#clip220)\" d=\"M149.191 1486.45 L2352.76 1486.45 L2352.76 47.2441 L149.191 47.2441  Z\" fill=\"#ffffff\" fill-rule=\"evenodd\" fill-opacity=\"1\"/>\n",
       "<defs>\n",
       "  <clipPath id=\"clip222\">\n",
       "    <rect x=\"149\" y=\"47\" width=\"2205\" height=\"1440\"/>\n",
       "  </clipPath>\n",
       "</defs>\n",
       "<polyline clip-path=\"url(#clip222)\" style=\"stroke:#000000; stroke-linecap:round; stroke-linejoin:round; stroke-width:2; stroke-opacity:0.1; fill:none\" points=\"210.786,1486.45 210.786,47.2441 \"/>\n",
       "<polyline clip-path=\"url(#clip222)\" style=\"stroke:#000000; stroke-linecap:round; stroke-linejoin:round; stroke-width:2; stroke-opacity:0.1; fill:none\" points=\"595.755,1486.45 595.755,47.2441 \"/>\n",
       "<polyline clip-path=\"url(#clip222)\" style=\"stroke:#000000; stroke-linecap:round; stroke-linejoin:round; stroke-width:2; stroke-opacity:0.1; fill:none\" points=\"980.725,1486.45 980.725,47.2441 \"/>\n",
       "<polyline clip-path=\"url(#clip222)\" style=\"stroke:#000000; stroke-linecap:round; stroke-linejoin:round; stroke-width:2; stroke-opacity:0.1; fill:none\" points=\"1365.69,1486.45 1365.69,47.2441 \"/>\n",
       "<polyline clip-path=\"url(#clip222)\" style=\"stroke:#000000; stroke-linecap:round; stroke-linejoin:round; stroke-width:2; stroke-opacity:0.1; fill:none\" points=\"1750.66,1486.45 1750.66,47.2441 \"/>\n",
       "<polyline clip-path=\"url(#clip222)\" style=\"stroke:#000000; stroke-linecap:round; stroke-linejoin:round; stroke-width:2; stroke-opacity:0.1; fill:none\" points=\"2135.63,1486.45 2135.63,47.2441 \"/>\n",
       "<polyline clip-path=\"url(#clip222)\" style=\"stroke:#000000; stroke-linecap:round; stroke-linejoin:round; stroke-width:2; stroke-opacity:0.1; fill:none\" points=\"149.191,1429.41 2352.76,1429.41 \"/>\n",
       "<polyline clip-path=\"url(#clip222)\" style=\"stroke:#000000; stroke-linecap:round; stroke-linejoin:round; stroke-width:2; stroke-opacity:0.1; fill:none\" points=\"149.191,1208.86 2352.76,1208.86 \"/>\n",
       "<polyline clip-path=\"url(#clip222)\" style=\"stroke:#000000; stroke-linecap:round; stroke-linejoin:round; stroke-width:2; stroke-opacity:0.1; fill:none\" points=\"149.191,988.299 2352.76,988.299 \"/>\n",
       "<polyline clip-path=\"url(#clip222)\" style=\"stroke:#000000; stroke-linecap:round; stroke-linejoin:round; stroke-width:2; stroke-opacity:0.1; fill:none\" points=\"149.191,767.743 2352.76,767.743 \"/>\n",
       "<polyline clip-path=\"url(#clip222)\" style=\"stroke:#000000; stroke-linecap:round; stroke-linejoin:round; stroke-width:2; stroke-opacity:0.1; fill:none\" points=\"149.191,547.186 2352.76,547.186 \"/>\n",
       "<polyline clip-path=\"url(#clip222)\" style=\"stroke:#000000; stroke-linecap:round; stroke-linejoin:round; stroke-width:2; stroke-opacity:0.1; fill:none\" points=\"149.191,326.63 2352.76,326.63 \"/>\n",
       "<polyline clip-path=\"url(#clip222)\" style=\"stroke:#000000; stroke-linecap:round; stroke-linejoin:round; stroke-width:2; stroke-opacity:0.1; fill:none\" points=\"149.191,106.074 2352.76,106.074 \"/>\n",
       "<polyline clip-path=\"url(#clip220)\" style=\"stroke:#000000; stroke-linecap:round; stroke-linejoin:round; stroke-width:4; stroke-opacity:1; fill:none\" points=\"149.191,1486.45 2352.76,1486.45 \"/>\n",
       "<polyline clip-path=\"url(#clip220)\" style=\"stroke:#000000; stroke-linecap:round; stroke-linejoin:round; stroke-width:4; stroke-opacity:1; fill:none\" points=\"210.786,1486.45 210.786,1467.55 \"/>\n",
       "<polyline clip-path=\"url(#clip220)\" style=\"stroke:#000000; stroke-linecap:round; stroke-linejoin:round; stroke-width:4; stroke-opacity:1; fill:none\" points=\"595.755,1486.45 595.755,1467.55 \"/>\n",
       "<polyline clip-path=\"url(#clip220)\" style=\"stroke:#000000; stroke-linecap:round; stroke-linejoin:round; stroke-width:4; stroke-opacity:1; fill:none\" points=\"980.725,1486.45 980.725,1467.55 \"/>\n",
       "<polyline clip-path=\"url(#clip220)\" style=\"stroke:#000000; stroke-linecap:round; stroke-linejoin:round; stroke-width:4; stroke-opacity:1; fill:none\" points=\"1365.69,1486.45 1365.69,1467.55 \"/>\n",
       "<polyline clip-path=\"url(#clip220)\" style=\"stroke:#000000; stroke-linecap:round; stroke-linejoin:round; stroke-width:4; stroke-opacity:1; fill:none\" points=\"1750.66,1486.45 1750.66,1467.55 \"/>\n",
       "<polyline clip-path=\"url(#clip220)\" style=\"stroke:#000000; stroke-linecap:round; stroke-linejoin:round; stroke-width:4; stroke-opacity:1; fill:none\" points=\"2135.63,1486.45 2135.63,1467.55 \"/>\n",
       "<path clip-path=\"url(#clip220)\" d=\"M210.786 1517.37 Q207.175 1517.37 205.346 1520.93 Q203.541 1524.47 203.541 1531.6 Q203.541 1538.71 205.346 1542.27 Q207.175 1545.82 210.786 1545.82 Q214.42 1545.82 216.226 1542.27 Q218.054 1538.71 218.054 1531.6 Q218.054 1524.47 216.226 1520.93 Q214.42 1517.37 210.786 1517.37 M210.786 1513.66 Q216.596 1513.66 219.652 1518.27 Q222.73 1522.85 222.73 1531.6 Q222.73 1540.33 219.652 1544.94 Q216.596 1549.52 210.786 1549.52 Q204.976 1549.52 201.897 1544.94 Q198.842 1540.33 198.842 1531.6 Q198.842 1522.85 201.897 1518.27 Q204.976 1513.66 210.786 1513.66 Z\" fill=\"#000000\" fill-rule=\"nonzero\" fill-opacity=\"1\" /><path clip-path=\"url(#clip220)\" d=\"M555.374 1514.29 L573.73 1514.29 L573.73 1518.22 L559.656 1518.22 L559.656 1526.7 Q560.675 1526.35 561.693 1526.19 Q562.712 1526 563.73 1526 Q569.517 1526 572.897 1529.17 Q576.276 1532.34 576.276 1537.76 Q576.276 1543.34 572.804 1546.44 Q569.332 1549.52 563.013 1549.52 Q560.837 1549.52 558.568 1549.15 Q556.323 1548.78 553.915 1548.04 L553.915 1543.34 Q555.999 1544.47 558.221 1545.03 Q560.443 1545.58 562.92 1545.58 Q566.925 1545.58 569.262 1543.48 Q571.6 1541.37 571.6 1537.76 Q571.6 1534.15 569.262 1532.04 Q566.925 1529.94 562.92 1529.94 Q561.045 1529.94 559.17 1530.35 Q557.318 1530.77 555.374 1531.65 L555.374 1514.29 Z\" fill=\"#000000\" fill-rule=\"nonzero\" fill-opacity=\"1\" /><path clip-path=\"url(#clip220)\" d=\"M595.489 1517.37 Q591.878 1517.37 590.049 1520.93 Q588.244 1524.47 588.244 1531.6 Q588.244 1538.71 590.049 1542.27 Q591.878 1545.82 595.489 1545.82 Q599.123 1545.82 600.929 1542.27 Q602.758 1538.71 602.758 1531.6 Q602.758 1524.47 600.929 1520.93 Q599.123 1517.37 595.489 1517.37 M595.489 1513.66 Q601.299 1513.66 604.355 1518.27 Q607.434 1522.85 607.434 1531.6 Q607.434 1540.33 604.355 1544.94 Q601.299 1549.52 595.489 1549.52 Q589.679 1549.52 586.6 1544.94 Q583.545 1540.33 583.545 1531.6 Q583.545 1522.85 586.6 1518.27 Q589.679 1513.66 595.489 1513.66 Z\" fill=\"#000000\" fill-rule=\"nonzero\" fill-opacity=\"1\" /><path clip-path=\"url(#clip220)\" d=\"M625.651 1517.37 Q622.04 1517.37 620.211 1520.93 Q618.406 1524.47 618.406 1531.6 Q618.406 1538.71 620.211 1542.27 Q622.04 1545.82 625.651 1545.82 Q629.285 1545.82 631.091 1542.27 Q632.92 1538.71 632.92 1531.6 Q632.92 1524.47 631.091 1520.93 Q629.285 1517.37 625.651 1517.37 M625.651 1513.66 Q631.461 1513.66 634.517 1518.27 Q637.595 1522.85 637.595 1531.6 Q637.595 1540.33 634.517 1544.94 Q631.461 1549.52 625.651 1549.52 Q619.841 1549.52 616.762 1544.94 Q613.707 1540.33 613.707 1531.6 Q613.707 1522.85 616.762 1518.27 Q619.841 1513.66 625.651 1513.66 Z\" fill=\"#000000\" fill-rule=\"nonzero\" fill-opacity=\"1\" /><path clip-path=\"url(#clip220)\" d=\"M925.251 1544.91 L932.889 1544.91 L932.889 1518.55 L924.579 1520.21 L924.579 1515.95 L932.843 1514.29 L937.519 1514.29 L937.519 1544.91 L945.158 1544.91 L945.158 1548.85 L925.251 1548.85 L925.251 1544.91 Z\" fill=\"#000000\" fill-rule=\"nonzero\" fill-opacity=\"1\" /><path clip-path=\"url(#clip220)\" d=\"M964.602 1517.37 Q960.991 1517.37 959.162 1520.93 Q957.357 1524.47 957.357 1531.6 Q957.357 1538.71 959.162 1542.27 Q960.991 1545.82 964.602 1545.82 Q968.236 1545.82 970.042 1542.27 Q971.871 1538.71 971.871 1531.6 Q971.871 1524.47 970.042 1520.93 Q968.236 1517.37 964.602 1517.37 M964.602 1513.66 Q970.412 1513.66 973.468 1518.27 Q976.547 1522.85 976.547 1531.6 Q976.547 1540.33 973.468 1544.94 Q970.412 1549.52 964.602 1549.52 Q958.792 1549.52 955.713 1544.94 Q952.658 1540.33 952.658 1531.6 Q952.658 1522.85 955.713 1518.27 Q958.792 1513.66 964.602 1513.66 Z\" fill=\"#000000\" fill-rule=\"nonzero\" fill-opacity=\"1\" /><path clip-path=\"url(#clip220)\" d=\"M994.764 1517.37 Q991.153 1517.37 989.324 1520.93 Q987.519 1524.47 987.519 1531.6 Q987.519 1538.71 989.324 1542.27 Q991.153 1545.82 994.764 1545.82 Q998.398 1545.82 1000.2 1542.27 Q1002.03 1538.71 1002.03 1531.6 Q1002.03 1524.47 1000.2 1520.93 Q998.398 1517.37 994.764 1517.37 M994.764 1513.66 Q1000.57 1513.66 1003.63 1518.27 Q1006.71 1522.85 1006.71 1531.6 Q1006.71 1540.33 1003.63 1544.94 Q1000.57 1549.52 994.764 1549.52 Q988.954 1549.52 985.875 1544.94 Q982.82 1540.33 982.82 1531.6 Q982.82 1522.85 985.875 1518.27 Q988.954 1513.66 994.764 1513.66 Z\" fill=\"#000000\" fill-rule=\"nonzero\" fill-opacity=\"1\" /><path clip-path=\"url(#clip220)\" d=\"M1024.93 1517.37 Q1021.31 1517.37 1019.49 1520.93 Q1017.68 1524.47 1017.68 1531.6 Q1017.68 1538.71 1019.49 1542.27 Q1021.31 1545.82 1024.93 1545.82 Q1028.56 1545.82 1030.37 1542.27 Q1032.19 1538.71 1032.19 1531.6 Q1032.19 1524.47 1030.37 1520.93 Q1028.56 1517.37 1024.93 1517.37 M1024.93 1513.66 Q1030.74 1513.66 1033.79 1518.27 Q1036.87 1522.85 1036.87 1531.6 Q1036.87 1540.33 1033.79 1544.94 Q1030.74 1549.52 1024.93 1549.52 Q1019.12 1549.52 1016.04 1544.94 Q1012.98 1540.33 1012.98 1531.6 Q1012.98 1522.85 1016.04 1518.27 Q1019.12 1513.66 1024.93 1513.66 Z\" fill=\"#000000\" fill-rule=\"nonzero\" fill-opacity=\"1\" /><path clip-path=\"url(#clip220)\" d=\"M1310.22 1544.91 L1317.86 1544.91 L1317.86 1518.55 L1309.55 1520.21 L1309.55 1515.95 L1317.81 1514.29 L1322.49 1514.29 L1322.49 1544.91 L1330.13 1544.91 L1330.13 1548.85 L1310.22 1548.85 L1310.22 1544.91 Z\" fill=\"#000000\" fill-rule=\"nonzero\" fill-opacity=\"1\" /><path clip-path=\"url(#clip220)\" d=\"M1339.62 1514.29 L1357.97 1514.29 L1357.97 1518.22 L1343.9 1518.22 L1343.9 1526.7 Q1344.92 1526.35 1345.94 1526.19 Q1346.96 1526 1347.97 1526 Q1353.76 1526 1357.14 1529.17 Q1360.52 1532.34 1360.52 1537.76 Q1360.52 1543.34 1357.05 1546.44 Q1353.58 1549.52 1347.26 1549.52 Q1345.08 1549.52 1342.81 1549.15 Q1340.57 1548.78 1338.16 1548.04 L1338.16 1543.34 Q1340.24 1544.47 1342.47 1545.03 Q1344.69 1545.58 1347.16 1545.58 Q1351.17 1545.58 1353.51 1543.48 Q1355.84 1541.37 1355.84 1537.76 Q1355.84 1534.15 1353.51 1532.04 Q1351.17 1529.94 1347.16 1529.94 Q1345.29 1529.94 1343.41 1530.35 Q1341.56 1530.77 1339.62 1531.65 L1339.62 1514.29 Z\" fill=\"#000000\" fill-rule=\"nonzero\" fill-opacity=\"1\" /><path clip-path=\"url(#clip220)\" d=\"M1379.73 1517.37 Q1376.12 1517.37 1374.29 1520.93 Q1372.49 1524.47 1372.49 1531.6 Q1372.49 1538.71 1374.29 1542.27 Q1376.12 1545.82 1379.73 1545.82 Q1383.37 1545.82 1385.17 1542.27 Q1387 1538.71 1387 1531.6 Q1387 1524.47 1385.17 1520.93 Q1383.37 1517.37 1379.73 1517.37 M1379.73 1513.66 Q1385.54 1513.66 1388.6 1518.27 Q1391.68 1522.85 1391.68 1531.6 Q1391.68 1540.33 1388.6 1544.94 Q1385.54 1549.52 1379.73 1549.52 Q1373.92 1549.52 1370.84 1544.94 Q1367.79 1540.33 1367.79 1531.6 Q1367.79 1522.85 1370.84 1518.27 Q1373.92 1513.66 1379.73 1513.66 Z\" fill=\"#000000\" fill-rule=\"nonzero\" fill-opacity=\"1\" /><path clip-path=\"url(#clip220)\" d=\"M1409.9 1517.37 Q1406.28 1517.37 1404.46 1520.93 Q1402.65 1524.47 1402.65 1531.6 Q1402.65 1538.71 1404.46 1542.27 Q1406.28 1545.82 1409.9 1545.82 Q1413.53 1545.82 1415.34 1542.27 Q1417.16 1538.71 1417.16 1531.6 Q1417.16 1524.47 1415.34 1520.93 Q1413.53 1517.37 1409.9 1517.37 M1409.9 1513.66 Q1415.71 1513.66 1418.76 1518.27 Q1421.84 1522.85 1421.84 1531.6 Q1421.84 1540.33 1418.76 1544.94 Q1415.71 1549.52 1409.9 1549.52 Q1404.09 1549.52 1401.01 1544.94 Q1397.95 1540.33 1397.95 1531.6 Q1397.95 1522.85 1401.01 1518.27 Q1404.09 1513.66 1409.9 1513.66 Z\" fill=\"#000000\" fill-rule=\"nonzero\" fill-opacity=\"1\" /><path clip-path=\"url(#clip220)\" d=\"M1699.28 1544.91 L1715.59 1544.91 L1715.59 1548.85 L1693.65 1548.85 L1693.65 1544.91 Q1696.31 1542.16 1700.9 1537.53 Q1705.5 1532.88 1706.68 1531.53 Q1708.93 1529.01 1709.81 1527.27 Q1710.71 1525.51 1710.71 1523.82 Q1710.71 1521.07 1708.77 1519.33 Q1706.84 1517.6 1703.74 1517.6 Q1701.54 1517.6 1699.09 1518.36 Q1696.66 1519.13 1693.88 1520.68 L1693.88 1515.95 Q1696.71 1514.82 1699.16 1514.24 Q1701.61 1513.66 1703.65 1513.66 Q1709.02 1513.66 1712.21 1516.35 Q1715.41 1519.03 1715.41 1523.52 Q1715.41 1525.65 1714.6 1527.57 Q1713.81 1529.47 1711.71 1532.07 Q1711.13 1532.74 1708.03 1535.95 Q1704.92 1539.15 1699.28 1544.91 Z\" fill=\"#000000\" fill-rule=\"nonzero\" fill-opacity=\"1\" /><path clip-path=\"url(#clip220)\" d=\"M1735.41 1517.37 Q1731.8 1517.37 1729.97 1520.93 Q1728.16 1524.47 1728.16 1531.6 Q1728.16 1538.71 1729.97 1542.27 Q1731.8 1545.82 1735.41 1545.82 Q1739.04 1545.82 1740.85 1542.27 Q1742.68 1538.71 1742.68 1531.6 Q1742.68 1524.47 1740.85 1520.93 Q1739.04 1517.37 1735.41 1517.37 M1735.41 1513.66 Q1741.22 1513.66 1744.27 1518.27 Q1747.35 1522.85 1747.35 1531.6 Q1747.35 1540.33 1744.27 1544.94 Q1741.22 1549.52 1735.41 1549.52 Q1729.6 1549.52 1726.52 1544.94 Q1723.46 1540.33 1723.46 1531.6 Q1723.46 1522.85 1726.52 1518.27 Q1729.6 1513.66 1735.41 1513.66 Z\" fill=\"#000000\" fill-rule=\"nonzero\" fill-opacity=\"1\" /><path clip-path=\"url(#clip220)\" d=\"M1765.57 1517.37 Q1761.96 1517.37 1760.13 1520.93 Q1758.33 1524.47 1758.33 1531.6 Q1758.33 1538.71 1760.13 1542.27 Q1761.96 1545.82 1765.57 1545.82 Q1769.21 1545.82 1771.01 1542.27 Q1772.84 1538.71 1772.84 1531.6 Q1772.84 1524.47 1771.01 1520.93 Q1769.21 1517.37 1765.57 1517.37 M1765.57 1513.66 Q1771.38 1513.66 1774.44 1518.27 Q1777.52 1522.85 1777.52 1531.6 Q1777.52 1540.33 1774.44 1544.94 Q1771.38 1549.52 1765.57 1549.52 Q1759.76 1549.52 1756.68 1544.94 Q1753.63 1540.33 1753.63 1531.6 Q1753.63 1522.85 1756.68 1518.27 Q1759.76 1513.66 1765.57 1513.66 Z\" fill=\"#000000\" fill-rule=\"nonzero\" fill-opacity=\"1\" /><path clip-path=\"url(#clip220)\" d=\"M1795.73 1517.37 Q1792.12 1517.37 1790.29 1520.93 Q1788.49 1524.47 1788.49 1531.6 Q1788.49 1538.71 1790.29 1542.27 Q1792.12 1545.82 1795.73 1545.82 Q1799.37 1545.82 1801.17 1542.27 Q1803 1538.71 1803 1531.6 Q1803 1524.47 1801.17 1520.93 Q1799.37 1517.37 1795.73 1517.37 M1795.73 1513.66 Q1801.54 1513.66 1804.6 1518.27 Q1807.68 1522.85 1807.68 1531.6 Q1807.68 1540.33 1804.6 1544.94 Q1801.54 1549.52 1795.73 1549.52 Q1789.92 1549.52 1786.84 1544.94 Q1783.79 1540.33 1783.79 1531.6 Q1783.79 1522.85 1786.84 1518.27 Q1789.92 1513.66 1795.73 1513.66 Z\" fill=\"#000000\" fill-rule=\"nonzero\" fill-opacity=\"1\" /><path clip-path=\"url(#clip220)\" d=\"M2084.24 1544.91 L2100.56 1544.91 L2100.56 1548.85 L2078.62 1548.85 L2078.62 1544.91 Q2081.28 1542.16 2085.86 1537.53 Q2090.47 1532.88 2091.65 1531.53 Q2093.9 1529.01 2094.78 1527.27 Q2095.68 1525.51 2095.68 1523.82 Q2095.68 1521.07 2093.74 1519.33 Q2091.81 1517.6 2088.71 1517.6 Q2086.51 1517.6 2084.06 1518.36 Q2081.63 1519.13 2078.85 1520.68 L2078.85 1515.95 Q2081.68 1514.82 2084.13 1514.24 Q2086.58 1513.66 2088.62 1513.66 Q2093.99 1513.66 2097.18 1516.35 Q2100.38 1519.03 2100.38 1523.52 Q2100.38 1525.65 2099.57 1527.57 Q2098.78 1529.47 2096.68 1532.07 Q2096.1 1532.74 2092.99 1535.95 Q2089.89 1539.15 2084.24 1544.91 Z\" fill=\"#000000\" fill-rule=\"nonzero\" fill-opacity=\"1\" /><path clip-path=\"url(#clip220)\" d=\"M2110.42 1514.29 L2128.78 1514.29 L2128.78 1518.22 L2114.71 1518.22 L2114.71 1526.7 Q2115.73 1526.35 2116.74 1526.19 Q2117.76 1526 2118.78 1526 Q2124.57 1526 2127.95 1529.17 Q2131.33 1532.34 2131.33 1537.76 Q2131.33 1543.34 2127.86 1546.44 Q2124.38 1549.52 2118.06 1549.52 Q2115.89 1549.52 2113.62 1549.15 Q2111.37 1548.78 2108.97 1548.04 L2108.97 1543.34 Q2111.05 1544.47 2113.27 1545.03 Q2115.49 1545.58 2117.97 1545.58 Q2121.98 1545.58 2124.31 1543.48 Q2126.65 1541.37 2126.65 1537.76 Q2126.65 1534.15 2124.31 1532.04 Q2121.98 1529.94 2117.97 1529.94 Q2116.1 1529.94 2114.22 1530.35 Q2112.37 1530.77 2110.42 1531.65 L2110.42 1514.29 Z\" fill=\"#000000\" fill-rule=\"nonzero\" fill-opacity=\"1\" /><path clip-path=\"url(#clip220)\" d=\"M2150.54 1517.37 Q2146.93 1517.37 2145.1 1520.93 Q2143.3 1524.47 2143.3 1531.6 Q2143.3 1538.71 2145.1 1542.27 Q2146.93 1545.82 2150.54 1545.82 Q2154.17 1545.82 2155.98 1542.27 Q2157.81 1538.71 2157.81 1531.6 Q2157.81 1524.47 2155.98 1520.93 Q2154.17 1517.37 2150.54 1517.37 M2150.54 1513.66 Q2156.35 1513.66 2159.41 1518.27 Q2162.48 1522.85 2162.48 1531.6 Q2162.48 1540.33 2159.41 1544.94 Q2156.35 1549.52 2150.54 1549.52 Q2144.73 1549.52 2141.65 1544.94 Q2138.6 1540.33 2138.6 1531.6 Q2138.6 1522.85 2141.65 1518.27 Q2144.73 1513.66 2150.54 1513.66 Z\" fill=\"#000000\" fill-rule=\"nonzero\" fill-opacity=\"1\" /><path clip-path=\"url(#clip220)\" d=\"M2180.7 1517.37 Q2177.09 1517.37 2175.26 1520.93 Q2173.46 1524.47 2173.46 1531.6 Q2173.46 1538.71 2175.26 1542.27 Q2177.09 1545.82 2180.7 1545.82 Q2184.34 1545.82 2186.14 1542.27 Q2187.97 1538.71 2187.97 1531.6 Q2187.97 1524.47 2186.14 1520.93 Q2184.34 1517.37 2180.7 1517.37 M2180.7 1513.66 Q2186.51 1513.66 2189.57 1518.27 Q2192.65 1522.85 2192.65 1531.6 Q2192.65 1540.33 2189.57 1544.94 Q2186.51 1549.52 2180.7 1549.52 Q2174.89 1549.52 2171.81 1544.94 Q2168.76 1540.33 2168.76 1531.6 Q2168.76 1522.85 2171.81 1518.27 Q2174.89 1513.66 2180.7 1513.66 Z\" fill=\"#000000\" fill-rule=\"nonzero\" fill-opacity=\"1\" /><polyline clip-path=\"url(#clip220)\" style=\"stroke:#000000; stroke-linecap:round; stroke-linejoin:round; stroke-width:4; stroke-opacity:1; fill:none\" points=\"149.191,1486.45 149.191,47.2441 \"/>\n",
       "<polyline clip-path=\"url(#clip220)\" style=\"stroke:#000000; stroke-linecap:round; stroke-linejoin:round; stroke-width:4; stroke-opacity:1; fill:none\" points=\"149.191,1429.41 168.089,1429.41 \"/>\n",
       "<polyline clip-path=\"url(#clip220)\" style=\"stroke:#000000; stroke-linecap:round; stroke-linejoin:round; stroke-width:4; stroke-opacity:1; fill:none\" points=\"149.191,1208.86 168.089,1208.86 \"/>\n",
       "<polyline clip-path=\"url(#clip220)\" style=\"stroke:#000000; stroke-linecap:round; stroke-linejoin:round; stroke-width:4; stroke-opacity:1; fill:none\" points=\"149.191,988.299 168.089,988.299 \"/>\n",
       "<polyline clip-path=\"url(#clip220)\" style=\"stroke:#000000; stroke-linecap:round; stroke-linejoin:round; stroke-width:4; stroke-opacity:1; fill:none\" points=\"149.191,767.743 168.089,767.743 \"/>\n",
       "<polyline clip-path=\"url(#clip220)\" style=\"stroke:#000000; stroke-linecap:round; stroke-linejoin:round; stroke-width:4; stroke-opacity:1; fill:none\" points=\"149.191,547.186 168.089,547.186 \"/>\n",
       "<polyline clip-path=\"url(#clip220)\" style=\"stroke:#000000; stroke-linecap:round; stroke-linejoin:round; stroke-width:4; stroke-opacity:1; fill:none\" points=\"149.191,326.63 168.089,326.63 \"/>\n",
       "<polyline clip-path=\"url(#clip220)\" style=\"stroke:#000000; stroke-linecap:round; stroke-linejoin:round; stroke-width:4; stroke-opacity:1; fill:none\" points=\"149.191,106.074 168.089,106.074 \"/>\n",
       "<path clip-path=\"url(#clip220)\" d=\"M52.4736 1429.86 L82.1494 1429.86 L82.1494 1433.8 L52.4736 1433.8 L52.4736 1429.86 Z\" fill=\"#000000\" fill-rule=\"nonzero\" fill-opacity=\"1\" /><path clip-path=\"url(#clip220)\" d=\"M92.2882 1412.13 L110.645 1412.13 L110.645 1416.07 L96.5706 1416.07 L96.5706 1424.54 Q97.5891 1424.19 98.6076 1424.03 Q99.6261 1423.84 100.645 1423.84 Q106.432 1423.84 109.811 1427.02 Q113.191 1430.19 113.191 1435.6 Q113.191 1441.18 109.719 1444.28 Q106.246 1447.36 99.927 1447.36 Q97.7511 1447.36 95.4826 1446.99 Q93.2373 1446.62 90.8299 1445.88 L90.8299 1441.18 Q92.9132 1442.32 95.1354 1442.87 Q97.3576 1443.43 99.8345 1443.43 Q103.839 1443.43 106.177 1441.32 Q108.515 1439.21 108.515 1435.6 Q108.515 1431.99 106.177 1429.89 Q103.839 1427.78 99.8345 1427.78 Q97.9595 1427.78 96.0845 1428.2 Q94.2326 1428.61 92.2882 1429.49 L92.2882 1412.13 Z\" fill=\"#000000\" fill-rule=\"nonzero\" fill-opacity=\"1\" /><path clip-path=\"url(#clip220)\" d=\"M50.9921 1209.31 L80.6679 1209.31 L80.6679 1213.24 L50.9921 1213.24 L50.9921 1209.31 Z\" fill=\"#000000\" fill-rule=\"nonzero\" fill-opacity=\"1\" /><path clip-path=\"url(#clip220)\" d=\"M103.608 1195.65 L91.8021 1214.1 L103.608 1214.1 L103.608 1195.65 M102.381 1191.58 L108.26 1191.58 L108.26 1214.1 L113.191 1214.1 L113.191 1217.99 L108.26 1217.99 L108.26 1226.14 L103.608 1226.14 L103.608 1217.99 L88.0058 1217.99 L88.0058 1213.47 L102.381 1191.58 Z\" fill=\"#000000\" fill-rule=\"nonzero\" fill-opacity=\"1\" /><path clip-path=\"url(#clip220)\" d=\"M52.1264 988.75 L81.8021 988.75 L81.8021 992.686 L52.1264 992.686 L52.1264 988.75 Z\" fill=\"#000000\" fill-rule=\"nonzero\" fill-opacity=\"1\" /><path clip-path=\"url(#clip220)\" d=\"M106.061 986.945 Q109.418 987.662 111.293 989.931 Q113.191 992.2 113.191 995.533 Q113.191 1000.65 109.672 1003.45 Q106.154 1006.25 99.6724 1006.25 Q97.4965 1006.25 95.1817 1005.81 Q92.89 1005.39 90.4364 1004.54 L90.4364 1000.02 Q92.3808 1001.16 94.6956 1001.74 Q97.0104 1002.32 99.5335 1002.32 Q103.932 1002.32 106.223 1000.58 Q108.538 998.843 108.538 995.533 Q108.538 992.477 106.385 990.764 Q104.256 989.028 100.436 989.028 L96.4085 989.028 L96.4085 985.186 L100.621 985.186 Q104.071 985.186 105.899 983.82 Q107.728 982.431 107.728 979.838 Q107.728 977.176 105.83 975.764 Q103.955 974.329 100.436 974.329 Q98.515 974.329 96.316 974.746 Q94.1169 975.163 91.478 976.042 L91.478 971.876 Q94.14 971.135 96.4548 970.764 Q98.7928 970.394 100.853 970.394 Q106.177 970.394 109.279 972.825 Q112.381 975.232 112.381 979.352 Q112.381 982.223 110.737 984.213 Q109.094 986.181 106.061 986.945 Z\" fill=\"#000000\" fill-rule=\"nonzero\" fill-opacity=\"1\" /><path clip-path=\"url(#clip220)\" d=\"M53.0754 768.194 L82.7512 768.194 L82.7512 772.129 L53.0754 772.129 L53.0754 768.194 Z\" fill=\"#000000\" fill-rule=\"nonzero\" fill-opacity=\"1\" /><path clip-path=\"url(#clip220)\" d=\"M96.8715 781.088 L113.191 781.088 L113.191 785.023 L91.2465 785.023 L91.2465 781.088 Q93.9086 778.333 98.4919 773.703 Q103.098 769.051 104.279 767.708 Q106.524 765.185 107.404 763.449 Q108.307 761.689 108.307 760 Q108.307 757.245 106.362 755.509 Q104.441 753.773 101.339 753.773 Q99.14 753.773 96.6863 754.537 Q94.2558 755.301 91.478 756.852 L91.478 752.129 Q94.3021 750.995 96.7558 750.416 Q99.2095 749.838 101.246 749.838 Q106.617 749.838 109.811 752.523 Q113.006 755.208 113.006 759.699 Q113.006 761.828 112.196 763.75 Q111.408 765.648 109.302 768.24 Q108.723 768.912 105.621 772.129 Q102.52 775.324 96.8715 781.088 Z\" fill=\"#000000\" fill-rule=\"nonzero\" fill-opacity=\"1\" /><path clip-path=\"url(#clip220)\" d=\"M52.7051 547.638 L82.3808 547.638 L82.3808 551.573 L52.7051 551.573 L52.7051 547.638 Z\" fill=\"#000000\" fill-rule=\"nonzero\" fill-opacity=\"1\" /><path clip-path=\"url(#clip220)\" d=\"M93.2836 560.531 L100.922 560.531 L100.922 534.166 L92.6123 535.832 L92.6123 531.573 L100.876 529.906 L105.552 529.906 L105.552 560.531 L113.191 560.531 L113.191 564.466 L93.2836 564.466 L93.2836 560.531 Z\" fill=\"#000000\" fill-rule=\"nonzero\" fill-opacity=\"1\" /><path clip-path=\"url(#clip220)\" d=\"M101.246 312.429 Q97.6354 312.429 95.8067 315.993 Q94.0012 319.535 94.0012 326.665 Q94.0012 333.771 95.8067 337.336 Q97.6354 340.878 101.246 340.878 Q104.881 340.878 106.686 337.336 Q108.515 333.771 108.515 326.665 Q108.515 319.535 106.686 315.993 Q104.881 312.429 101.246 312.429 M101.246 308.725 Q107.057 308.725 110.112 313.331 Q113.191 317.915 113.191 326.665 Q113.191 335.391 110.112 339.998 Q107.057 344.581 101.246 344.581 Q95.4363 344.581 92.3576 339.998 Q89.3021 335.391 89.3021 326.665 Q89.3021 317.915 92.3576 313.331 Q95.4363 308.725 101.246 308.725 Z\" fill=\"#000000\" fill-rule=\"nonzero\" fill-opacity=\"1\" /><path clip-path=\"url(#clip220)\" d=\"M93.2836 119.418 L100.922 119.418 L100.922 93.0528 L92.6123 94.7195 L92.6123 90.4603 L100.876 88.7936 L105.552 88.7936 L105.552 119.418 L113.191 119.418 L113.191 123.354 L93.2836 123.354 L93.2836 119.418 Z\" fill=\"#000000\" fill-rule=\"nonzero\" fill-opacity=\"1\" /><polyline clip-path=\"url(#clip222)\" style=\"stroke:#009af9; stroke-linecap:round; stroke-linejoin:round; stroke-width:4; stroke-opacity:1; fill:none\" points=\"211.556,87.9763 212.326,98.1992 213.096,108.553 213.866,119.025 214.636,129.604 215.406,140.274 216.176,151.021 216.945,161.828 217.715,172.677 218.485,183.548 219.255,194.42 220.025,205.273 220.795,216.083 221.565,226.827 222.335,237.483 223.105,248.027 223.875,258.438 224.645,268.692 225.415,278.771 226.185,288.655 226.955,298.327 227.725,307.772 228.495,316.977 229.265,325.932 230.034,334.628 230.804,343.06 231.574,351.226 232.344,359.125 233.114,366.76 233.884,374.135 234.654,381.257 235.424,388.135 236.194,394.781 236.964,401.205 237.734,407.423 238.504,413.447 239.274,419.294 240.044,424.977 240.814,430.512 241.584,435.914 242.353,441.197 243.123,446.374 243.893,451.459 244.663,456.462 245.433,461.396 246.203,466.27 246.973,471.091 247.743,475.869 248.513,480.608 249.283,485.315 250.053,489.994 250.823,494.647 251.593,499.278 252.363,503.888 253.133,508.478 253.903,513.049 254.672,517.599 255.442,522.13 256.212,526.638 256.982,531.124 257.752,535.586 258.522,540.022 259.292,544.431 260.062,548.81 260.832,553.159 261.602,557.476 262.372,561.76 263.142,566.009 263.912,570.223 264.682,574.4 265.452,578.54 266.222,582.642 266.992,586.706 267.761,590.733 268.531,594.721 269.301,598.672 270.071,602.585 270.841,606.461 271.611,610.3 272.381,614.103 273.151,617.871 273.921,621.603 274.691,625.301 275.461,628.966 276.231,632.598 277.001,636.196 277.771,639.763 278.541,643.299 279.311,646.803 280.08,650.276 280.85,653.719 281.62,657.131 282.39,660.514 283.16,663.866 283.93,667.189 284.7,670.481 285.47,673.744 286.24,676.978 287.01,680.181 287.78,683.354 288.55,686.498 289.32,689.611 290.09,692.694 290.86,695.747 291.63,698.769 292.399,701.761 293.169,704.722 293.939,707.653 294.709,710.553 295.479,713.422 296.249,716.26 297.019,719.068 297.789,721.845 298.559,724.591 299.329,727.306 300.099,729.99 300.869,732.644 301.639,735.267 302.409,737.859 303.179,740.421 303.949,742.953 304.719,745.454 305.488,747.925 306.258,750.366 307.028,752.778 307.798,755.159 308.568,757.511 309.338,759.833 310.108,762.126 310.878,764.389 311.648,766.624 312.418,768.83 313.188,771.007 313.958,773.156 314.728,775.276 315.498,777.368 316.268,779.432 317.038,781.469 317.807,783.478 318.577,785.46 319.347,787.415 320.117,789.343 320.887,791.245 321.657,793.12 322.427,794.97 323.197,796.794 323.967,798.592 324.737,800.366 325.507,802.114 326.277,803.838 327.047,805.538 327.817,807.214 328.587,808.866 329.357,810.496 330.127,812.102 330.896,813.685 331.666,815.247 332.436,816.786 333.206,818.304 333.976,819.8 334.746,821.276 335.516,822.73 336.286,824.165 337.056,825.579 337.826,826.974 338.596,828.35 339.366,829.707 340.136,831.045 340.906,832.365 341.676,833.667 342.446,834.951 343.215,836.218 343.985,837.469 344.755,838.702 345.525,839.919 346.295,841.121 347.065,842.306 347.835,843.477 348.605,844.632 349.375,845.773 350.145,846.899 350.915,848.011 351.685,849.11 352.455,850.195 353.225,851.266 353.995,852.325 354.765,853.372 355.534,854.405 356.304,855.427 357.074,856.438 357.844,857.436 358.614,858.424 359.384,859.4 360.154,860.366 360.924,861.321 361.694,862.266 362.464,863.201 363.234,864.127 364.004,865.043 364.774,865.949 365.544,866.847 366.314,867.736 367.084,868.616 367.854,869.488 368.623,870.351 369.393,871.207 370.163,872.055 370.933,872.895 371.703,873.728 372.473,874.553 373.243,875.372 374.013,876.184 374.783,876.988 375.553,877.787 376.323,878.579 377.093,879.365 377.863,880.145 378.633,880.919 379.403,881.687 380.173,882.449 380.942,883.206 381.712,883.958 382.482,884.704 383.252,885.446 384.022,886.182 384.792,886.914 385.562,887.64 386.332,888.363 387.102,889.08 387.872,889.794 388.642,890.503 389.412,891.207 390.182,891.908 390.952,892.605 391.722,893.297 392.492,893.986 393.261,894.672 394.031,895.353 394.801,896.031 395.571,896.705 396.341,897.376 397.111,898.044 397.881,898.709 398.651,899.37 399.421,900.028 400.191,900.683 400.961,901.335 401.731,901.984 402.501,902.63 403.271,903.273 404.041,903.913 404.811,904.551 405.581,905.186 406.35,905.818 407.12,906.448 407.89,907.075 408.66,907.7 409.43,908.322 410.2,908.942 410.97,909.559 411.74,910.175 412.51,910.787 413.28,911.398 414.05,912.006 414.82,912.612 415.59,913.216 416.36,913.818 417.13,914.417 417.9,915.015 418.669,915.611 419.439,916.204 420.209,916.796 420.979,917.385 421.749,917.973 422.519,918.558 423.289,919.142 424.059,919.724 424.829,920.304 425.599,920.882 426.369,921.459 427.139,922.033 427.909,922.606 428.679,923.177 429.449,923.746 430.219,924.314 430.988,924.88 431.758,925.444 432.528,926.007 433.298,926.567 434.068,927.127 434.838,927.684 435.608,928.24 436.378,928.794 437.148,929.347 437.918,929.898 438.688,930.448 439.458,930.996 440.228,931.542 440.998,932.087 441.768,932.631 442.538,933.173 443.308,933.713 444.077,934.252 444.847,934.789 445.617,935.325 446.387,935.86 447.157,936.393 447.927,936.924 448.697,937.454 449.467,937.983 450.237,938.511 451.007,939.036 451.777,939.561 452.547,940.084 453.317,940.606 454.087,941.126 454.857,941.645 455.627,942.162 456.396,942.679 457.166,943.193 457.936,943.707 458.706,944.219 459.476,944.73 460.246,945.239 461.016,945.748 461.786,946.254 462.556,946.76 463.326,947.264 464.096,947.767 464.866,948.269 465.636,948.769 466.406,949.268 467.176,949.766 467.946,950.263 468.715,950.758 469.485,951.252 470.255,951.745 471.025,952.236 471.795,952.727 472.565,953.216 473.335,953.704 474.105,954.19 474.875,954.675 475.645,955.16 476.415,955.643 477.185,956.124 477.955,956.605 478.725,957.084 479.495,957.562 480.265,958.039 481.035,958.515 481.804,958.99 482.574,959.463 483.344,959.936 484.114,960.407 484.884,960.877 485.654,961.346 486.424,961.813 487.194,962.28 487.964,962.745 488.734,963.209 489.504,963.673 490.274,964.135 491.044,964.595 491.814,965.055 492.584,965.514 493.354,965.971 494.123,966.428 494.893,966.883 495.663,967.337 496.433,967.79 497.203,968.243 497.973,968.694 498.743,969.143 499.513,969.592 500.283,970.04 501.053,970.487 501.823,970.932 502.593,971.377 503.363,971.82 504.133,972.263 504.903,972.704 505.673,973.144 506.443,973.584 507.212,974.022 507.982,974.459 508.752,974.896 509.522,975.331 510.292,975.765 511.062,976.198 511.832,976.63 512.602,977.061 513.372,977.491 514.142,977.921 514.912,978.349 515.682,978.776 516.452,979.202 517.222,979.627 517.992,980.051 518.762,980.474 519.531,980.897 520.301,981.318 521.071,981.738 521.841,982.157 522.611,982.576 523.381,982.993 524.151,983.41 524.921,983.825 525.691,984.24 526.461,984.653 527.231,985.066 528.001,985.477 528.771,985.888 529.541,986.298 530.311,986.707 531.081,987.115 531.85,987.522 532.62,987.928 533.39,988.333 534.16,988.737 534.93,989.141 535.7,989.543 536.47,989.945 537.24,990.346 538.01,990.745 538.78,991.144 539.55,991.542 540.32,991.939 541.09,992.336 541.86,992.731 542.63,993.126 543.4,993.519 544.17,993.912 544.939,994.304 545.709,994.695 546.479,995.085 547.249,995.474 548.019,995.863 548.789,996.25 549.559,996.637 550.329,997.023 551.099,997.408 551.869,997.792 552.639,998.175 553.409,998.558 554.179,998.939 554.949,999.32 555.719,999.7 556.489,1000.08 557.258,1000.46 558.028,1000.84 558.798,1001.21 559.568,1001.59 560.338,1001.96 561.108,1002.34 561.878,1002.71 562.648,1003.08 563.418,1003.46 564.188,1003.83 564.958,1004.2 565.728,1004.57 566.498,1004.94 567.268,1005.3 568.038,1005.67 568.808,1006.04 569.577,1006.4 570.347,1006.77 571.117,1007.13 571.887,1007.49 572.657,1007.86 573.427,1008.22 574.197,1008.58 574.967,1008.94 575.737,1009.3 576.507,1009.66 577.277,1010.02 578.047,1010.37 578.817,1010.73 579.587,1011.09 580.357,1011.44 581.127,1011.8 581.897,1012.15 582.666,1012.5 583.436,1012.85 584.206,1013.21 584.976,1013.56 585.746,1013.91 586.516,1014.25 587.286,1014.6 588.056,1014.95 588.826,1015.3 589.596,1015.64 590.366,1015.99 591.136,1016.33 591.906,1016.68 592.676,1017.02 593.446,1017.37 594.216,1017.71 594.985,1018.05 595.755,1018.39 596.525,1018.73 597.295,1019.07 598.065,1019.41 598.835,1019.75 599.605,1020.08 600.375,1020.42 601.145,1020.76 601.915,1021.09 602.685,1021.43 603.455,1021.76 604.225,1022.09 604.995,1022.42 605.765,1022.76 606.535,1023.09 607.304,1023.42 608.074,1023.75 608.844,1024.08 609.614,1024.41 610.384,1024.73 611.154,1025.06 611.924,1025.39 612.694,1025.71 613.464,1026.04 614.234,1026.36 615.004,1026.69 615.774,1027.01 616.544,1027.34 617.314,1027.66 618.084,1027.98 618.854,1028.3 619.624,1028.62 620.393,1028.94 621.163,1029.26 621.933,1029.58 622.703,1029.9 623.473,1030.21 624.243,1030.53 625.013,1030.85 625.783,1031.16 626.553,1031.48 627.323,1031.79 628.093,1032.1 628.863,1032.42 629.633,1032.73 630.403,1033.04 631.173,1033.35 631.943,1033.66 632.712,1033.97 633.482,1034.28 634.252,1034.59 635.022,1034.9 635.792,1035.21 636.562,1035.52 637.332,1035.82 638.102,1036.13 638.872,1036.43 639.642,1036.74 640.412,1037.04 641.182,1037.35 641.952,1037.65 642.722,1037.95 643.492,1038.26 644.262,1038.56 645.031,1038.86 645.801,1039.16 646.571,1039.46 647.341,1039.76 648.111,1040.06 648.881,1040.35 649.651,1040.65 650.421,1040.95 651.191,1041.25 651.961,1041.54 652.731,1041.84 653.501,1042.13 654.271,1042.43 655.041,1042.72 655.811,1043.01 656.581,1043.31 657.351,1043.6 658.12,1043.89 658.89,1044.18 659.66,1044.47 660.43,1044.76 661.2,1045.05 661.97,1045.34 662.74,1045.63 663.51,1045.92 664.28,1046.21 665.05,1046.5 665.82,1046.78 666.59,1047.07 667.36,1047.35 668.13,1047.64 668.9,1047.92 669.67,1048.21 670.439,1048.49 671.209,1048.77 671.979,1049.06 672.749,1049.34 673.519,1049.62 674.289,1049.9 675.059,1050.18 675.829,1050.46 676.599,1050.74 677.369,1051.02 678.139,1051.3 678.909,1051.58 679.679,1051.86 680.449,1052.14 681.219,1052.41 681.989,1052.69 682.759,1052.97 683.528,1053.24 684.298,1053.52 685.068,1053.79 685.838,1054.07 686.608,1054.34 687.378,1054.61 688.148,1054.89 688.918,1055.16 689.688,1055.43 690.458,1055.7 691.228,1055.97 691.998,1056.24 692.768,1056.51 693.538,1056.78 694.308,1057.05 695.078,1057.32 695.847,1057.59 696.617,1057.86 697.387,1058.13 698.157,1058.39 698.927,1058.66 699.697,1058.93 700.467,1059.19 701.237,1059.46 702.007,1059.72 702.777,1059.99 703.547,1060.25 704.317,1060.51 705.087,1060.78 705.857,1061.04 706.627,1061.3 707.397,1061.57 708.166,1061.83 708.936,1062.09 709.706,1062.35 710.476,1062.61 711.246,1062.87 712.016,1063.13 712.786,1063.39 713.556,1063.65 714.326,1063.91 715.096,1064.16 715.866,1064.42 716.636,1064.68 717.406,1064.94 718.176,1065.19 718.946,1065.45 719.716,1065.71 720.486,1065.96 721.255,1066.22 722.025,1066.47 722.795,1066.72 723.565,1066.98 724.335,1067.23 725.105,1067.48 725.875,1067.74 726.645,1067.99 727.415,1068.24 728.185,1068.49 728.955,1068.74 729.725,1069 730.495,1069.25 731.265,1069.5 732.035,1069.75 732.805,1070 733.574,1070.24 734.344,1070.49 735.114,1070.74 735.884,1070.99 736.654,1071.24 737.424,1071.48 738.194,1071.73 738.964,1071.98 739.734,1072.22 740.504,1072.47 741.274,1072.72 742.044,1072.96 742.814,1073.21 743.584,1073.45 744.354,1073.69 745.124,1073.94 745.893,1074.18 746.663,1074.43 747.433,1074.67 748.203,1074.91 748.973,1075.15 749.743,1075.4 750.513,1075.64 751.283,1075.88 752.053,1076.12 752.823,1076.36 753.593,1076.6 754.363,1076.84 755.133,1077.08 755.903,1077.32 756.673,1077.56 757.443,1077.8 758.213,1078.03 758.982,1078.27 759.752,1078.51 760.522,1078.75 761.292,1078.98 762.062,1079.22 762.832,1079.46 763.602,1079.69 764.372,1079.93 765.142,1080.17 765.912,1080.4 766.682,1080.64 767.452,1080.87 768.222,1081.1 768.992,1081.34 769.762,1081.57 770.532,1081.81 771.301,1082.04 772.071,1082.27 772.841,1082.5 773.611,1082.74 774.381,1082.97 775.151,1083.2 775.921,1083.43 776.691,1083.66 777.461,1083.89 778.231,1084.12 779.001,1084.36 779.771,1084.59 780.541,1084.81 781.311,1085.04 782.081,1085.27 782.851,1085.5 783.62,1085.73 784.39,1085.96 785.16,1086.19 785.93,1086.42 786.7,1086.64 787.47,1086.87 788.24,1087.1 789.01,1087.32 789.78,1087.55 790.55,1087.78 791.32,1088 792.09,1088.23 792.86,1088.45 793.63,1088.68 794.4,1088.9 795.17,1089.13 795.94,1089.35 796.709,1089.58 797.479,1089.8 798.249,1090.02 799.019,1090.25 799.789,1090.47 800.559,1090.69 801.329,1090.92 802.099,1091.14 802.869,1091.36 803.639,1091.58 804.409,1091.8 805.179,1092.03 805.949,1092.25 806.719,1092.47 807.489,1092.69 808.259,1092.91 809.028,1093.13 809.798,1093.35 810.568,1093.57 811.338,1093.79 812.108,1094.01 812.878,1094.23 813.648,1094.45 814.418,1094.66 815.188,1094.88 815.958,1095.1 816.728,1095.32 817.498,1095.54 818.268,1095.75 819.038,1095.97 819.808,1096.19 820.578,1096.4 821.347,1096.62 822.117,1096.84 822.887,1097.05 823.657,1097.27 824.427,1097.48 825.197,1097.7 825.967,1097.91 826.737,1098.13 827.507,1098.34 828.277,1098.56 829.047,1098.77 829.817,1098.99 830.587,1099.2 831.357,1099.41 832.127,1099.63 832.897,1099.84 833.667,1100.05 834.436,1100.27 835.206,1100.48 835.976,1100.69 836.746,1100.9 837.516,1101.12 838.286,1101.33 839.056,1101.54 839.826,1101.75 840.596,1101.96 841.366,1102.17 842.136,1102.38 842.906,1102.59 843.676,1102.8 844.446,1103.01 845.216,1103.22 845.986,1103.43 846.755,1103.64 847.525,1103.85 848.295,1104.06 849.065,1104.27 849.835,1104.48 850.605,1104.69 851.375,1104.9 852.145,1105.1 852.915,1105.31 853.685,1105.52 854.455,1105.73 855.225,1105.93 855.995,1106.14 856.765,1106.35 857.535,1106.56 858.305,1106.76 859.075,1106.97 859.844,1107.17 860.614,1107.38 861.384,1107.59 862.154,1107.79 862.924,1108 863.694,1108.2 864.464,1108.41 865.234,1108.61 866.004,1108.82 866.774,1109.02 867.544,1109.23 868.314,1109.43 869.084,1109.63 869.854,1109.84 870.624,1110.04 871.394,1110.25 872.163,1110.45 872.933,1110.65 873.703,1110.86 874.473,1111.06 875.243,1111.26 876.013,1111.46 876.783,1111.67 877.553,1111.87 878.323,1112.07 879.093,1112.27 879.863,1112.47 880.633,1112.67 881.403,1112.88 882.173,1113.08 882.943,1113.28 883.713,1113.48 884.482,1113.68 885.252,1113.88 886.022,1114.08 886.792,1114.28 887.562,1114.48 888.332,1114.68 889.102,1114.88 889.872,1115.08 890.642,1115.28 891.412,1115.48 892.182,1115.68 892.952,1115.87 893.722,1116.07 894.492,1116.27 895.262,1116.47 896.032,1116.67 896.802,1116.87 897.571,1117.06 898.341,1117.26 899.111,1117.46 899.881,1117.66 900.651,1117.85 901.421,1118.05 902.191,1118.25 902.961,1118.44 903.731,1118.64 904.501,1118.84 905.271,1119.03 906.041,1119.23 906.811,1119.43 907.581,1119.62 908.351,1119.82 909.121,1120.01 909.89,1120.21 910.66,1120.4 911.43,1120.6 912.2,1120.79 912.97,1120.99 913.74,1121.18 914.51,1121.38 915.28,1121.57 916.05,1121.77 916.82,1121.96 917.59,1122.15 918.36,1122.35 919.13,1122.54 919.9,1122.74 920.67,1122.93 921.44,1123.12 922.209,1123.32 922.979,1123.51 923.749,1123.7 924.519,1123.89 925.289,1124.09 926.059,1124.28 926.829,1124.47 927.599,1124.66 928.369,1124.85 929.139,1125.05 929.909,1125.24 930.679,1125.43 931.449,1125.62 932.219,1125.81 932.989,1126 933.759,1126.19 934.529,1126.38 935.298,1126.58 936.068,1126.77 936.838,1126.96 937.608,1127.15 938.378,1127.34 939.148,1127.53 939.918,1127.72 940.688,1127.91 941.458,1128.1 942.228,1128.29 942.998,1128.48 943.768,1128.66 944.538,1128.85 945.308,1129.04 946.078,1129.23 946.848,1129.42 947.617,1129.61 948.387,1129.8 949.157,1129.99 949.927,1130.17 950.697,1130.36 951.467,1130.55 952.237,1130.74 953.007,1130.92 953.777,1131.11 954.547,1131.3 955.317,1131.49 956.087,1131.67 956.857,1131.86 957.627,1132.05 958.397,1132.23 959.167,1132.42 959.936,1132.61 960.706,1132.79 961.476,1132.98 962.246,1133.17 963.016,1133.35 963.786,1133.54 964.556,1133.72 965.326,1133.91 966.096,1134.1 966.866,1134.28 967.636,1134.47 968.406,1134.65 969.176,1134.84 969.946,1135.02 970.716,1135.21 971.486,1135.39 972.256,1135.58 973.025,1135.76 973.795,1135.94 974.565,1136.13 975.335,1136.31 976.105,1136.5 976.875,1136.68 977.645,1136.86 978.415,1137.05 979.185,1137.23 979.955,1137.42 980.725,1137.6 981.495,1137.78 982.265,1137.96 983.035,1138.15 983.805,1138.33 984.575,1138.51 985.344,1138.7 986.114,1138.88 986.884,1139.06 987.654,1139.24 988.424,1139.42 989.194,1139.61 989.964,1139.79 990.734,1139.97 991.504,1140.15 992.274,1140.33 993.044,1140.52 993.814,1140.7 994.584,1140.88 995.354,1141.06 996.124,1141.24 996.894,1141.42 997.663,1141.6 998.433,1141.78 999.203,1141.96 999.973,1142.14 1000.74,1142.32 1001.51,1142.5 1002.28,1142.68 1003.05,1142.86 1003.82,1143.04 1004.59,1143.22 1005.36,1143.4 1006.13,1143.58 1006.9,1143.76 1007.67,1143.94 1008.44,1144.12 1009.21,1144.3 1009.98,1144.48 1010.75,1144.66 1011.52,1144.84 1012.29,1145.02 1013.06,1145.2 1013.83,1145.37 1014.6,1145.55 1015.37,1145.73 1016.14,1145.91 1016.91,1146.09 1017.68,1146.27 1018.45,1146.44 1019.22,1146.62 1019.99,1146.8 1020.76,1146.98 1021.53,1147.15 1022.3,1147.33 1023.07,1147.51 1023.84,1147.69 1024.61,1147.86 1025.38,1148.04 1026.15,1148.22 1026.92,1148.39 1027.69,1148.57 1028.46,1148.75 1029.23,1148.92 1030,1149.1 1030.77,1149.28 1031.54,1149.45 1032.31,1149.63 1033.08,1149.8 1033.85,1149.98 1034.62,1150.16 1035.39,1150.33 1036.16,1150.51 1036.93,1150.68 1037.7,1150.86 1038.47,1151.03 1039.24,1151.21 1040.01,1151.39 1040.78,1151.56 1041.55,1151.74 1042.32,1151.91 1043.09,1152.08 1043.86,1152.26 1044.63,1152.43 1045.4,1152.61 1046.17,1152.78 1046.94,1152.96 1047.71,1153.13 1048.48,1153.31 1049.25,1153.48 1050.02,1153.65 1050.79,1153.83 1051.56,1154 1052.33,1154.17 1053.1,1154.35 1053.87,1154.52 1054.64,1154.7 1055.41,1154.87 1056.18,1155.04 1056.95,1155.22 1057.72,1155.39 1058.49,1155.56 1059.26,1155.73 1060.03,1155.91 1060.8,1156.08 1061.57,1156.25 1062.34,1156.42 1063.11,1156.6 1063.88,1156.77 1064.65,1156.94 1065.42,1157.11 1066.19,1157.29 1066.96,1157.46 1067.73,1157.63 1068.5,1157.8 1069.27,1157.97 1070.04,1158.14 1070.81,1158.32 1071.58,1158.49 1072.35,1158.66 1073.12,1158.83 1073.89,1159 1074.66,1159.17 1075.43,1159.34 1076.2,1159.51 1076.97,1159.69 1077.74,1159.86 1078.51,1160.03 1079.28,1160.2 1080.05,1160.37 1080.82,1160.54 1081.59,1160.71 1082.36,1160.88 1083.13,1161.05 1083.9,1161.22 1084.67,1161.39 1085.44,1161.56 1086.21,1161.73 1086.98,1161.9 1087.75,1162.07 1088.52,1162.24 1089.29,1162.41 1090.06,1162.58 1090.83,1162.75 1091.6,1162.92 1092.37,1163.09 1093.14,1163.25 1093.91,1163.42 1094.68,1163.59 1095.45,1163.76 1096.22,1163.93 1096.99,1164.1 1097.76,1164.27 1098.53,1164.44 1099.3,1164.6 1100.07,1164.77 1100.84,1164.94 1101.61,1165.11 1102.38,1165.28 1103.15,1165.45 1103.92,1165.61 1104.69,1165.78 1105.45,1165.95 1106.22,1166.12 1106.99,1166.29 1107.76,1166.45 1108.53,1166.62 1109.3,1166.79 1110.07,1166.96 1110.84,1167.12 1111.61,1167.29 1112.38,1167.46 1113.15,1167.63 1113.92,1167.79 1114.69,1167.96 1115.46,1168.13 1116.23,1168.29 1117,1168.46 1117.77,1168.63 1118.54,1168.79 1119.31,1168.96 1120.08,1169.13 1120.85,1169.29 1121.62,1169.46 1122.39,1169.63 1123.16,1169.79 1123.93,1169.96 1124.7,1170.12 1125.47,1170.29 1126.24,1170.46 1127.01,1170.62 1127.78,1170.79 1128.55,1170.95 1129.32,1171.12 1130.09,1171.28 1130.86,1171.45 1131.63,1171.62 1132.4,1171.78 1133.17,1171.95 1133.94,1172.11 1134.71,1172.28 1135.48,1172.44 1136.25,1172.61 1137.02,1172.77 1137.79,1172.94 1138.56,1173.1 1139.33,1173.27 1140.1,1173.43 1140.87,1173.6 1141.64,1173.76 1142.41,1173.92 1143.18,1174.09 1143.95,1174.25 1144.72,1174.42 1145.49,1174.58 1146.26,1174.75 1147.03,1174.91 1147.8,1175.07 1148.57,1175.24 1149.34,1175.4 1150.11,1175.57 1150.88,1175.73 1151.65,1175.89 1152.42,1176.06 1153.19,1176.22 1153.96,1176.38 1154.73,1176.55 1155.5,1176.71 1156.27,1176.88 1157.04,1177.04 1157.81,1177.2 1158.58,1177.37 1159.35,1177.53 1160.12,1177.69 1160.89,1177.85 1161.66,1178.02 1162.43,1178.18 1163.2,1178.34 1163.97,1178.51 1164.74,1178.67 1165.51,1178.83 1166.28,1178.99 1167.05,1179.16 1167.82,1179.32 1168.59,1179.48 1169.36,1179.64 1170.13,1179.81 1170.9,1179.97 1171.67,1180.13 1172.44,1180.29 1173.21,1180.46 1173.98,1180.62 1174.75,1180.78 1175.52,1180.94 1176.29,1181.1 1177.06,1181.26 1177.83,1181.43 1178.6,1181.59 1179.37,1181.75 1180.14,1181.91 1180.91,1182.07 1181.68,1182.23 1182.45,1182.4 1183.22,1182.56 1183.99,1182.72 1184.76,1182.88 1185.53,1183.04 1186.3,1183.2 1187.07,1183.36 1187.84,1183.53 1188.61,1183.69 1189.38,1183.85 1190.15,1184.01 1190.92,1184.17 1191.69,1184.33 1192.46,1184.49 1193.23,1184.65 1194,1184.81 1194.77,1184.97 1195.54,1185.13 1196.31,1185.29 1197.08,1185.45 1197.85,1185.61 1198.62,1185.78 1199.39,1185.94 1200.16,1186.1 1200.93,1186.26 1201.7,1186.42 1202.47,1186.58 1203.24,1186.74 1204.01,1186.9 1204.78,1187.06 1205.55,1187.22 1206.32,1187.38 1207.09,1187.54 1207.86,1187.7 1208.63,1187.86 1209.4,1188.02 1210.17,1188.18 1210.94,1188.34 1211.71,1188.49 1212.48,1188.65 1213.25,1188.81 1214.02,1188.97 1214.79,1189.13 1215.56,1189.29 1216.33,1189.45 1217.1,1189.61 1217.87,1189.77 1218.64,1189.93 1219.41,1190.09 1220.18,1190.25 1220.95,1190.41 1221.72,1190.57 1222.49,1190.72 1223.26,1190.88 1224.03,1191.04 1224.8,1191.2 1225.57,1191.36 1226.34,1191.52 1227.11,1191.68 1227.88,1191.84 1228.65,1192 1229.42,1192.15 1230.19,1192.31 1230.95,1192.47 1231.72,1192.63 1232.49,1192.79 1233.26,1192.95 1234.03,1193.11 1234.8,1193.26 1235.57,1193.42 1236.34,1193.58 1237.11,1193.74 1237.88,1193.9 1238.65,1194.05 1239.42,1194.21 1240.19,1194.37 1240.96,1194.53 1241.73,1194.69 1242.5,1194.85 1243.27,1195 1244.04,1195.16 1244.81,1195.32 1245.58,1195.48 1246.35,1195.63 1247.12,1195.79 1247.89,1195.95 1248.66,1196.11 1249.43,1196.27 1250.2,1196.42 1250.97,1196.58 1251.74,1196.74 1252.51,1196.9 1253.28,1197.05 1254.05,1197.21 1254.82,1197.37 1255.59,1197.53 1256.36,1197.68 1257.13,1197.84 1257.9,1198 1258.67,1198.16 1259.44,1198.31 1260.21,1198.47 1260.98,1198.63 1261.75,1198.78 1262.52,1198.94 1263.29,1199.1 1264.06,1199.26 1264.83,1199.41 1265.6,1199.57 1266.37,1199.73 1267.14,1199.88 1267.91,1200.04 1268.68,1200.2 1269.45,1200.35 1270.22,1200.51 1270.99,1200.67 1271.76,1200.82 1272.53,1200.98 1273.3,1201.14 1274.07,1201.3 1274.84,1201.45 1275.61,1201.61 1276.38,1201.77 1277.15,1201.92 1277.92,1202.08 1278.69,1202.23 1279.46,1202.39 1280.23,1202.55 1281,1202.7 1281.77,1202.86 1282.54,1203.02 1283.31,1203.17 1284.08,1203.33 1284.85,1203.49 1285.62,1203.64 1286.39,1203.8 1287.16,1203.96 1287.93,1204.11 1288.7,1204.27 1289.47,1204.42 1290.24,1204.58 1291.01,1204.74 1291.78,1204.89 1292.55,1205.05 1293.32,1205.21 1294.09,1205.36 1294.86,1205.52 1295.63,1205.67 1296.4,1205.83 1297.17,1205.99 1297.94,1206.14 1298.71,1206.3 1299.48,1206.45 1300.25,1206.61 1301.02,1206.77 1301.79,1206.92 1302.56,1207.08 1303.33,1207.23 1304.1,1207.39 1304.87,1207.54 1305.64,1207.7 1306.41,1207.86 1307.18,1208.01 1307.95,1208.17 1308.72,1208.32 1309.49,1208.48 1310.26,1208.63 1311.03,1208.79 1311.8,1208.95 1312.57,1209.1 1313.34,1209.26 1314.11,1209.41 1314.88,1209.57 1315.65,1209.72 1316.42,1209.88 1317.19,1210.04 1317.96,1210.19 1318.73,1210.35 1319.5,1210.5 1320.27,1210.66 1321.04,1210.81 1321.81,1210.97 1322.58,1211.12 1323.35,1211.28 1324.12,1211.43 1324.89,1211.59 1325.66,1211.75 1326.43,1211.9 1327.2,1212.06 1327.97,1212.21 1328.74,1212.37 1329.51,1212.52 1330.28,1212.68 1331.05,1212.83 1331.82,1212.99 1332.59,1213.14 1333.36,1213.3 1334.13,1213.45 1334.9,1213.61 1335.67,1213.76 1336.44,1213.92 1337.21,1214.08 1337.98,1214.23 1338.75,1214.39 1339.52,1214.54 1340.29,1214.7 1341.06,1214.85 1341.83,1215.01 1342.6,1215.16 1343.37,1215.32 1344.14,1215.47 1344.91,1215.63 1345.68,1215.78 1346.45,1215.94 1347.22,1216.09 1347.99,1216.25 1348.76,1216.4 1349.53,1216.56 1350.3,1216.71 1351.07,1216.87 1351.84,1217.02 1352.61,1217.18 1353.38,1217.33 1354.15,1217.49 1354.92,1217.64 1355.69,1217.8 1356.46,1217.95 1357.22,1218.11 1357.99,1218.26 1358.76,1218.42 1359.53,1218.57 1360.3,1218.73 1361.07,1218.88 1361.84,1219.04 1362.61,1219.19 1363.38,1219.35 1364.15,1219.5 1364.92,1219.66 1365.69,1219.81 1366.46,1219.97 1367.23,1220.12 1368,1220.28 1368.77,1220.43 1369.54,1220.59 1370.31,1220.75 1371.08,1220.9 1371.85,1221.06 1372.62,1221.21 1373.39,1221.37 1374.16,1221.52 1374.93,1221.68 1375.7,1221.83 1376.47,1221.99 1377.24,1222.14 1378.01,1222.3 1378.78,1222.45 1379.55,1222.61 1380.32,1222.76 1381.09,1222.92 1381.86,1223.07 1382.63,1223.23 1383.4,1223.38 1384.17,1223.54 1384.94,1223.69 1385.71,1223.85 1386.48,1224 1387.25,1224.16 1388.02,1224.31 1388.79,1224.47 1389.56,1224.62 1390.33,1224.78 1391.1,1224.93 1391.87,1225.09 1392.64,1225.24 1393.41,1225.4 1394.18,1225.55 1394.95,1225.71 1395.72,1225.86 1396.49,1226.02 1397.26,1226.17 1398.03,1226.33 1398.8,1226.48 1399.57,1226.64 1400.34,1226.79 1401.11,1226.95 1401.88,1227.1 1402.65,1227.26 1403.42,1227.41 1404.19,1227.57 1404.96,1227.72 1405.73,1227.88 1406.5,1228.04 1407.27,1228.19 1408.04,1228.35 1408.81,1228.5 1409.58,1228.66 1410.35,1228.81 1411.12,1228.97 1411.89,1229.12 1412.66,1229.28 1413.43,1229.43 1414.2,1229.59 1414.97,1229.74 1415.74,1229.9 1416.51,1230.05 1417.28,1230.21 1418.05,1230.37 1418.82,1230.52 1419.59,1230.68 1420.36,1230.83 1421.13,1230.99 1421.9,1231.14 1422.67,1231.3 1423.44,1231.45 1424.21,1231.61 1424.98,1231.77 1425.75,1231.92 1426.52,1232.08 1427.29,1232.23 1428.06,1232.39 1428.83,1232.54 1429.6,1232.7 1430.37,1232.85 1431.14,1233.01 1431.91,1233.17 1432.68,1233.32 1433.45,1233.48 1434.22,1233.63 1434.99,1233.79 1435.76,1233.95 1436.53,1234.1 1437.3,1234.26 1438.07,1234.41 1438.84,1234.57 1439.61,1234.72 1440.38,1234.88 1441.15,1235.04 1441.92,1235.19 1442.69,1235.35 1443.46,1235.5 1444.23,1235.66 1445,1235.82 1445.77,1235.97 1446.54,1236.13 1447.31,1236.28 1448.08,1236.44 1448.85,1236.6 1449.62,1236.75 1450.39,1236.91 1451.16,1237.07 1451.93,1237.22 1452.7,1237.38 1453.47,1237.53 1454.24,1237.69 1455.01,1237.85 1455.78,1238 1456.55,1238.16 1457.32,1238.32 1458.09,1238.47 1458.86,1238.63 1459.63,1238.79 1460.4,1238.94 1461.17,1239.1 1461.94,1239.25 1462.71,1239.41 1463.48,1239.57 1464.25,1239.72 1465.02,1239.88 1465.79,1240.04 1466.56,1240.19 1467.33,1240.35 1468.1,1240.51 1468.87,1240.67 1469.64,1240.82 1470.41,1240.98 1471.18,1241.14 1471.95,1241.29 1472.72,1241.45 1473.49,1241.61 1474.26,1241.76 1475.03,1241.92 1475.8,1242.08 1476.57,1242.23 1477.34,1242.39 1478.11,1242.55 1478.88,1242.71 1479.65,1242.86 1480.42,1243.02 1481.19,1243.18 1481.96,1243.34 1482.72,1243.49 1483.49,1243.65 1484.26,1243.81 1485.03,1243.97 1485.8,1244.12 1486.57,1244.28 1487.34,1244.44 1488.11,1244.6 1488.88,1244.75 1489.65,1244.91 1490.42,1245.07 1491.19,1245.23 1491.96,1245.38 1492.73,1245.54 1493.5,1245.7 1494.27,1245.86 1495.04,1246.02 1495.81,1246.17 1496.58,1246.33 1497.35,1246.49 1498.12,1246.65 1498.89,1246.81 1499.66,1246.96 1500.43,1247.12 1501.2,1247.28 1501.97,1247.44 1502.74,1247.6 1503.51,1247.75 1504.28,1247.91 1505.05,1248.07 1505.82,1248.23 1506.59,1248.39 1507.36,1248.55 1508.13,1248.71 1508.9,1248.86 1509.67,1249.02 1510.44,1249.18 1511.21,1249.34 1511.98,1249.5 1512.75,1249.66 1513.52,1249.82 1514.29,1249.98 1515.06,1250.13 1515.83,1250.29 1516.6,1250.45 1517.37,1250.61 1518.14,1250.77 1518.91,1250.93 1519.68,1251.09 1520.45,1251.25 1521.22,1251.41 1521.99,1251.57 1522.76,1251.73 1523.53,1251.89 1524.3,1252.05 1525.07,1252.21 1525.84,1252.36 1526.61,1252.52 1527.38,1252.68 1528.15,1252.84 1528.92,1253 1529.69,1253.16 1530.46,1253.32 1531.23,1253.48 1532,1253.64 1532.77,1253.8 1533.54,1253.96 1534.31,1254.12 1535.08,1254.28 1535.85,1254.44 1536.62,1254.6 1537.39,1254.76 1538.16,1254.92 1538.93,1255.09 1539.7,1255.25 1540.47,1255.41 1541.24,1255.57 1542.01,1255.73 1542.78,1255.89 1543.55,1256.05 1544.32,1256.21 1545.09,1256.37 1545.86,1256.53 1546.63,1256.69 1547.4,1256.85 1548.17,1257.01 1548.94,1257.18 1549.71,1257.34 1550.48,1257.5 1551.25,1257.66 1552.02,1257.82 1552.79,1257.98 1553.56,1258.14 1554.33,1258.3 1555.1,1258.47 1555.87,1258.63 1556.64,1258.79 1557.41,1258.95 1558.18,1259.11 1558.95,1259.28 1559.72,1259.44 1560.49,1259.6 1561.26,1259.76 1562.03,1259.92 1562.8,1260.09 1563.57,1260.25 1564.34,1260.41 1565.11,1260.57 1565.88,1260.73 1566.65,1260.9 1567.42,1261.06 1568.19,1261.22 1568.96,1261.38 1569.73,1261.55 1570.5,1261.71 1571.27,1261.87 1572.04,1262.04 1572.81,1262.2 1573.58,1262.36 1574.35,1262.52 1575.12,1262.69 1575.89,1262.85 1576.66,1263.01 1577.43,1263.18 1578.2,1263.34 1578.97,1263.5 1579.74,1263.67 1580.51,1263.83 1581.28,1263.99 1582.05,1264.16 1582.82,1264.32 1583.59,1264.49 1584.36,1264.65 1585.13,1264.81 1585.9,1264.98 1586.67,1265.14 1587.44,1265.31 1588.21,1265.47 1588.98,1265.63 1589.75,1265.8 1590.52,1265.96 1591.29,1266.13 1592.06,1266.29 1592.83,1266.46 1593.6,1266.62 1594.37,1266.79 1595.14,1266.95 1595.91,1267.12 1596.68,1267.28 1597.45,1267.45 1598.22,1267.61 1598.99,1267.78 1599.76,1267.94 1600.53,1268.11 1601.3,1268.27 1602.07,1268.44 1602.84,1268.6 1603.61,1268.77 1604.38,1268.94 1605.15,1269.1 1605.92,1269.27 1606.69,1269.43 1607.46,1269.6 1608.23,1269.76 1608.99,1269.93 1609.76,1270.1 1610.53,1270.26 1611.3,1270.43 1612.07,1270.6 1612.84,1270.76 1613.61,1270.93 1614.38,1271.1 1615.15,1271.26 1615.92,1271.43 1616.69,1271.6 1617.46,1271.76 1618.23,1271.93 1619,1272.1 1619.77,1272.27 1620.54,1272.43 1621.31,1272.6 1622.08,1272.77 1622.85,1272.93 1623.62,1273.1 1624.39,1273.27 1625.16,1273.44 1625.93,1273.61 1626.7,1273.77 1627.47,1273.94 1628.24,1274.11 1629.01,1274.28 1629.78,1274.45 1630.55,1274.61 1631.32,1274.78 1632.09,1274.95 1632.86,1275.12 1633.63,1275.29 1634.4,1275.46 1635.17,1275.63 1635.94,1275.79 1636.71,1275.96 1637.48,1276.13 1638.25,1276.3 1639.02,1276.47 1639.79,1276.64 1640.56,1276.81 1641.33,1276.98 1642.1,1277.15 1642.87,1277.32 1643.64,1277.49 1644.41,1277.66 1645.18,1277.83 1645.95,1278 1646.72,1278.17 1647.49,1278.34 1648.26,1278.51 1649.03,1278.68 1649.8,1278.85 1650.57,1279.02 1651.34,1279.19 1652.11,1279.36 1652.88,1279.53 1653.65,1279.7 1654.42,1279.87 1655.19,1280.04 1655.96,1280.22 1656.73,1280.39 1657.5,1280.56 1658.27,1280.73 1659.04,1280.9 1659.81,1281.07 1660.58,1281.24 1661.35,1281.42 1662.12,1281.59 1662.89,1281.76 1663.66,1281.93 1664.43,1282.1 1665.2,1282.28 1665.97,1282.45 1666.74,1282.62 1667.51,1282.79 1668.28,1282.96 1669.05,1283.14 1669.82,1283.31 1670.59,1283.48 1671.36,1283.66 1672.13,1283.83 1672.9,1284 1673.67,1284.17 1674.44,1284.35 1675.21,1284.52 1675.98,1284.69 1676.75,1284.87 1677.52,1285.04 1678.29,1285.22 1679.06,1285.39 1679.83,1285.56 1680.6,1285.74 1681.37,1285.91 1682.14,1286.09 1682.91,1286.26 1683.68,1286.43 1684.45,1286.61 1685.22,1286.78 1685.99,1286.96 1686.76,1287.13 1687.53,1287.31 1688.3,1287.48 1689.07,1287.66 1689.84,1287.83 1690.61,1288.01 1691.38,1288.18 1692.15,1288.36 1692.92,1288.53 1693.69,1288.71 1694.46,1288.88 1695.23,1289.06 1696,1289.24 1696.77,1289.41 1697.54,1289.59 1698.31,1289.76 1699.08,1289.94 1699.85,1290.12 1700.62,1290.29 1701.39,1290.47 1702.16,1290.65 1702.93,1290.82 1703.7,1291 1704.47,1291.18 1705.24,1291.35 1706.01,1291.53 1706.78,1291.71 1707.55,1291.89 1708.32,1292.06 1709.09,1292.24 1709.86,1292.42 1710.63,1292.6 1711.4,1292.77 1712.17,1292.95 1712.94,1293.13 1713.71,1293.31 1714.48,1293.48 1715.25,1293.66 1716.02,1293.84 1716.79,1294.02 1717.56,1294.2 1718.33,1294.38 1719.1,1294.56 1719.87,1294.73 1720.64,1294.91 1721.41,1295.09 1722.18,1295.27 1722.95,1295.45 1723.72,1295.63 1724.49,1295.81 1725.26,1295.99 1726.03,1296.17 1726.8,1296.35 1727.57,1296.53 1728.34,1296.71 1729.11,1296.89 1729.88,1297.07 1730.65,1297.25 1731.42,1297.43 1732.19,1297.61 1732.96,1297.79 1733.73,1297.97 1734.49,1298.15 1735.26,1298.33 1736.03,1298.51 1736.8,1298.69 1737.57,1298.87 1738.34,1299.05 1739.11,1299.24 1739.88,1299.42 1740.65,1299.6 1741.42,1299.78 1742.19,1299.96 1742.96,1300.14 1743.73,1300.32 1744.5,1300.51 1745.27,1300.69 1746.04,1300.87 1746.81,1301.05 1747.58,1301.24 1748.35,1301.42 1749.12,1301.6 1749.89,1301.78 1750.66,1301.97 1751.43,1302.15 1752.2,1302.33 1752.97,1302.51 1753.74,1302.7 1754.51,1302.88 1755.28,1303.06 1756.05,1303.25 1756.82,1303.43 1757.59,1303.61 1758.36,1303.8 1759.13,1303.98 1759.9,1304.16 1760.67,1304.35 1761.44,1304.53 1762.21,1304.72 1762.98,1304.9 1763.75,1305.09 1764.52,1305.27 1765.29,1305.45 1766.06,1305.64 1766.83,1305.82 1767.6,1306.01 1768.37,1306.19 1769.14,1306.38 1769.91,1306.56 1770.68,1306.75 1771.45,1306.93 1772.22,1307.12 1772.99,1307.3 1773.76,1307.49 1774.53,1307.68 1775.3,1307.86 1776.07,1308.05 1776.84,1308.23 1777.61,1308.42 1778.38,1308.6 1779.15,1308.79 1779.92,1308.98 1780.69,1309.16 1781.46,1309.35 1782.23,1309.54 1783,1309.72 1783.77,1309.91 1784.54,1310.1 1785.31,1310.28 1786.08,1310.47 1786.85,1310.66 1787.62,1310.84 1788.39,1311.03 1789.16,1311.22 1789.93,1311.41 1790.7,1311.59 1791.47,1311.78 1792.24,1311.97 1793.01,1312.16 1793.78,1312.35 1794.55,1312.53 1795.32,1312.72 1796.09,1312.91 1796.86,1313.1 1797.63,1313.29 1798.4,1313.47 1799.17,1313.66 1799.94,1313.85 1800.71,1314.04 1801.48,1314.23 1802.25,1314.42 1803.02,1314.61 1803.79,1314.8 1804.56,1314.98 1805.33,1315.17 1806.1,1315.36 1806.87,1315.55 1807.64,1315.74 1808.41,1315.93 1809.18,1316.12 1809.95,1316.31 1810.72,1316.5 1811.49,1316.69 1812.26,1316.88 1813.03,1317.07 1813.8,1317.26 1814.57,1317.45 1815.34,1317.64 1816.11,1317.83 1816.88,1318.02 1817.65,1318.21 1818.42,1318.4 1819.19,1318.59 1819.96,1318.79 1820.73,1318.98 1821.5,1319.17 1822.27,1319.36 1823.04,1319.55 1823.81,1319.74 1824.58,1319.93 1825.35,1320.12 1826.12,1320.31 1826.89,1320.51 1827.66,1320.7 1828.43,1320.89 1829.2,1321.08 1829.97,1321.27 1830.74,1321.46 1831.51,1321.66 1832.28,1321.85 1833.05,1322.04 1833.82,1322.23 1834.59,1322.43 1835.36,1322.62 1836.13,1322.81 1836.9,1323 1837.67,1323.2 1838.44,1323.39 1839.21,1323.58 1839.98,1323.77 1840.75,1323.97 1841.52,1324.16 1842.29,1324.35 1843.06,1324.55 1843.83,1324.74 1844.6,1324.93 1845.37,1325.13 1846.14,1325.32 1846.91,1325.51 1847.68,1325.71 1848.45,1325.9 1849.22,1326.09 1849.99,1326.29 1850.76,1326.48 1851.53,1326.68 1852.3,1326.87 1853.07,1327.06 1853.84,1327.26 1854.61,1327.45 1855.38,1327.65 1856.15,1327.84 1856.92,1328.04 1857.69,1328.23 1858.46,1328.42 1859.23,1328.62 1860,1328.81 1860.76,1329.01 1861.53,1329.2 1862.3,1329.4 1863.07,1329.59 1863.84,1329.79 1864.61,1329.98 1865.38,1330.18 1866.15,1330.37 1866.92,1330.57 1867.69,1330.76 1868.46,1330.96 1869.23,1331.16 1870,1331.35 1870.77,1331.55 1871.54,1331.74 1872.31,1331.94 1873.08,1332.13 1873.85,1332.33 1874.62,1332.53 1875.39,1332.72 1876.16,1332.92 1876.93,1333.11 1877.7,1333.31 1878.47,1333.51 1879.24,1333.7 1880.01,1333.9 1880.78,1334.1 1881.55,1334.29 1882.32,1334.49 1883.09,1334.69 1883.86,1334.88 1884.63,1335.08 1885.4,1335.28 1886.17,1335.47 1886.94,1335.67 1887.71,1335.87 1888.48,1336.06 1889.25,1336.26 1890.02,1336.46 1890.79,1336.66 1891.56,1336.85 1892.33,1337.05 1893.1,1337.25 1893.87,1337.44 1894.64,1337.64 1895.41,1337.84 1896.18,1338.04 1896.95,1338.24 1897.72,1338.43 1898.49,1338.63 1899.26,1338.83 1900.03,1339.03 1900.8,1339.22 1901.57,1339.42 1902.34,1339.62 1903.11,1339.82 1903.88,1340.02 1904.65,1340.21 1905.42,1340.41 1906.19,1340.61 1906.96,1340.81 1907.73,1341.01 1908.5,1341.21 1909.27,1341.41 1910.04,1341.6 1910.81,1341.8 1911.58,1342 1912.35,1342.2 1913.12,1342.4 1913.89,1342.6 1914.66,1342.8 1915.43,1343 1916.2,1343.19 1916.97,1343.39 1917.74,1343.59 1918.51,1343.79 1919.28,1343.99 1920.05,1344.19 1920.82,1344.39 1921.59,1344.59 1922.36,1344.79 1923.13,1344.99 1923.9,1345.19 1924.67,1345.39 1925.44,1345.59 1926.21,1345.79 1926.98,1345.99 1927.75,1346.18 1928.52,1346.38 1929.29,1346.58 1930.06,1346.78 1930.83,1346.98 1931.6,1347.18 1932.37,1347.38 1933.14,1347.58 1933.91,1347.78 1934.68,1347.98 1935.45,1348.18 1936.22,1348.38 1936.99,1348.58 1937.76,1348.79 1938.53,1348.99 1939.3,1349.19 1940.07,1349.39 1940.84,1349.59 1941.61,1349.79 1942.38,1349.99 1943.15,1350.19 1943.92,1350.39 1944.69,1350.59 1945.46,1350.79 1946.23,1350.99 1947,1351.19 1947.77,1351.39 1948.54,1351.59 1949.31,1351.8 1950.08,1352 1950.85,1352.2 1951.62,1352.4 1952.39,1352.6 1953.16,1352.8 1953.93,1353 1954.7,1353.2 1955.47,1353.4 1956.24,1353.61 1957.01,1353.81 1957.78,1354.01 1958.55,1354.21 1959.32,1354.41 1960.09,1354.61 1960.86,1354.81 1961.63,1355.02 1962.4,1355.22 1963.17,1355.42 1963.94,1355.62 1964.71,1355.82 1965.48,1356.03 1966.25,1356.23 1967.02,1356.43 1967.79,1356.63 1968.56,1356.83 1969.33,1357.03 1970.1,1357.24 1970.87,1357.44 1971.64,1357.64 1972.41,1357.84 1973.18,1358.05 1973.95,1358.25 1974.72,1358.45 1975.49,1358.65 1976.26,1358.86 1977.03,1359.06 1977.8,1359.26 1978.57,1359.46 1979.34,1359.67 1980.11,1359.87 1980.88,1360.07 1981.65,1360.27 1982.42,1360.48 1983.19,1360.68 1983.96,1360.88 1984.73,1361.08 1985.5,1361.29 1986.27,1361.49 1987.03,1361.69 1987.8,1361.9 1988.57,1362.1 1989.34,1362.3 1990.11,1362.51 1990.88,1362.71 1991.65,1362.91 1992.42,1363.12 1993.19,1363.32 1993.96,1363.52 1994.73,1363.73 1995.5,1363.93 1996.27,1364.13 1997.04,1364.34 1997.81,1364.54 1998.58,1364.74 1999.35,1364.95 2000.12,1365.15 2000.89,1365.35 2001.66,1365.56 2002.43,1365.76 2003.2,1365.97 2003.97,1366.17 2004.74,1366.37 2005.51,1366.58 2006.28,1366.78 2007.05,1366.99 2007.82,1367.19 2008.59,1367.39 2009.36,1367.6 2010.13,1367.8 2010.9,1368.01 2011.67,1368.21 2012.44,1368.42 2013.21,1368.62 2013.98,1368.82 2014.75,1369.03 2015.52,1369.23 2016.29,1369.44 2017.06,1369.64 2017.83,1369.85 2018.6,1370.05 2019.37,1370.26 2020.14,1370.46 2020.91,1370.67 2021.68,1370.87 2022.45,1371.08 2023.22,1371.28 2023.99,1371.49 2024.76,1371.69 2025.53,1371.9 2026.3,1372.1 2027.07,1372.31 2027.84,1372.51 2028.61,1372.72 2029.38,1372.92 2030.15,1373.13 2030.92,1373.33 2031.69,1373.54 2032.46,1373.74 2033.23,1373.95 2034,1374.15 2034.77,1374.36 2035.54,1374.57 2036.31,1374.77 2037.08,1374.98 2037.85,1375.18 2038.62,1375.39 2039.39,1375.59 2040.16,1375.8 2040.93,1376.01 2041.7,1376.21 2042.47,1376.42 2043.24,1376.62 2044.01,1376.83 2044.78,1377.04 2045.55,1377.24 2046.32,1377.45 2047.09,1377.66 2047.86,1377.86 2048.63,1378.07 2049.4,1378.28 2050.17,1378.48 2050.94,1378.69 2051.71,1378.89 2052.48,1379.1 2053.25,1379.31 2054.02,1379.51 2054.79,1379.72 2055.56,1379.93 2056.33,1380.14 2057.1,1380.34 2057.87,1380.55 2058.64,1380.76 2059.41,1380.96 2060.18,1381.17 2060.95,1381.38 2061.72,1381.59 2062.49,1381.79 2063.26,1382 2064.03,1382.21 2064.8,1382.41 2065.57,1382.62 2066.34,1382.83 2067.11,1383.04 2067.88,1383.24 2068.65,1383.45 2069.42,1383.66 2070.19,1383.87 2070.96,1384.08 2071.73,1384.28 2072.5,1384.49 2073.27,1384.7 2074.04,1384.91 2074.81,1385.12 2075.58,1385.32 2076.35,1385.53 2077.12,1385.74 2077.89,1385.95 2078.66,1386.16 2079.43,1386.36 2080.2,1386.57 2080.97,1386.78 2081.74,1386.99 2082.51,1387.2 2083.28,1387.41 2084.05,1387.62 2084.82,1387.82 2085.59,1388.03 2086.36,1388.24 2087.13,1388.45 2087.9,1388.66 2088.67,1388.87 2089.44,1389.08 2090.21,1389.29 2090.98,1389.5 2091.75,1389.71 2092.52,1389.92 2093.29,1390.12 2094.06,1390.33 2094.83,1390.54 2095.6,1390.75 2096.37,1390.96 2097.14,1391.17 2097.91,1391.38 2098.68,1391.59 2099.45,1391.8 2100.22,1392.01 2100.99,1392.22 2101.76,1392.43 2102.53,1392.64 2103.3,1392.85 2104.07,1393.06 2104.84,1393.27 2105.61,1393.48 2106.38,1393.69 2107.15,1393.9 2107.92,1394.11 2108.69,1394.32 2109.46,1394.53 2110.23,1394.74 2111,1394.95 2111.77,1395.16 2112.53,1395.38 2113.3,1395.59 2114.07,1395.8 2114.84,1396.01 2115.61,1396.22 2116.38,1396.43 2117.15,1396.64 2117.92,1396.85 2118.69,1397.06 2119.46,1397.27 2120.23,1397.49 2121,1397.7 2121.77,1397.91 2122.54,1398.12 2123.31,1398.33 2124.08,1398.54 2124.85,1398.75 2125.62,1398.97 2126.39,1399.18 2127.16,1399.39 2127.93,1399.6 2128.7,1399.81 2129.47,1400.02 2130.24,1400.24 2131.01,1400.45 2131.78,1400.66 2132.55,1400.87 2133.32,1401.09 2134.09,1401.3 2134.86,1401.51 2135.63,1401.72 2136.4,1401.94 2137.17,1402.15 2137.94,1402.36 2138.71,1402.57 2139.48,1402.79 2140.25,1403 2141.02,1403.21 2141.79,1403.42 2142.56,1403.64 2143.33,1403.85 2144.1,1404.06 2144.87,1404.28 2145.64,1404.49 2146.41,1404.7 2147.18,1404.92 2147.95,1405.13 2148.72,1405.34 2149.49,1405.56 2150.26,1405.77 2151.03,1405.98 2151.8,1406.2 2152.57,1406.41 2153.34,1406.63 2154.11,1406.84 2154.88,1407.05 2155.65,1407.27 2156.42,1407.48 2157.19,1407.7 2157.96,1407.91 2158.73,1408.12 2159.5,1408.34 2160.27,1408.55 2161.04,1408.77 2161.81,1408.98 2162.58,1409.2 2163.35,1409.41 2164.12,1409.63 2164.89,1409.84 2165.66,1410.06 2166.43,1410.27 2167.2,1410.49 2167.97,1410.7 2168.74,1410.92 2169.51,1411.13 2170.28,1411.35 2171.05,1411.56 2171.82,1411.78 2172.59,1411.99 2173.36,1412.21 2174.13,1412.42 2174.9,1412.64 2175.67,1412.86 2176.44,1413.07 2177.21,1413.29 2177.98,1413.5 2178.75,1413.72 2179.52,1413.93 2180.29,1414.15 2181.06,1414.37 2181.83,1414.58 2182.6,1414.8 2183.37,1415.02 2184.14,1415.23 2184.91,1415.45 2185.68,1415.66 2186.45,1415.88 2187.22,1416.1 2187.99,1416.31 2188.76,1416.53 2189.53,1416.75 2190.3,1416.97 2191.07,1417.18 2191.84,1417.4 2192.61,1417.62 2193.38,1417.83 2194.15,1418.05 2194.92,1418.27 2195.69,1418.49 2196.46,1418.7 2197.23,1418.92 2198,1419.14 2198.77,1419.36 2199.54,1419.57 2200.31,1419.79 2201.08,1420.01 2201.85,1420.23 2202.62,1420.44 2203.39,1420.66 2204.16,1420.88 2204.93,1421.1 2205.7,1421.32 2206.47,1421.54 2207.24,1421.75 2208.01,1421.97 2208.78,1422.19 2209.55,1422.41 2210.32,1422.63 2211.09,1422.85 2211.86,1423.07 2212.63,1423.28 2213.4,1423.5 2214.17,1423.72 2214.94,1423.94 2215.71,1424.16 2216.48,1424.38 2217.25,1424.6 2218.02,1424.82 2218.79,1425.04 2219.56,1425.26 2220.33,1425.48 2221.1,1425.7 2221.87,1425.92 2222.64,1426.13 2223.41,1426.35 2224.18,1426.57 2224.95,1426.79 2225.72,1427.01 2226.49,1427.23 2227.26,1427.45 2228.03,1427.67 2228.8,1427.89 2229.57,1428.11 2230.34,1428.33 2231.11,1428.56 2231.88,1428.78 2232.65,1429 2233.42,1429.22 2234.19,1429.44 2234.96,1429.66 2235.73,1429.88 2236.5,1430.1 2237.27,1430.32 2238.04,1430.54 2238.8,1430.76 2239.57,1430.98 2240.34,1431.2 2241.11,1431.43 2241.88,1431.65 2242.65,1431.87 2243.42,1432.09 2244.19,1432.31 2244.96,1432.53 2245.73,1432.75 2246.5,1432.98 2247.27,1433.2 2248.04,1433.42 2248.81,1433.64 2249.58,1433.86 2250.35,1434.09 2251.12,1434.31 2251.89,1434.53 2252.66,1434.75 2253.43,1434.97 2254.2,1435.2 2254.97,1435.42 2255.74,1435.64 2256.51,1435.86 2257.28,1436.09 2258.05,1436.31 2258.82,1436.53 2259.59,1436.75 2260.36,1436.98 2261.13,1437.2 2261.9,1437.42 2262.67,1437.65 2263.44,1437.87 2264.21,1438.09 2264.98,1438.32 2265.75,1438.54 2266.52,1438.76 2267.29,1438.99 2268.06,1439.21 2268.83,1439.43 2269.6,1439.66 2270.37,1439.88 2271.14,1440.1 2271.91,1440.33 2272.68,1440.55 2273.45,1440.77 2274.22,1441 2274.99,1441.22 2275.76,1441.45 2276.53,1441.67 2277.3,1441.9 2278.07,1442.12 2278.84,1442.34 2279.61,1442.57 2280.38,1442.79 2281.15,1443.02 2281.92,1443.24 2282.69,1443.47 2283.46,1443.69 2284.23,1443.92 2285,1444.14 2285.77,1444.37 2286.54,1444.59 2287.31,1444.82 2288.08,1445.04 2288.85,1445.27 2289.62,1445.49 2290.39,1445.72 \"/>\n",
       "<path clip-path=\"url(#clip220)\" d=\"M1961.93 198.898 L2279.3 198.898 L2279.3 95.2176 L1961.93 95.2176  Z\" fill=\"#ffffff\" fill-rule=\"evenodd\" fill-opacity=\"1\"/>\n",
       "<polyline clip-path=\"url(#clip220)\" style=\"stroke:#000000; stroke-linecap:round; stroke-linejoin:round; stroke-width:4; stroke-opacity:1; fill:none\" points=\"1961.93,198.898 2279.3,198.898 2279.3,95.2176 1961.93,95.2176 1961.93,198.898 \"/>\n",
       "<polyline clip-path=\"url(#clip220)\" style=\"stroke:#009af9; stroke-linecap:round; stroke-linejoin:round; stroke-width:4; stroke-opacity:1; fill:none\" points=\"1986.42,147.058 2133.32,147.058 \"/>\n",
       "<path clip-path=\"url(#clip220)\" d=\"M2157.81 129.778 L2162.48 129.778 L2162.48 160.402 L2179.31 160.402 L2179.31 164.338 L2157.81 164.338 L2157.81 129.778 Z\" fill=\"#000000\" fill-rule=\"nonzero\" fill-opacity=\"1\" /><path clip-path=\"url(#clip220)\" d=\"M2193.25 141.398 Q2189.82 141.398 2187.83 144.083 Q2185.84 146.745 2185.84 151.398 Q2185.84 156.051 2187.81 158.736 Q2189.8 161.398 2193.25 161.398 Q2196.65 161.398 2198.64 158.713 Q2200.63 156.027 2200.63 151.398 Q2200.63 146.791 2198.64 144.106 Q2196.65 141.398 2193.25 141.398 M2193.25 137.787 Q2198.8 137.787 2201.97 141.398 Q2205.14 145.009 2205.14 151.398 Q2205.14 157.764 2201.97 161.398 Q2198.8 165.009 2193.25 165.009 Q2187.67 165.009 2184.5 161.398 Q2181.35 157.764 2181.35 151.398 Q2181.35 145.009 2184.5 141.398 Q2187.67 137.787 2193.25 137.787 Z\" fill=\"#000000\" fill-rule=\"nonzero\" fill-opacity=\"1\" /><path clip-path=\"url(#clip220)\" d=\"M2228.73 139.176 L2228.73 143.203 Q2226.93 142.277 2224.98 141.815 Q2223.04 141.352 2220.95 141.352 Q2217.78 141.352 2216.19 142.324 Q2214.61 143.296 2214.61 145.24 Q2214.61 146.722 2215.75 147.578 Q2216.88 148.412 2220.31 149.176 L2221.76 149.5 Q2226.3 150.472 2228.2 152.254 Q2230.12 154.014 2230.12 157.185 Q2230.12 160.796 2227.25 162.902 Q2224.4 165.009 2219.4 165.009 Q2217.32 165.009 2215.05 164.592 Q2212.81 164.199 2210.31 163.388 L2210.31 158.99 Q2212.67 160.217 2214.96 160.842 Q2217.25 161.444 2219.5 161.444 Q2222.51 161.444 2224.13 160.426 Q2225.75 159.384 2225.75 157.509 Q2225.75 155.773 2224.57 154.847 Q2223.41 153.921 2219.45 153.064 L2217.97 152.717 Q2214.01 151.884 2212.25 150.171 Q2210.49 148.435 2210.49 145.426 Q2210.49 141.768 2213.08 139.778 Q2215.68 137.787 2220.44 137.787 Q2222.81 137.787 2224.89 138.134 Q2226.97 138.481 2228.73 139.176 Z\" fill=\"#000000\" fill-rule=\"nonzero\" fill-opacity=\"1\" /><path clip-path=\"url(#clip220)\" d=\"M2253.43 139.176 L2253.43 143.203 Q2251.63 142.277 2249.68 141.815 Q2247.74 141.352 2245.65 141.352 Q2242.48 141.352 2240.88 142.324 Q2239.31 143.296 2239.31 145.24 Q2239.31 146.722 2240.44 147.578 Q2241.58 148.412 2245 149.176 L2246.46 149.5 Q2251 150.472 2252.9 152.254 Q2254.82 154.014 2254.82 157.185 Q2254.82 160.796 2251.95 162.902 Q2249.1 165.009 2244.1 165.009 Q2242.02 165.009 2239.75 164.592 Q2237.5 164.199 2235 163.388 L2235 158.99 Q2237.37 160.217 2239.66 160.842 Q2241.95 161.444 2244.19 161.444 Q2247.2 161.444 2248.82 160.426 Q2250.44 159.384 2250.44 157.509 Q2250.44 155.773 2249.26 154.847 Q2248.11 153.921 2244.15 153.064 L2242.67 152.717 Q2238.71 151.884 2236.95 150.171 Q2235.19 148.435 2235.19 145.426 Q2235.19 141.768 2237.78 139.778 Q2240.38 137.787 2245.14 137.787 Q2247.5 137.787 2249.59 138.134 Q2251.67 138.481 2253.43 139.176 Z\" fill=\"#000000\" fill-rule=\"nonzero\" fill-opacity=\"1\" /></svg>\n"
      ]
     },
     "execution_count": 78,
     "metadata": {},
     "output_type": "execute_result"
    }
   ],
   "source": [
    "using Plots\n",
    "plot(eachindex(losses), log.(losses), label = \"Loss\")"
   ]
  },
  {
   "cell_type": "code",
   "execution_count": 83,
   "id": "f51b61b4",
   "metadata": {},
   "outputs": [
    {
     "data": {
      "image/png": "[encoded data removed]",
      "image/svg+xml": [
       "<?xml version=\"1.0\" encoding=\"utf-8\"?>\n",
       "<svg xmlns=\"http://www.w3.org/2000/svg\" xmlns:xlink=\"http://www.w3.org/1999/xlink\" width=\"600\" height=\"400\" viewBox=\"0 0 2400 1600\">\n",
       "<defs>\n",
       "  <clipPath id=\"clip350\">\n",
       "    <rect x=\"0\" y=\"0\" width=\"2400\" height=\"1600\"/>\n",
       "  </clipPath>\n",
       "</defs>\n",
       "<path clip-path=\"url(#clip350)\" d=\"M0 1600 L2400 1600 L2400 0 L0 0  Z\" fill=\"#ffffff\" fill-rule=\"evenodd\" fill-opacity=\"1\"/>\n",
       "<defs>\n",
       "  <clipPath id=\"clip351\">\n",
       "    <rect x=\"480\" y=\"0\" width=\"1681\" height=\"1600\"/>\n",
       "  </clipPath>\n",
       "</defs>\n",
       "<path clip-path=\"url(#clip350)\" d=\"M193.936 1486.45 L2352.76 1486.45 L2352.76 47.2441 L193.936 47.2441  Z\" fill=\"#ffffff\" fill-rule=\"evenodd\" fill-opacity=\"1\"/>\n",
       "<defs>\n",
       "  <clipPath id=\"clip352\">\n",
       "    <rect x=\"193\" y=\"47\" width=\"2160\" height=\"1440\"/>\n",
       "  </clipPath>\n",
       "</defs>\n",
       "<polyline clip-path=\"url(#clip352)\" style=\"stroke:#000000; stroke-linecap:round; stroke-linejoin:round; stroke-width:2; stroke-opacity:0.1; fill:none\" points=\"243.528,1486.45 243.528,47.2441 \"/>\n",
       "<polyline clip-path=\"url(#clip352)\" style=\"stroke:#000000; stroke-linecap:round; stroke-linejoin:round; stroke-width:2; stroke-opacity:0.1; fill:none\" points=\"818.845,1486.45 818.845,47.2441 \"/>\n",
       "<polyline clip-path=\"url(#clip352)\" style=\"stroke:#000000; stroke-linecap:round; stroke-linejoin:round; stroke-width:2; stroke-opacity:0.1; fill:none\" points=\"1394.16,1486.45 1394.16,47.2441 \"/>\n",
       "<polyline clip-path=\"url(#clip352)\" style=\"stroke:#000000; stroke-linecap:round; stroke-linejoin:round; stroke-width:2; stroke-opacity:0.1; fill:none\" points=\"1969.48,1486.45 1969.48,47.2441 \"/>\n",
       "<polyline clip-path=\"url(#clip352)\" style=\"stroke:#000000; stroke-linecap:round; stroke-linejoin:round; stroke-width:2; stroke-opacity:0.1; fill:none\" points=\"193.936,1417.99 2352.76,1417.99 \"/>\n",
       "<polyline clip-path=\"url(#clip352)\" style=\"stroke:#000000; stroke-linecap:round; stroke-linejoin:round; stroke-width:2; stroke-opacity:0.1; fill:none\" points=\"193.936,1090.91 2352.76,1090.91 \"/>\n",
       "<polyline clip-path=\"url(#clip352)\" style=\"stroke:#000000; stroke-linecap:round; stroke-linejoin:round; stroke-width:2; stroke-opacity:0.1; fill:none\" points=\"193.936,763.828 2352.76,763.828 \"/>\n",
       "<polyline clip-path=\"url(#clip352)\" style=\"stroke:#000000; stroke-linecap:round; stroke-linejoin:round; stroke-width:2; stroke-opacity:0.1; fill:none\" points=\"193.936,436.749 2352.76,436.749 \"/>\n",
       "<polyline clip-path=\"url(#clip352)\" style=\"stroke:#000000; stroke-linecap:round; stroke-linejoin:round; stroke-width:2; stroke-opacity:0.1; fill:none\" points=\"193.936,109.669 2352.76,109.669 \"/>\n",
       "<polyline clip-path=\"url(#clip350)\" style=\"stroke:#000000; stroke-linecap:round; stroke-linejoin:round; stroke-width:4; stroke-opacity:1; fill:none\" points=\"193.936,1486.45 2352.76,1486.45 \"/>\n",
       "<polyline clip-path=\"url(#clip350)\" style=\"stroke:#000000; stroke-linecap:round; stroke-linejoin:round; stroke-width:4; stroke-opacity:1; fill:none\" points=\"243.528,1486.45 243.528,1467.55 \"/>\n",
       "<polyline clip-path=\"url(#clip350)\" style=\"stroke:#000000; stroke-linecap:round; stroke-linejoin:round; stroke-width:4; stroke-opacity:1; fill:none\" points=\"818.845,1486.45 818.845,1467.55 \"/>\n",
       "<polyline clip-path=\"url(#clip350)\" style=\"stroke:#000000; stroke-linecap:round; stroke-linejoin:round; stroke-width:4; stroke-opacity:1; fill:none\" points=\"1394.16,1486.45 1394.16,1467.55 \"/>\n",
       "<polyline clip-path=\"url(#clip350)\" style=\"stroke:#000000; stroke-linecap:round; stroke-linejoin:round; stroke-width:4; stroke-opacity:1; fill:none\" points=\"1969.48,1486.45 1969.48,1467.55 \"/>\n",
       "<path clip-path=\"url(#clip350)\" d=\"M243.528 1517.37 Q239.917 1517.37 238.089 1520.93 Q236.283 1524.47 236.283 1531.6 Q236.283 1538.71 238.089 1542.27 Q239.917 1545.82 243.528 1545.82 Q247.163 1545.82 248.968 1542.27 Q250.797 1538.71 250.797 1531.6 Q250.797 1524.47 248.968 1520.93 Q247.163 1517.37 243.528 1517.37 M243.528 1513.66 Q249.338 1513.66 252.394 1518.27 Q255.473 1522.85 255.473 1531.6 Q255.473 1540.33 252.394 1544.94 Q249.338 1549.52 243.528 1549.52 Q237.718 1549.52 234.639 1544.94 Q231.584 1540.33 231.584 1531.6 Q231.584 1522.85 234.639 1518.27 Q237.718 1513.66 243.528 1513.66 Z\" fill=\"#000000\" fill-rule=\"nonzero\" fill-opacity=\"1\" /><path clip-path=\"url(#clip350)\" d=\"M793.545 1514.29 L811.901 1514.29 L811.901 1518.22 L797.827 1518.22 L797.827 1526.7 Q798.846 1526.35 799.864 1526.19 Q800.883 1526 801.901 1526 Q807.688 1526 811.068 1529.17 Q814.447 1532.34 814.447 1537.76 Q814.447 1543.34 810.975 1546.44 Q807.503 1549.52 801.183 1549.52 Q799.008 1549.52 796.739 1549.15 Q794.494 1548.78 792.086 1548.04 L792.086 1543.34 Q794.17 1544.47 796.392 1545.03 Q798.614 1545.58 801.091 1545.58 Q805.096 1545.58 807.433 1543.48 Q809.771 1541.37 809.771 1537.76 Q809.771 1534.15 807.433 1532.04 Q805.096 1529.94 801.091 1529.94 Q799.216 1529.94 797.341 1530.35 Q795.489 1530.77 793.545 1531.65 L793.545 1514.29 Z\" fill=\"#000000\" fill-rule=\"nonzero\" fill-opacity=\"1\" /><path clip-path=\"url(#clip350)\" d=\"M833.66 1517.37 Q830.049 1517.37 828.22 1520.93 Q826.415 1524.47 826.415 1531.6 Q826.415 1538.71 828.22 1542.27 Q830.049 1545.82 833.66 1545.82 Q837.294 1545.82 839.1 1542.27 Q840.929 1538.71 840.929 1531.6 Q840.929 1524.47 839.1 1520.93 Q837.294 1517.37 833.66 1517.37 M833.66 1513.66 Q839.47 1513.66 842.526 1518.27 Q845.605 1522.85 845.605 1531.6 Q845.605 1540.33 842.526 1544.94 Q839.47 1549.52 833.66 1549.52 Q827.85 1549.52 824.771 1544.94 Q821.716 1540.33 821.716 1531.6 Q821.716 1522.85 824.771 1518.27 Q827.85 1513.66 833.66 1513.66 Z\" fill=\"#000000\" fill-rule=\"nonzero\" fill-opacity=\"1\" /><path clip-path=\"url(#clip350)\" d=\"M1353.77 1544.91 L1361.41 1544.91 L1361.41 1518.55 L1353.1 1520.21 L1353.1 1515.95 L1361.36 1514.29 L1366.04 1514.29 L1366.04 1544.91 L1373.68 1544.91 L1373.68 1548.85 L1353.77 1548.85 L1353.77 1544.91 Z\" fill=\"#000000\" fill-rule=\"nonzero\" fill-opacity=\"1\" /><path clip-path=\"url(#clip350)\" d=\"M1393.12 1517.37 Q1389.51 1517.37 1387.68 1520.93 Q1385.88 1524.47 1385.88 1531.6 Q1385.88 1538.71 1387.68 1542.27 Q1389.51 1545.82 1393.12 1545.82 Q1396.76 1545.82 1398.56 1542.27 Q1400.39 1538.71 1400.39 1531.6 Q1400.39 1524.47 1398.56 1520.93 Q1396.76 1517.37 1393.12 1517.37 M1393.12 1513.66 Q1398.93 1513.66 1401.99 1518.27 Q1405.07 1522.85 1405.07 1531.6 Q1405.07 1540.33 1401.99 1544.94 Q1398.93 1549.52 1393.12 1549.52 Q1387.31 1549.52 1384.23 1544.94 Q1381.18 1540.33 1381.18 1531.6 Q1381.18 1522.85 1384.23 1518.27 Q1387.31 1513.66 1393.12 1513.66 Z\" fill=\"#000000\" fill-rule=\"nonzero\" fill-opacity=\"1\" /><path clip-path=\"url(#clip350)\" d=\"M1423.28 1517.37 Q1419.67 1517.37 1417.84 1520.93 Q1416.04 1524.47 1416.04 1531.6 Q1416.04 1538.71 1417.84 1542.27 Q1419.67 1545.82 1423.28 1545.82 Q1426.92 1545.82 1428.72 1542.27 Q1430.55 1538.71 1430.55 1531.6 Q1430.55 1524.47 1428.72 1520.93 Q1426.92 1517.37 1423.28 1517.37 M1423.28 1513.66 Q1429.09 1513.66 1432.15 1518.27 Q1435.23 1522.85 1435.23 1531.6 Q1435.23 1540.33 1432.15 1544.94 Q1429.09 1549.52 1423.28 1549.52 Q1417.47 1549.52 1414.39 1544.94 Q1411.34 1540.33 1411.34 1531.6 Q1411.34 1522.85 1414.39 1518.27 Q1417.47 1513.66 1423.28 1513.66 Z\" fill=\"#000000\" fill-rule=\"nonzero\" fill-opacity=\"1\" /><path clip-path=\"url(#clip350)\" d=\"M1929.09 1544.91 L1936.73 1544.91 L1936.73 1518.55 L1928.42 1520.21 L1928.42 1515.95 L1936.68 1514.29 L1941.35 1514.29 L1941.35 1544.91 L1948.99 1544.91 L1948.99 1548.85 L1929.09 1548.85 L1929.09 1544.91 Z\" fill=\"#000000\" fill-rule=\"nonzero\" fill-opacity=\"1\" /><path clip-path=\"url(#clip350)\" d=\"M1958.48 1514.29 L1976.84 1514.29 L1976.84 1518.22 L1962.77 1518.22 L1962.77 1526.7 Q1963.79 1526.35 1964.8 1526.19 Q1965.82 1526 1966.84 1526 Q1972.63 1526 1976.01 1529.17 Q1979.39 1532.34 1979.39 1537.76 Q1979.39 1543.34 1975.91 1546.44 Q1972.44 1549.52 1966.12 1549.52 Q1963.95 1549.52 1961.68 1549.15 Q1959.43 1548.78 1957.03 1548.04 L1957.03 1543.34 Q1959.11 1544.47 1961.33 1545.03 Q1963.55 1545.58 1966.03 1545.58 Q1970.04 1545.58 1972.37 1543.48 Q1974.71 1541.37 1974.71 1537.76 Q1974.71 1534.15 1972.37 1532.04 Q1970.04 1529.94 1966.03 1529.94 Q1964.16 1529.94 1962.28 1530.35 Q1960.43 1530.77 1958.48 1531.65 L1958.48 1514.29 Z\" fill=\"#000000\" fill-rule=\"nonzero\" fill-opacity=\"1\" /><path clip-path=\"url(#clip350)\" d=\"M1998.6 1517.37 Q1994.99 1517.37 1993.16 1520.93 Q1991.35 1524.47 1991.35 1531.6 Q1991.35 1538.71 1993.16 1542.27 Q1994.99 1545.82 1998.6 1545.82 Q2002.23 1545.82 2004.04 1542.27 Q2005.87 1538.71 2005.87 1531.6 Q2005.87 1524.47 2004.04 1520.93 Q2002.23 1517.37 1998.6 1517.37 M1998.6 1513.66 Q2004.41 1513.66 2007.47 1518.27 Q2010.54 1522.85 2010.54 1531.6 Q2010.54 1540.33 2007.47 1544.94 Q2004.41 1549.52 1998.6 1549.52 Q1992.79 1549.52 1989.71 1544.94 Q1986.66 1540.33 1986.66 1531.6 Q1986.66 1522.85 1989.71 1518.27 Q1992.79 1513.66 1998.6 1513.66 Z\" fill=\"#000000\" fill-rule=\"nonzero\" fill-opacity=\"1\" /><polyline clip-path=\"url(#clip350)\" style=\"stroke:#000000; stroke-linecap:round; stroke-linejoin:round; stroke-width:4; stroke-opacity:1; fill:none\" points=\"193.936,1486.45 193.936,47.2441 \"/>\n",
       "<polyline clip-path=\"url(#clip350)\" style=\"stroke:#000000; stroke-linecap:round; stroke-linejoin:round; stroke-width:4; stroke-opacity:1; fill:none\" points=\"193.936,1417.99 212.834,1417.99 \"/>\n",
       "<polyline clip-path=\"url(#clip350)\" style=\"stroke:#000000; stroke-linecap:round; stroke-linejoin:round; stroke-width:4; stroke-opacity:1; fill:none\" points=\"193.936,1090.91 212.834,1090.91 \"/>\n",
       "<polyline clip-path=\"url(#clip350)\" style=\"stroke:#000000; stroke-linecap:round; stroke-linejoin:round; stroke-width:4; stroke-opacity:1; fill:none\" points=\"193.936,763.828 212.834,763.828 \"/>\n",
       "<polyline clip-path=\"url(#clip350)\" style=\"stroke:#000000; stroke-linecap:round; stroke-linejoin:round; stroke-width:4; stroke-opacity:1; fill:none\" points=\"193.936,436.749 212.834,436.749 \"/>\n",
       "<polyline clip-path=\"url(#clip350)\" style=\"stroke:#000000; stroke-linecap:round; stroke-linejoin:round; stroke-width:4; stroke-opacity:1; fill:none\" points=\"193.936,109.669 212.834,109.669 \"/>\n",
       "<path clip-path=\"url(#clip350)\" d=\"M50.9921 1418.44 L80.6679 1418.44 L80.6679 1422.37 L50.9921 1422.37 L50.9921 1418.44 Z\" fill=\"#000000\" fill-rule=\"nonzero\" fill-opacity=\"1\" /><path clip-path=\"url(#clip350)\" d=\"M91.5706 1431.33 L99.2095 1431.33 L99.2095 1404.97 L90.8993 1406.63 L90.8993 1402.37 L99.1632 1400.71 L103.839 1400.71 L103.839 1431.33 L111.478 1431.33 L111.478 1435.27 L91.5706 1435.27 L91.5706 1431.33 Z\" fill=\"#000000\" fill-rule=\"nonzero\" fill-opacity=\"1\" /><path clip-path=\"url(#clip350)\" d=\"M120.922 1429.39 L125.807 1429.39 L125.807 1435.27 L120.922 1435.27 L120.922 1429.39 Z\" fill=\"#000000\" fill-rule=\"nonzero\" fill-opacity=\"1\" /><path clip-path=\"url(#clip350)\" d=\"M145.992 1403.79 Q142.381 1403.79 140.552 1407.35 Q138.746 1410.89 138.746 1418.02 Q138.746 1425.13 140.552 1428.69 Q142.381 1432.23 145.992 1432.23 Q149.626 1432.23 151.431 1428.69 Q153.26 1425.13 153.26 1418.02 Q153.26 1410.89 151.431 1407.35 Q149.626 1403.79 145.992 1403.79 M145.992 1400.08 Q151.802 1400.08 154.857 1404.69 Q157.936 1409.27 157.936 1418.02 Q157.936 1426.75 154.857 1431.36 Q151.802 1435.94 145.992 1435.94 Q140.181 1435.94 137.103 1431.36 Q134.047 1426.75 134.047 1418.02 Q134.047 1409.27 137.103 1404.69 Q140.181 1400.08 145.992 1400.08 Z\" fill=\"#000000\" fill-rule=\"nonzero\" fill-opacity=\"1\" /><path clip-path=\"url(#clip350)\" d=\"M51.9875 1091.36 L81.6633 1091.36 L81.6633 1095.29 L51.9875 1095.29 L51.9875 1091.36 Z\" fill=\"#000000\" fill-rule=\"nonzero\" fill-opacity=\"1\" /><path clip-path=\"url(#clip350)\" d=\"M101.756 1076.71 Q98.1447 1076.71 96.316 1080.27 Q94.5104 1083.81 94.5104 1090.94 Q94.5104 1098.05 96.316 1101.61 Q98.1447 1105.16 101.756 1105.16 Q105.39 1105.16 107.196 1101.61 Q109.024 1098.05 109.024 1090.94 Q109.024 1083.81 107.196 1080.27 Q105.39 1076.71 101.756 1076.71 M101.756 1073 Q107.566 1073 110.621 1077.61 Q113.7 1082.19 113.7 1090.94 Q113.7 1099.67 110.621 1104.28 Q107.566 1108.86 101.756 1108.86 Q95.9456 1108.86 92.8669 1104.28 Q89.8114 1099.67 89.8114 1090.94 Q89.8114 1082.19 92.8669 1077.61 Q95.9456 1073 101.756 1073 Z\" fill=\"#000000\" fill-rule=\"nonzero\" fill-opacity=\"1\" /><path clip-path=\"url(#clip350)\" d=\"M121.918 1102.31 L126.802 1102.31 L126.802 1108.19 L121.918 1108.19 L121.918 1102.31 Z\" fill=\"#000000\" fill-rule=\"nonzero\" fill-opacity=\"1\" /><path clip-path=\"url(#clip350)\" d=\"M137.033 1073.63 L155.39 1073.63 L155.39 1077.56 L141.316 1077.56 L141.316 1086.04 Q142.334 1085.69 143.353 1085.53 Q144.371 1085.34 145.39 1085.34 Q151.177 1085.34 154.556 1088.51 Q157.936 1091.68 157.936 1097.1 Q157.936 1102.68 154.464 1105.78 Q150.992 1108.86 144.672 1108.86 Q142.496 1108.86 140.228 1108.49 Q137.982 1108.12 135.575 1107.38 L135.575 1102.68 Q137.658 1103.81 139.881 1104.37 Q142.103 1104.92 144.58 1104.92 Q148.584 1104.92 150.922 1102.82 Q153.26 1100.71 153.26 1097.1 Q153.26 1093.49 150.922 1091.38 Q148.584 1089.28 144.58 1089.28 Q142.705 1089.28 140.83 1089.69 Q138.978 1090.11 137.033 1090.99 L137.033 1073.63 Z\" fill=\"#000000\" fill-rule=\"nonzero\" fill-opacity=\"1\" /><path clip-path=\"url(#clip350)\" d=\"M100.76 749.627 Q97.1493 749.627 95.3206 753.192 Q93.515 756.733 93.515 763.863 Q93.515 770.969 95.3206 774.534 Q97.1493 778.076 100.76 778.076 Q104.395 778.076 106.2 774.534 Q108.029 770.969 108.029 763.863 Q108.029 756.733 106.2 753.192 Q104.395 749.627 100.76 749.627 M100.76 745.923 Q106.571 745.923 109.626 750.53 Q112.705 755.113 112.705 763.863 Q112.705 772.59 109.626 777.196 Q106.571 781.78 100.76 781.78 Q94.9502 781.78 91.8715 777.196 Q88.816 772.59 88.816 763.863 Q88.816 755.113 91.8715 750.53 Q94.9502 745.923 100.76 745.923 Z\" fill=\"#000000\" fill-rule=\"nonzero\" fill-opacity=\"1\" /><path clip-path=\"url(#clip350)\" d=\"M120.922 775.229 L125.807 775.229 L125.807 781.108 L120.922 781.108 L120.922 775.229 Z\" fill=\"#000000\" fill-rule=\"nonzero\" fill-opacity=\"1\" /><path clip-path=\"url(#clip350)\" d=\"M145.992 749.627 Q142.381 749.627 140.552 753.192 Q138.746 756.733 138.746 763.863 Q138.746 770.969 140.552 774.534 Q142.381 778.076 145.992 778.076 Q149.626 778.076 151.431 774.534 Q153.26 770.969 153.26 763.863 Q153.26 756.733 151.431 753.192 Q149.626 749.627 145.992 749.627 M145.992 745.923 Q151.802 745.923 154.857 750.53 Q157.936 755.113 157.936 763.863 Q157.936 772.59 154.857 777.196 Q151.802 781.78 145.992 781.78 Q140.181 781.78 137.103 777.196 Q134.047 772.59 134.047 763.863 Q134.047 755.113 137.103 750.53 Q140.181 745.923 145.992 745.923 Z\" fill=\"#000000\" fill-rule=\"nonzero\" fill-opacity=\"1\" /><path clip-path=\"url(#clip350)\" d=\"M101.756 422.548 Q98.1447 422.548 96.316 426.112 Q94.5104 429.654 94.5104 436.784 Q94.5104 443.89 96.316 447.455 Q98.1447 450.996 101.756 450.996 Q105.39 450.996 107.196 447.455 Q109.024 443.89 109.024 436.784 Q109.024 429.654 107.196 426.112 Q105.39 422.548 101.756 422.548 M101.756 418.844 Q107.566 418.844 110.621 423.45 Q113.7 428.034 113.7 436.784 Q113.7 445.51 110.621 450.117 Q107.566 454.7 101.756 454.7 Q95.9456 454.7 92.8669 450.117 Q89.8114 445.51 89.8114 436.784 Q89.8114 428.034 92.8669 423.45 Q95.9456 418.844 101.756 418.844 Z\" fill=\"#000000\" fill-rule=\"nonzero\" fill-opacity=\"1\" /><path clip-path=\"url(#clip350)\" d=\"M121.918 448.149 L126.802 448.149 L126.802 454.029 L121.918 454.029 L121.918 448.149 Z\" fill=\"#000000\" fill-rule=\"nonzero\" fill-opacity=\"1\" /><path clip-path=\"url(#clip350)\" d=\"M137.033 419.469 L155.39 419.469 L155.39 423.404 L141.316 423.404 L141.316 431.876 Q142.334 431.529 143.353 431.367 Q144.371 431.182 145.39 431.182 Q151.177 431.182 154.556 434.353 Q157.936 437.524 157.936 442.941 Q157.936 448.52 154.464 451.621 Q150.992 454.7 144.672 454.7 Q142.496 454.7 140.228 454.33 Q137.982 453.959 135.575 453.219 L135.575 448.52 Q137.658 449.654 139.881 450.209 Q142.103 450.765 144.58 450.765 Q148.584 450.765 150.922 448.658 Q153.26 446.552 153.26 442.941 Q153.26 439.33 150.922 437.223 Q148.584 435.117 144.58 435.117 Q142.705 435.117 140.83 435.534 Q138.978 435.95 137.033 436.83 L137.033 419.469 Z\" fill=\"#000000\" fill-rule=\"nonzero\" fill-opacity=\"1\" /><path clip-path=\"url(#clip350)\" d=\"M91.5706 123.014 L99.2095 123.014 L99.2095 96.6486 L90.8993 98.3152 L90.8993 94.056 L99.1632 92.3893 L103.839 92.3893 L103.839 123.014 L111.478 123.014 L111.478 126.949 L91.5706 126.949 L91.5706 123.014 Z\" fill=\"#000000\" fill-rule=\"nonzero\" fill-opacity=\"1\" /><path clip-path=\"url(#clip350)\" d=\"M120.922 121.07 L125.807 121.07 L125.807 126.949 L120.922 126.949 L120.922 121.07 Z\" fill=\"#000000\" fill-rule=\"nonzero\" fill-opacity=\"1\" /><path clip-path=\"url(#clip350)\" d=\"M145.992 95.468 Q142.381 95.468 140.552 99.0328 Q138.746 102.574 138.746 109.704 Q138.746 116.811 140.552 120.375 Q142.381 123.917 145.992 123.917 Q149.626 123.917 151.431 120.375 Q153.26 116.811 153.26 109.704 Q153.26 102.574 151.431 99.0328 Q149.626 95.468 145.992 95.468 M145.992 91.7643 Q151.802 91.7643 154.857 96.3708 Q157.936 100.954 157.936 109.704 Q157.936 118.431 154.857 123.037 Q151.802 127.621 145.992 127.621 Q140.181 127.621 137.103 123.037 Q134.047 118.431 134.047 109.704 Q134.047 100.954 137.103 96.3708 Q140.181 91.7643 145.992 91.7643 Z\" fill=\"#000000\" fill-rule=\"nonzero\" fill-opacity=\"1\" /><polyline clip-path=\"url(#clip352)\" style=\"stroke:#009af9; stroke-linecap:round; stroke-linejoin:round; stroke-width:4; stroke-opacity:1; fill:none\" points=\"255.035,1417.99 266.541,1417.99 278.047,1417.99 289.554,1417.99 301.06,1417.99 312.566,1417.99 324.073,1417.99 335.579,1417.99 347.085,1417.99 358.592,1417.99 370.098,1417.99 381.604,1417.99 393.111,1417.99 404.617,1417.99 416.123,1417.99 427.63,1417.99 439.136,1417.99 450.642,1417.99 462.149,1417.99 473.655,1417.99 485.162,1417.99 496.668,1417.99 508.174,1417.99 519.681,1417.99 531.187,1417.99 542.693,1417.99 554.2,1417.99 565.706,1417.99 577.212,1417.99 588.719,1417.99 600.225,1417.99 611.731,1417.99 623.238,1417.99 634.744,1417.99 646.25,1417.99 657.757,1417.99 669.263,1417.99 680.769,1417.99 692.276,1417.99 703.782,1417.99 715.288,1417.99 726.795,1417.99 738.301,1417.99 749.807,1417.99 761.314,1417.99 772.82,1417.99 784.326,1417.99 795.833,1417.99 807.339,1417.99 818.845,1417.99 830.352,1417.99 841.858,1417.99 853.364,1417.99 864.871,1417.99 876.377,1417.99 887.883,1417.99 899.39,1417.99 910.896,1417.99 922.403,1417.99 933.909,763.828 945.415,763.828 956.922,763.828 968.428,763.828 979.934,763.828 991.441,763.828 1002.95,763.828 1014.45,763.828 1025.96,763.828 1037.47,763.828 1048.97,763.828 1060.48,763.828 1071.98,763.828 1083.49,763.828 1095,763.828 1106.5,763.828 1118.01,763.828 1129.52,763.828 1141.02,763.828 1152.53,763.828 1164.04,763.828 1175.54,763.828 1187.05,763.828 1198.55,763.828 1210.06,763.828 1221.57,763.828 1233.07,763.828 1244.58,763.828 1256.09,763.828 1267.59,763.828 1279.1,763.828 1290.61,763.828 1302.11,763.828 1313.62,763.828 1325.12,763.828 1336.63,763.828 1348.14,763.828 1359.64,763.828 1371.15,763.828 1382.66,763.828 1394.16,763.828 1405.67,763.828 1417.18,763.828 1428.68,763.828 1440.19,763.828 1451.69,763.828 1463.2,763.828 1474.71,763.828 1486.21,763.828 1497.72,763.828 1509.23,763.828 1520.73,763.828 1532.24,763.828 1543.74,763.828 1555.25,763.828 1566.76,763.828 1578.26,763.828 1589.77,763.828 1601.28,763.828 1612.78,763.828 1624.29,763.828 1635.8,763.828 1647.3,763.828 1658.81,763.828 1670.31,763.828 1681.82,763.828 1693.33,763.828 1704.83,763.828 1716.34,763.828 1727.85,763.828 1739.35,763.828 1750.86,109.669 1762.37,109.669 1773.87,109.669 1785.38,109.669 1796.88,109.669 1808.39,109.669 1819.9,109.669 1831.4,109.669 1842.91,109.669 1854.42,109.669 1865.92,109.669 1877.43,109.669 1888.94,109.669 1900.44,109.669 1911.95,109.669 1923.45,109.669 1934.96,109.669 1946.47,109.669 1957.97,109.669 1969.48,109.669 1980.99,109.669 1992.49,109.669 2004,109.669 2015.51,109.669 2027.01,109.669 2038.52,109.669 2050.02,109.669 2061.53,109.669 2073.04,109.669 2084.54,109.669 2096.05,109.669 2107.56,109.669 2119.06,109.669 2130.57,109.669 2142.07,109.669 2153.58,109.669 2165.09,109.669 2176.59,109.669 2188.1,109.669 2199.61,109.669 2211.11,109.669 2222.62,109.669 2234.13,109.669 2245.63,109.669 2257.14,109.669 2268.64,109.669 2280.15,109.669 2291.66,109.669 \"/>\n",
       "<polyline clip-path=\"url(#clip352)\" style=\"stroke:#e26f46; stroke-linecap:round; stroke-linejoin:round; stroke-width:4; stroke-opacity:1; fill:none\" points=\"255.035,1431.43 266.541,1411.76 278.047,1416.28 289.554,1414.24 301.06,1417.27 312.566,1421.62 324.073,1417.85 335.579,1407.97 347.085,1418.59 358.592,1419.22 370.098,1407.8 381.604,1431.32 393.111,1402.12 404.617,1417.98 416.123,1422.22 427.63,1432.51 439.136,1414.17 450.642,1419.91 462.149,1410.15 473.655,1414.62 485.162,1409.16 496.668,1417.15 508.174,1434.46 519.681,1419.51 531.187,1409.14 542.693,1415.71 554.2,1435.66 565.706,1413.24 577.212,1417.95 588.719,1402.68 600.225,1415.22 611.731,1437.87 623.238,1411.68 634.744,1416.71 646.25,1445.72 657.757,1421.4 669.263,1407.66 680.769,1403.19 692.276,1424.78 703.782,1421.95 715.288,1429.42 726.795,1416.48 738.301,1409.16 749.807,1417.32 761.314,1424.37 772.82,1417.44 784.326,1419.4 795.833,1430.25 807.339,1425.4 818.845,1413.04 830.352,1414.88 841.858,1414.48 853.364,1424.69 864.871,1416.23 876.377,1408.14 887.883,1413.33 899.39,1400.58 910.896,1406.62 922.403,1416.88 933.909,760.966 945.415,763 956.922,765.553 968.428,763.837 979.934,761.009 991.441,766.735 1002.95,764.125 1014.45,762.115 1025.96,773.003 1037.47,763.73 1048.97,763.319 1060.48,762.074 1071.98,767.013 1083.49,755.902 1095,763.218 1106.5,763.837 1118.01,760.06 1129.52,759.768 1141.02,765.834 1152.53,764.106 1164.04,765.598 1175.54,757.911 1187.05,784.605 1198.55,755.261 1210.06,752.27 1221.57,761.183 1233.07,764.514 1244.58,762.998 1256.09,766.274 1267.59,763.054 1279.1,774.333 1290.61,768.063 1302.11,760.125 1313.62,755.536 1325.12,758.451 1336.63,763.124 1348.14,763.597 1359.64,765.034 1371.15,779.943 1382.66,767.9 1394.16,766.355 1405.67,761.208 1417.18,778.073 1428.68,761.967 1440.19,754.467 1451.69,747.555 1463.2,764.17 1474.71,742.589 1486.21,779.301 1497.72,771.053 1509.23,767.223 1520.73,764.738 1532.24,773.846 1543.74,765.142 1555.25,762.999 1566.76,765.929 1578.26,764.9 1589.77,765.017 1601.28,758.88 1612.78,762.315 1624.29,768.688 1635.8,762.809 1647.3,766.143 1658.81,763.117 1670.31,760.099 1681.82,765.841 1693.33,766.726 1704.83,760.19 1716.34,758.706 1727.85,762.856 1739.35,762.045 1750.86,109.68 1762.37,106.574 1773.87,112.705 1785.38,111.856 1796.88,110.438 1808.39,112.554 1819.9,110.58 1831.4,115.357 1842.91,111.075 1854.42,100.678 1865.92,109.545 1877.43,114.359 1888.94,120.524 1900.44,110.393 1911.95,111.372 1923.45,111.989 1934.96,108.42 1946.47,97.5161 1957.97,111.688 1969.48,87.9763 1980.99,111.357 1992.49,117.325 2004,105.967 2015.51,106.101 2027.01,105.742 2038.52,114.683 2050.02,118.111 2061.53,111.04 2073.04,113.724 2084.54,103.984 2096.05,119.697 2107.56,115.211 2119.06,106.892 2130.57,112.536 2142.07,108.279 2153.58,109.753 2165.09,108.875 2176.59,107.953 2188.1,115.944 2199.61,112.806 2211.11,105.993 2222.62,109.829 2234.13,110.709 2245.63,107.343 2257.14,104.96 2268.64,122.308 2280.15,113.084 2291.66,110.116 \"/>\n",
       "<path clip-path=\"url(#clip350)\" d=\"M265.897 250.738 L586.014 250.738 L586.014 95.2176 L265.897 95.2176  Z\" fill=\"#ffffff\" fill-rule=\"evenodd\" fill-opacity=\"1\"/>\n",
       "<polyline clip-path=\"url(#clip350)\" style=\"stroke:#000000; stroke-linecap:round; stroke-linejoin:round; stroke-width:4; stroke-opacity:1; fill:none\" points=\"265.897,250.738 586.014,250.738 586.014,95.2176 265.897,95.2176 265.897,250.738 \"/>\n",
       "<polyline clip-path=\"url(#clip350)\" style=\"stroke:#009af9; stroke-linecap:round; stroke-linejoin:round; stroke-width:4; stroke-opacity:1; fill:none\" points=\"289.884,147.058 433.805,147.058 \"/>\n",
       "<path clip-path=\"url(#clip350)\" d=\"M462.468 133.62 L462.468 160.495 L468.116 160.495 Q475.269 160.495 478.579 157.254 Q481.912 154.014 481.912 147.023 Q481.912 140.078 478.579 136.861 Q475.269 133.62 468.116 133.62 L462.468 133.62 M457.792 129.778 L467.398 129.778 Q477.444 129.778 482.143 133.967 Q486.843 138.134 486.843 147.023 Q486.843 155.958 482.12 160.148 Q477.398 164.338 467.398 164.338 L457.792 164.338 L457.792 129.778 Z\" fill=\"#000000\" fill-rule=\"nonzero\" fill-opacity=\"1\" /><path clip-path=\"url(#clip350)\" d=\"M505.893 151.305 Q500.731 151.305 498.741 152.486 Q496.75 153.666 496.75 156.514 Q496.75 158.782 498.231 160.125 Q499.736 161.444 502.305 161.444 Q505.847 161.444 507.977 158.944 Q510.129 156.421 510.129 152.254 L510.129 151.305 L505.893 151.305 M514.389 149.546 L514.389 164.338 L510.129 164.338 L510.129 160.402 Q508.671 162.763 506.495 163.898 Q504.319 165.009 501.171 165.009 Q497.19 165.009 494.829 162.787 Q492.491 160.541 492.491 156.791 Q492.491 152.416 495.407 150.194 Q498.347 147.972 504.157 147.972 L510.129 147.972 L510.129 147.555 Q510.129 144.615 508.185 143.018 Q506.264 141.398 502.768 141.398 Q500.546 141.398 498.44 141.93 Q496.333 142.463 494.389 143.527 L494.389 139.592 Q496.727 138.69 498.926 138.25 Q501.125 137.787 503.208 137.787 Q508.833 137.787 511.611 140.703 Q514.389 143.62 514.389 149.546 Z\" fill=\"#000000\" fill-rule=\"nonzero\" fill-opacity=\"1\" /><path clip-path=\"url(#clip350)\" d=\"M527.375 131.051 L527.375 138.412 L536.148 138.412 L536.148 141.722 L527.375 141.722 L527.375 155.796 Q527.375 158.967 528.231 159.87 Q529.111 160.773 531.773 160.773 L536.148 160.773 L536.148 164.338 L531.773 164.338 Q526.842 164.338 524.967 162.509 Q523.092 160.657 523.092 155.796 L523.092 141.722 L519.967 141.722 L519.967 138.412 L523.092 138.412 L523.092 131.051 L527.375 131.051 Z\" fill=\"#000000\" fill-rule=\"nonzero\" fill-opacity=\"1\" /><path clip-path=\"url(#clip350)\" d=\"M553.532 151.305 Q548.37 151.305 546.379 152.486 Q544.389 153.666 544.389 156.514 Q544.389 158.782 545.87 160.125 Q547.375 161.444 549.944 161.444 Q553.486 161.444 555.615 158.944 Q557.768 156.421 557.768 152.254 L557.768 151.305 L553.532 151.305 M562.027 149.546 L562.027 164.338 L557.768 164.338 L557.768 160.402 Q556.31 162.763 554.134 163.898 Q551.958 165.009 548.81 165.009 Q544.828 165.009 542.467 162.787 Q540.129 160.541 540.129 156.791 Q540.129 152.416 543.046 150.194 Q545.986 147.972 551.796 147.972 L557.768 147.972 L557.768 147.555 Q557.768 144.615 555.824 143.018 Q553.902 141.398 550.407 141.398 Q548.185 141.398 546.078 141.93 Q543.972 142.463 542.027 143.527 L542.027 139.592 Q544.365 138.69 546.564 138.25 Q548.763 137.787 550.847 137.787 Q556.472 137.787 559.25 140.703 Q562.027 143.62 562.027 149.546 Z\" fill=\"#000000\" fill-rule=\"nonzero\" fill-opacity=\"1\" /><polyline clip-path=\"url(#clip350)\" style=\"stroke:#e26f46; stroke-linecap:round; stroke-linejoin:round; stroke-width:4; stroke-opacity:1; fill:none\" points=\"289.884,198.898 433.805,198.898 \"/>\n",
       "<path clip-path=\"url(#clip350)\" d=\"M457.792 181.618 L477.653 181.618 L477.653 185.553 L462.468 185.553 L462.468 195.738 L476.171 195.738 L476.171 199.673 L462.468 199.673 L462.468 216.178 L457.792 216.178 L457.792 181.618 Z\" fill=\"#000000\" fill-rule=\"nonzero\" fill-opacity=\"1\" /><path clip-path=\"url(#clip350)\" d=\"M481.426 190.252 L485.685 190.252 L485.685 216.178 L481.426 216.178 L481.426 190.252 M481.426 180.159 L485.685 180.159 L485.685 185.553 L481.426 185.553 L481.426 180.159 Z\" fill=\"#000000\" fill-rule=\"nonzero\" fill-opacity=\"1\" /><path clip-path=\"url(#clip350)\" d=\"M498.81 182.891 L498.81 190.252 L507.583 190.252 L507.583 193.562 L498.81 193.562 L498.81 207.636 Q498.81 210.807 499.667 211.71 Q500.546 212.613 503.208 212.613 L507.583 212.613 L507.583 216.178 L503.208 216.178 Q498.278 216.178 496.403 214.349 Q494.528 212.497 494.528 207.636 L494.528 193.562 L491.403 193.562 L491.403 190.252 L494.528 190.252 L494.528 182.891 L498.81 182.891 Z\" fill=\"#000000\" fill-rule=\"nonzero\" fill-opacity=\"1\" /></svg>\n"
      ],
      "text/html": [
       "<?xml version=\"1.0\" encoding=\"utf-8\"?>\n",
       "<svg xmlns=\"http://www.w3.org/2000/svg\" xmlns:xlink=\"http://www.w3.org/1999/xlink\" width=\"600\" height=\"400\" viewBox=\"0 0 2400 1600\">\n",
       "<defs>\n",
       "  <clipPath id=\"clip400\">\n",
       "    <rect x=\"0\" y=\"0\" width=\"2400\" height=\"1600\"/>\n",
       "  </clipPath>\n",
       "</defs>\n",
       "<path clip-path=\"url(#clip400)\" d=\"M0 1600 L2400 1600 L2400 0 L0 0  Z\" fill=\"#ffffff\" fill-rule=\"evenodd\" fill-opacity=\"1\"/>\n",
       "<defs>\n",
       "  <clipPath id=\"clip401\">\n",
       "    <rect x=\"480\" y=\"0\" width=\"1681\" height=\"1600\"/>\n",
       "  </clipPath>\n",
       "</defs>\n",
       "<path clip-path=\"url(#clip400)\" d=\"M193.936 1486.45 L2352.76 1486.45 L2352.76 47.2441 L193.936 47.2441  Z\" fill=\"#ffffff\" fill-rule=\"evenodd\" fill-opacity=\"1\"/>\n",
       "<defs>\n",
       "  <clipPath id=\"clip402\">\n",
       "    <rect x=\"193\" y=\"47\" width=\"2160\" height=\"1440\"/>\n",
       "  </clipPath>\n",
       "</defs>\n",
       "<polyline clip-path=\"url(#clip402)\" style=\"stroke:#000000; stroke-linecap:round; stroke-linejoin:round; stroke-width:2; stroke-opacity:0.1; fill:none\" points=\"243.528,1486.45 243.528,47.2441 \"/>\n",
       "<polyline clip-path=\"url(#clip402)\" style=\"stroke:#000000; stroke-linecap:round; stroke-linejoin:round; stroke-width:2; stroke-opacity:0.1; fill:none\" points=\"818.845,1486.45 818.845,47.2441 \"/>\n",
       "<polyline clip-path=\"url(#clip402)\" style=\"stroke:#000000; stroke-linecap:round; stroke-linejoin:round; stroke-width:2; stroke-opacity:0.1; fill:none\" points=\"1394.16,1486.45 1394.16,47.2441 \"/>\n",
       "<polyline clip-path=\"url(#clip402)\" style=\"stroke:#000000; stroke-linecap:round; stroke-linejoin:round; stroke-width:2; stroke-opacity:0.1; fill:none\" points=\"1969.48,1486.45 1969.48,47.2441 \"/>\n",
       "<polyline clip-path=\"url(#clip402)\" style=\"stroke:#000000; stroke-linecap:round; stroke-linejoin:round; stroke-width:2; stroke-opacity:0.1; fill:none\" points=\"193.936,1417.99 2352.76,1417.99 \"/>\n",
       "<polyline clip-path=\"url(#clip402)\" style=\"stroke:#000000; stroke-linecap:round; stroke-linejoin:round; stroke-width:2; stroke-opacity:0.1; fill:none\" points=\"193.936,1090.91 2352.76,1090.91 \"/>\n",
       "<polyline clip-path=\"url(#clip402)\" style=\"stroke:#000000; stroke-linecap:round; stroke-linejoin:round; stroke-width:2; stroke-opacity:0.1; fill:none\" points=\"193.936,763.828 2352.76,763.828 \"/>\n",
       "<polyline clip-path=\"url(#clip402)\" style=\"stroke:#000000; stroke-linecap:round; stroke-linejoin:round; stroke-width:2; stroke-opacity:0.1; fill:none\" points=\"193.936,436.749 2352.76,436.749 \"/>\n",
       "<polyline clip-path=\"url(#clip402)\" style=\"stroke:#000000; stroke-linecap:round; stroke-linejoin:round; stroke-width:2; stroke-opacity:0.1; fill:none\" points=\"193.936,109.669 2352.76,109.669 \"/>\n",
       "<polyline clip-path=\"url(#clip400)\" style=\"stroke:#000000; stroke-linecap:round; stroke-linejoin:round; stroke-width:4; stroke-opacity:1; fill:none\" points=\"193.936,1486.45 2352.76,1486.45 \"/>\n",
       "<polyline clip-path=\"url(#clip400)\" style=\"stroke:#000000; stroke-linecap:round; stroke-linejoin:round; stroke-width:4; stroke-opacity:1; fill:none\" points=\"243.528,1486.45 243.528,1467.55 \"/>\n",
       "<polyline clip-path=\"url(#clip400)\" style=\"stroke:#000000; stroke-linecap:round; stroke-linejoin:round; stroke-width:4; stroke-opacity:1; fill:none\" points=\"818.845,1486.45 818.845,1467.55 \"/>\n",
       "<polyline clip-path=\"url(#clip400)\" style=\"stroke:#000000; stroke-linecap:round; stroke-linejoin:round; stroke-width:4; stroke-opacity:1; fill:none\" points=\"1394.16,1486.45 1394.16,1467.55 \"/>\n",
       "<polyline clip-path=\"url(#clip400)\" style=\"stroke:#000000; stroke-linecap:round; stroke-linejoin:round; stroke-width:4; stroke-opacity:1; fill:none\" points=\"1969.48,1486.45 1969.48,1467.55 \"/>\n",
       "<path clip-path=\"url(#clip400)\" d=\"M243.528 1517.37 Q239.917 1517.37 238.089 1520.93 Q236.283 1524.47 236.283 1531.6 Q236.283 1538.71 238.089 1542.27 Q239.917 1545.82 243.528 1545.82 Q247.163 1545.82 248.968 1542.27 Q250.797 1538.71 250.797 1531.6 Q250.797 1524.47 248.968 1520.93 Q247.163 1517.37 243.528 1517.37 M243.528 1513.66 Q249.338 1513.66 252.394 1518.27 Q255.473 1522.85 255.473 1531.6 Q255.473 1540.33 252.394 1544.94 Q249.338 1549.52 243.528 1549.52 Q237.718 1549.52 234.639 1544.94 Q231.584 1540.33 231.584 1531.6 Q231.584 1522.85 234.639 1518.27 Q237.718 1513.66 243.528 1513.66 Z\" fill=\"#000000\" fill-rule=\"nonzero\" fill-opacity=\"1\" /><path clip-path=\"url(#clip400)\" d=\"M793.545 1514.29 L811.901 1514.29 L811.901 1518.22 L797.827 1518.22 L797.827 1526.7 Q798.846 1526.35 799.864 1526.19 Q800.883 1526 801.901 1526 Q807.688 1526 811.068 1529.17 Q814.447 1532.34 814.447 1537.76 Q814.447 1543.34 810.975 1546.44 Q807.503 1549.52 801.183 1549.52 Q799.008 1549.52 796.739 1549.15 Q794.494 1548.78 792.086 1548.04 L792.086 1543.34 Q794.17 1544.47 796.392 1545.03 Q798.614 1545.58 801.091 1545.58 Q805.096 1545.58 807.433 1543.48 Q809.771 1541.37 809.771 1537.76 Q809.771 1534.15 807.433 1532.04 Q805.096 1529.94 801.091 1529.94 Q799.216 1529.94 797.341 1530.35 Q795.489 1530.77 793.545 1531.65 L793.545 1514.29 Z\" fill=\"#000000\" fill-rule=\"nonzero\" fill-opacity=\"1\" /><path clip-path=\"url(#clip400)\" d=\"M833.66 1517.37 Q830.049 1517.37 828.22 1520.93 Q826.415 1524.47 826.415 1531.6 Q826.415 1538.71 828.22 1542.27 Q830.049 1545.82 833.66 1545.82 Q837.294 1545.82 839.1 1542.27 Q840.929 1538.71 840.929 1531.6 Q840.929 1524.47 839.1 1520.93 Q837.294 1517.37 833.66 1517.37 M833.66 1513.66 Q839.47 1513.66 842.526 1518.27 Q845.605 1522.85 845.605 1531.6 Q845.605 1540.33 842.526 1544.94 Q839.47 1549.52 833.66 1549.52 Q827.85 1549.52 824.771 1544.94 Q821.716 1540.33 821.716 1531.6 Q821.716 1522.85 824.771 1518.27 Q827.85 1513.66 833.66 1513.66 Z\" fill=\"#000000\" fill-rule=\"nonzero\" fill-opacity=\"1\" /><path clip-path=\"url(#clip400)\" d=\"M1353.77 1544.91 L1361.41 1544.91 L1361.41 1518.55 L1353.1 1520.21 L1353.1 1515.95 L1361.36 1514.29 L1366.04 1514.29 L1366.04 1544.91 L1373.68 1544.91 L1373.68 1548.85 L1353.77 1548.85 L1353.77 1544.91 Z\" fill=\"#000000\" fill-rule=\"nonzero\" fill-opacity=\"1\" /><path clip-path=\"url(#clip400)\" d=\"M1393.12 1517.37 Q1389.51 1517.37 1387.68 1520.93 Q1385.88 1524.47 1385.88 1531.6 Q1385.88 1538.71 1387.68 1542.27 Q1389.51 1545.82 1393.12 1545.82 Q1396.76 1545.82 1398.56 1542.27 Q1400.39 1538.71 1400.39 1531.6 Q1400.39 1524.47 1398.56 1520.93 Q1396.76 1517.37 1393.12 1517.37 M1393.12 1513.66 Q1398.93 1513.66 1401.99 1518.27 Q1405.07 1522.85 1405.07 1531.6 Q1405.07 1540.33 1401.99 1544.94 Q1398.93 1549.52 1393.12 1549.52 Q1387.31 1549.52 1384.23 1544.94 Q1381.18 1540.33 1381.18 1531.6 Q1381.18 1522.85 1384.23 1518.27 Q1387.31 1513.66 1393.12 1513.66 Z\" fill=\"#000000\" fill-rule=\"nonzero\" fill-opacity=\"1\" /><path clip-path=\"url(#clip400)\" d=\"M1423.28 1517.37 Q1419.67 1517.37 1417.84 1520.93 Q1416.04 1524.47 1416.04 1531.6 Q1416.04 1538.71 1417.84 1542.27 Q1419.67 1545.82 1423.28 1545.82 Q1426.92 1545.82 1428.72 1542.27 Q1430.55 1538.71 1430.55 1531.6 Q1430.55 1524.47 1428.72 1520.93 Q1426.92 1517.37 1423.28 1517.37 M1423.28 1513.66 Q1429.09 1513.66 1432.15 1518.27 Q1435.23 1522.85 1435.23 1531.6 Q1435.23 1540.33 1432.15 1544.94 Q1429.09 1549.52 1423.28 1549.52 Q1417.47 1549.52 1414.39 1544.94 Q1411.34 1540.33 1411.34 1531.6 Q1411.34 1522.85 1414.39 1518.27 Q1417.47 1513.66 1423.28 1513.66 Z\" fill=\"#000000\" fill-rule=\"nonzero\" fill-opacity=\"1\" /><path clip-path=\"url(#clip400)\" d=\"M1929.09 1544.91 L1936.73 1544.91 L1936.73 1518.55 L1928.42 1520.21 L1928.42 1515.95 L1936.68 1514.29 L1941.35 1514.29 L1941.35 1544.91 L1948.99 1544.91 L1948.99 1548.85 L1929.09 1548.85 L1929.09 1544.91 Z\" fill=\"#000000\" fill-rule=\"nonzero\" fill-opacity=\"1\" /><path clip-path=\"url(#clip400)\" d=\"M1958.48 1514.29 L1976.84 1514.29 L1976.84 1518.22 L1962.77 1518.22 L1962.77 1526.7 Q1963.79 1526.35 1964.8 1526.19 Q1965.82 1526 1966.84 1526 Q1972.63 1526 1976.01 1529.17 Q1979.39 1532.34 1979.39 1537.76 Q1979.39 1543.34 1975.91 1546.44 Q1972.44 1549.52 1966.12 1549.52 Q1963.95 1549.52 1961.68 1549.15 Q1959.43 1548.78 1957.03 1548.04 L1957.03 1543.34 Q1959.11 1544.47 1961.33 1545.03 Q1963.55 1545.58 1966.03 1545.58 Q1970.04 1545.58 1972.37 1543.48 Q1974.71 1541.37 1974.71 1537.76 Q1974.71 1534.15 1972.37 1532.04 Q1970.04 1529.94 1966.03 1529.94 Q1964.16 1529.94 1962.28 1530.35 Q1960.43 1530.77 1958.48 1531.65 L1958.48 1514.29 Z\" fill=\"#000000\" fill-rule=\"nonzero\" fill-opacity=\"1\" /><path clip-path=\"url(#clip400)\" d=\"M1998.6 1517.37 Q1994.99 1517.37 1993.16 1520.93 Q1991.35 1524.47 1991.35 1531.6 Q1991.35 1538.71 1993.16 1542.27 Q1994.99 1545.82 1998.6 1545.82 Q2002.23 1545.82 2004.04 1542.27 Q2005.87 1538.71 2005.87 1531.6 Q2005.87 1524.47 2004.04 1520.93 Q2002.23 1517.37 1998.6 1517.37 M1998.6 1513.66 Q2004.41 1513.66 2007.47 1518.27 Q2010.54 1522.85 2010.54 1531.6 Q2010.54 1540.33 2007.47 1544.94 Q2004.41 1549.52 1998.6 1549.52 Q1992.79 1549.52 1989.71 1544.94 Q1986.66 1540.33 1986.66 1531.6 Q1986.66 1522.85 1989.71 1518.27 Q1992.79 1513.66 1998.6 1513.66 Z\" fill=\"#000000\" fill-rule=\"nonzero\" fill-opacity=\"1\" /><polyline clip-path=\"url(#clip400)\" style=\"stroke:#000000; stroke-linecap:round; stroke-linejoin:round; stroke-width:4; stroke-opacity:1; fill:none\" points=\"193.936,1486.45 193.936,47.2441 \"/>\n",
       "<polyline clip-path=\"url(#clip400)\" style=\"stroke:#000000; stroke-linecap:round; stroke-linejoin:round; stroke-width:4; stroke-opacity:1; fill:none\" points=\"193.936,1417.99 212.834,1417.99 \"/>\n",
       "<polyline clip-path=\"url(#clip400)\" style=\"stroke:#000000; stroke-linecap:round; stroke-linejoin:round; stroke-width:4; stroke-opacity:1; fill:none\" points=\"193.936,1090.91 212.834,1090.91 \"/>\n",
       "<polyline clip-path=\"url(#clip400)\" style=\"stroke:#000000; stroke-linecap:round; stroke-linejoin:round; stroke-width:4; stroke-opacity:1; fill:none\" points=\"193.936,763.828 212.834,763.828 \"/>\n",
       "<polyline clip-path=\"url(#clip400)\" style=\"stroke:#000000; stroke-linecap:round; stroke-linejoin:round; stroke-width:4; stroke-opacity:1; fill:none\" points=\"193.936,436.749 212.834,436.749 \"/>\n",
       "<polyline clip-path=\"url(#clip400)\" style=\"stroke:#000000; stroke-linecap:round; stroke-linejoin:round; stroke-width:4; stroke-opacity:1; fill:none\" points=\"193.936,109.669 212.834,109.669 \"/>\n",
       "<path clip-path=\"url(#clip400)\" d=\"M50.9921 1418.44 L80.6679 1418.44 L80.6679 1422.37 L50.9921 1422.37 L50.9921 1418.44 Z\" fill=\"#000000\" fill-rule=\"nonzero\" fill-opacity=\"1\" /><path clip-path=\"url(#clip400)\" d=\"M91.5706 1431.33 L99.2095 1431.33 L99.2095 1404.97 L90.8993 1406.63 L90.8993 1402.37 L99.1632 1400.71 L103.839 1400.71 L103.839 1431.33 L111.478 1431.33 L111.478 1435.27 L91.5706 1435.27 L91.5706 1431.33 Z\" fill=\"#000000\" fill-rule=\"nonzero\" fill-opacity=\"1\" /><path clip-path=\"url(#clip400)\" d=\"M120.922 1429.39 L125.807 1429.39 L125.807 1435.27 L120.922 1435.27 L120.922 1429.39 Z\" fill=\"#000000\" fill-rule=\"nonzero\" fill-opacity=\"1\" /><path clip-path=\"url(#clip400)\" d=\"M145.992 1403.79 Q142.381 1403.79 140.552 1407.35 Q138.746 1410.89 138.746 1418.02 Q138.746 1425.13 140.552 1428.69 Q142.381 1432.23 145.992 1432.23 Q149.626 1432.23 151.431 1428.69 Q153.26 1425.13 153.26 1418.02 Q153.26 1410.89 151.431 1407.35 Q149.626 1403.79 145.992 1403.79 M145.992 1400.08 Q151.802 1400.08 154.857 1404.69 Q157.936 1409.27 157.936 1418.02 Q157.936 1426.75 154.857 1431.36 Q151.802 1435.94 145.992 1435.94 Q140.181 1435.94 137.103 1431.36 Q134.047 1426.75 134.047 1418.02 Q134.047 1409.27 137.103 1404.69 Q140.181 1400.08 145.992 1400.08 Z\" fill=\"#000000\" fill-rule=\"nonzero\" fill-opacity=\"1\" /><path clip-path=\"url(#clip400)\" d=\"M51.9875 1091.36 L81.6633 1091.36 L81.6633 1095.29 L51.9875 1095.29 L51.9875 1091.36 Z\" fill=\"#000000\" fill-rule=\"nonzero\" fill-opacity=\"1\" /><path clip-path=\"url(#clip400)\" d=\"M101.756 1076.71 Q98.1447 1076.71 96.316 1080.27 Q94.5104 1083.81 94.5104 1090.94 Q94.5104 1098.05 96.316 1101.61 Q98.1447 1105.16 101.756 1105.16 Q105.39 1105.16 107.196 1101.61 Q109.024 1098.05 109.024 1090.94 Q109.024 1083.81 107.196 1080.27 Q105.39 1076.71 101.756 1076.71 M101.756 1073 Q107.566 1073 110.621 1077.61 Q113.7 1082.19 113.7 1090.94 Q113.7 1099.67 110.621 1104.28 Q107.566 1108.86 101.756 1108.86 Q95.9456 1108.86 92.8669 1104.28 Q89.8114 1099.67 89.8114 1090.94 Q89.8114 1082.19 92.8669 1077.61 Q95.9456 1073 101.756 1073 Z\" fill=\"#000000\" fill-rule=\"nonzero\" fill-opacity=\"1\" /><path clip-path=\"url(#clip400)\" d=\"M121.918 1102.31 L126.802 1102.31 L126.802 1108.19 L121.918 1108.19 L121.918 1102.31 Z\" fill=\"#000000\" fill-rule=\"nonzero\" fill-opacity=\"1\" /><path clip-path=\"url(#clip400)\" d=\"M137.033 1073.63 L155.39 1073.63 L155.39 1077.56 L141.316 1077.56 L141.316 1086.04 Q142.334 1085.69 143.353 1085.53 Q144.371 1085.34 145.39 1085.34 Q151.177 1085.34 154.556 1088.51 Q157.936 1091.68 157.936 1097.1 Q157.936 1102.68 154.464 1105.78 Q150.992 1108.86 144.672 1108.86 Q142.496 1108.86 140.228 1108.49 Q137.982 1108.12 135.575 1107.38 L135.575 1102.68 Q137.658 1103.81 139.881 1104.37 Q142.103 1104.92 144.58 1104.92 Q148.584 1104.92 150.922 1102.82 Q153.26 1100.71 153.26 1097.1 Q153.26 1093.49 150.922 1091.38 Q148.584 1089.28 144.58 1089.28 Q142.705 1089.28 140.83 1089.69 Q138.978 1090.11 137.033 1090.99 L137.033 1073.63 Z\" fill=\"#000000\" fill-rule=\"nonzero\" fill-opacity=\"1\" /><path clip-path=\"url(#clip400)\" d=\"M100.76 749.627 Q97.1493 749.627 95.3206 753.192 Q93.515 756.733 93.515 763.863 Q93.515 770.969 95.3206 774.534 Q97.1493 778.076 100.76 778.076 Q104.395 778.076 106.2 774.534 Q108.029 770.969 108.029 763.863 Q108.029 756.733 106.2 753.192 Q104.395 749.627 100.76 749.627 M100.76 745.923 Q106.571 745.923 109.626 750.53 Q112.705 755.113 112.705 763.863 Q112.705 772.59 109.626 777.196 Q106.571 781.78 100.76 781.78 Q94.9502 781.78 91.8715 777.196 Q88.816 772.59 88.816 763.863 Q88.816 755.113 91.8715 750.53 Q94.9502 745.923 100.76 745.923 Z\" fill=\"#000000\" fill-rule=\"nonzero\" fill-opacity=\"1\" /><path clip-path=\"url(#clip400)\" d=\"M120.922 775.229 L125.807 775.229 L125.807 781.108 L120.922 781.108 L120.922 775.229 Z\" fill=\"#000000\" fill-rule=\"nonzero\" fill-opacity=\"1\" /><path clip-path=\"url(#clip400)\" d=\"M145.992 749.627 Q142.381 749.627 140.552 753.192 Q138.746 756.733 138.746 763.863 Q138.746 770.969 140.552 774.534 Q142.381 778.076 145.992 778.076 Q149.626 778.076 151.431 774.534 Q153.26 770.969 153.26 763.863 Q153.26 756.733 151.431 753.192 Q149.626 749.627 145.992 749.627 M145.992 745.923 Q151.802 745.923 154.857 750.53 Q157.936 755.113 157.936 763.863 Q157.936 772.59 154.857 777.196 Q151.802 781.78 145.992 781.78 Q140.181 781.78 137.103 777.196 Q134.047 772.59 134.047 763.863 Q134.047 755.113 137.103 750.53 Q140.181 745.923 145.992 745.923 Z\" fill=\"#000000\" fill-rule=\"nonzero\" fill-opacity=\"1\" /><path clip-path=\"url(#clip400)\" d=\"M101.756 422.548 Q98.1447 422.548 96.316 426.112 Q94.5104 429.654 94.5104 436.784 Q94.5104 443.89 96.316 447.455 Q98.1447 450.996 101.756 450.996 Q105.39 450.996 107.196 447.455 Q109.024 443.89 109.024 436.784 Q109.024 429.654 107.196 426.112 Q105.39 422.548 101.756 422.548 M101.756 418.844 Q107.566 418.844 110.621 423.45 Q113.7 428.034 113.7 436.784 Q113.7 445.51 110.621 450.117 Q107.566 454.7 101.756 454.7 Q95.9456 454.7 92.8669 450.117 Q89.8114 445.51 89.8114 436.784 Q89.8114 428.034 92.8669 423.45 Q95.9456 418.844 101.756 418.844 Z\" fill=\"#000000\" fill-rule=\"nonzero\" fill-opacity=\"1\" /><path clip-path=\"url(#clip400)\" d=\"M121.918 448.149 L126.802 448.149 L126.802 454.029 L121.918 454.029 L121.918 448.149 Z\" fill=\"#000000\" fill-rule=\"nonzero\" fill-opacity=\"1\" /><path clip-path=\"url(#clip400)\" d=\"M137.033 419.469 L155.39 419.469 L155.39 423.404 L141.316 423.404 L141.316 431.876 Q142.334 431.529 143.353 431.367 Q144.371 431.182 145.39 431.182 Q151.177 431.182 154.556 434.353 Q157.936 437.524 157.936 442.941 Q157.936 448.52 154.464 451.621 Q150.992 454.7 144.672 454.7 Q142.496 454.7 140.228 454.33 Q137.982 453.959 135.575 453.219 L135.575 448.52 Q137.658 449.654 139.881 450.209 Q142.103 450.765 144.58 450.765 Q148.584 450.765 150.922 448.658 Q153.26 446.552 153.26 442.941 Q153.26 439.33 150.922 437.223 Q148.584 435.117 144.58 435.117 Q142.705 435.117 140.83 435.534 Q138.978 435.95 137.033 436.83 L137.033 419.469 Z\" fill=\"#000000\" fill-rule=\"nonzero\" fill-opacity=\"1\" /><path clip-path=\"url(#clip400)\" d=\"M91.5706 123.014 L99.2095 123.014 L99.2095 96.6486 L90.8993 98.3152 L90.8993 94.056 L99.1632 92.3893 L103.839 92.3893 L103.839 123.014 L111.478 123.014 L111.478 126.949 L91.5706 126.949 L91.5706 123.014 Z\" fill=\"#000000\" fill-rule=\"nonzero\" fill-opacity=\"1\" /><path clip-path=\"url(#clip400)\" d=\"M120.922 121.07 L125.807 121.07 L125.807 126.949 L120.922 126.949 L120.922 121.07 Z\" fill=\"#000000\" fill-rule=\"nonzero\" fill-opacity=\"1\" /><path clip-path=\"url(#clip400)\" d=\"M145.992 95.468 Q142.381 95.468 140.552 99.0328 Q138.746 102.574 138.746 109.704 Q138.746 116.811 140.552 120.375 Q142.381 123.917 145.992 123.917 Q149.626 123.917 151.431 120.375 Q153.26 116.811 153.26 109.704 Q153.26 102.574 151.431 99.0328 Q149.626 95.468 145.992 95.468 M145.992 91.7643 Q151.802 91.7643 154.857 96.3708 Q157.936 100.954 157.936 109.704 Q157.936 118.431 154.857 123.037 Q151.802 127.621 145.992 127.621 Q140.181 127.621 137.103 123.037 Q134.047 118.431 134.047 109.704 Q134.047 100.954 137.103 96.3708 Q140.181 91.7643 145.992 91.7643 Z\" fill=\"#000000\" fill-rule=\"nonzero\" fill-opacity=\"1\" /><polyline clip-path=\"url(#clip402)\" style=\"stroke:#009af9; stroke-linecap:round; stroke-linejoin:round; stroke-width:4; stroke-opacity:1; fill:none\" points=\"255.035,1417.99 266.541,1417.99 278.047,1417.99 289.554,1417.99 301.06,1417.99 312.566,1417.99 324.073,1417.99 335.579,1417.99 347.085,1417.99 358.592,1417.99 370.098,1417.99 381.604,1417.99 393.111,1417.99 404.617,1417.99 416.123,1417.99 427.63,1417.99 439.136,1417.99 450.642,1417.99 462.149,1417.99 473.655,1417.99 485.162,1417.99 496.668,1417.99 508.174,1417.99 519.681,1417.99 531.187,1417.99 542.693,1417.99 554.2,1417.99 565.706,1417.99 577.212,1417.99 588.719,1417.99 600.225,1417.99 611.731,1417.99 623.238,1417.99 634.744,1417.99 646.25,1417.99 657.757,1417.99 669.263,1417.99 680.769,1417.99 692.276,1417.99 703.782,1417.99 715.288,1417.99 726.795,1417.99 738.301,1417.99 749.807,1417.99 761.314,1417.99 772.82,1417.99 784.326,1417.99 795.833,1417.99 807.339,1417.99 818.845,1417.99 830.352,1417.99 841.858,1417.99 853.364,1417.99 864.871,1417.99 876.377,1417.99 887.883,1417.99 899.39,1417.99 910.896,1417.99 922.403,1417.99 933.909,763.828 945.415,763.828 956.922,763.828 968.428,763.828 979.934,763.828 991.441,763.828 1002.95,763.828 1014.45,763.828 1025.96,763.828 1037.47,763.828 1048.97,763.828 1060.48,763.828 1071.98,763.828 1083.49,763.828 1095,763.828 1106.5,763.828 1118.01,763.828 1129.52,763.828 1141.02,763.828 1152.53,763.828 1164.04,763.828 1175.54,763.828 1187.05,763.828 1198.55,763.828 1210.06,763.828 1221.57,763.828 1233.07,763.828 1244.58,763.828 1256.09,763.828 1267.59,763.828 1279.1,763.828 1290.61,763.828 1302.11,763.828 1313.62,763.828 1325.12,763.828 1336.63,763.828 1348.14,763.828 1359.64,763.828 1371.15,763.828 1382.66,763.828 1394.16,763.828 1405.67,763.828 1417.18,763.828 1428.68,763.828 1440.19,763.828 1451.69,763.828 1463.2,763.828 1474.71,763.828 1486.21,763.828 1497.72,763.828 1509.23,763.828 1520.73,763.828 1532.24,763.828 1543.74,763.828 1555.25,763.828 1566.76,763.828 1578.26,763.828 1589.77,763.828 1601.28,763.828 1612.78,763.828 1624.29,763.828 1635.8,763.828 1647.3,763.828 1658.81,763.828 1670.31,763.828 1681.82,763.828 1693.33,763.828 1704.83,763.828 1716.34,763.828 1727.85,763.828 1739.35,763.828 1750.86,109.669 1762.37,109.669 1773.87,109.669 1785.38,109.669 1796.88,109.669 1808.39,109.669 1819.9,109.669 1831.4,109.669 1842.91,109.669 1854.42,109.669 1865.92,109.669 1877.43,109.669 1888.94,109.669 1900.44,109.669 1911.95,109.669 1923.45,109.669 1934.96,109.669 1946.47,109.669 1957.97,109.669 1969.48,109.669 1980.99,109.669 1992.49,109.669 2004,109.669 2015.51,109.669 2027.01,109.669 2038.52,109.669 2050.02,109.669 2061.53,109.669 2073.04,109.669 2084.54,109.669 2096.05,109.669 2107.56,109.669 2119.06,109.669 2130.57,109.669 2142.07,109.669 2153.58,109.669 2165.09,109.669 2176.59,109.669 2188.1,109.669 2199.61,109.669 2211.11,109.669 2222.62,109.669 2234.13,109.669 2245.63,109.669 2257.14,109.669 2268.64,109.669 2280.15,109.669 2291.66,109.669 \"/>\n",
       "<polyline clip-path=\"url(#clip402)\" style=\"stroke:#e26f46; stroke-linecap:round; stroke-linejoin:round; stroke-width:4; stroke-opacity:1; fill:none\" points=\"255.035,1431.43 266.541,1411.76 278.047,1416.28 289.554,1414.24 301.06,1417.27 312.566,1421.62 324.073,1417.85 335.579,1407.97 347.085,1418.59 358.592,1419.22 370.098,1407.8 381.604,1431.32 393.111,1402.12 404.617,1417.98 416.123,1422.22 427.63,1432.51 439.136,1414.17 450.642,1419.91 462.149,1410.15 473.655,1414.62 485.162,1409.16 496.668,1417.15 508.174,1434.46 519.681,1419.51 531.187,1409.14 542.693,1415.71 554.2,1435.66 565.706,1413.24 577.212,1417.95 588.719,1402.68 600.225,1415.22 611.731,1437.87 623.238,1411.68 634.744,1416.71 646.25,1445.72 657.757,1421.4 669.263,1407.66 680.769,1403.19 692.276,1424.78 703.782,1421.95 715.288,1429.42 726.795,1416.48 738.301,1409.16 749.807,1417.32 761.314,1424.37 772.82,1417.44 784.326,1419.4 795.833,1430.25 807.339,1425.4 818.845,1413.04 830.352,1414.88 841.858,1414.48 853.364,1424.69 864.871,1416.23 876.377,1408.14 887.883,1413.33 899.39,1400.58 910.896,1406.62 922.403,1416.88 933.909,760.966 945.415,763 956.922,765.553 968.428,763.837 979.934,761.009 991.441,766.735 1002.95,764.125 1014.45,762.115 1025.96,773.003 1037.47,763.73 1048.97,763.319 1060.48,762.074 1071.98,767.013 1083.49,755.902 1095,763.218 1106.5,763.837 1118.01,760.06 1129.52,759.768 1141.02,765.834 1152.53,764.106 1164.04,765.598 1175.54,757.911 1187.05,784.605 1198.55,755.261 1210.06,752.27 1221.57,761.183 1233.07,764.514 1244.58,762.998 1256.09,766.274 1267.59,763.054 1279.1,774.333 1290.61,768.063 1302.11,760.125 1313.62,755.536 1325.12,758.451 1336.63,763.124 1348.14,763.597 1359.64,765.034 1371.15,779.943 1382.66,767.9 1394.16,766.355 1405.67,761.208 1417.18,778.073 1428.68,761.967 1440.19,754.467 1451.69,747.555 1463.2,764.17 1474.71,742.589 1486.21,779.301 1497.72,771.053 1509.23,767.223 1520.73,764.738 1532.24,773.846 1543.74,765.142 1555.25,762.999 1566.76,765.929 1578.26,764.9 1589.77,765.017 1601.28,758.88 1612.78,762.315 1624.29,768.688 1635.8,762.809 1647.3,766.143 1658.81,763.117 1670.31,760.099 1681.82,765.841 1693.33,766.726 1704.83,760.19 1716.34,758.706 1727.85,762.856 1739.35,762.045 1750.86,109.68 1762.37,106.574 1773.87,112.705 1785.38,111.856 1796.88,110.438 1808.39,112.554 1819.9,110.58 1831.4,115.357 1842.91,111.075 1854.42,100.678 1865.92,109.545 1877.43,114.359 1888.94,120.524 1900.44,110.393 1911.95,111.372 1923.45,111.989 1934.96,108.42 1946.47,97.5161 1957.97,111.688 1969.48,87.9763 1980.99,111.357 1992.49,117.325 2004,105.967 2015.51,106.101 2027.01,105.742 2038.52,114.683 2050.02,118.111 2061.53,111.04 2073.04,113.724 2084.54,103.984 2096.05,119.697 2107.56,115.211 2119.06,106.892 2130.57,112.536 2142.07,108.279 2153.58,109.753 2165.09,108.875 2176.59,107.953 2188.1,115.944 2199.61,112.806 2211.11,105.993 2222.62,109.829 2234.13,110.709 2245.63,107.343 2257.14,104.96 2268.64,122.308 2280.15,113.084 2291.66,110.116 \"/>\n",
       "<path clip-path=\"url(#clip400)\" d=\"M265.897 250.738 L586.014 250.738 L586.014 95.2176 L265.897 95.2176  Z\" fill=\"#ffffff\" fill-rule=\"evenodd\" fill-opacity=\"1\"/>\n",
       "<polyline clip-path=\"url(#clip400)\" style=\"stroke:#000000; stroke-linecap:round; stroke-linejoin:round; stroke-width:4; stroke-opacity:1; fill:none\" points=\"265.897,250.738 586.014,250.738 586.014,95.2176 265.897,95.2176 265.897,250.738 \"/>\n",
       "<polyline clip-path=\"url(#clip400)\" style=\"stroke:#009af9; stroke-linecap:round; stroke-linejoin:round; stroke-width:4; stroke-opacity:1; fill:none\" points=\"289.884,147.058 433.805,147.058 \"/>\n",
       "<path clip-path=\"url(#clip400)\" d=\"M462.468 133.62 L462.468 160.495 L468.116 160.495 Q475.269 160.495 478.579 157.254 Q481.912 154.014 481.912 147.023 Q481.912 140.078 478.579 136.861 Q475.269 133.62 468.116 133.62 L462.468 133.62 M457.792 129.778 L467.398 129.778 Q477.444 129.778 482.143 133.967 Q486.843 138.134 486.843 147.023 Q486.843 155.958 482.12 160.148 Q477.398 164.338 467.398 164.338 L457.792 164.338 L457.792 129.778 Z\" fill=\"#000000\" fill-rule=\"nonzero\" fill-opacity=\"1\" /><path clip-path=\"url(#clip400)\" d=\"M505.893 151.305 Q500.731 151.305 498.741 152.486 Q496.75 153.666 496.75 156.514 Q496.75 158.782 498.231 160.125 Q499.736 161.444 502.305 161.444 Q505.847 161.444 507.977 158.944 Q510.129 156.421 510.129 152.254 L510.129 151.305 L505.893 151.305 M514.389 149.546 L514.389 164.338 L510.129 164.338 L510.129 160.402 Q508.671 162.763 506.495 163.898 Q504.319 165.009 501.171 165.009 Q497.19 165.009 494.829 162.787 Q492.491 160.541 492.491 156.791 Q492.491 152.416 495.407 150.194 Q498.347 147.972 504.157 147.972 L510.129 147.972 L510.129 147.555 Q510.129 144.615 508.185 143.018 Q506.264 141.398 502.768 141.398 Q500.546 141.398 498.44 141.93 Q496.333 142.463 494.389 143.527 L494.389 139.592 Q496.727 138.69 498.926 138.25 Q501.125 137.787 503.208 137.787 Q508.833 137.787 511.611 140.703 Q514.389 143.62 514.389 149.546 Z\" fill=\"#000000\" fill-rule=\"nonzero\" fill-opacity=\"1\" /><path clip-path=\"url(#clip400)\" d=\"M527.375 131.051 L527.375 138.412 L536.148 138.412 L536.148 141.722 L527.375 141.722 L527.375 155.796 Q527.375 158.967 528.231 159.87 Q529.111 160.773 531.773 160.773 L536.148 160.773 L536.148 164.338 L531.773 164.338 Q526.842 164.338 524.967 162.509 Q523.092 160.657 523.092 155.796 L523.092 141.722 L519.967 141.722 L519.967 138.412 L523.092 138.412 L523.092 131.051 L527.375 131.051 Z\" fill=\"#000000\" fill-rule=\"nonzero\" fill-opacity=\"1\" /><path clip-path=\"url(#clip400)\" d=\"M553.532 151.305 Q548.37 151.305 546.379 152.486 Q544.389 153.666 544.389 156.514 Q544.389 158.782 545.87 160.125 Q547.375 161.444 549.944 161.444 Q553.486 161.444 555.615 158.944 Q557.768 156.421 557.768 152.254 L557.768 151.305 L553.532 151.305 M562.027 149.546 L562.027 164.338 L557.768 164.338 L557.768 160.402 Q556.31 162.763 554.134 163.898 Q551.958 165.009 548.81 165.009 Q544.828 165.009 542.467 162.787 Q540.129 160.541 540.129 156.791 Q540.129 152.416 543.046 150.194 Q545.986 147.972 551.796 147.972 L557.768 147.972 L557.768 147.555 Q557.768 144.615 555.824 143.018 Q553.902 141.398 550.407 141.398 Q548.185 141.398 546.078 141.93 Q543.972 142.463 542.027 143.527 L542.027 139.592 Q544.365 138.69 546.564 138.25 Q548.763 137.787 550.847 137.787 Q556.472 137.787 559.25 140.703 Q562.027 143.62 562.027 149.546 Z\" fill=\"#000000\" fill-rule=\"nonzero\" fill-opacity=\"1\" /><polyline clip-path=\"url(#clip400)\" style=\"stroke:#e26f46; stroke-linecap:round; stroke-linejoin:round; stroke-width:4; stroke-opacity:1; fill:none\" points=\"289.884,198.898 433.805,198.898 \"/>\n",
       "<path clip-path=\"url(#clip400)\" d=\"M457.792 181.618 L477.653 181.618 L477.653 185.553 L462.468 185.553 L462.468 195.738 L476.171 195.738 L476.171 199.673 L462.468 199.673 L462.468 216.178 L457.792 216.178 L457.792 181.618 Z\" fill=\"#000000\" fill-rule=\"nonzero\" fill-opacity=\"1\" /><path clip-path=\"url(#clip400)\" d=\"M481.426 190.252 L485.685 190.252 L485.685 216.178 L481.426 216.178 L481.426 190.252 M481.426 180.159 L485.685 180.159 L485.685 185.553 L481.426 185.553 L481.426 180.159 Z\" fill=\"#000000\" fill-rule=\"nonzero\" fill-opacity=\"1\" /><path clip-path=\"url(#clip400)\" d=\"M498.81 182.891 L498.81 190.252 L507.583 190.252 L507.583 193.562 L498.81 193.562 L498.81 207.636 Q498.81 210.807 499.667 211.71 Q500.546 212.613 503.208 212.613 L507.583 212.613 L507.583 216.178 L503.208 216.178 Q498.278 216.178 496.403 214.349 Q494.528 212.497 494.528 207.636 L494.528 193.562 L491.403 193.562 L491.403 190.252 L494.528 190.252 L494.528 182.891 L498.81 182.891 Z\" fill=\"#000000\" fill-rule=\"nonzero\" fill-opacity=\"1\" /></svg>\n"
      ]
     },
     "execution_count": 83,
     "metadata": {},
     "output_type": "execute_result"
    }
   ],
   "source": [
    "plot(axes(y, 2), y[:], label = \"Data\")\n",
    "plot!(axes(y, 2), estimate(model, X)[:], label = \"Fit\")"
   ]
  },
  {
   "cell_type": "code",
   "execution_count": 61,
   "id": "39b64d70",
   "metadata": {},
   "outputs": [
    {
     "data": {
      "text/plain": [
       "jacobian_combine (generic function with 1 method)"
      ]
     },
     "execution_count": 61,
     "metadata": {},
     "output_type": "execute_result"
    }
   ],
   "source": [
    "using OneHotArrays\n",
    "function jacobians(model, X, y)\n",
    "    y_1 = tanh.(model[1] * X)\n",
    "    jac_tanh = 1 .- y_1.^2\n",
    "    jac_mse = 2 * (model[2] * y_1 - y) / size(y, 2)\n",
    "    return jac_tanh, jac_mse\n",
    "end\n",
    "function jacobian_combine(model, X, y, j, k)\n",
    "    ∂W_1 = onehot(j, axes(model[1], 1)) * onehot(k, axes(model[1], 2))'\n",
    "    J_1, J_2 = jacobians(model, X, y)\n",
    "    (model[2] * (J_1 .* (∂W_1 * X))) * J_2'\n",
    "end"
   ]
  },
  {
   "cell_type": "code",
   "execution_count": 64,
   "id": "356bd080",
   "metadata": {},
   "outputs": [
    {
     "name": "stdout",
     "output_type": "stream",
     "text": [
      "  0.000120 seconds (25 allocations: 143.219 KiB)\n"
     ]
    },
    {
     "data": {
      "text/plain": [
       "1×1 Matrix{Float32}:\n",
       " 0.0035638774"
      ]
     },
     "execution_count": 64,
     "metadata": {},
     "output_type": "execute_result"
    }
   ],
   "source": [
    "@time jacobian_combine(model, X, y, 1, 1)"
   ]
  },
  {
   "cell_type": "code",
   "execution_count": 66,
   "id": "ee074be9",
   "metadata": {},
   "outputs": [
    {
     "name": "stdout",
     "output_type": "stream",
     "text": [
      "  0.000103 seconds (21 allocations: 152.281 KiB)\n"
     ]
    },
    {
     "data": {
      "text/plain": [
       "0.0035638732f0"
      ]
     },
     "execution_count": 66,
     "metadata": {},
     "output_type": "execute_result"
    }
   ],
   "source": [
    "@time ∇model(loss, model, X, y, 1, 1, 1)"
   ]
  },
  {
   "cell_type": "markdown",
   "id": "0a6a0ff7",
   "metadata": {},
   "source": [
    "### ~~Backward~~ Reverse Differentiation\n",
    "\n",
    "Viewing this as a product of Jacobian matrices, linear algebra will allow us to find a faster way to compute the gradient. This is will introduce *reverse differentiation*.\n",
    "\n",
    "The broadcasted `*` is an Hadamard product, denoted $\\odot$. So what we compute in `jacobian_combine` is:\n",
    "$$\n",
    "W_2 (J_1 \\odot (\\partial W_1 X)) J_2^\\top\n",
    "$$\n",
    "As this is scalar, it is trivially equal to its scalar product with ``1``. We can then move everything to the right-hand side with the adjoint (here, it is the transpose):\n",
    "$$\n",
    "\\begin{align}\n",
    "\\langle W_2 (J_1 \\odot (\\partial W_1 X)) J_2^\\top, 1 \\rangle\n",
    "& =\n",
    "\\langle J_1 \\odot (\\partial W_1 X), W_2^\\top J_2 \\rangle\\\\\n",
    "& =\n",
    "\\langle \\partial W_1 X, J_1 \\odot (W_2^\\top J_2) \\rangle\\\\\n",
    "& =\n",
    "\\langle \\partial W_1 X, J_1 \\odot (W_2^\\top J_2) \\rangle\\\\\n",
    "& =\n",
    "\\langle \\partial W_1, (J_1 \\odot (W_2^\\top J_2))X^\\top \\rangle\\\\\n",
    "\\end{align}\n",
    "$$\n",
    "Now, for the derivative with respect to the entry $W_{i,j}$, we use $\\partial W_1 = e_ie_j^\\top$ and\n",
    "$$\n",
    "\\langle e_ie_j^\\top, (J_1 \\odot (W_2^\\top J_2))X^\\top \\rangle\n",
    "=\n",
    "((J_1 \\odot (W_2^\\top J_2))X^\\top)_{ij}\n",
    "$$\n",
    "So the gradient with respect to $W_1$ is exactly the matrix $(J_1 \\odot (W_2^\\top J_2))X^\\top$ !"
   ]
  },
  {
   "cell_type": "code",
   "execution_count": 67,
   "id": "6c4198f6",
   "metadata": {},
   "outputs": [
    {
     "data": {
      "text/plain": [
       "32×13 Matrix{Float32}:\n",
       "  0.00356387   -0.0036141     0.00248948   …   0.00734839    0.00379065\n",
       "  0.000505963   0.000220261  -4.45821f-5      -0.000588335   0.000341186\n",
       "  0.0107919    -0.00431337    0.00762641       0.00221639    0.0100179\n",
       " -4.67476f-5    0.000382078   0.000533532     -0.00170353   -0.000231951\n",
       "  0.00143718   -0.000752267   0.00250523       0.000545782   0.00112884\n",
       "  0.0018198     0.0038505    -0.0025034    …   0.00140496    0.000325428\n",
       "  0.00202705   -0.007364      0.00231852       0.0012806    -0.00209722\n",
       "  0.00107177   -0.000213703   0.0020708       -0.00733137   -0.00185225\n",
       "  0.00613864   -0.00433098    7.56185f-5      -0.00047252    0.00011183\n",
       " -4.23667f-5    0.00707178    0.00104981       0.000688634  -0.00104176\n",
       "  0.00328607   -0.00265822    0.00242412   …   0.00138186    0.00534475\n",
       " -0.00119725    0.00159888   -0.00504455       0.00149142    0.000314734\n",
       " -0.000255409   0.00222393   -0.00186841      -0.00136666   -0.00249118\n",
       "  ⋮                                        ⋱                \n",
       " -0.00348608   -0.00221488    0.000558499  …   0.0006971    -1.01301f-6\n",
       " -0.00249155   -0.00218306    0.00325406      -0.00108394   -0.00253691\n",
       "  0.00296616    0.000357253   0.00192573      -0.00134629    0.00299675\n",
       " -4.22093f-6    0.000967167  -0.000372122     -0.00112698   -0.000625793\n",
       "  0.00050348   -0.000711465   0.00072726       0.00210247    0.000399498\n",
       " -0.00196459   -0.00124295   -0.00120194   …   0.0048295     0.000911239\n",
       "  0.00127857   -0.000453274   0.00249596      -0.00101264   -9.95005f-5\n",
       "  0.00123626    0.000114827  -0.00132999      -3.53353f-5   -0.00689986\n",
       " -0.000387849  -0.0012544    -0.00273276       0.00223578   -0.00163008\n",
       " -0.00176742   -0.00045344   -0.00162659       0.000811636  -0.00327232\n",
       "  0.000357424   0.000184305   0.0003381    …   4.59183f-5    0.000793181\n",
       "  0.00091144    0.00100507    0.00404756      -0.00360546    0.00350491"
      ]
     },
     "execution_count": 67,
     "metadata": {},
     "output_type": "execute_result"
    }
   ],
   "source": [
    "function jacobian_adjoint(model, X, y)\n",
    "    J_1, J_2 = jacobians(model, X, y)\n",
    "    (J_1 .* (model[2]' * J_2)) * X'\n",
    "end\n",
    "jacobian_adjoint(model, X, y)"
   ]
  },
  {
   "cell_type": "code",
   "execution_count": 68,
   "id": "d3f3349d",
   "metadata": {
    "scrolled": true
   },
   "outputs": [
    {
     "data": {
      "text/plain": [
       "true"
      ]
     },
     "execution_count": 68,
     "metadata": {},
     "output_type": "execute_result"
    }
   ],
   "source": [
    "∇model(loss, model, X, y, 1) ≈ jacobian_adjoint(model, X, y)"
   ]
  },
  {
   "cell_type": "markdown",
   "id": "d5b9392e",
   "metadata": {},
   "source": [
    "We can do the same to compute the derivative with respect to $W_2$.\n",
    "Forward diff computes $\\partial W_2\\tanh(W_1 X) J_2^\\top$ ($\\tanh$ being applied elementwise) so let's see what the adjoint trick gives us for the reverse diff:\n",
    "$$\n",
    "\\begin{align}\n",
    "\\langle \\partial W_2\\tanh(W_1 X) J_2^\\top, 1 \\rangle\n",
    "& =\n",
    "\\langle \\partial W_2, J_2 \\tanh(W_1 X)^\\top \\rangle\n",
    "\\end{align}\n",
    "$$\n",
    "So the reverse diff computation for the gradient with respect to $W_2$ is $J_2 \\tanh(W_1 X)^\\top$."
   ]
  },
  {
   "cell_type": "code",
   "execution_count": 69,
   "id": "2fa85f0f",
   "metadata": {},
   "outputs": [
    {
     "data": {
      "text/plain": [
       "true"
      ]
     },
     "execution_count": 69,
     "metadata": {},
     "output_type": "execute_result"
    }
   ],
   "source": [
    "function ∇loss_reverse(model, X, y)\n",
    "    y_1 = tanh.(model[1] * X)\n",
    "    jac_tanh = 1 .- y_1.^2\n",
    "    jac_mse = 2 * (model[2] * y_1 - y) / size(y, 2)\n",
    "    ∇W1 = (jac_tanh .* (model[2]' * jac_mse)) * X'\n",
    "    ∇W2 = jac_mse * y_1'\n",
    "    return [∇W1, ∇W2]\n",
    "end\n",
    "∇loss_reverse(model, X, y) ≈ ∇model(loss, model, X, y)"
   ]
  },
  {
   "cell_type": "markdown",
   "id": "ae86f656",
   "metadata": {},
   "source": [
    "Using reverse diff instead of forward diff gives us a 200x speedup, not bad!"
   ]
  },
  {
   "cell_type": "code",
   "execution_count": 70,
   "id": "89e3379c-0e82-49d7-a852-93a187b764f4",
   "metadata": {},
   "outputs": [
    {
     "data": {
      "text/plain": [
       "train_reverse_diff! (generic function with 1 method)"
      ]
     },
     "execution_count": 70,
     "metadata": {},
     "output_type": "execute_result"
    }
   ],
   "source": [
    "function train_reverse_diff!(losses, model, X, y, opt, num_iters, states)\n",
    "    @time for epoch in 1:num_iters\n",
    "        grads = ∇loss_reverse(model, X, y)\n",
    "        # Gradient descent with rate `η`\n",
    "        for i in eachindex(model)\n",
    "            states[i], ΔW = Optimisers.apply!(opt, states[i], model[i], grads[i])\n",
    "            model[i] .-= ΔW\n",
    "        end\n",
    "        push!(losses, loss(model, X, y))\n",
    "    end\n",
    "end"
   ]
  },
  {
   "cell_type": "code",
   "execution_count": 82,
   "id": "9a00b545",
   "metadata": {},
   "outputs": [
    {
     "name": "stdout",
     "output_type": "stream",
     "text": [
      "  0.070244 seconds (27.00 k allocations: 159.088 MiB, 2.43% gc time)\n"
     ]
    },
    {
     "data": {
      "text/plain": [
       "5701-element Vector{Float32}:\n",
       " 2.9507313\n",
       " 2.8170848\n",
       " 2.6878977\n",
       " 2.563254\n",
       " 2.4432156\n",
       " 2.3278282\n",
       " 2.2171197\n",
       " 2.1111028\n",
       " 2.0097744\n",
       " 1.913116\n",
       " 1.8210927\n",
       " 1.733654\n",
       " 1.6507323\n",
       " ⋮\n",
       " 0.000127546\n",
       " 0.00012730809\n",
       " 0.00012707087\n",
       " 0.00012683371\n",
       " 0.00012659744\n",
       " 0.00012636097\n",
       " 0.00012612468\n",
       " 0.00012588956\n",
       " 0.00012565436\n",
       " 0.00012541929\n",
       " 0.000125185\n",
       " 0.00012495121"
      ]
     },
     "execution_count": 82,
     "metadata": {},
     "output_type": "execute_result"
    }
   ],
   "source": [
    "train_reverse_diff!(losses, model, X, y, opt, 1000, states)\n",
    "losses"
   ]
  },
  {
   "cell_type": "markdown",
   "id": "4258271e",
   "metadata": {},
   "source": [
    "### When should forward differentiation be used ?\n",
    "\n",
    "Suppose that we need to differentiate a composition of functions:\n",
    "$(f_n \\circ f_{n-1} \\circ \\cdots \\circ f_2 \\circ f_1)(w)$.\n",
    "For each function, we can compute a jacobian given the value of its input.\n",
    "So, during a forward pass, we can compute all jacobians. We now just need to take the product of these jacobians:\n",
    "$$J_n J_{n-1} \\cdots J_2 J_1$$\n",
    "While the product of matrices is associative, its computational complexity depends on the order of the multiplications!\n",
    "Let $d_i \\times d_{i - 1}$ be the dimension of $J_i$.\n",
    "\n",
    "#### Forward diff: from right to left\n",
    "\n",
    "If the product is computed from right to left:\n",
    "$$\n",
    "\\begin{align}\n",
    "  J_{1,2} & = J_2 J_1 && \\Omega(d_2d_1d_0)\\\\\n",
    "  J_{1,3} & = J_3 J_{1,2} && \\Omega(d_3d_2d_0)\\\\\n",
    "  J_{1,4} & = J_4 J_{1,3} && \\Omega(d_4d_3d_0)\\\\\n",
    "  \\vdots & \\quad \\vdots\\\\\n",
    "  J_{1,n} & = J_n J_{1,(n-1)} && \\Omega(d_nd_{n-1}d_0)\\\\\n",
    "\\end{align}\n",
    "$$\n",
    "we have a complexity of\n",
    "$$\\Omega(\\sum_{i=2}^n d_id_{i-1}d_0).$$\n",
    "\n",
    "#### Reverse diff: from left to right\n",
    "\n",
    "The adjoint trick gives\n",
    "$$\\langle J_n J_{n-1} \\cdots J_2 J_1 \\partial w, \\partial y \\rangle\n",
    "=\n",
    "\\langle \\partial w, J_1^\\top J_2^\\top \\cdots J_{n-1}^\\top J_n^\\top \\partial y \\rangle.$$\n",
    "So reverse differentation corresponds to multiplying the adjoint from right to left or equivalently the original matrices from left to right.\n",
    "This means computing the product in the following order:\n",
    "$$\n",
    "\\begin{align}\n",
    "  J_{(n-1),n} & = J_n J_{n-1} && \\Omega(d_nd_{n-1}d_{n-2})\\\\\n",
    "  J_{(n-2),n} & = J_{(n-1),n} J_{n-2} && \\Omega(d_nd_{n-2}d_{n-3})\\\\\n",
    "  J_{(n-3),n} & = J_{(n-2),n} J_{n-3} && \\Omega(d_nd_{n-3}d_{n-4})\\\\\n",
    "  \\vdots & \\quad \\vdots\\\\\n",
    "  J_{1,n} & = J_{2,n} J_1 && \\Omega(d_nd_1d_0)\\\\\n",
    "\\end{align}\n",
    "$$\n",
    "We have a complexity of\n",
    "$$\\Omega(\\sum_{i=1}^{n-1} d_nd_id_{i-1}).$$\n",
    "\n",
    "#### Mixed : from inward to outward\n",
    "\n",
    "We can also write\n",
    "$$\\langle J_n J_{n-1} \\cdots J_2 J_1 \\partial w, \\partial y \\rangle\n",
    "=\n",
    "\\langle J_k J_{k-1} \\cdots J_2 J_1\\partial w, J_{k+1}^\\top J_{k+2}^\\top \\cdots J_{n-1}^\\top J_n^\\top \\partial y \\rangle.$$\n",
    "This corresponds to multiplying starting from some $d_k$ where $1 < k < n$.\n",
    "We would then first compute the left side:\n",
    "$$\n",
    "\\begin{align}\n",
    "  J_{k+1,k+2} & = J_{k+2} J_{k+1} && \\Omega(d_{k+2}d_{k+1}d_{k})\\\\\n",
    "  J_{k+1,k+3} & = J_{k+3} J_{k+1,k+2} && \\Omega(d_{k+3}d_{k+2}d_{k})\\\\\n",
    "  \\vdots & \\quad \\vdots\\\\\n",
    "  J_{k+1,n} & = J_{n} J_{k+1,n-1} && \\Omega(d_nd_{n-1}d_k)\n",
    "\\end{align}\n",
    "$$\n",
    "then the right side:\n",
    "$$\n",
    "\\begin{align}\n",
    "  J_{k-1,k} & = J_k J_{k-1} && \\Omega(d_kd_{k-1}d_{k-2})\\\\\n",
    "  J_{k-2,k} & = J_{k-1,k} J_{k-2} && \\Omega(d_kd_{k-2}d_{k-3})\\\\\n",
    "  \\vdots & \\quad \\vdots\\\\\n",
    "  J_{1,k} & = J_{2,k} J_1 && \\Omega(d_kd_1d_0)\\\\\n",
    "\\end{align}\n",
    "$$\n",
    "and then combine both sides:\n",
    "$$J_{1,n} = J_{k+1,n} J_{1,k} \\qquad \\Omega(d_nd_kd_0)$$\n",
    "we have a complexity of\n",
    "$$\\Omega(d_nd_kd_0 + \\sum_{i=1}^{k-1} d_kd_id_{i-1} + \\sum_{i=k}^{n} d_id_{i-1}d_k).$$\n",
    "\n",
    "#### Comparison\n",
    "\n",
    "We see that we should find the minimum $d_k$ and start from there. If the minimum is attained at $k = n$, this corresponds mutliplying from left to right, this is reverse differentiation. If the minimum is attained at $k = 0$, we should multiply from right to left, this is forward differentiation. Otherwise, we should start from the middle, this would mean mixing both forward and reverse diff.\n",
    "\n",
    "What about neural networks ? In that case, $d_0$ is equal to the number of entries in $W_1$ added with the number of entries in $W_2$ while $d_n$ is $1$ since the loss is scalar. We should therefore clearly multiply from left to right hence do reverse diff."
   ]
  },
  {
   "cell_type": "markdown",
   "id": "09e7c028-2311-454e-9179-4d561d4e68be",
   "metadata": {},
   "source": [
    "## ⚙️ Computation on the GPU\n",
    "\n",
    "We are going to define a `gpu` function that sends an array to the GPU. This depends on which GPU you have"
   ]
  },
  {
   "cell_type": "markdown",
   "id": "12c608dd",
   "metadata": {},
   "source": [
    "### For nvidia, run this"
   ]
  },
  {
   "cell_type": "code",
   "execution_count": 22,
   "id": "f50b343b-62dd-47cc-8c19-f1077fd39995",
   "metadata": {},
   "outputs": [
    {
     "ename": "LoadError",
     "evalue": "IOError: could not spawn `nvidia-smi`: no such file or directory (ENOENT)",
     "output_type": "error",
     "traceback": [
      "IOError: could not spawn `nvidia-smi`: no such file or directory (ENOENT)",
      "",
      "Stacktrace:",
      " [1] _spawn_primitive(file::String, cmd::Cmd, stdio::Vector{Union{RawFD, IO}})",
      "   @ Base ./process.jl:128",
      " [2] #784",
      "   @ ./process.jl:139 [inlined]",
      " [3] setup_stdios(f::Base.var\"#784#785\"{Cmd}, stdios::Vector{Union{RawFD, IO}})",
      "   @ Base ./process.jl:223",
      " [4] _spawn",
      "   @ ./process.jl:138 [inlined]",
      " [5] run(::Cmd; wait::Bool)",
      "   @ Base ./process.jl:479",
      " [6] run(::Cmd)",
      "   @ Base ./process.jl:477",
      " [7] top-level scope",
      "   @ In[22]:1"
     ]
    }
   ],
   "source": [
    "run(`nvidia-smi`)"
   ]
  },
  {
   "cell_type": "code",
   "execution_count": 84,
   "id": "c382d2db",
   "metadata": {},
   "outputs": [
    {
     "ename": "LoadError",
     "evalue": "CUDA driver not found",
     "output_type": "error",
     "traceback": [
      "CUDA driver not found",
      "",
      "Stacktrace:",
      " [1] error(s::String)",
      "   @ Base ./error.jl:35",
      " [2] functional(show_reason::Bool)",
      "   @ CUDA ~/.julia/packages/CUDA/Tl08O/src/initialization.jl:24",
      " [3] top-level scope",
      "   @ In[84]:2"
     ]
    }
   ],
   "source": [
    "import CUDA\n",
    "CUDA.functional(true)"
   ]
  },
  {
   "cell_type": "code",
   "execution_count": 24,
   "id": "35004a96-7fbc-4ee5-9852-9793ebe03662",
   "metadata": {
    "scrolled": true
   },
   "outputs": [
    {
     "ename": "LoadError",
     "evalue": "CUDA driver not found",
     "output_type": "error",
     "traceback": [
      "CUDA driver not found",
      "",
      "Stacktrace:",
      " [1] error(s::String)",
      "   @ Base ./error.jl:35",
      " [2] functional",
      "   @ ~/.julia/packages/CUDA/Tl08O/src/initialization.jl:24 [inlined]",
      " [3] versioninfo(io::IJulia.IJuliaStdio{Base.PipeEndpoint})",
      "   @ CUDA ~/.julia/packages/CUDA/Tl08O/src/utilities.jl:42",
      " [4] top-level scope",
      "   @ In[24]:1"
     ]
    }
   ],
   "source": [
    "CUDA.versioninfo()"
   ]
  },
  {
   "cell_type": "code",
   "execution_count": 22,
   "id": "bf7a7e05",
   "metadata": {},
   "outputs": [
    {
     "data": {
      "text/plain": [
       "train_reverse_diff! (generic function with 2 methods)"
      ]
     },
     "execution_count": 22,
     "metadata": {},
     "output_type": "execute_result"
    }
   ],
   "source": [
    "function train_reverse_diff!(losses, model, X, y, opt, num_iters)\n",
    "    states = [Optimisers.init(opt, W) for W in model]\n",
    "    train_reverse_diff!(losses, model, X, y, opt, num_iters, states)\n",
    "end"
   ]
  },
  {
   "cell_type": "code",
   "execution_count": 23,
   "id": "05b9f2df",
   "metadata": {},
   "outputs": [
    {
     "data": {
      "text/plain": [
       "1×178 oneAPI.oneArray{Float32, 2, oneAPI.oneL0.DeviceBuffer}:\n",
       " -1.0  -1.0  -1.0  -1.0  -1.0  -1.0  …  1.0  1.0  1.0  1.0  1.0  1.0  1.0"
      ]
     },
     "execution_count": 23,
     "metadata": {},
     "output_type": "execute_result"
    }
   ],
   "source": [
    "CUDA.cu(y)"
   ]
  },
  {
   "cell_type": "code",
   "execution_count": null,
   "id": "7778e916-6eb2-4ed3-9c4b-b7db8afe1f95",
   "metadata": {
    "scrolled": true
   },
   "outputs": [],
   "source": [
    "train_reverse_diff!(losses, CUDA.cu.(model), CUDA.cu(X), CUDA.cu(y), opt, 1)"
   ]
  },
  {
   "cell_type": "markdown",
   "id": "7c3f0944-14e1-4835-8e05-167fc58ab08c",
   "metadata": {},
   "source": [
    "## What about global minima ?\n",
    "\n",
    "### ReLU activation function\n",
    "\n",
    "There are local minima that are not global. Consider 1 hidden layer and $W_1$ such that all inputs to activation are strictly negative. Then the model output is locally zero so a local minimum.\n",
    "\n",
    "### Identity activation function\n",
    "\n",
    "With 1 hidden layer, all second-order critical points (SOCPs) (zero gradient and positive semidefinite hessian) are global minima.\n",
    "With 2 hidden layers or more, some SOCPs are not global minima. For instance, the following is a SOCP:\n",
    "$$W_1 = \\begin{bmatrix}1 & 0\\end{bmatrix}, W_2 = \\begin{bmatrix}0\\end{bmatrix}, W_3 = \\begin{bmatrix}1\\\\0\\end{bmatrix}, X = \\begin{bmatrix}1 & 0\\\\0 & 1\\end{bmatrix}, Y = \\begin{bmatrix}0 & 0\\\\0 & 1\\end{bmatrix}$$\n",
    "However, this is not a local minimum.\n",
    "All local minima are global minima for any number of layers."
   ]
  },
  {
   "cell_type": "code",
   "execution_count": null,
   "id": "c95e7a96-5829-4ec6-a690-3a7da715a546",
   "metadata": {},
   "outputs": [],
   "source": []
  }
 ],
 "metadata": {
  "kernelspec": {
   "display_name": "Julia 1.10.5",
   "language": "julia",
   "name": "julia-1.10"
  },
  "language_info": {
   "file_extension": ".jl",
   "mimetype": "application/julia",
   "name": "julia",
   "version": "1.10.5"
  }
 },
 "nbformat": 4,
 "nbformat_minor": 5
}
